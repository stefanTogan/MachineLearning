{
 "cells": [
  {
   "cell_type": "code",
   "execution_count": 142,
   "id": "50043f36",
   "metadata": {},
   "outputs": [],
   "source": [
    "import numpy as np\n",
    "import pandas as pd\n",
    "import matplotlib.pyplot as plt\n",
    "import matplotlib\n",
    "import seaborn as sns"
   ]
  },
  {
   "cell_type": "code",
   "execution_count": 143,
   "id": "415e4426",
   "metadata": {},
   "outputs": [
    {
     "name": "stdout",
     "output_type": "stream",
     "text": [
      "<class 'pandas.core.frame.DataFrame'>\n",
      "RangeIndex: 7566 entries, 0 to 7565\n",
      "Data columns (total 75 columns):\n",
      " #   Column                                        Non-Null Count  Dtype  \n",
      "---  ------                                        --------------  -----  \n",
      " 0   id                                            7566 non-null   int64  \n",
      " 1   listing_url                                   7566 non-null   object \n",
      " 2   scrape_id                                     7566 non-null   int64  \n",
      " 3   last_scraped                                  7566 non-null   object \n",
      " 4   source                                        7566 non-null   object \n",
      " 5   name                                          7566 non-null   object \n",
      " 6   description                                   7411 non-null   object \n",
      " 7   neighborhood_overview                         4194 non-null   object \n",
      " 8   picture_url                                   7566 non-null   object \n",
      " 9   host_id                                       7566 non-null   int64  \n",
      " 10  host_url                                      7566 non-null   object \n",
      " 11  host_name                                     7566 non-null   object \n",
      " 12  host_since                                    7566 non-null   object \n",
      " 13  host_location                                 6232 non-null   object \n",
      " 14  host_about                                    3556 non-null   object \n",
      " 15  host_response_time                            3932 non-null   object \n",
      " 16  host_response_rate                            3932 non-null   object \n",
      " 17  host_acceptance_rate                          4191 non-null   object \n",
      " 18  host_is_superhost                             7566 non-null   object \n",
      " 19  host_thumbnail_url                            7566 non-null   object \n",
      " 20  host_picture_url                              7566 non-null   object \n",
      " 21  host_neighbourhood                            5234 non-null   object \n",
      " 22  host_listings_count                           7566 non-null   int64  \n",
      " 23  host_total_listings_count                     7566 non-null   int64  \n",
      " 24  host_verifications                            7566 non-null   object \n",
      " 25  host_has_profile_pic                          7566 non-null   object \n",
      " 26  host_identity_verified                        7566 non-null   object \n",
      " 27  neighbourhood                                 4194 non-null   object \n",
      " 28  neighbourhood_cleansed                        7566 non-null   object \n",
      " 29  neighbourhood_group_cleansed                  0 non-null      float64\n",
      " 30  latitude                                      7566 non-null   float64\n",
      " 31  longitude                                     7566 non-null   float64\n",
      " 32  property_type                                 7566 non-null   object \n",
      " 33  room_type                                     7566 non-null   object \n",
      " 34  accommodates                                  7566 non-null   int64  \n",
      " 35  bathrooms                                     0 non-null      float64\n",
      " 36  bathrooms_text                                7562 non-null   object \n",
      " 37  bedrooms                                      7361 non-null   float64\n",
      " 38  beds                                          7472 non-null   float64\n",
      " 39  amenities                                     7566 non-null   object \n",
      " 40  price                                         7566 non-null   object \n",
      " 41  minimum_nights                                7566 non-null   int64  \n",
      " 42  maximum_nights                                7566 non-null   int64  \n",
      " 43  minimum_minimum_nights                        7566 non-null   int64  \n",
      " 44  maximum_minimum_nights                        7566 non-null   int64  \n",
      " 45  minimum_maximum_nights                        7566 non-null   int64  \n",
      " 46  maximum_maximum_nights                        7566 non-null   int64  \n",
      " 47  minimum_nights_avg_ntm                        7566 non-null   float64\n",
      " 48  maximum_nights_avg_ntm                        7566 non-null   float64\n",
      " 49  calendar_updated                              0 non-null      float64\n",
      " 50  has_availability                              7566 non-null   object \n",
      " 51  availability_30                               7566 non-null   int64  \n",
      " 52  availability_60                               7566 non-null   int64  \n",
      " 53  availability_90                               7566 non-null   int64  \n",
      " 54  availability_365                              7566 non-null   int64  \n",
      " 55  calendar_last_scraped                         7566 non-null   object \n",
      " 56  number_of_reviews                             7566 non-null   int64  \n",
      " 57  number_of_reviews_ltm                         7566 non-null   int64  \n",
      " 58  number_of_reviews_l30d                        7566 non-null   int64  \n",
      " 59  first_review                                  6209 non-null   object \n",
      " 60  last_review                                   6209 non-null   object \n",
      " 61  review_scores_rating                          6209 non-null   float64\n",
      " 62  review_scores_accuracy                        6085 non-null   float64\n",
      " 63  review_scores_cleanliness                     6086 non-null   float64\n",
      " 64  review_scores_checkin                         6081 non-null   float64\n",
      " 65  review_scores_communication                   6085 non-null   float64\n",
      " 66  review_scores_location                        6081 non-null   float64\n",
      " 67  review_scores_value                           6079 non-null   float64\n",
      " 68  license                                       0 non-null      float64\n",
      " 69  instant_bookable                              7566 non-null   object \n",
      " 70  calculated_host_listings_count                7566 non-null   int64  \n",
      " 71  calculated_host_listings_count_entire_homes   7566 non-null   int64  \n",
      " 72  calculated_host_listings_count_private_rooms  7566 non-null   int64  \n",
      " 73  calculated_host_listings_count_shared_rooms   7566 non-null   int64  \n",
      " 74  reviews_per_month                             6209 non-null   float64\n",
      "dtypes: float64(18), int64(23), object(34)\n",
      "memory usage: 4.3+ MB\n"
     ]
    }
   ],
   "source": [
    "df_listings = pd.read_csv('listings.csv')\n",
    "df_listings.info()"
   ]
  },
  {
   "cell_type": "code",
   "execution_count": 144,
   "id": "9d8d9d5b",
   "metadata": {},
   "outputs": [
    {
     "name": "stdout",
     "output_type": "stream",
     "text": [
      "<class 'pandas.core.frame.DataFrame'>\n",
      "RangeIndex: 243183 entries, 0 to 243182\n",
      "Data columns (total 6 columns):\n",
      " #   Column         Non-Null Count   Dtype \n",
      "---  ------         --------------   ----- \n",
      " 0   listing_id     243183 non-null  int64 \n",
      " 1   id             243183 non-null  int64 \n",
      " 2   date           243183 non-null  object\n",
      " 3   reviewer_id    243183 non-null  int64 \n",
      " 4   reviewer_name  243183 non-null  object\n",
      " 5   comments       243165 non-null  object\n",
      "dtypes: int64(3), object(3)\n",
      "memory usage: 11.1+ MB\n"
     ]
    }
   ],
   "source": [
    "df_reviews = pd.read_csv('reviews.csv')\n",
    "df_reviews.info()"
   ]
  },
  {
   "cell_type": "code",
   "execution_count": 145,
   "id": "be61c30f",
   "metadata": {},
   "outputs": [
    {
     "data": {
      "text/html": [
       "<div>\n",
       "<style scoped>\n",
       "    .dataframe tbody tr th:only-of-type {\n",
       "        vertical-align: middle;\n",
       "    }\n",
       "\n",
       "    .dataframe tbody tr th {\n",
       "        vertical-align: top;\n",
       "    }\n",
       "\n",
       "    .dataframe thead th {\n",
       "        text-align: right;\n",
       "    }\n",
       "</style>\n",
       "<table border=\"1\" class=\"dataframe\">\n",
       "  <thead>\n",
       "    <tr style=\"text-align: right;\">\n",
       "      <th></th>\n",
       "      <th>listing_id</th>\n",
       "      <th>id</th>\n",
       "      <th>date</th>\n",
       "      <th>reviewer_id</th>\n",
       "      <th>reviewer_name</th>\n",
       "      <th>comments</th>\n",
       "    </tr>\n",
       "  </thead>\n",
       "  <tbody>\n",
       "    <tr>\n",
       "      <th>0</th>\n",
       "      <td>44077</td>\n",
       "      <td>203703</td>\n",
       "      <td>2011-03-20</td>\n",
       "      <td>393348</td>\n",
       "      <td>Christian</td>\n",
       "      <td>We enjoyed our stay very much. The room was co...</td>\n",
       "    </tr>\n",
       "    <tr>\n",
       "      <th>1</th>\n",
       "      <td>44077</td>\n",
       "      <td>211369</td>\n",
       "      <td>2011-03-28</td>\n",
       "      <td>444004</td>\n",
       "      <td>Solidea</td>\n",
       "      <td>We have been here 4 nights. Stay in a home is ...</td>\n",
       "    </tr>\n",
       "    <tr>\n",
       "      <th>2</th>\n",
       "      <td>44077</td>\n",
       "      <td>234215</td>\n",
       "      <td>2011-04-21</td>\n",
       "      <td>465058</td>\n",
       "      <td>Michael And Isabelle</td>\n",
       "      <td>Teresa and Hughie were great hosts. They were ...</td>\n",
       "    </tr>\n",
       "    <tr>\n",
       "      <th>3</th>\n",
       "      <td>44077</td>\n",
       "      <td>261843</td>\n",
       "      <td>2011-05-13</td>\n",
       "      <td>490005</td>\n",
       "      <td>Weston</td>\n",
       "      <td>No surprises, was as described.  Very gracious...</td>\n",
       "    </tr>\n",
       "    <tr>\n",
       "      <th>4</th>\n",
       "      <td>44077</td>\n",
       "      <td>268148</td>\n",
       "      <td>2011-05-17</td>\n",
       "      <td>520460</td>\n",
       "      <td>Barbara</td>\n",
       "      <td>Teresa was a lovely hostess, and we had a deli...</td>\n",
       "    </tr>\n",
       "  </tbody>\n",
       "</table>\n",
       "</div>"
      ],
      "text/plain": [
       "   listing_id      id        date  reviewer_id         reviewer_name  \\\n",
       "0       44077  203703  2011-03-20       393348             Christian   \n",
       "1       44077  211369  2011-03-28       444004               Solidea   \n",
       "2       44077  234215  2011-04-21       465058  Michael And Isabelle   \n",
       "3       44077  261843  2011-05-13       490005                Weston   \n",
       "4       44077  268148  2011-05-17       520460               Barbara   \n",
       "\n",
       "                                            comments  \n",
       "0  We enjoyed our stay very much. The room was co...  \n",
       "1  We have been here 4 nights. Stay in a home is ...  \n",
       "2  Teresa and Hughie were great hosts. They were ...  \n",
       "3  No surprises, was as described.  Very gracious...  \n",
       "4  Teresa was a lovely hostess, and we had a deli...  "
      ]
     },
     "execution_count": 145,
     "metadata": {},
     "output_type": "execute_result"
    }
   ],
   "source": [
    "df_reviews.head()"
   ]
  },
  {
   "cell_type": "code",
   "execution_count": 146,
   "id": "22904942",
   "metadata": {},
   "outputs": [
    {
     "data": {
      "text/html": [
       "<div>\n",
       "<style scoped>\n",
       "    .dataframe tbody tr th:only-of-type {\n",
       "        vertical-align: middle;\n",
       "    }\n",
       "\n",
       "    .dataframe tbody tr th {\n",
       "        vertical-align: top;\n",
       "    }\n",
       "\n",
       "    .dataframe thead th {\n",
       "        text-align: right;\n",
       "    }\n",
       "</style>\n",
       "<table border=\"1\" class=\"dataframe\">\n",
       "  <thead>\n",
       "    <tr style=\"text-align: right;\">\n",
       "      <th></th>\n",
       "      <th>id</th>\n",
       "      <th>listing_url</th>\n",
       "      <th>scrape_id</th>\n",
       "      <th>last_scraped</th>\n",
       "      <th>source</th>\n",
       "      <th>name</th>\n",
       "      <th>description</th>\n",
       "      <th>neighborhood_overview</th>\n",
       "      <th>picture_url</th>\n",
       "      <th>host_id</th>\n",
       "      <th>...</th>\n",
       "      <th>review_scores_communication</th>\n",
       "      <th>review_scores_location</th>\n",
       "      <th>review_scores_value</th>\n",
       "      <th>license</th>\n",
       "      <th>instant_bookable</th>\n",
       "      <th>calculated_host_listings_count</th>\n",
       "      <th>calculated_host_listings_count_entire_homes</th>\n",
       "      <th>calculated_host_listings_count_private_rooms</th>\n",
       "      <th>calculated_host_listings_count_shared_rooms</th>\n",
       "      <th>reviews_per_month</th>\n",
       "    </tr>\n",
       "  </thead>\n",
       "  <tbody>\n",
       "    <tr>\n",
       "      <th>0</th>\n",
       "      <td>44077</td>\n",
       "      <td>https://www.airbnb.com/rooms/44077</td>\n",
       "      <td>20220911231053</td>\n",
       "      <td>2022-09-12</td>\n",
       "      <td>city scrape</td>\n",
       "      <td>cosy comfortable Irish cottage twin</td>\n",
       "      <td>Our house was built in 1937 when there was ple...</td>\n",
       "      <td>I like our neighbourhood as there is no shorta...</td>\n",
       "      <td>https://a0.muscache.com/pictures/525706/050a3a...</td>\n",
       "      <td>193005</td>\n",
       "      <td>...</td>\n",
       "      <td>4.93</td>\n",
       "      <td>4.66</td>\n",
       "      <td>4.82</td>\n",
       "      <td>NaN</td>\n",
       "      <td>f</td>\n",
       "      <td>2</td>\n",
       "      <td>0</td>\n",
       "      <td>2</td>\n",
       "      <td>0</td>\n",
       "      <td>1.85</td>\n",
       "    </tr>\n",
       "    <tr>\n",
       "      <th>1</th>\n",
       "      <td>85156</td>\n",
       "      <td>https://www.airbnb.com/rooms/85156</td>\n",
       "      <td>20220911231053</td>\n",
       "      <td>2022-09-12</td>\n",
       "      <td>city scrape</td>\n",
       "      <td>Cosy Comfortable Irish Cottage  1 Double Bed</td>\n",
       "      <td>Our Cottage is a charming light filled cottage...</td>\n",
       "      <td>I love Dundrum and its surrounding areas ,&lt;br ...</td>\n",
       "      <td>https://a0.muscache.com/pictures/1749253/9ed2a...</td>\n",
       "      <td>193005</td>\n",
       "      <td>...</td>\n",
       "      <td>4.88</td>\n",
       "      <td>4.64</td>\n",
       "      <td>4.78</td>\n",
       "      <td>NaN</td>\n",
       "      <td>f</td>\n",
       "      <td>2</td>\n",
       "      <td>0</td>\n",
       "      <td>2</td>\n",
       "      <td>0</td>\n",
       "      <td>1.53</td>\n",
       "    </tr>\n",
       "    <tr>\n",
       "      <th>2</th>\n",
       "      <td>159889</td>\n",
       "      <td>https://www.airbnb.com/rooms/159889</td>\n",
       "      <td>20220911231053</td>\n",
       "      <td>2022-09-12</td>\n",
       "      <td>city scrape</td>\n",
       "      <td>Friendly Single Room</td>\n",
       "      <td>Washing can be done at a cost of €5  per load....</td>\n",
       "      <td>Plenty of buses into the city and the area is ...</td>\n",
       "      <td>https://a0.muscache.com/pictures/3031697/a8259...</td>\n",
       "      <td>766611</td>\n",
       "      <td>...</td>\n",
       "      <td>4.90</td>\n",
       "      <td>4.63</td>\n",
       "      <td>4.74</td>\n",
       "      <td>NaN</td>\n",
       "      <td>f</td>\n",
       "      <td>3</td>\n",
       "      <td>0</td>\n",
       "      <td>3</td>\n",
       "      <td>0</td>\n",
       "      <td>2.78</td>\n",
       "    </tr>\n",
       "    <tr>\n",
       "      <th>3</th>\n",
       "      <td>162809</td>\n",
       "      <td>https://www.airbnb.com/rooms/162809</td>\n",
       "      <td>20220911231053</td>\n",
       "      <td>2022-09-11</td>\n",
       "      <td>city scrape</td>\n",
       "      <td>5.5 miles south of Dublin City :^)</td>\n",
       "      <td>A nice place to relax after the bustle of the ...</td>\n",
       "      <td>Close to the sea, hill walks and the city - vi...</td>\n",
       "      <td>https://a0.muscache.com/pictures/86694529/c07b...</td>\n",
       "      <td>777681</td>\n",
       "      <td>...</td>\n",
       "      <td>4.97</td>\n",
       "      <td>4.77</td>\n",
       "      <td>4.85</td>\n",
       "      <td>NaN</td>\n",
       "      <td>f</td>\n",
       "      <td>2</td>\n",
       "      <td>0</td>\n",
       "      <td>2</td>\n",
       "      <td>0</td>\n",
       "      <td>3.68</td>\n",
       "    </tr>\n",
       "    <tr>\n",
       "      <th>4</th>\n",
       "      <td>165828</td>\n",
       "      <td>https://www.airbnb.com/rooms/165828</td>\n",
       "      <td>20220911231053</td>\n",
       "      <td>2022-09-11</td>\n",
       "      <td>city scrape</td>\n",
       "      <td>Pádraig Pearse apt. Kilmainham</td>\n",
       "      <td>Don't just visit Dublin, experience Dublin in ...</td>\n",
       "      <td>Enjoy a walk along the grand canal, or just ob...</td>\n",
       "      <td>https://a0.muscache.com/pictures/34311419/b3f6...</td>\n",
       "      <td>790601</td>\n",
       "      <td>...</td>\n",
       "      <td>4.75</td>\n",
       "      <td>4.34</td>\n",
       "      <td>4.55</td>\n",
       "      <td>NaN</td>\n",
       "      <td>t</td>\n",
       "      <td>5</td>\n",
       "      <td>5</td>\n",
       "      <td>0</td>\n",
       "      <td>0</td>\n",
       "      <td>0.48</td>\n",
       "    </tr>\n",
       "  </tbody>\n",
       "</table>\n",
       "<p>5 rows × 75 columns</p>\n",
       "</div>"
      ],
      "text/plain": [
       "       id                          listing_url       scrape_id last_scraped  \\\n",
       "0   44077   https://www.airbnb.com/rooms/44077  20220911231053   2022-09-12   \n",
       "1   85156   https://www.airbnb.com/rooms/85156  20220911231053   2022-09-12   \n",
       "2  159889  https://www.airbnb.com/rooms/159889  20220911231053   2022-09-12   \n",
       "3  162809  https://www.airbnb.com/rooms/162809  20220911231053   2022-09-11   \n",
       "4  165828  https://www.airbnb.com/rooms/165828  20220911231053   2022-09-11   \n",
       "\n",
       "        source                                          name  \\\n",
       "0  city scrape           cosy comfortable Irish cottage twin   \n",
       "1  city scrape  Cosy Comfortable Irish Cottage  1 Double Bed   \n",
       "2  city scrape                          Friendly Single Room   \n",
       "3  city scrape            5.5 miles south of Dublin City :^)   \n",
       "4  city scrape                Pádraig Pearse apt. Kilmainham   \n",
       "\n",
       "                                         description  \\\n",
       "0  Our house was built in 1937 when there was ple...   \n",
       "1  Our Cottage is a charming light filled cottage...   \n",
       "2  Washing can be done at a cost of €5  per load....   \n",
       "3  A nice place to relax after the bustle of the ...   \n",
       "4  Don't just visit Dublin, experience Dublin in ...   \n",
       "\n",
       "                               neighborhood_overview  \\\n",
       "0  I like our neighbourhood as there is no shorta...   \n",
       "1  I love Dundrum and its surrounding areas ,<br ...   \n",
       "2  Plenty of buses into the city and the area is ...   \n",
       "3  Close to the sea, hill walks and the city - vi...   \n",
       "4  Enjoy a walk along the grand canal, or just ob...   \n",
       "\n",
       "                                         picture_url  host_id  ...  \\\n",
       "0  https://a0.muscache.com/pictures/525706/050a3a...   193005  ...   \n",
       "1  https://a0.muscache.com/pictures/1749253/9ed2a...   193005  ...   \n",
       "2  https://a0.muscache.com/pictures/3031697/a8259...   766611  ...   \n",
       "3  https://a0.muscache.com/pictures/86694529/c07b...   777681  ...   \n",
       "4  https://a0.muscache.com/pictures/34311419/b3f6...   790601  ...   \n",
       "\n",
       "  review_scores_communication review_scores_location review_scores_value  \\\n",
       "0                        4.93                   4.66                4.82   \n",
       "1                        4.88                   4.64                4.78   \n",
       "2                        4.90                   4.63                4.74   \n",
       "3                        4.97                   4.77                4.85   \n",
       "4                        4.75                   4.34                4.55   \n",
       "\n",
       "  license instant_bookable calculated_host_listings_count  \\\n",
       "0     NaN                f                              2   \n",
       "1     NaN                f                              2   \n",
       "2     NaN                f                              3   \n",
       "3     NaN                f                              2   \n",
       "4     NaN                t                              5   \n",
       "\n",
       "  calculated_host_listings_count_entire_homes  \\\n",
       "0                                           0   \n",
       "1                                           0   \n",
       "2                                           0   \n",
       "3                                           0   \n",
       "4                                           5   \n",
       "\n",
       "  calculated_host_listings_count_private_rooms  \\\n",
       "0                                            2   \n",
       "1                                            2   \n",
       "2                                            3   \n",
       "3                                            2   \n",
       "4                                            0   \n",
       "\n",
       "  calculated_host_listings_count_shared_rooms reviews_per_month  \n",
       "0                                           0              1.85  \n",
       "1                                           0              1.53  \n",
       "2                                           0              2.78  \n",
       "3                                           0              3.68  \n",
       "4                                           0              0.48  \n",
       "\n",
       "[5 rows x 75 columns]"
      ]
     },
     "execution_count": 146,
     "metadata": {},
     "output_type": "execute_result"
    }
   ],
   "source": [
    "df_listings.head()"
   ]
  },
  {
   "cell_type": "markdown",
   "id": "1dca40df",
   "metadata": {},
   "source": [
    "# Remove all columns from listings beside the id and the r_rating"
   ]
  },
  {
   "cell_type": "code",
   "execution_count": 147,
   "id": "19f61a0b",
   "metadata": {},
   "outputs": [],
   "source": [
    "features_to_keep = [\"id\", \"review_scores_rating\"]\n",
    "features_to_drop = list(df_listings.drop(features_to_keep, axis=1))"
   ]
  },
  {
   "cell_type": "code",
   "execution_count": 148,
   "id": "2319c7ba",
   "metadata": {},
   "outputs": [],
   "source": [
    "listings_cleaned = df_listings.drop(features_to_drop, axis=1)"
   ]
  },
  {
   "cell_type": "code",
   "execution_count": 149,
   "id": "998bbd0f",
   "metadata": {},
   "outputs": [],
   "source": [
    "features_to_keep = [\"listing_id\", \"comments\"]\n",
    "features_to_drop = list(df_reviews.drop(features_to_keep, axis=1))\n"
   ]
  },
  {
   "cell_type": "code",
   "execution_count": 150,
   "id": "b7a2ef0d",
   "metadata": {
    "scrolled": true
   },
   "outputs": [],
   "source": [
    "reviews_cleaned = df_reviews.drop(features_to_drop, axis=1)"
   ]
  },
  {
   "cell_type": "code",
   "execution_count": 151,
   "id": "41213549",
   "metadata": {},
   "outputs": [
    {
     "name": "stdout",
     "output_type": "stream",
     "text": [
      "   listing_id                                           comments\n",
      "0       44077  We enjoyed our stay very much. The room was co...\n",
      "1       44077  We have been here 4 nights. Stay in a home is ...\n",
      "2       44077  Teresa and Hughie were great hosts. They were ...\n",
      "3       44077  No surprises, was as described.  Very gracious...\n",
      "4       44077  Teresa was a lovely hostess, and we had a deli...\n",
      "       id  review_scores_rating\n",
      "0   44077                  4.78\n",
      "1   85156                  4.79\n",
      "2  159889                  4.74\n",
      "3  162809                  4.84\n",
      "4  165828                  4.63\n"
     ]
    }
   ],
   "source": [
    "print(reviews_cleaned.head())\n",
    "print(listings_cleaned.head())"
   ]
  },
  {
   "cell_type": "code",
   "execution_count": 152,
   "id": "1a5cbb7f",
   "metadata": {},
   "outputs": [],
   "source": [
    "df_merged = listings_cleaned.merge(reviews_cleaned, left_on=\"id\", right_on=\"listing_id\")"
   ]
  },
  {
   "cell_type": "code",
   "execution_count": 153,
   "id": "b3107513",
   "metadata": {},
   "outputs": [
    {
     "data": {
      "text/html": [
       "<div>\n",
       "<style scoped>\n",
       "    .dataframe tbody tr th:only-of-type {\n",
       "        vertical-align: middle;\n",
       "    }\n",
       "\n",
       "    .dataframe tbody tr th {\n",
       "        vertical-align: top;\n",
       "    }\n",
       "\n",
       "    .dataframe thead th {\n",
       "        text-align: right;\n",
       "    }\n",
       "</style>\n",
       "<table border=\"1\" class=\"dataframe\">\n",
       "  <thead>\n",
       "    <tr style=\"text-align: right;\">\n",
       "      <th></th>\n",
       "      <th>id</th>\n",
       "      <th>review_scores_rating</th>\n",
       "      <th>listing_id</th>\n",
       "      <th>comments</th>\n",
       "    </tr>\n",
       "  </thead>\n",
       "  <tbody>\n",
       "    <tr>\n",
       "      <th>0</th>\n",
       "      <td>44077</td>\n",
       "      <td>4.78</td>\n",
       "      <td>44077</td>\n",
       "      <td>We enjoyed our stay very much. The room was co...</td>\n",
       "    </tr>\n",
       "    <tr>\n",
       "      <th>1</th>\n",
       "      <td>44077</td>\n",
       "      <td>4.78</td>\n",
       "      <td>44077</td>\n",
       "      <td>We have been here 4 nights. Stay in a home is ...</td>\n",
       "    </tr>\n",
       "    <tr>\n",
       "      <th>2</th>\n",
       "      <td>44077</td>\n",
       "      <td>4.78</td>\n",
       "      <td>44077</td>\n",
       "      <td>Teresa and Hughie were great hosts. They were ...</td>\n",
       "    </tr>\n",
       "    <tr>\n",
       "      <th>3</th>\n",
       "      <td>44077</td>\n",
       "      <td>4.78</td>\n",
       "      <td>44077</td>\n",
       "      <td>No surprises, was as described.  Very gracious...</td>\n",
       "    </tr>\n",
       "    <tr>\n",
       "      <th>4</th>\n",
       "      <td>44077</td>\n",
       "      <td>4.78</td>\n",
       "      <td>44077</td>\n",
       "      <td>Teresa was a lovely hostess, and we had a deli...</td>\n",
       "    </tr>\n",
       "  </tbody>\n",
       "</table>\n",
       "</div>"
      ],
      "text/plain": [
       "      id  review_scores_rating  listing_id  \\\n",
       "0  44077                  4.78       44077   \n",
       "1  44077                  4.78       44077   \n",
       "2  44077                  4.78       44077   \n",
       "3  44077                  4.78       44077   \n",
       "4  44077                  4.78       44077   \n",
       "\n",
       "                                            comments  \n",
       "0  We enjoyed our stay very much. The room was co...  \n",
       "1  We have been here 4 nights. Stay in a home is ...  \n",
       "2  Teresa and Hughie were great hosts. They were ...  \n",
       "3  No surprises, was as described.  Very gracious...  \n",
       "4  Teresa was a lovely hostess, and we had a deli...  "
      ]
     },
     "execution_count": 153,
     "metadata": {},
     "output_type": "execute_result"
    }
   ],
   "source": [
    "df_merged.head()"
   ]
  },
  {
   "cell_type": "code",
   "execution_count": 154,
   "id": "e47143ec",
   "metadata": {},
   "outputs": [
    {
     "data": {
      "text/html": [
       "<div>\n",
       "<style scoped>\n",
       "    .dataframe tbody tr th:only-of-type {\n",
       "        vertical-align: middle;\n",
       "    }\n",
       "\n",
       "    .dataframe tbody tr th {\n",
       "        vertical-align: top;\n",
       "    }\n",
       "\n",
       "    .dataframe thead th {\n",
       "        text-align: right;\n",
       "    }\n",
       "</style>\n",
       "<table border=\"1\" class=\"dataframe\">\n",
       "  <thead>\n",
       "    <tr style=\"text-align: right;\">\n",
       "      <th></th>\n",
       "      <th>review_scores_rating</th>\n",
       "      <th>comments</th>\n",
       "    </tr>\n",
       "  </thead>\n",
       "  <tbody>\n",
       "    <tr>\n",
       "      <th>0</th>\n",
       "      <td>4.78</td>\n",
       "      <td>We enjoyed our stay very much. The room was co...</td>\n",
       "    </tr>\n",
       "    <tr>\n",
       "      <th>1</th>\n",
       "      <td>4.78</td>\n",
       "      <td>We have been here 4 nights. Stay in a home is ...</td>\n",
       "    </tr>\n",
       "    <tr>\n",
       "      <th>2</th>\n",
       "      <td>4.78</td>\n",
       "      <td>Teresa and Hughie were great hosts. They were ...</td>\n",
       "    </tr>\n",
       "    <tr>\n",
       "      <th>3</th>\n",
       "      <td>4.78</td>\n",
       "      <td>No surprises, was as described.  Very gracious...</td>\n",
       "    </tr>\n",
       "    <tr>\n",
       "      <th>4</th>\n",
       "      <td>4.78</td>\n",
       "      <td>Teresa was a lovely hostess, and we had a deli...</td>\n",
       "    </tr>\n",
       "  </tbody>\n",
       "</table>\n",
       "</div>"
      ],
      "text/plain": [
       "   review_scores_rating                                           comments\n",
       "0                  4.78  We enjoyed our stay very much. The room was co...\n",
       "1                  4.78  We have been here 4 nights. Stay in a home is ...\n",
       "2                  4.78  Teresa and Hughie were great hosts. They were ...\n",
       "3                  4.78  No surprises, was as described.  Very gracious...\n",
       "4                  4.78  Teresa was a lovely hostess, and we had a deli..."
      ]
     },
     "execution_count": 154,
     "metadata": {},
     "output_type": "execute_result"
    }
   ],
   "source": [
    "df_merged_cleaned =  df_merged.drop(['id', 'listing_id'], axis=1)\n",
    "df_merged_cleaned.head()"
   ]
  },
  {
   "cell_type": "code",
   "execution_count": 155,
   "id": "105717c5",
   "metadata": {},
   "outputs": [
    {
     "name": "stdout",
     "output_type": "stream",
     "text": [
      "<class 'pandas.core.frame.DataFrame'>\n",
      "Int64Index: 243183 entries, 0 to 243182\n",
      "Data columns (total 2 columns):\n",
      " #   Column                Non-Null Count   Dtype  \n",
      "---  ------                --------------   -----  \n",
      " 0   review_scores_rating  243183 non-null  float64\n",
      " 1   comments              243165 non-null  object \n",
      "dtypes: float64(1), object(1)\n",
      "memory usage: 5.6+ MB\n"
     ]
    }
   ],
   "source": [
    "df_merged_cleaned.info()"
   ]
  },
  {
   "cell_type": "markdown",
   "id": "a804792a",
   "metadata": {},
   "source": [
    "# replace the actual rating with categories "
   ]
  },
  {
   "cell_type": "code",
   "execution_count": 156,
   "id": "d2903b93",
   "metadata": {},
   "outputs": [],
   "source": [
    "df_merged_cleaned[\"rating_category\"] = pd.cut(df_merged_cleaned[\"review_scores_rating\"],\n",
    "                      bins=[0., 4.3, 4.6, 4.8, 4.9, 5],\n",
    "                      labels=[1, 2, 3, 4, 5])"
   ]
  },
  {
   "cell_type": "code",
   "execution_count": 157,
   "id": "e8ec408c",
   "metadata": {
    "scrolled": true
   },
   "outputs": [
    {
     "data": {
      "text/plain": [
       "<AxesSubplot:>"
      ]
     },
     "execution_count": 157,
     "metadata": {},
     "output_type": "execute_result"
    },
    {
     "data": {
      "image/png": "[encoded data removed]",
      "text/plain": [
       "<Figure size 432x288 with 1 Axes>"
      ]
     },
     "metadata": {
      "needs_background": "light"
     },
     "output_type": "display_data"
    }
   ],
   "source": [
    "df_merged_cleaned[\"rating_category\"].hist()"
   ]
  },
  {
   "cell_type": "code",
   "execution_count": 158,
   "id": "f09296bb",
   "metadata": {},
   "outputs": [],
   "source": [
    "df_merged_cleaned = df_merged_cleaned.drop(['review_scores_rating'], axis=1)"
   ]
  },
  {
   "cell_type": "code",
   "execution_count": 159,
   "id": "834e2144",
   "metadata": {
    "scrolled": true
   },
   "outputs": [],
   "source": [
    "df_merged_cleaned.dropna(inplace=True)"
   ]
  },
  {
   "cell_type": "code",
   "execution_count": 160,
   "id": "3ea59a3e",
   "metadata": {},
   "outputs": [
    {
     "name": "stdout",
     "output_type": "stream",
     "text": [
      "                                                 comments rating_category\n",
      "0       We enjoyed our stay very much. The room was co...               3\n",
      "1       We have been here 4 nights. Stay in a home is ...               3\n",
      "2       Teresa and Hughie were great hosts. They were ...               3\n",
      "3       No surprises, was as described.  Very gracious...               3\n",
      "4       Teresa was a lovely hostess, and we had a deli...               3\n",
      "...                                                   ...             ...\n",
      "243178  What a great host couple and great spot. Super...               5\n",
      "243179  Ana is a lovey host .<br/>There was an issue a...               5\n",
      "243180  We had a fantastic stay house was perfect had ...               5\n",
      "243181  best airbnb host ever. very humble and very he...               5\n",
      "243182  Noel is a great host and the room is very clea...               5\n",
      "\n",
      "[243026 rows x 2 columns]\n"
     ]
    }
   ],
   "source": [
    "print(df_merged_cleaned)\n"
   ]
  },
  {
   "cell_type": "code",
   "execution_count": 165,
   "id": "40175b74",
   "metadata": {},
   "outputs": [],
   "source": [
    "from sklearn.model_selection import StratifiedShuffleSplit\n",
    "\n",
    "split = StratifiedShuffleSplit(n_splits=1, test_size=0.2, random_state=42)\n",
    "for train_index, test_index in split.split(df_merged_cleaned, df_merged_cleaned[\"rating_category\"]):\n",
    "    strat_train_set = df_merged_cleaned.iloc[train_index]\n",
    "    strat_test_set = df_merged_cleaned.iloc[test_index]"
   ]
  },
  {
   "cell_type": "code",
   "execution_count": 166,
   "id": "0f02f44f",
   "metadata": {},
   "outputs": [
    {
     "data": {
      "text/html": [
       "<div>\n",
       "<style scoped>\n",
       "    .dataframe tbody tr th:only-of-type {\n",
       "        vertical-align: middle;\n",
       "    }\n",
       "\n",
       "    .dataframe tbody tr th {\n",
       "        vertical-align: top;\n",
       "    }\n",
       "\n",
       "    .dataframe thead th {\n",
       "        text-align: right;\n",
       "    }\n",
       "</style>\n",
       "<table border=\"1\" class=\"dataframe\">\n",
       "  <thead>\n",
       "    <tr style=\"text-align: right;\">\n",
       "      <th></th>\n",
       "      <th>comments</th>\n",
       "      <th>rating_category</th>\n",
       "    </tr>\n",
       "  </thead>\n",
       "  <tbody>\n",
       "    <tr>\n",
       "      <th>135890</th>\n",
       "      <td>La estancia ha sido de 10, la limpieza impecab...</td>\n",
       "      <td>3</td>\n",
       "    </tr>\n",
       "    <tr>\n",
       "      <th>239898</th>\n",
       "      <td>Robert is an excelent host, who was always ava...</td>\n",
       "      <td>5</td>\n",
       "    </tr>\n",
       "    <tr>\n",
       "      <th>105455</th>\n",
       "      <td>My fiance and I booked Elena's place for ourse...</td>\n",
       "      <td>4</td>\n",
       "    </tr>\n",
       "    <tr>\n",
       "      <th>19032</th>\n",
       "      <td>I made the reservation for my uncles and they ...</td>\n",
       "      <td>2</td>\n",
       "    </tr>\n",
       "    <tr>\n",
       "      <th>153857</th>\n",
       "      <td>We spent three nights in Dublin and really had...</td>\n",
       "      <td>5</td>\n",
       "    </tr>\n",
       "  </tbody>\n",
       "</table>\n",
       "</div>"
      ],
      "text/plain": [
       "                                                 comments rating_category\n",
       "135890  La estancia ha sido de 10, la limpieza impecab...               3\n",
       "239898  Robert is an excelent host, who was always ava...               5\n",
       "105455  My fiance and I booked Elena's place for ourse...               4\n",
       "19032   I made the reservation for my uncles and they ...               2\n",
       "153857  We spent three nights in Dublin and really had...               5"
      ]
     },
     "execution_count": 166,
     "metadata": {},
     "output_type": "execute_result"
    }
   ],
   "source": [
    "strat_train_set.value_counts()"
   ]
  },
  {
   "cell_type": "code",
   "execution_count": 168,
   "id": "bcadc111",
   "metadata": {
    "scrolled": true
   },
   "outputs": [
    {
     "data": {
      "text/plain": [
       "3    0.300494\n",
       "4    0.262555\n",
       "5    0.225285\n",
       "2    0.173223\n",
       "1    0.038443\n",
       "Name: rating_category, dtype: float64"
      ]
     },
     "execution_count": 168,
     "metadata": {},
     "output_type": "execute_result"
    }
   ],
   "source": [
    "strat_train_set[\"rating_category\"].value_counts() / len(strat_train_set)"
   ]
  },
  {
   "cell_type": "code",
   "execution_count": 169,
   "id": "2d3cace5",
   "metadata": {},
   "outputs": [
    {
     "data": {
      "text/plain": [
       "3    0.300498\n",
       "4    0.262540\n",
       "5    0.225281\n",
       "2    0.173230\n",
       "1    0.038452\n",
       "Name: rating_category, dtype: float64"
      ]
     },
     "execution_count": 169,
     "metadata": {},
     "output_type": "execute_result"
    }
   ],
   "source": [
    "strat_test_set[\"rating_category\"].value_counts() / len(strat_test_set)"
   ]
  },
  {
   "cell_type": "markdown",
   "id": "6ca2f86c",
   "metadata": {},
   "source": [
    "# Export dataset to csv file"
   ]
  },
  {
   "cell_type": "code",
   "execution_count": 170,
   "id": "16815e71",
   "metadata": {},
   "outputs": [],
   "source": [
    "strat_test_set.to_csv('test_reviews_data')\n",
    "strat_train_set.to_csv('train_reviews_data')"
   ]
  },
  {
   "cell_type": "code",
   "execution_count": null,
   "id": "5e0c9b9a",
   "metadata": {},
   "outputs": [],
   "source": []
  }
 ],
 "metadata": {
  "kernelspec": {
   "display_name": "Python 3 (ipykernel)",
   "language": "python",
   "name": "python3"
  },
  "language_info": {
   "codemirror_mode": {
    "name": "ipython",
    "version": 3
   },
   "file_extension": ".py",
   "mimetype": "text/x-python",
   "name": "python",
   "nbconvert_exporter": "python",
   "pygments_lexer": "ipython3",
   "version": "3.9.12"
  }
 },
 "nbformat": 4,
 "nbformat_minor": 5
}
