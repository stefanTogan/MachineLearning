{
 "cells": [
  {
   "cell_type": "code",
   "execution_count": 338,
   "id": "a53a3ac7",
   "metadata": {},
   "outputs": [],
   "source": [
    "import numpy as np\n",
    "import pandas as pd\n",
    "import matplotlib.pyplot as plt\n",
    "import matplotlib\n",
    "import seaborn as sns"
   ]
  },
  {
   "cell_type": "markdown",
   "id": "24d2b3a5",
   "metadata": {},
   "source": [
    "## Get and refine train data"
   ]
  },
  {
   "cell_type": "code",
   "execution_count": 339,
   "id": "4578ed2e",
   "metadata": {},
   "outputs": [
    {
     "name": "stdout",
     "output_type": "stream",
     "text": [
      "<class 'pandas.core.frame.DataFrame'>\n",
      "RangeIndex: 6052 entries, 0 to 6051\n",
      "Data columns (total 49 columns):\n",
      " #   Column                                        Non-Null Count  Dtype  \n",
      "---  ------                                        --------------  -----  \n",
      " 0   Unnamed: 0                                    6052 non-null   int64  \n",
      " 1   id                                            6052 non-null   int64  \n",
      " 2   description                                   5935 non-null   object \n",
      " 3   neighborhood_overview                         3344 non-null   object \n",
      " 4   host_since                                    6052 non-null   object \n",
      " 5   host_response_time                            3117 non-null   object \n",
      " 6   host_response_rate                            3117 non-null   object \n",
      " 7   host_acceptance_rate                          3327 non-null   object \n",
      " 8   host_is_superhost                             6052 non-null   object \n",
      " 9   host_neighbourhood                            4178 non-null   object \n",
      " 10  host_listings_count                           6052 non-null   int64  \n",
      " 11  host_total_listings_count                     6052 non-null   int64  \n",
      " 12  host_verifications                            6052 non-null   object \n",
      " 13  host_has_profile_pic                          6052 non-null   object \n",
      " 14  host_identity_verified                        6052 non-null   object \n",
      " 15  neighbourhood                                 3344 non-null   object \n",
      " 16  neighbourhood_cleansed                        6052 non-null   object \n",
      " 17  latitude                                      6052 non-null   float64\n",
      " 18  longitude                                     6052 non-null   float64\n",
      " 19  property_type                                 6052 non-null   object \n",
      " 20  room_type                                     6052 non-null   object \n",
      " 21  accommodates                                  6052 non-null   int64  \n",
      " 22  bedrooms                                      5897 non-null   float64\n",
      " 23  beds                                          5974 non-null   float64\n",
      " 24  amenities                                     6052 non-null   object \n",
      " 25  price                                         6052 non-null   float64\n",
      " 26  minimum_nights                                6052 non-null   int64  \n",
      " 27  maximum_nights                                6052 non-null   int64  \n",
      " 28  availability_30                               6052 non-null   int64  \n",
      " 29  availability_60                               6052 non-null   int64  \n",
      " 30  availability_90                               6052 non-null   int64  \n",
      " 31  availability_365                              6052 non-null   int64  \n",
      " 32  number_of_reviews                             6052 non-null   int64  \n",
      " 33  number_of_reviews_ltm                         6052 non-null   int64  \n",
      " 34  number_of_reviews_l30d                        6052 non-null   int64  \n",
      " 35  last_review                                   4970 non-null   object \n",
      " 36  review_scores_rating                          4970 non-null   float64\n",
      " 37  review_scores_accuracy                        4862 non-null   float64\n",
      " 38  review_scores_cleanliness                     4863 non-null   float64\n",
      " 39  review_scores_checkin                         4860 non-null   float64\n",
      " 40  review_scores_communication                   4862 non-null   float64\n",
      " 41  review_scores_location                        4860 non-null   float64\n",
      " 42  review_scores_value                           4859 non-null   float64\n",
      " 43  instant_bookable                              6052 non-null   object \n",
      " 44  calculated_host_listings_count                6052 non-null   int64  \n",
      " 45  calculated_host_listings_count_entire_homes   6052 non-null   int64  \n",
      " 46  calculated_host_listings_count_private_rooms  6052 non-null   int64  \n",
      " 47  calculated_host_listings_count_shared_rooms   6052 non-null   int64  \n",
      " 48  reviews_per_month                             4970 non-null   float64\n",
      "dtypes: float64(13), int64(18), object(18)\n",
      "memory usage: 2.3+ MB\n"
     ]
    }
   ],
   "source": [
    "train_listings = pd.read_csv('train_listing_data')\n",
    "train_listings.info()"
   ]
  },
  {
   "cell_type": "code",
   "execution_count": 340,
   "id": "a9114fb7",
   "metadata": {},
   "outputs": [
    {
     "name": "stdout",
     "output_type": "stream",
     "text": [
      "<class 'pandas.core.frame.DataFrame'>\n",
      "RangeIndex: 6052 entries, 0 to 6051\n",
      "Data columns (total 43 columns):\n",
      " #   Column                                        Non-Null Count  Dtype  \n",
      "---  ------                                        --------------  -----  \n",
      " 0   Unnamed: 0                                    6052 non-null   int64  \n",
      " 1   id                                            6052 non-null   int64  \n",
      " 2   description                                   5935 non-null   object \n",
      " 3   neighborhood_overview                         3344 non-null   object \n",
      " 4   host_since                                    6052 non-null   object \n",
      " 5   host_response_time                            3117 non-null   object \n",
      " 6   host_response_rate                            3117 non-null   object \n",
      " 7   host_acceptance_rate                          3327 non-null   object \n",
      " 8   host_is_superhost                             6052 non-null   object \n",
      " 9   host_neighbourhood                            4178 non-null   object \n",
      " 10  host_listings_count                           6052 non-null   int64  \n",
      " 11  host_total_listings_count                     6052 non-null   int64  \n",
      " 12  host_verifications                            6052 non-null   object \n",
      " 13  host_has_profile_pic                          6052 non-null   object \n",
      " 14  host_identity_verified                        6052 non-null   object \n",
      " 15  neighbourhood                                 3344 non-null   object \n",
      " 16  neighbourhood_cleansed                        6052 non-null   object \n",
      " 17  latitude                                      6052 non-null   float64\n",
      " 18  longitude                                     6052 non-null   float64\n",
      " 19  property_type                                 6052 non-null   object \n",
      " 20  room_type                                     6052 non-null   object \n",
      " 21  accommodates                                  6052 non-null   int64  \n",
      " 22  bedrooms                                      5897 non-null   float64\n",
      " 23  beds                                          5974 non-null   float64\n",
      " 24  amenities                                     6052 non-null   object \n",
      " 25  price                                         6052 non-null   float64\n",
      " 26  minimum_nights                                6052 non-null   int64  \n",
      " 27  maximum_nights                                6052 non-null   int64  \n",
      " 28  availability_30                               6052 non-null   int64  \n",
      " 29  availability_60                               6052 non-null   int64  \n",
      " 30  availability_90                               6052 non-null   int64  \n",
      " 31  availability_365                              6052 non-null   int64  \n",
      " 32  number_of_reviews                             6052 non-null   int64  \n",
      " 33  number_of_reviews_ltm                         6052 non-null   int64  \n",
      " 34  number_of_reviews_l30d                        6052 non-null   int64  \n",
      " 35  last_review                                   4970 non-null   object \n",
      " 36  review_scores_cleanliness                     4863 non-null   float64\n",
      " 37  instant_bookable                              6052 non-null   object \n",
      " 38  calculated_host_listings_count                6052 non-null   int64  \n",
      " 39  calculated_host_listings_count_entire_homes   6052 non-null   int64  \n",
      " 40  calculated_host_listings_count_private_rooms  6052 non-null   int64  \n",
      " 41  calculated_host_listings_count_shared_rooms   6052 non-null   int64  \n",
      " 42  reviews_per_month                             4970 non-null   float64\n",
      "dtypes: float64(7), int64(18), object(18)\n",
      "memory usage: 2.0+ MB\n"
     ]
    }
   ],
   "source": [
    "r_rating_train = train_listings[\"review_scores_rating\"]\n",
    "r_accuracy_train = train_listings[\"review_scores_accuracy\"]\n",
    "r_chekin_train = train_listings[\"review_scores_checkin\"]\n",
    "r_communication_train = train_listings[\"review_scores_communication\"]\n",
    "r_location_train = train_listings[\"review_scores_location\"]\n",
    "r_value_train = train_listings[\"review_scores_value\"]\n",
    "\n",
    "y_values_to_be_dropped = [\"review_scores_rating\", \"review_scores_accuracy\", \"review_scores_checkin\",\n",
    "                         \"review_scores_communication\", \"review_scores_location\", \"review_scores_value\"]\n",
    "train_listings = train_listings.drop(y_values_to_be_dropped, axis = 1)\n",
    "train_listings.info()"
   ]
  },
  {
   "cell_type": "code",
   "execution_count": 341,
   "id": "e01b1a23",
   "metadata": {},
   "outputs": [],
   "source": [
    "columns_to_be_dropped_listings = ['id', 'review_scores_cleanliness',\n",
    "                                 'calculated_host_listings_count_entire_homes', 'calculated_host_listings_count_private_rooms',\n",
    "                                 'calculated_host_listings_count_shared_rooms', 'description', 'neighborhood_overview', 'host_neighbourhood',\n",
    "                                  'maximum_nights', 'availability_90', 'availability_365', \"property_type\", \"host_verifications\"]"
   ]
  },
  {
   "cell_type": "code",
   "execution_count": 342,
   "id": "69ac55cb",
   "metadata": {},
   "outputs": [],
   "source": [
    "columns_to_be_modified_and_then_dropped = ['host_since',  'last_review']"
   ]
  },
  {
   "cell_type": "code",
   "execution_count": 343,
   "id": "72c3c2de",
   "metadata": {
    "scrolled": true
   },
   "outputs": [],
   "source": [
    "train_listings[\"host_response_rate\"] = train_listings[\"host_response_rate\"].fillna(\"0%\")\n",
    "train_listings[\"host_response_rate\"] = train_listings[\"host_response_rate\"].str.replace(\"%\", \"\")\n",
    "train_listings[\"host_response_rate\"] = train_listings[\"host_response_rate\"].astype(int)\n",
    "train_listings[\"host_response_rate\"] = train_listings[\"host_response_rate\"].replace(0, np.NaN)\n",
    "host_response_time_median = train_listings[\"host_response_rate\"].median()\n",
    "train_listings[\"host_response_rate\"].fillna(host_response_time_median, inplace=True) # option 3"
   ]
  },
  {
   "cell_type": "code",
   "execution_count": 344,
   "id": "0d68b7d0",
   "metadata": {},
   "outputs": [],
   "source": [
    "train_listings[\"host_acceptance_rate\"] = train_listings[\"host_acceptance_rate\"].fillna(\"0%\")\n",
    "train_listings[\"host_acceptance_rate\"] = train_listings[\"host_acceptance_rate\"].str.replace(\"%\", \"\").astype(int)\n",
    "train_listings[\"host_acceptance_rate\"] = train_listings[\"host_acceptance_rate\"].replace(0, np.NaN)\n",
    "host_acceptance_rate_median = train_listings[\"host_acceptance_rate\"].median()\n",
    "train_listings[\"host_acceptance_rate\"].fillna(host_response_time_median, inplace=True) # option 3"
   ]
  },
  {
   "cell_type": "code",
   "execution_count": 345,
   "id": "6ee44017",
   "metadata": {},
   "outputs": [],
   "source": [
    "import datetime\n",
    "def contains_number(string):\n",
    "    return any(char.isdigit() for char in string)\n",
    "\n",
    "def transform_columns(original_df):\n",
    "    now = datetime.datetime.now()\n",
    "    \n",
    "    #host_since\n",
    "    original_df['new_date'] = pd.to_datetime(original_df['host_since'].astype(str), format='%Y-%m-%d')\n",
    "    original_df['new_date'] = now - original_df['new_date']\n",
    "    original_df['new_date'] = original_df['new_date'].dt.days\n",
    "    \n",
    "    #host_response_time\n",
    "    original_df[\"host_response_time\"].fillna(\"unknown\", inplace  = True)\n",
    "    \n",
    "    #host_is_superhost\n",
    "    original_df[\"host_is_superhost\"] = (original_df[\"host_is_superhost\"] == 't').astype(int)\n",
    "    \n",
    "    #host_has_profile_pic\n",
    "    original_df[\"host_has_profile_pic\"] = (original_df[\"host_has_profile_pic\"] == 't').astype(int)\n",
    "    \n",
    "    #host_identity_verified\n",
    "    original_df[\"host_identity_verified\"] = (original_df[\"host_identity_verified\"] == 't').astype(int)\n",
    "    \n",
    "    #neighbourhood \n",
    "    original_df[\"neighbourhood\"] = original_df[\"neighbourhood\"].str.replace(\", Ireland\", \"\")\n",
    "    original_df[\"neighbourhood\"] = original_df[\"neighbourhood\"].str.replace(\", County\", \"\")\n",
    "    original_df[\"neighbourhood\"] = original_df[\"neighbourhood\"].str.replace(\"Ireland\", \"\")\n",
    "    original_df[\"neighbourhood\"] = original_df[\"neighbourhood\"].str.replace(\"Dublin\", \"\")\n",
    "    \n",
    "    for index, row in original_df.iterrows():\n",
    "        txt = row[\"neighbourhood\"]\n",
    "        num = 0\n",
    "        if contains_number(str(txt)):\n",
    "            num_list = [int(s) for s in str(txt).split() if s.isdigit()]\n",
    "            num = int(num_list[0]) if len(num_list) >= 1 else 0\n",
    "           \n",
    "        original_df.at[index, \"neighbourhood\"] = num   \n",
    "    print(original_df[\"neighbourhood\"].value_counts())\n",
    "    #amenities\n",
    "    for index, row in original_df.iterrows():\n",
    "        lst = row[\"amenities\"]\n",
    "        original_df.at[index, \"amenities\"] = int(len(lst))\n",
    "    \n",
    "    original_df[\"amenities\"] = original_df[\"amenities\"].astype(int)\n",
    "    \n",
    "    #last_review\n",
    "    original_df['days_since_last_review'] = pd.to_datetime(original_df['last_review'].astype(str), format='%Y-%m-%d')\n",
    "    original_df['days_since_last_review'] = now - original_df['days_since_last_review']\n",
    "    original_df['days_since_last_review'] = original_df['days_since_last_review'].dt.days\n",
    "    \n",
    "    #instant bookable\n",
    "    original_df[\"instant_bookable\"] = (original_df[\"instant_bookable\"] == 't').astype(int)\n",
    "    #host_is_superhost\n",
    "    return original_df"
   ]
  },
  {
   "cell_type": "code",
   "execution_count": 346,
   "id": "1bfa9bb6",
   "metadata": {
    "scrolled": true
   },
   "outputs": [
    {
     "name": "stdout",
     "output_type": "stream",
     "text": [
      "0     5011\n",
      "8      237\n",
      "1      183\n",
      "4      105\n",
      "7      103\n",
      "6       86\n",
      "2       80\n",
      "13      35\n",
      "9       31\n",
      "3       29\n",
      "14      26\n",
      "5       26\n",
      "18      18\n",
      "10      16\n",
      "15      14\n",
      "11      12\n",
      "16      12\n",
      "22      12\n",
      "24       8\n",
      "12       6\n",
      "20       1\n",
      "17       1\n",
      "Name: neighbourhood, dtype: int64\n"
     ]
    }
   ],
   "source": [
    "train_listings_cleaned = transform_columns(train_listings)"
   ]
  },
  {
   "cell_type": "markdown",
   "id": "021c1b01",
   "metadata": {},
   "source": [
    "### remove categorical columns"
   ]
  },
  {
   "cell_type": "code",
   "execution_count": 347,
   "id": "ec1c5d55",
   "metadata": {},
   "outputs": [],
   "source": [
    "#train_listings_cleaned = train_listings_cleaned.drop(cat_attributes, axis=1)"
   ]
  },
  {
   "cell_type": "markdown",
   "id": "a748d21c",
   "metadata": {},
   "source": [
    "### remove categorical columns"
   ]
  },
  {
   "cell_type": "code",
   "execution_count": 348,
   "id": "c01453de",
   "metadata": {
    "scrolled": true
   },
   "outputs": [],
   "source": [
    "train_listings_cleaned = train_listings_cleaned.drop(columns_to_be_modified_and_then_dropped, axis=1)"
   ]
  },
  {
   "cell_type": "code",
   "execution_count": 349,
   "id": "79372936",
   "metadata": {},
   "outputs": [],
   "source": [
    "train_listings_cleaned = train_listings_cleaned.drop(columns_to_be_dropped_listings, axis=1)"
   ]
  },
  {
   "cell_type": "code",
   "execution_count": 350,
   "id": "51a081de",
   "metadata": {
    "scrolled": true
   },
   "outputs": [
    {
     "name": "stdout",
     "output_type": "stream",
     "text": [
      "<class 'pandas.core.frame.DataFrame'>\n",
      "RangeIndex: 6052 entries, 0 to 6051\n",
      "Data columns (total 29 columns):\n",
      " #   Column                          Non-Null Count  Dtype  \n",
      "---  ------                          --------------  -----  \n",
      " 0   host_response_time              6052 non-null   object \n",
      " 1   host_response_rate              6052 non-null   float64\n",
      " 2   host_acceptance_rate            6052 non-null   float64\n",
      " 3   host_is_superhost               6052 non-null   int32  \n",
      " 4   host_listings_count             6052 non-null   int64  \n",
      " 5   host_total_listings_count       6052 non-null   int64  \n",
      " 6   host_has_profile_pic            6052 non-null   int32  \n",
      " 7   host_identity_verified          6052 non-null   int32  \n",
      " 8   neighbourhood                   6052 non-null   object \n",
      " 9   neighbourhood_cleansed          6052 non-null   object \n",
      " 10  latitude                        6052 non-null   float64\n",
      " 11  longitude                       6052 non-null   float64\n",
      " 12  room_type                       6052 non-null   object \n",
      " 13  accommodates                    6052 non-null   int64  \n",
      " 14  bedrooms                        5897 non-null   float64\n",
      " 15  beds                            5974 non-null   float64\n",
      " 16  amenities                       6052 non-null   int32  \n",
      " 17  price                           6052 non-null   float64\n",
      " 18  minimum_nights                  6052 non-null   int64  \n",
      " 19  availability_30                 6052 non-null   int64  \n",
      " 20  availability_60                 6052 non-null   int64  \n",
      " 21  number_of_reviews               6052 non-null   int64  \n",
      " 22  number_of_reviews_ltm           6052 non-null   int64  \n",
      " 23  number_of_reviews_l30d          6052 non-null   int64  \n",
      " 24  instant_bookable                6052 non-null   int32  \n",
      " 25  calculated_host_listings_count  6052 non-null   int64  \n",
      " 26  reviews_per_month               4970 non-null   float64\n",
      " 27  new_date                        6052 non-null   int64  \n",
      " 28  days_since_last_review          4970 non-null   float64\n",
      "dtypes: float64(9), int32(5), int64(11), object(4)\n",
      "memory usage: 1.2+ MB\n"
     ]
    }
   ],
   "source": [
    "train_listings_cleaned = train_listings_cleaned.drop(train_listings_cleaned.columns[0], axis=1)\n",
    "train_listings_cleaned.info()"
   ]
  },
  {
   "cell_type": "code",
   "execution_count": 351,
   "id": "0ac2ef93",
   "metadata": {},
   "outputs": [],
   "source": [
    "cat_attributes = [\"host_response_time\", \"neighbourhood_cleansed\", \"room_type\"]\n",
    "num_attributes = list(train_listings_cleaned.drop(cat_attributes, axis=1))\n",
    "#num_attributes = list(train_listings_cleaned)"
   ]
  },
  {
   "cell_type": "code",
   "execution_count": 352,
   "id": "40c9b460",
   "metadata": {},
   "outputs": [],
   "source": [
    "from sklearn.pipeline import Pipeline\n",
    "from sklearn.preprocessing import StandardScaler\n",
    "from sklearn.impute import SimpleImputer\n",
    "from sklearn.preprocessing import OneHotEncoder\n",
    "from sklearn.preprocessing import OrdinalEncoder"
   ]
  },
  {
   "cell_type": "code",
   "execution_count": 353,
   "id": "3c13452c",
   "metadata": {},
   "outputs": [],
   "source": [
    "num_pipeline = Pipeline([\n",
    "        ('imputer', SimpleImputer(strategy=\"median\")),\n",
    "        ('std_scaler', StandardScaler()),\n",
    "    ])"
   ]
  },
  {
   "cell_type": "code",
   "execution_count": 354,
   "id": "c9e27be4",
   "metadata": {},
   "outputs": [],
   "source": [
    "from sklearn.compose import ColumnTransformer\n",
    "\n",
    "full_pipeline = ColumnTransformer([\n",
    "        (\"num\", num_pipeline, num_attributes),\n",
    "        (\"cat\", OneHotEncoder(), cat_attributes),\n",
    "    ])"
   ]
  },
  {
   "cell_type": "code",
   "execution_count": 355,
   "id": "4fa38b6a",
   "metadata": {
    "scrolled": false
   },
   "outputs": [],
   "source": [
    "train_listings_prepared = full_pipeline.fit_transform(train_listings_cleaned)"
   ]
  },
  {
   "cell_type": "code",
   "execution_count": 356,
   "id": "346106b5",
   "metadata": {
    "scrolled": true
   },
   "outputs": [
    {
     "data": {
      "text/plain": [
       "(6052, 39)"
      ]
     },
     "execution_count": 356,
     "metadata": {},
     "output_type": "execute_result"
    }
   ],
   "source": [
    "train_listings_prepared.shape"
   ]
  },
  {
   "cell_type": "markdown",
   "id": "70654f1c",
   "metadata": {},
   "source": [
    "## Get and refine train data"
   ]
  },
  {
   "cell_type": "code",
   "execution_count": 357,
   "id": "cf5e104a",
   "metadata": {},
   "outputs": [
    {
     "name": "stdout",
     "output_type": "stream",
     "text": [
      "<class 'pandas.core.frame.DataFrame'>\n",
      "RangeIndex: 1514 entries, 0 to 1513\n",
      "Data columns (total 49 columns):\n",
      " #   Column                                        Non-Null Count  Dtype  \n",
      "---  ------                                        --------------  -----  \n",
      " 0   Unnamed: 0                                    1514 non-null   int64  \n",
      " 1   id                                            1514 non-null   int64  \n",
      " 2   description                                   1476 non-null   object \n",
      " 3   neighborhood_overview                         850 non-null    object \n",
      " 4   host_since                                    1514 non-null   object \n",
      " 5   host_response_time                            815 non-null    object \n",
      " 6   host_response_rate                            815 non-null    object \n",
      " 7   host_acceptance_rate                          864 non-null    object \n",
      " 8   host_is_superhost                             1514 non-null   object \n",
      " 9   host_neighbourhood                            1056 non-null   object \n",
      " 10  host_listings_count                           1514 non-null   int64  \n",
      " 11  host_total_listings_count                     1514 non-null   int64  \n",
      " 12  host_verifications                            1514 non-null   object \n",
      " 13  host_has_profile_pic                          1514 non-null   object \n",
      " 14  host_identity_verified                        1514 non-null   object \n",
      " 15  neighbourhood                                 850 non-null    object \n",
      " 16  neighbourhood_cleansed                        1514 non-null   object \n",
      " 17  latitude                                      1514 non-null   float64\n",
      " 18  longitude                                     1514 non-null   float64\n",
      " 19  property_type                                 1514 non-null   object \n",
      " 20  room_type                                     1514 non-null   object \n",
      " 21  accommodates                                  1514 non-null   int64  \n",
      " 22  bedrooms                                      1464 non-null   float64\n",
      " 23  beds                                          1498 non-null   float64\n",
      " 24  amenities                                     1514 non-null   object \n",
      " 25  price                                         1514 non-null   float64\n",
      " 26  minimum_nights                                1514 non-null   int64  \n",
      " 27  maximum_nights                                1514 non-null   int64  \n",
      " 28  availability_30                               1514 non-null   int64  \n",
      " 29  availability_60                               1514 non-null   int64  \n",
      " 30  availability_90                               1514 non-null   int64  \n",
      " 31  availability_365                              1514 non-null   int64  \n",
      " 32  number_of_reviews                             1514 non-null   int64  \n",
      " 33  number_of_reviews_ltm                         1514 non-null   int64  \n",
      " 34  number_of_reviews_l30d                        1514 non-null   int64  \n",
      " 35  last_review                                   1239 non-null   object \n",
      " 36  review_scores_rating                          1239 non-null   float64\n",
      " 37  review_scores_accuracy                        1223 non-null   float64\n",
      " 38  review_scores_cleanliness                     1223 non-null   float64\n",
      " 39  review_scores_checkin                         1221 non-null   float64\n",
      " 40  review_scores_communication                   1223 non-null   float64\n",
      " 41  review_scores_location                        1221 non-null   float64\n",
      " 42  review_scores_value                           1220 non-null   float64\n",
      " 43  instant_bookable                              1514 non-null   object \n",
      " 44  calculated_host_listings_count                1514 non-null   int64  \n",
      " 45  calculated_host_listings_count_entire_homes   1514 non-null   int64  \n",
      " 46  calculated_host_listings_count_private_rooms  1514 non-null   int64  \n",
      " 47  calculated_host_listings_count_shared_rooms   1514 non-null   int64  \n",
      " 48  reviews_per_month                             1239 non-null   float64\n",
      "dtypes: float64(13), int64(18), object(18)\n",
      "memory usage: 579.7+ KB\n"
     ]
    }
   ],
   "source": [
    "test_listings = pd.read_csv('test_listing_data')\n",
    "test_listings.info()"
   ]
  },
  {
   "cell_type": "code",
   "execution_count": 358,
   "id": "f1f110ad",
   "metadata": {},
   "outputs": [
    {
     "name": "stdout",
     "output_type": "stream",
     "text": [
      "<class 'pandas.core.frame.DataFrame'>\n",
      "RangeIndex: 1514 entries, 0 to 1513\n",
      "Data columns (total 43 columns):\n",
      " #   Column                                        Non-Null Count  Dtype  \n",
      "---  ------                                        --------------  -----  \n",
      " 0   Unnamed: 0                                    1514 non-null   int64  \n",
      " 1   id                                            1514 non-null   int64  \n",
      " 2   description                                   1476 non-null   object \n",
      " 3   neighborhood_overview                         850 non-null    object \n",
      " 4   host_since                                    1514 non-null   object \n",
      " 5   host_response_time                            815 non-null    object \n",
      " 6   host_response_rate                            815 non-null    object \n",
      " 7   host_acceptance_rate                          864 non-null    object \n",
      " 8   host_is_superhost                             1514 non-null   object \n",
      " 9   host_neighbourhood                            1056 non-null   object \n",
      " 10  host_listings_count                           1514 non-null   int64  \n",
      " 11  host_total_listings_count                     1514 non-null   int64  \n",
      " 12  host_verifications                            1514 non-null   object \n",
      " 13  host_has_profile_pic                          1514 non-null   object \n",
      " 14  host_identity_verified                        1514 non-null   object \n",
      " 15  neighbourhood                                 850 non-null    object \n",
      " 16  neighbourhood_cleansed                        1514 non-null   object \n",
      " 17  latitude                                      1514 non-null   float64\n",
      " 18  longitude                                     1514 non-null   float64\n",
      " 19  property_type                                 1514 non-null   object \n",
      " 20  room_type                                     1514 non-null   object \n",
      " 21  accommodates                                  1514 non-null   int64  \n",
      " 22  bedrooms                                      1464 non-null   float64\n",
      " 23  beds                                          1498 non-null   float64\n",
      " 24  amenities                                     1514 non-null   object \n",
      " 25  price                                         1514 non-null   float64\n",
      " 26  minimum_nights                                1514 non-null   int64  \n",
      " 27  maximum_nights                                1514 non-null   int64  \n",
      " 28  availability_30                               1514 non-null   int64  \n",
      " 29  availability_60                               1514 non-null   int64  \n",
      " 30  availability_90                               1514 non-null   int64  \n",
      " 31  availability_365                              1514 non-null   int64  \n",
      " 32  number_of_reviews                             1514 non-null   int64  \n",
      " 33  number_of_reviews_ltm                         1514 non-null   int64  \n",
      " 34  number_of_reviews_l30d                        1514 non-null   int64  \n",
      " 35  last_review                                   1239 non-null   object \n",
      " 36  review_scores_cleanliness                     1223 non-null   float64\n",
      " 37  instant_bookable                              1514 non-null   object \n",
      " 38  calculated_host_listings_count                1514 non-null   int64  \n",
      " 39  calculated_host_listings_count_entire_homes   1514 non-null   int64  \n",
      " 40  calculated_host_listings_count_private_rooms  1514 non-null   int64  \n",
      " 41  calculated_host_listings_count_shared_rooms   1514 non-null   int64  \n",
      " 42  reviews_per_month                             1239 non-null   float64\n",
      "dtypes: float64(7), int64(18), object(18)\n",
      "memory usage: 508.7+ KB\n"
     ]
    }
   ],
   "source": [
    "r_rating_test = test_listings[\"review_scores_rating\"]\n",
    "r_accuracy_test = test_listings[\"review_scores_accuracy\"]\n",
    "r_chekin_test = test_listings[\"review_scores_checkin\"]\n",
    "r_communication_test = test_listings[\"review_scores_communication\"]\n",
    "r_location_test = test_listings[\"review_scores_location\"]\n",
    "r_value_test = test_listings[\"review_scores_value\"]\n",
    "\n",
    "y_values_to_be_dropped = [\"review_scores_rating\", \"review_scores_accuracy\", \"review_scores_checkin\",\n",
    "                         \"review_scores_communication\", \"review_scores_location\", \"review_scores_value\"]\n",
    "test_listings = test_listings.drop(y_values_to_be_dropped, axis = 1)\n",
    "test_listings.info()"
   ]
  },
  {
   "cell_type": "code",
   "execution_count": 359,
   "id": "60b3b775",
   "metadata": {},
   "outputs": [],
   "source": [
    "test_listings[\"host_response_rate\"] = test_listings[\"host_response_rate\"].fillna(\"0%\")\n",
    "test_listings[\"host_response_rate\"] = test_listings[\"host_response_rate\"].str.replace(\"%\", \"\").astype(int)\n",
    "test_listings[\"host_response_rate\"] = test_listings[\"host_response_rate\"].replace(0, np.NaN)\n",
    "host_response_time_median = test_listings[\"host_response_rate\"].median()\n",
    "test_listings[\"host_response_rate\"].fillna(host_response_time_median, inplace=True) # option 3"
   ]
  },
  {
   "cell_type": "code",
   "execution_count": 360,
   "id": "45bd5432",
   "metadata": {},
   "outputs": [],
   "source": [
    "test_listings[\"host_acceptance_rate\"] = test_listings[\"host_acceptance_rate\"].fillna(\"0%\")\n",
    "test_listings[\"host_acceptance_rate\"] = test_listings[\"host_acceptance_rate\"].str.replace(\"%\", \"\").astype(int)\n",
    "test_listings[\"host_acceptance_rate\"] = test_listings[\"host_acceptance_rate\"].replace(0, np.NaN)\n",
    "host_acceptance_rate_median = test_listings[\"host_acceptance_rate\"].median()\n",
    "test_listings[\"host_acceptance_rate\"].fillna(host_response_time_median, inplace=True) # option 3"
   ]
  },
  {
   "cell_type": "code",
   "execution_count": 361,
   "id": "947f7ea7",
   "metadata": {},
   "outputs": [
    {
     "name": "stdout",
     "output_type": "stream",
     "text": [
      "0     1278\n",
      "8       65\n",
      "1       47\n",
      "4       27\n",
      "7       17\n",
      "6       16\n",
      "2       15\n",
      "9        9\n",
      "15       6\n",
      "3        6\n",
      "14       5\n",
      "5        4\n",
      "18       4\n",
      "24       4\n",
      "13       3\n",
      "22       2\n",
      "16       2\n",
      "11       2\n",
      "12       1\n",
      "10       1\n",
      "Name: neighbourhood, dtype: int64\n"
     ]
    }
   ],
   "source": [
    "test_listings_cleaned = transform_columns(test_listings)"
   ]
  },
  {
   "cell_type": "code",
   "execution_count": 362,
   "id": "a8449bb6",
   "metadata": {
    "scrolled": true
   },
   "outputs": [
    {
     "name": "stdout",
     "output_type": "stream",
     "text": [
      "<class 'pandas.core.frame.DataFrame'>\n",
      "RangeIndex: 1514 entries, 0 to 1513\n",
      "Data columns (total 45 columns):\n",
      " #   Column                                        Non-Null Count  Dtype  \n",
      "---  ------                                        --------------  -----  \n",
      " 0   Unnamed: 0                                    1514 non-null   int64  \n",
      " 1   id                                            1514 non-null   int64  \n",
      " 2   description                                   1476 non-null   object \n",
      " 3   neighborhood_overview                         850 non-null    object \n",
      " 4   host_since                                    1514 non-null   object \n",
      " 5   host_response_time                            1514 non-null   object \n",
      " 6   host_response_rate                            1514 non-null   float64\n",
      " 7   host_acceptance_rate                          1514 non-null   float64\n",
      " 8   host_is_superhost                             1514 non-null   int32  \n",
      " 9   host_neighbourhood                            1056 non-null   object \n",
      " 10  host_listings_count                           1514 non-null   int64  \n",
      " 11  host_total_listings_count                     1514 non-null   int64  \n",
      " 12  host_verifications                            1514 non-null   object \n",
      " 13  host_has_profile_pic                          1514 non-null   int32  \n",
      " 14  host_identity_verified                        1514 non-null   int32  \n",
      " 15  neighbourhood                                 1514 non-null   object \n",
      " 16  neighbourhood_cleansed                        1514 non-null   object \n",
      " 17  latitude                                      1514 non-null   float64\n",
      " 18  longitude                                     1514 non-null   float64\n",
      " 19  property_type                                 1514 non-null   object \n",
      " 20  room_type                                     1514 non-null   object \n",
      " 21  accommodates                                  1514 non-null   int64  \n",
      " 22  bedrooms                                      1464 non-null   float64\n",
      " 23  beds                                          1498 non-null   float64\n",
      " 24  amenities                                     1514 non-null   int32  \n",
      " 25  price                                         1514 non-null   float64\n",
      " 26  minimum_nights                                1514 non-null   int64  \n",
      " 27  maximum_nights                                1514 non-null   int64  \n",
      " 28  availability_30                               1514 non-null   int64  \n",
      " 29  availability_60                               1514 non-null   int64  \n",
      " 30  availability_90                               1514 non-null   int64  \n",
      " 31  availability_365                              1514 non-null   int64  \n",
      " 32  number_of_reviews                             1514 non-null   int64  \n",
      " 33  number_of_reviews_ltm                         1514 non-null   int64  \n",
      " 34  number_of_reviews_l30d                        1514 non-null   int64  \n",
      " 35  last_review                                   1239 non-null   object \n",
      " 36  review_scores_cleanliness                     1223 non-null   float64\n",
      " 37  instant_bookable                              1514 non-null   int32  \n",
      " 38  calculated_host_listings_count                1514 non-null   int64  \n",
      " 39  calculated_host_listings_count_entire_homes   1514 non-null   int64  \n",
      " 40  calculated_host_listings_count_private_rooms  1514 non-null   int64  \n",
      " 41  calculated_host_listings_count_shared_rooms   1514 non-null   int64  \n",
      " 42  reviews_per_month                             1239 non-null   float64\n",
      " 43  new_date                                      1514 non-null   int64  \n",
      " 44  days_since_last_review                        1239 non-null   float64\n",
      "dtypes: float64(10), int32(5), int64(19), object(11)\n",
      "memory usage: 502.8+ KB\n"
     ]
    }
   ],
   "source": [
    "test_listings_cleaned.info()"
   ]
  },
  {
   "cell_type": "code",
   "execution_count": 363,
   "id": "8ff4a9a0",
   "metadata": {
    "scrolled": true
   },
   "outputs": [],
   "source": [
    "test_listings_cleaned = test_listings_cleaned.drop(columns_to_be_modified_and_then_dropped, axis=1)"
   ]
  },
  {
   "cell_type": "code",
   "execution_count": 364,
   "id": "5f68d3f9",
   "metadata": {},
   "outputs": [],
   "source": [
    "test_listings_cleaned = test_listings_cleaned.drop(columns_to_be_dropped_listings, axis=1)"
   ]
  },
  {
   "cell_type": "markdown",
   "id": "2c335b14",
   "metadata": {},
   "source": [
    "## remove categorical columns"
   ]
  },
  {
   "cell_type": "code",
   "execution_count": 365,
   "id": "7f47ec24",
   "metadata": {},
   "outputs": [],
   "source": [
    "#test_listings_cleaned = test_listings_cleaned.drop(cat_attributes, axis=1)"
   ]
  },
  {
   "cell_type": "markdown",
   "id": "9073565f",
   "metadata": {},
   "source": [
    "## remove categorical columns"
   ]
  },
  {
   "cell_type": "code",
   "execution_count": 366,
   "id": "4d938026",
   "metadata": {
    "scrolled": true
   },
   "outputs": [
    {
     "name": "stdout",
     "output_type": "stream",
     "text": [
      "<class 'pandas.core.frame.DataFrame'>\n",
      "RangeIndex: 1514 entries, 0 to 1513\n",
      "Data columns (total 29 columns):\n",
      " #   Column                          Non-Null Count  Dtype  \n",
      "---  ------                          --------------  -----  \n",
      " 0   host_response_time              1514 non-null   object \n",
      " 1   host_response_rate              1514 non-null   float64\n",
      " 2   host_acceptance_rate            1514 non-null   float64\n",
      " 3   host_is_superhost               1514 non-null   int32  \n",
      " 4   host_listings_count             1514 non-null   int64  \n",
      " 5   host_total_listings_count       1514 non-null   int64  \n",
      " 6   host_has_profile_pic            1514 non-null   int32  \n",
      " 7   host_identity_verified          1514 non-null   int32  \n",
      " 8   neighbourhood                   1514 non-null   object \n",
      " 9   neighbourhood_cleansed          1514 non-null   object \n",
      " 10  latitude                        1514 non-null   float64\n",
      " 11  longitude                       1514 non-null   float64\n",
      " 12  room_type                       1514 non-null   object \n",
      " 13  accommodates                    1514 non-null   int64  \n",
      " 14  bedrooms                        1464 non-null   float64\n",
      " 15  beds                            1498 non-null   float64\n",
      " 16  amenities                       1514 non-null   int32  \n",
      " 17  price                           1514 non-null   float64\n",
      " 18  minimum_nights                  1514 non-null   int64  \n",
      " 19  availability_30                 1514 non-null   int64  \n",
      " 20  availability_60                 1514 non-null   int64  \n",
      " 21  number_of_reviews               1514 non-null   int64  \n",
      " 22  number_of_reviews_ltm           1514 non-null   int64  \n",
      " 23  number_of_reviews_l30d          1514 non-null   int64  \n",
      " 24  instant_bookable                1514 non-null   int32  \n",
      " 25  calculated_host_listings_count  1514 non-null   int64  \n",
      " 26  reviews_per_month               1239 non-null   float64\n",
      " 27  new_date                        1514 non-null   int64  \n",
      " 28  days_since_last_review          1239 non-null   float64\n",
      "dtypes: float64(9), int32(5), int64(11), object(4)\n",
      "memory usage: 313.6+ KB\n"
     ]
    }
   ],
   "source": [
    "test_listings_cleaned = test_listings_cleaned.drop(test_listings_cleaned.columns[0], axis=1)\n",
    "test_listings_cleaned.info()"
   ]
  },
  {
   "cell_type": "code",
   "execution_count": 367,
   "id": "b56c6678",
   "metadata": {},
   "outputs": [],
   "source": [
    "test_listings_prepared = full_pipeline.fit_transform(test_listings_cleaned)"
   ]
  },
  {
   "cell_type": "code",
   "execution_count": 368,
   "id": "b32ae7bb",
   "metadata": {},
   "outputs": [
    {
     "data": {
      "text/plain": [
       "(1514, 39)"
      ]
     },
     "execution_count": 368,
     "metadata": {},
     "output_type": "execute_result"
    }
   ],
   "source": [
    "test_listings_prepared.shape"
   ]
  },
  {
   "cell_type": "markdown",
   "id": "590b2e21",
   "metadata": {},
   "source": [
    "# Train and test model"
   ]
  },
  {
   "cell_type": "code",
   "execution_count": 369,
   "id": "4987f4c3",
   "metadata": {},
   "outputs": [],
   "source": [
    "r_rating_cat_test = pd.cut(r_rating_test,\n",
    "                      bins=[0., 4., 4.5, 4.8, 4.95, 5],\n",
    "                      labels=[1, 2, 3, 4, 5])\n",
    "\n",
    "r_rating_cat_train = pd.cut(r_rating_train,\n",
    "                      bins=[0., 4., 4.5, 4.8, 4.95, 5],\n",
    "                      labels=[1, 2, 3, 4, 5])"
   ]
  },
  {
   "cell_type": "code",
   "execution_count": 370,
   "id": "52a458d7",
   "metadata": {},
   "outputs": [
    {
     "data": {
      "text/plain": [
       "<AxesSubplot:>"
      ]
     },
     "execution_count": 370,
     "metadata": {},
     "output_type": "execute_result"
    },
    {
     "data": {
      "image/png": "[encoded data removed]",
      "text/plain": [
       "<Figure size 432x288 with 1 Axes>"
      ]
     },
     "metadata": {
      "needs_background": "light"
     },
     "output_type": "display_data"
    }
   ],
   "source": [
    "r_rating_cat_test.hist()\n",
    "r_rating_cat_train.hist()"
   ]
  },
  {
   "cell_type": "code",
   "execution_count": 371,
   "id": "3f94ab22",
   "metadata": {},
   "outputs": [],
   "source": [
    "from sklearn import preprocessing\n",
    "from sklearn import utils\n",
    "\n",
    "#convert y values to categorical values\n",
    "lab = preprocessing.LabelEncoder()\n",
    "ratings_transformed_test = lab.fit_transform(r_rating_cat_test)\n",
    "ratings_transformed_train = lab.fit_transform(r_rating_cat_train)"
   ]
  },
  {
   "cell_type": "code",
   "execution_count": 372,
   "id": "f54c8661",
   "metadata": {},
   "outputs": [
    {
     "name": "stdout",
     "output_type": "stream",
     "text": [
      "98.84%\n"
     ]
    }
   ],
   "source": [
    "from sklearn.ensemble import RandomForestClassifier\n",
    "from sklearn.metrics import accuracy_score\n",
    "classifier3 = RandomForestClassifier(n_estimators = 10, criterion = 'entropy', random_state = 42)\n",
    "\n",
    "classifier3.fit(train_listings_prepared, ratings_transformed_train)\n",
    "y_pred_train = classifier3.predict(train_listings_prepared)\n",
    "acc = accuracy_score(y_pred_train, ratings_transformed_train)\n",
    "print(round(acc*100, 2), \"%\", sep=\"\")"
   ]
  },
  {
   "cell_type": "code",
   "execution_count": 373,
   "id": "def87676",
   "metadata": {},
   "outputs": [
    {
     "name": "stdout",
     "output_type": "stream",
     "text": [
      "48.55%\n"
     ]
    }
   ],
   "source": [
    "y_pred_test = classifier3.predict(test_listings_prepared)\n",
    "acc = accuracy_score(y_pred_test, ratings_transformed_test)\n",
    "print(round(acc*100, 2), \"%\", sep=\"\")"
   ]
  },
  {
   "cell_type": "code",
   "execution_count": 374,
   "id": "e7c5ef28",
   "metadata": {},
   "outputs": [
    {
     "name": "stdout",
     "output_type": "stream",
     "text": [
      "20.15%\n"
     ]
    }
   ],
   "source": [
    "from sklearn.dummy import DummyClassifier\n",
    "\n",
    "\n",
    "clf = DummyClassifier(strategy='stratified')\n",
    "clf.fit(train_listings_prepared, ratings_transformed_train)\n",
    "y_pred_dummy = clf.predict(test_listings_prepared)\n",
    "acc = accuracy_score(y_pred_dummy, ratings_transformed_test)\n",
    "print(round(acc*100, 2), \"%\", sep=\"\")"
   ]
  },
  {
   "cell_type": "code",
   "execution_count": null,
   "id": "b0e0f908",
   "metadata": {},
   "outputs": [],
   "source": []
  },
  {
   "cell_type": "code",
   "execution_count": null,
   "id": "cba51d72",
   "metadata": {},
   "outputs": [],
   "source": []
  }
 ],
 "metadata": {
  "kernelspec": {
   "display_name": "Python 3 (ipykernel)",
   "language": "python",
   "name": "python3"
  },
  "language_info": {
   "codemirror_mode": {
    "name": "ipython",
    "version": 3
   },
   "file_extension": ".py",
   "mimetype": "text/x-python",
   "name": "python",
   "nbconvert_exporter": "python",
   "pygments_lexer": "ipython3",
   "version": "3.9.12"
  }
 },
 "nbformat": 4,
 "nbformat_minor": 5
}
