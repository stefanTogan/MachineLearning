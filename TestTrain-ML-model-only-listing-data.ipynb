{
 "cells": [
  {
   "cell_type": "code",
   "execution_count": 49,
   "id": "a53a3ac7",
   "metadata": {},
   "outputs": [],
   "source": [
    "import numpy as np\n",
    "import pandas as pd\n",
    "import matplotlib.pyplot as plt\n",
    "import matplotlib\n",
    "import seaborn as sns"
   ]
  },
  {
   "cell_type": "markdown",
   "id": "24d2b3a5",
   "metadata": {},
   "source": [
    "## Get and refine train data"
   ]
  },
  {
   "cell_type": "code",
   "execution_count": 50,
   "id": "4578ed2e",
   "metadata": {},
   "outputs": [
    {
     "name": "stdout",
     "output_type": "stream",
     "text": [
      "<class 'pandas.core.frame.DataFrame'>\n",
      "RangeIndex: 6052 entries, 0 to 6051\n",
      "Data columns (total 49 columns):\n",
      " #   Column                                        Non-Null Count  Dtype  \n",
      "---  ------                                        --------------  -----  \n",
      " 0   Unnamed: 0                                    6052 non-null   int64  \n",
      " 1   id                                            6052 non-null   int64  \n",
      " 2   description                                   5935 non-null   object \n",
      " 3   neighborhood_overview                         3344 non-null   object \n",
      " 4   host_since                                    6052 non-null   object \n",
      " 5   host_response_time                            3117 non-null   object \n",
      " 6   host_response_rate                            3117 non-null   object \n",
      " 7   host_acceptance_rate                          3327 non-null   object \n",
      " 8   host_is_superhost                             6052 non-null   object \n",
      " 9   host_neighbourhood                            4178 non-null   object \n",
      " 10  host_listings_count                           6052 non-null   int64  \n",
      " 11  host_total_listings_count                     6052 non-null   int64  \n",
      " 12  host_verifications                            6052 non-null   object \n",
      " 13  host_has_profile_pic                          6052 non-null   object \n",
      " 14  host_identity_verified                        6052 non-null   object \n",
      " 15  neighbourhood                                 3344 non-null   object \n",
      " 16  neighbourhood_cleansed                        6052 non-null   object \n",
      " 17  latitude                                      6052 non-null   float64\n",
      " 18  longitude                                     6052 non-null   float64\n",
      " 19  property_type                                 6052 non-null   object \n",
      " 20  room_type                                     6052 non-null   object \n",
      " 21  accommodates                                  6052 non-null   int64  \n",
      " 22  bedrooms                                      5897 non-null   float64\n",
      " 23  beds                                          5974 non-null   float64\n",
      " 24  amenities                                     6052 non-null   object \n",
      " 25  price                                         6052 non-null   float64\n",
      " 26  minimum_nights                                6052 non-null   int64  \n",
      " 27  maximum_nights                                6052 non-null   int64  \n",
      " 28  availability_30                               6052 non-null   int64  \n",
      " 29  availability_60                               6052 non-null   int64  \n",
      " 30  availability_90                               6052 non-null   int64  \n",
      " 31  availability_365                              6052 non-null   int64  \n",
      " 32  number_of_reviews                             6052 non-null   int64  \n",
      " 33  number_of_reviews_ltm                         6052 non-null   int64  \n",
      " 34  number_of_reviews_l30d                        6052 non-null   int64  \n",
      " 35  last_review                                   4970 non-null   object \n",
      " 36  review_scores_rating                          4970 non-null   float64\n",
      " 37  review_scores_accuracy                        4862 non-null   float64\n",
      " 38  review_scores_cleanliness                     4863 non-null   float64\n",
      " 39  review_scores_checkin                         4860 non-null   float64\n",
      " 40  review_scores_communication                   4862 non-null   float64\n",
      " 41  review_scores_location                        4860 non-null   float64\n",
      " 42  review_scores_value                           4859 non-null   float64\n",
      " 43  instant_bookable                              6052 non-null   object \n",
      " 44  calculated_host_listings_count                6052 non-null   int64  \n",
      " 45  calculated_host_listings_count_entire_homes   6052 non-null   int64  \n",
      " 46  calculated_host_listings_count_private_rooms  6052 non-null   int64  \n",
      " 47  calculated_host_listings_count_shared_rooms   6052 non-null   int64  \n",
      " 48  reviews_per_month                             4970 non-null   float64\n",
      "dtypes: float64(13), int64(18), object(18)\n",
      "memory usage: 2.3+ MB\n"
     ]
    }
   ],
   "source": [
    "train_listings = pd.read_csv('train_listing_data')\n",
    "train_listings.info()"
   ]
  },
  {
   "cell_type": "code",
   "execution_count": 51,
   "id": "93bfa8da",
   "metadata": {},
   "outputs": [],
   "source": [
    "#train_listings = train_listings[train_listings['review_scores_rating'].notna()]"
   ]
  },
  {
   "cell_type": "code",
   "execution_count": 52,
   "id": "a9114fb7",
   "metadata": {},
   "outputs": [
    {
     "name": "stdout",
     "output_type": "stream",
     "text": [
      "<class 'pandas.core.frame.DataFrame'>\n",
      "Int64Index: 4970 entries, 1 to 6051\n",
      "Data columns (total 43 columns):\n",
      " #   Column                                        Non-Null Count  Dtype  \n",
      "---  ------                                        --------------  -----  \n",
      " 0   Unnamed: 0                                    4970 non-null   int64  \n",
      " 1   id                                            4970 non-null   int64  \n",
      " 2   description                                   4886 non-null   object \n",
      " 3   neighborhood_overview                         2931 non-null   object \n",
      " 4   host_since                                    4970 non-null   object \n",
      " 5   host_response_time                            2682 non-null   object \n",
      " 6   host_response_rate                            2682 non-null   object \n",
      " 7   host_acceptance_rate                          2878 non-null   object \n",
      " 8   host_is_superhost                             4970 non-null   object \n",
      " 9   host_neighbourhood                            3441 non-null   object \n",
      " 10  host_listings_count                           4970 non-null   int64  \n",
      " 11  host_total_listings_count                     4970 non-null   int64  \n",
      " 12  host_verifications                            4970 non-null   object \n",
      " 13  host_has_profile_pic                          4970 non-null   object \n",
      " 14  host_identity_verified                        4970 non-null   object \n",
      " 15  neighbourhood                                 2931 non-null   object \n",
      " 16  neighbourhood_cleansed                        4970 non-null   object \n",
      " 17  latitude                                      4970 non-null   float64\n",
      " 18  longitude                                     4970 non-null   float64\n",
      " 19  property_type                                 4970 non-null   object \n",
      " 20  room_type                                     4970 non-null   object \n",
      " 21  accommodates                                  4970 non-null   int64  \n",
      " 22  bedrooms                                      4845 non-null   float64\n",
      " 23  beds                                          4913 non-null   float64\n",
      " 24  amenities                                     4970 non-null   object \n",
      " 25  price                                         4970 non-null   float64\n",
      " 26  minimum_nights                                4970 non-null   int64  \n",
      " 27  maximum_nights                                4970 non-null   int64  \n",
      " 28  availability_30                               4970 non-null   int64  \n",
      " 29  availability_60                               4970 non-null   int64  \n",
      " 30  availability_90                               4970 non-null   int64  \n",
      " 31  availability_365                              4970 non-null   int64  \n",
      " 32  number_of_reviews                             4970 non-null   int64  \n",
      " 33  number_of_reviews_ltm                         4970 non-null   int64  \n",
      " 34  number_of_reviews_l30d                        4970 non-null   int64  \n",
      " 35  last_review                                   4970 non-null   object \n",
      " 36  review_scores_cleanliness                     4863 non-null   float64\n",
      " 37  instant_bookable                              4970 non-null   object \n",
      " 38  calculated_host_listings_count                4970 non-null   int64  \n",
      " 39  calculated_host_listings_count_entire_homes   4970 non-null   int64  \n",
      " 40  calculated_host_listings_count_private_rooms  4970 non-null   int64  \n",
      " 41  calculated_host_listings_count_shared_rooms   4970 non-null   int64  \n",
      " 42  reviews_per_month                             4970 non-null   float64\n",
      "dtypes: float64(7), int64(18), object(18)\n",
      "memory usage: 1.7+ MB\n"
     ]
    }
   ],
   "source": [
    "r_rating_train = train_listings[\"review_scores_rating\"]\n",
    "r_accuracy_train = train_listings[\"review_scores_accuracy\"]\n",
    "r_chekin_train = train_listings[\"review_scores_checkin\"]\n",
    "r_communication_train = train_listings[\"review_scores_communication\"]\n",
    "r_location_train = train_listings[\"review_scores_location\"]\n",
    "r_value_train = train_listings[\"review_scores_value\"]\n",
    "\n",
    "y_values_to_be_dropped = [\"review_scores_rating\", \"review_scores_accuracy\", \"review_scores_checkin\",\n",
    "                         \"review_scores_communication\", \"review_scores_location\", \"review_scores_value\"]\n",
    "train_listings = train_listings.drop(y_values_to_be_dropped, axis = 1)\n",
    "train_listings.info()"
   ]
  },
  {
   "cell_type": "code",
   "execution_count": 53,
   "id": "e01b1a23",
   "metadata": {},
   "outputs": [],
   "source": [
    "columns_to_be_dropped_listings = ['id', 'review_scores_cleanliness',\n",
    "                                 'calculated_host_listings_count_entire_homes', 'calculated_host_listings_count_private_rooms',\n",
    "                                 'calculated_host_listings_count_shared_rooms', 'description', 'neighborhood_overview', 'host_neighbourhood',\n",
    "                                  'maximum_nights', 'availability_90', 'availability_365', \"property_type\", \"host_verifications\"]"
   ]
  },
  {
   "cell_type": "code",
   "execution_count": 54,
   "id": "69ac55cb",
   "metadata": {},
   "outputs": [],
   "source": [
    "columns_to_be_modified_and_then_dropped = ['host_since',  'last_review']"
   ]
  },
  {
   "cell_type": "code",
   "execution_count": 55,
   "id": "72c3c2de",
   "metadata": {
    "scrolled": true
   },
   "outputs": [],
   "source": [
    "train_listings[\"host_response_rate\"] = train_listings[\"host_response_rate\"].fillna(\"0%\")\n",
    "train_listings[\"host_response_rate\"] = train_listings[\"host_response_rate\"].str.replace(\"%\", \"\")\n",
    "train_listings[\"host_response_rate\"] = train_listings[\"host_response_rate\"].astype(int)\n",
    "train_listings[\"host_response_rate\"] = train_listings[\"host_response_rate\"].replace(0, np.NaN)\n",
    "host_response_time_median = train_listings[\"host_response_rate\"].median()\n",
    "train_listings[\"host_response_rate\"].fillna(host_response_time_median, inplace=True) # option 3"
   ]
  },
  {
   "cell_type": "code",
   "execution_count": 56,
   "id": "0d68b7d0",
   "metadata": {},
   "outputs": [],
   "source": [
    "train_listings[\"host_acceptance_rate\"] = train_listings[\"host_acceptance_rate\"].fillna(\"0%\")\n",
    "train_listings[\"host_acceptance_rate\"] = train_listings[\"host_acceptance_rate\"].str.replace(\"%\", \"\").astype(int)\n",
    "train_listings[\"host_acceptance_rate\"] = train_listings[\"host_acceptance_rate\"].replace(0, np.NaN)\n",
    "host_acceptance_rate_median = train_listings[\"host_acceptance_rate\"].median()\n",
    "train_listings[\"host_acceptance_rate\"].fillna(host_response_time_median, inplace=True) # option 3"
   ]
  },
  {
   "cell_type": "code",
   "execution_count": 57,
   "id": "6ee44017",
   "metadata": {},
   "outputs": [],
   "source": [
    "import datetime\n",
    "def contains_number(string):\n",
    "    return any(char.isdigit() for char in string)\n",
    "\n",
    "def transform_columns(original_df):\n",
    "    now = datetime.datetime.now()\n",
    "    \n",
    "    #host_since\n",
    "    original_df['new_date'] = pd.to_datetime(original_df['host_since'].astype(str), format='%Y-%m-%d')\n",
    "    original_df['new_date'] = now - original_df['new_date']\n",
    "    original_df['new_date'] = original_df['new_date'].dt.days\n",
    "    \n",
    "    #host_response_time\n",
    "    original_df[\"host_response_time\"].fillna(\"unknown\", inplace  = True)\n",
    "    \n",
    "    #host_is_superhost\n",
    "    original_df[\"host_is_superhost\"] = (original_df[\"host_is_superhost\"] == 't').astype(int)\n",
    "    \n",
    "    #host_has_profile_pic\n",
    "    original_df[\"host_has_profile_pic\"] = (original_df[\"host_has_profile_pic\"] == 't').astype(int)\n",
    "    \n",
    "    #host_identity_verified\n",
    "    original_df[\"host_identity_verified\"] = (original_df[\"host_identity_verified\"] == 't').astype(int)\n",
    "    \n",
    "    #neighbourhood \n",
    "    original_df[\"neighbourhood\"] = original_df[\"neighbourhood\"].str.replace(\", Ireland\", \"\")\n",
    "    original_df[\"neighbourhood\"] = original_df[\"neighbourhood\"].str.replace(\", County\", \"\")\n",
    "    original_df[\"neighbourhood\"] = original_df[\"neighbourhood\"].str.replace(\"Ireland\", \"\")\n",
    "    original_df[\"neighbourhood\"] = original_df[\"neighbourhood\"].str.replace(\"Dublin\", \"\")\n",
    "    \n",
    "    for index, row in original_df.iterrows():\n",
    "        txt = row[\"neighbourhood\"]\n",
    "        num = 0\n",
    "        if contains_number(str(txt)):\n",
    "            num_list = [int(s) for s in str(txt).split() if s.isdigit()]\n",
    "            num = int(num_list[0]) if len(num_list) >= 1 else 0\n",
    "           \n",
    "        original_df.at[index, \"neighbourhood\"] = num   \n",
    "    print(original_df[\"neighbourhood\"].value_counts())\n",
    "    #amenities\n",
    "    for index, row in original_df.iterrows():\n",
    "        lst = row[\"amenities\"]\n",
    "        original_df.at[index, \"amenities\"] = int(len(lst))\n",
    "    \n",
    "    original_df[\"\"] = original_df[\"amenities\"].astype(int)\n",
    "    \n",
    "    #last_review\n",
    "    original_df['days_since_last_review'] = pd.to_datetime(original_df['last_review'].astype(str), format='%Y-%m-%d')\n",
    "    original_df['days_since_last_review'] = now - original_df['days_since_last_review']\n",
    "    original_df['days_since_last_review'] = original_df['days_since_last_review'].dt.days\n",
    "    \n",
    "    #instant bookable\n",
    "    original_df[\"instant_bookable\"] = (original_df[\"instant_bookable\"] == 't').astype(int)\n",
    "    #host_is_superhost\n",
    "    return original_df"
   ]
  },
  {
   "cell_type": "code",
   "execution_count": 58,
   "id": "1bfa9bb6",
   "metadata": {
    "scrolled": true
   },
   "outputs": [
    {
     "name": "stdout",
     "output_type": "stream",
     "text": [
      "0     4086\n",
      "8      210\n",
      "1      158\n",
      "4       88\n",
      "7       78\n",
      "6       73\n",
      "2       73\n",
      "13      31\n",
      "14      23\n",
      "3       23\n",
      "5       22\n",
      "9       18\n",
      "18      16\n",
      "10      13\n",
      "16      12\n",
      "11      11\n",
      "15      11\n",
      "22       9\n",
      "24       7\n",
      "12       6\n",
      "20       1\n",
      "17       1\n",
      "Name: neighbourhood, dtype: int64\n"
     ]
    }
   ],
   "source": [
    "train_listings_cleaned = transform_columns(train_listings)"
   ]
  },
  {
   "cell_type": "markdown",
   "id": "021c1b01",
   "metadata": {},
   "source": [
    "### remove categorical columns"
   ]
  },
  {
   "cell_type": "code",
   "execution_count": 59,
   "id": "ec1c5d55",
   "metadata": {},
   "outputs": [],
   "source": [
    "#train_listings_cleaned = train_listings_cleaned.drop(cat_attributes, axis=1)"
   ]
  },
  {
   "cell_type": "markdown",
   "id": "a748d21c",
   "metadata": {},
   "source": [
    "### remove categorical columns"
   ]
  },
  {
   "cell_type": "code",
   "execution_count": 60,
   "id": "c01453de",
   "metadata": {
    "scrolled": true
   },
   "outputs": [],
   "source": [
    "train_listings_cleaned = train_listings_cleaned.drop(columns_to_be_modified_and_then_dropped, axis=1)"
   ]
  },
  {
   "cell_type": "code",
   "execution_count": 61,
   "id": "79372936",
   "metadata": {},
   "outputs": [],
   "source": [
    "train_listings_cleaned = train_listings_cleaned.drop(columns_to_be_dropped_listings, axis=1)"
   ]
  },
  {
   "cell_type": "code",
   "execution_count": 62,
   "id": "51a081de",
   "metadata": {
    "scrolled": true
   },
   "outputs": [
    {
     "name": "stdout",
     "output_type": "stream",
     "text": [
      "<class 'pandas.core.frame.DataFrame'>\n",
      "Int64Index: 4970 entries, 1 to 6051\n",
      "Data columns (total 30 columns):\n",
      " #   Column                          Non-Null Count  Dtype  \n",
      "---  ------                          --------------  -----  \n",
      " 0   host_response_time              4970 non-null   object \n",
      " 1   host_response_rate              4970 non-null   float64\n",
      " 2   host_acceptance_rate            4970 non-null   float64\n",
      " 3   host_is_superhost               4970 non-null   int32  \n",
      " 4   host_listings_count             4970 non-null   int64  \n",
      " 5   host_total_listings_count       4970 non-null   int64  \n",
      " 6   host_has_profile_pic            4970 non-null   int32  \n",
      " 7   host_identity_verified          4970 non-null   int32  \n",
      " 8   neighbourhood                   4970 non-null   object \n",
      " 9   neighbourhood_cleansed          4970 non-null   object \n",
      " 10  latitude                        4970 non-null   float64\n",
      " 11  longitude                       4970 non-null   float64\n",
      " 12  room_type                       4970 non-null   object \n",
      " 13  accommodates                    4970 non-null   int64  \n",
      " 14  bedrooms                        4845 non-null   float64\n",
      " 15  beds                            4913 non-null   float64\n",
      " 16  amenities                       4970 non-null   object \n",
      " 17  price                           4970 non-null   float64\n",
      " 18  minimum_nights                  4970 non-null   int64  \n",
      " 19  availability_30                 4970 non-null   int64  \n",
      " 20  availability_60                 4970 non-null   int64  \n",
      " 21  number_of_reviews               4970 non-null   int64  \n",
      " 22  number_of_reviews_ltm           4970 non-null   int64  \n",
      " 23  number_of_reviews_l30d          4970 non-null   int64  \n",
      " 24  instant_bookable                4970 non-null   int32  \n",
      " 25  calculated_host_listings_count  4970 non-null   int64  \n",
      " 26  reviews_per_month               4970 non-null   float64\n",
      " 27  new_date                        4970 non-null   int64  \n",
      " 28                                  4970 non-null   int32  \n",
      " 29  days_since_last_review          4970 non-null   int64  \n",
      "dtypes: float64(8), int32(5), int64(12), object(5)\n",
      "memory usage: 1.2+ MB\n"
     ]
    }
   ],
   "source": [
    "train_listings_cleaned = train_listings_cleaned.drop(train_listings_cleaned.columns[0], axis=1)\n",
    "train_listings_cleaned.info()"
   ]
  },
  {
   "cell_type": "code",
   "execution_count": 63,
   "id": "0ac2ef93",
   "metadata": {},
   "outputs": [],
   "source": [
    "cat_attributes = [\"host_response_time\", \"neighbourhood_cleansed\", \"room_type\"]\n",
    "num_attributes = list(train_listings_cleaned.drop(cat_attributes, axis=1))\n",
    "#num_attributes = list(train_listings_cleaned)"
   ]
  },
  {
   "cell_type": "code",
   "execution_count": 64,
   "id": "40c9b460",
   "metadata": {},
   "outputs": [],
   "source": [
    "from sklearn.pipeline import Pipeline\n",
    "from sklearn.preprocessing import StandardScaler\n",
    "from sklearn.impute import SimpleImputer\n",
    "from sklearn.preprocessing import OneHotEncoder\n",
    "from sklearn.preprocessing import OrdinalEncoder"
   ]
  },
  {
   "cell_type": "code",
   "execution_count": 65,
   "id": "3c13452c",
   "metadata": {},
   "outputs": [],
   "source": [
    "num_pipeline = Pipeline([\n",
    "        ('imputer', SimpleImputer(strategy=\"median\")),\n",
    "        ('std_scaler', StandardScaler()),\n",
    "    ])"
   ]
  },
  {
   "cell_type": "code",
   "execution_count": 66,
   "id": "c9e27be4",
   "metadata": {},
   "outputs": [],
   "source": [
    "from sklearn.compose import ColumnTransformer\n",
    "\n",
    "full_pipeline = ColumnTransformer([\n",
    "        (\"num\", num_pipeline, num_attributes),\n",
    "        (\"cat\", OneHotEncoder(), cat_attributes),\n",
    "    ])"
   ]
  },
  {
   "cell_type": "code",
   "execution_count": 67,
   "id": "4fa38b6a",
   "metadata": {
    "scrolled": false
   },
   "outputs": [],
   "source": [
    "train_listings_prepared = full_pipeline.fit_transform(train_listings_cleaned)"
   ]
  },
  {
   "cell_type": "code",
   "execution_count": 68,
   "id": "346106b5",
   "metadata": {
    "scrolled": true
   },
   "outputs": [
    {
     "data": {
      "text/plain": [
       "(4970, 40)"
      ]
     },
     "execution_count": 68,
     "metadata": {},
     "output_type": "execute_result"
    }
   ],
   "source": [
    "train_listings_prepared.shape"
   ]
  },
  {
   "cell_type": "markdown",
   "id": "70654f1c",
   "metadata": {},
   "source": [
    "## Get and refine train data"
   ]
  },
  {
   "cell_type": "code",
   "execution_count": 72,
   "id": "cf5e104a",
   "metadata": {
    "scrolled": true
   },
   "outputs": [
    {
     "name": "stdout",
     "output_type": "stream",
     "text": [
      "<class 'pandas.core.frame.DataFrame'>\n",
      "RangeIndex: 1514 entries, 0 to 1513\n",
      "Data columns (total 49 columns):\n",
      " #   Column                                        Non-Null Count  Dtype  \n",
      "---  ------                                        --------------  -----  \n",
      " 0   Unnamed: 0                                    1514 non-null   int64  \n",
      " 1   id                                            1514 non-null   int64  \n",
      " 2   description                                   1476 non-null   object \n",
      " 3   neighborhood_overview                         850 non-null    object \n",
      " 4   host_since                                    1514 non-null   object \n",
      " 5   host_response_time                            815 non-null    object \n",
      " 6   host_response_rate                            815 non-null    object \n",
      " 7   host_acceptance_rate                          864 non-null    object \n",
      " 8   host_is_superhost                             1514 non-null   object \n",
      " 9   host_neighbourhood                            1056 non-null   object \n",
      " 10  host_listings_count                           1514 non-null   int64  \n",
      " 11  host_total_listings_count                     1514 non-null   int64  \n",
      " 12  host_verifications                            1514 non-null   object \n",
      " 13  host_has_profile_pic                          1514 non-null   object \n",
      " 14  host_identity_verified                        1514 non-null   object \n",
      " 15  neighbourhood                                 850 non-null    object \n",
      " 16  neighbourhood_cleansed                        1514 non-null   object \n",
      " 17  latitude                                      1514 non-null   float64\n",
      " 18  longitude                                     1514 non-null   float64\n",
      " 19  property_type                                 1514 non-null   object \n",
      " 20  room_type                                     1514 non-null   object \n",
      " 21  accommodates                                  1514 non-null   int64  \n",
      " 22  bedrooms                                      1464 non-null   float64\n",
      " 23  beds                                          1498 non-null   float64\n",
      " 24  amenities                                     1514 non-null   object \n",
      " 25  price                                         1514 non-null   float64\n",
      " 26  minimum_nights                                1514 non-null   int64  \n",
      " 27  maximum_nights                                1514 non-null   int64  \n",
      " 28  availability_30                               1514 non-null   int64  \n",
      " 29  availability_60                               1514 non-null   int64  \n",
      " 30  availability_90                               1514 non-null   int64  \n",
      " 31  availability_365                              1514 non-null   int64  \n",
      " 32  number_of_reviews                             1514 non-null   int64  \n",
      " 33  number_of_reviews_ltm                         1514 non-null   int64  \n",
      " 34  number_of_reviews_l30d                        1514 non-null   int64  \n",
      " 35  last_review                                   1239 non-null   object \n",
      " 36  review_scores_rating                          1239 non-null   float64\n",
      " 37  review_scores_accuracy                        1223 non-null   float64\n",
      " 38  review_scores_cleanliness                     1223 non-null   float64\n",
      " 39  review_scores_checkin                         1221 non-null   float64\n",
      " 40  review_scores_communication                   1223 non-null   float64\n",
      " 41  review_scores_location                        1221 non-null   float64\n",
      " 42  review_scores_value                           1220 non-null   float64\n",
      " 43  instant_bookable                              1514 non-null   object \n",
      " 44  calculated_host_listings_count                1514 non-null   int64  \n",
      " 45  calculated_host_listings_count_entire_homes   1514 non-null   int64  \n",
      " 46  calculated_host_listings_count_private_rooms  1514 non-null   int64  \n",
      " 47  calculated_host_listings_count_shared_rooms   1514 non-null   int64  \n",
      " 48  reviews_per_month                             1239 non-null   float64\n",
      "dtypes: float64(13), int64(18), object(18)\n",
      "memory usage: 579.7+ KB\n"
     ]
    }
   ],
   "source": [
    "test_listings = pd.read_csv('test_listing_data')\n",
    "test_listings.info()"
   ]
  },
  {
   "cell_type": "code",
   "execution_count": 73,
   "id": "a190250e",
   "metadata": {},
   "outputs": [],
   "source": [
    "#test_listings = test_listings[test_listings['review_scores_rating'].notna()]"
   ]
  },
  {
   "cell_type": "code",
   "execution_count": 74,
   "id": "f1f110ad",
   "metadata": {},
   "outputs": [
    {
     "name": "stdout",
     "output_type": "stream",
     "text": [
      "<class 'pandas.core.frame.DataFrame'>\n",
      "Int64Index: 1239 entries, 0 to 1513\n",
      "Data columns (total 43 columns):\n",
      " #   Column                                        Non-Null Count  Dtype  \n",
      "---  ------                                        --------------  -----  \n",
      " 0   Unnamed: 0                                    1239 non-null   int64  \n",
      " 1   id                                            1239 non-null   int64  \n",
      " 2   description                                   1216 non-null   object \n",
      " 3   neighborhood_overview                         754 non-null    object \n",
      " 4   host_since                                    1239 non-null   object \n",
      " 5   host_response_time                            682 non-null    object \n",
      " 6   host_response_rate                            682 non-null    object \n",
      " 7   host_acceptance_rate                          727 non-null    object \n",
      " 8   host_is_superhost                             1239 non-null   object \n",
      " 9   host_neighbourhood                            862 non-null    object \n",
      " 10  host_listings_count                           1239 non-null   int64  \n",
      " 11  host_total_listings_count                     1239 non-null   int64  \n",
      " 12  host_verifications                            1239 non-null   object \n",
      " 13  host_has_profile_pic                          1239 non-null   object \n",
      " 14  host_identity_verified                        1239 non-null   object \n",
      " 15  neighbourhood                                 754 non-null    object \n",
      " 16  neighbourhood_cleansed                        1239 non-null   object \n",
      " 17  latitude                                      1239 non-null   float64\n",
      " 18  longitude                                     1239 non-null   float64\n",
      " 19  property_type                                 1239 non-null   object \n",
      " 20  room_type                                     1239 non-null   object \n",
      " 21  accommodates                                  1239 non-null   int64  \n",
      " 22  bedrooms                                      1197 non-null   float64\n",
      " 23  beds                                          1225 non-null   float64\n",
      " 24  amenities                                     1239 non-null   object \n",
      " 25  price                                         1239 non-null   float64\n",
      " 26  minimum_nights                                1239 non-null   int64  \n",
      " 27  maximum_nights                                1239 non-null   int64  \n",
      " 28  availability_30                               1239 non-null   int64  \n",
      " 29  availability_60                               1239 non-null   int64  \n",
      " 30  availability_90                               1239 non-null   int64  \n",
      " 31  availability_365                              1239 non-null   int64  \n",
      " 32  number_of_reviews                             1239 non-null   int64  \n",
      " 33  number_of_reviews_ltm                         1239 non-null   int64  \n",
      " 34  number_of_reviews_l30d                        1239 non-null   int64  \n",
      " 35  last_review                                   1239 non-null   object \n",
      " 36  review_scores_cleanliness                     1223 non-null   float64\n",
      " 37  instant_bookable                              1239 non-null   object \n",
      " 38  calculated_host_listings_count                1239 non-null   int64  \n",
      " 39  calculated_host_listings_count_entire_homes   1239 non-null   int64  \n",
      " 40  calculated_host_listings_count_private_rooms  1239 non-null   int64  \n",
      " 41  calculated_host_listings_count_shared_rooms   1239 non-null   int64  \n",
      " 42  reviews_per_month                             1239 non-null   float64\n",
      "dtypes: float64(7), int64(18), object(18)\n",
      "memory usage: 425.9+ KB\n"
     ]
    }
   ],
   "source": [
    "r_rating_test = test_listings[\"review_scores_rating\"]\n",
    "r_accuracy_test = test_listings[\"review_scores_accuracy\"]\n",
    "r_chekin_test = test_listings[\"review_scores_checkin\"]\n",
    "r_communication_test = test_listings[\"review_scores_communication\"]\n",
    "r_location_test = test_listings[\"review_scores_location\"]\n",
    "r_value_test = test_listings[\"review_scores_value\"]\n",
    "\n",
    "y_values_to_be_dropped = [\"review_scores_rating\", \"review_scores_accuracy\", \"review_scores_checkin\",\n",
    "                         \"review_scores_communication\", \"review_scores_location\", \"review_scores_value\"]\n",
    "test_listings = test_listings.drop(y_values_to_be_dropped, axis = 1)\n",
    "test_listings.info()"
   ]
  },
  {
   "cell_type": "code",
   "execution_count": 75,
   "id": "60b3b775",
   "metadata": {},
   "outputs": [],
   "source": [
    "test_listings[\"host_response_rate\"] = test_listings[\"host_response_rate\"].fillna(\"0%\")\n",
    "test_listings[\"host_response_rate\"] = test_listings[\"host_response_rate\"].str.replace(\"%\", \"\").astype(int)\n",
    "test_listings[\"host_response_rate\"] = test_listings[\"host_response_rate\"].replace(0, np.NaN)\n",
    "host_response_time_median = test_listings[\"host_response_rate\"].median()\n",
    "test_listings[\"host_response_rate\"].fillna(host_response_time_median, inplace=True) # option 3"
   ]
  },
  {
   "cell_type": "code",
   "execution_count": 76,
   "id": "45bd5432",
   "metadata": {},
   "outputs": [],
   "source": [
    "test_listings[\"host_acceptance_rate\"] = test_listings[\"host_acceptance_rate\"].fillna(\"0%\")\n",
    "test_listings[\"host_acceptance_rate\"] = test_listings[\"host_acceptance_rate\"].str.replace(\"%\", \"\").astype(int)\n",
    "test_listings[\"host_acceptance_rate\"] = test_listings[\"host_acceptance_rate\"].replace(0, np.NaN)\n",
    "host_acceptance_rate_median = test_listings[\"host_acceptance_rate\"].median()\n",
    "test_listings[\"host_acceptance_rate\"].fillna(host_response_time_median, inplace=True) # option 3"
   ]
  },
  {
   "cell_type": "code",
   "execution_count": 77,
   "id": "947f7ea7",
   "metadata": {
    "scrolled": true
   },
   "outputs": [
    {
     "name": "stdout",
     "output_type": "stream",
     "text": [
      "0     1034\n",
      "8       56\n",
      "1       42\n",
      "4       23\n",
      "2       15\n",
      "6       15\n",
      "7       11\n",
      "9        7\n",
      "15       5\n",
      "18       4\n",
      "5        4\n",
      "14       4\n",
      "24       4\n",
      "3        4\n",
      "13       3\n",
      "16       2\n",
      "22       2\n",
      "11       2\n",
      "10       1\n",
      "12       1\n",
      "Name: neighbourhood, dtype: int64\n"
     ]
    }
   ],
   "source": [
    "test_listings_cleaned = transform_columns(test_listings)"
   ]
  },
  {
   "cell_type": "code",
   "execution_count": 78,
   "id": "a8449bb6",
   "metadata": {
    "scrolled": true
   },
   "outputs": [
    {
     "name": "stdout",
     "output_type": "stream",
     "text": [
      "<class 'pandas.core.frame.DataFrame'>\n",
      "Int64Index: 1239 entries, 0 to 1513\n",
      "Data columns (total 46 columns):\n",
      " #   Column                                        Non-Null Count  Dtype  \n",
      "---  ------                                        --------------  -----  \n",
      " 0   Unnamed: 0                                    1239 non-null   int64  \n",
      " 1   id                                            1239 non-null   int64  \n",
      " 2   description                                   1216 non-null   object \n",
      " 3   neighborhood_overview                         754 non-null    object \n",
      " 4   host_since                                    1239 non-null   object \n",
      " 5   host_response_time                            1239 non-null   object \n",
      " 6   host_response_rate                            1239 non-null   float64\n",
      " 7   host_acceptance_rate                          1239 non-null   float64\n",
      " 8   host_is_superhost                             1239 non-null   int32  \n",
      " 9   host_neighbourhood                            862 non-null    object \n",
      " 10  host_listings_count                           1239 non-null   int64  \n",
      " 11  host_total_listings_count                     1239 non-null   int64  \n",
      " 12  host_verifications                            1239 non-null   object \n",
      " 13  host_has_profile_pic                          1239 non-null   int32  \n",
      " 14  host_identity_verified                        1239 non-null   int32  \n",
      " 15  neighbourhood                                 1239 non-null   object \n",
      " 16  neighbourhood_cleansed                        1239 non-null   object \n",
      " 17  latitude                                      1239 non-null   float64\n",
      " 18  longitude                                     1239 non-null   float64\n",
      " 19  property_type                                 1239 non-null   object \n",
      " 20  room_type                                     1239 non-null   object \n",
      " 21  accommodates                                  1239 non-null   int64  \n",
      " 22  bedrooms                                      1197 non-null   float64\n",
      " 23  beds                                          1225 non-null   float64\n",
      " 24  amenities                                     1239 non-null   object \n",
      " 25  price                                         1239 non-null   float64\n",
      " 26  minimum_nights                                1239 non-null   int64  \n",
      " 27  maximum_nights                                1239 non-null   int64  \n",
      " 28  availability_30                               1239 non-null   int64  \n",
      " 29  availability_60                               1239 non-null   int64  \n",
      " 30  availability_90                               1239 non-null   int64  \n",
      " 31  availability_365                              1239 non-null   int64  \n",
      " 32  number_of_reviews                             1239 non-null   int64  \n",
      " 33  number_of_reviews_ltm                         1239 non-null   int64  \n",
      " 34  number_of_reviews_l30d                        1239 non-null   int64  \n",
      " 35  last_review                                   1239 non-null   object \n",
      " 36  review_scores_cleanliness                     1223 non-null   float64\n",
      " 37  instant_bookable                              1239 non-null   int32  \n",
      " 38  calculated_host_listings_count                1239 non-null   int64  \n",
      " 39  calculated_host_listings_count_entire_homes   1239 non-null   int64  \n",
      " 40  calculated_host_listings_count_private_rooms  1239 non-null   int64  \n",
      " 41  calculated_host_listings_count_shared_rooms   1239 non-null   int64  \n",
      " 42  reviews_per_month                             1239 non-null   float64\n",
      " 43  new_date                                      1239 non-null   int64  \n",
      " 44                                                1239 non-null   int32  \n",
      " 45  days_since_last_review                        1239 non-null   int64  \n",
      "dtypes: float64(9), int32(5), int64(20), object(12)\n",
      "memory usage: 463.0+ KB\n"
     ]
    }
   ],
   "source": [
    "test_listings_cleaned.info()"
   ]
  },
  {
   "cell_type": "code",
   "execution_count": 79,
   "id": "8ff4a9a0",
   "metadata": {
    "scrolled": true
   },
   "outputs": [],
   "source": [
    "test_listings_cleaned = test_listings_cleaned.drop(columns_to_be_modified_and_then_dropped, axis=1)"
   ]
  },
  {
   "cell_type": "code",
   "execution_count": 80,
   "id": "5f68d3f9",
   "metadata": {},
   "outputs": [],
   "source": [
    "test_listings_cleaned = test_listings_cleaned.drop(columns_to_be_dropped_listings, axis=1)"
   ]
  },
  {
   "cell_type": "markdown",
   "id": "2c335b14",
   "metadata": {},
   "source": [
    "## remove categorical columns"
   ]
  },
  {
   "cell_type": "code",
   "execution_count": 81,
   "id": "7f47ec24",
   "metadata": {},
   "outputs": [],
   "source": [
    "#test_listings_cleaned = test_listings_cleaned.drop(cat_attributes, axis=1)"
   ]
  },
  {
   "cell_type": "markdown",
   "id": "9073565f",
   "metadata": {},
   "source": [
    "## remove categorical columns"
   ]
  },
  {
   "cell_type": "code",
   "execution_count": 82,
   "id": "4d938026",
   "metadata": {
    "scrolled": true
   },
   "outputs": [
    {
     "name": "stdout",
     "output_type": "stream",
     "text": [
      "<class 'pandas.core.frame.DataFrame'>\n",
      "Int64Index: 1239 entries, 0 to 1513\n",
      "Data columns (total 30 columns):\n",
      " #   Column                          Non-Null Count  Dtype  \n",
      "---  ------                          --------------  -----  \n",
      " 0   host_response_time              1239 non-null   object \n",
      " 1   host_response_rate              1239 non-null   float64\n",
      " 2   host_acceptance_rate            1239 non-null   float64\n",
      " 3   host_is_superhost               1239 non-null   int32  \n",
      " 4   host_listings_count             1239 non-null   int64  \n",
      " 5   host_total_listings_count       1239 non-null   int64  \n",
      " 6   host_has_profile_pic            1239 non-null   int32  \n",
      " 7   host_identity_verified          1239 non-null   int32  \n",
      " 8   neighbourhood                   1239 non-null   object \n",
      " 9   neighbourhood_cleansed          1239 non-null   object \n",
      " 10  latitude                        1239 non-null   float64\n",
      " 11  longitude                       1239 non-null   float64\n",
      " 12  room_type                       1239 non-null   object \n",
      " 13  accommodates                    1239 non-null   int64  \n",
      " 14  bedrooms                        1197 non-null   float64\n",
      " 15  beds                            1225 non-null   float64\n",
      " 16  amenities                       1239 non-null   object \n",
      " 17  price                           1239 non-null   float64\n",
      " 18  minimum_nights                  1239 non-null   int64  \n",
      " 19  availability_30                 1239 non-null   int64  \n",
      " 20  availability_60                 1239 non-null   int64  \n",
      " 21  number_of_reviews               1239 non-null   int64  \n",
      " 22  number_of_reviews_ltm           1239 non-null   int64  \n",
      " 23  number_of_reviews_l30d          1239 non-null   int64  \n",
      " 24  instant_bookable                1239 non-null   int32  \n",
      " 25  calculated_host_listings_count  1239 non-null   int64  \n",
      " 26  reviews_per_month               1239 non-null   float64\n",
      " 27  new_date                        1239 non-null   int64  \n",
      " 28                                  1239 non-null   int32  \n",
      " 29  days_since_last_review          1239 non-null   int64  \n",
      "dtypes: float64(8), int32(5), int64(12), object(5)\n",
      "memory usage: 308.2+ KB\n"
     ]
    }
   ],
   "source": [
    "test_listings_cleaned = test_listings_cleaned.drop(test_listings_cleaned.columns[0], axis=1)\n",
    "test_listings_cleaned.info()"
   ]
  },
  {
   "cell_type": "code",
   "execution_count": 83,
   "id": "b56c6678",
   "metadata": {},
   "outputs": [],
   "source": [
    "test_listings_prepared = full_pipeline.fit_transform(test_listings_cleaned)"
   ]
  },
  {
   "cell_type": "code",
   "execution_count": 84,
   "id": "b32ae7bb",
   "metadata": {},
   "outputs": [
    {
     "data": {
      "text/plain": [
       "(1239, 40)"
      ]
     },
     "execution_count": 84,
     "metadata": {},
     "output_type": "execute_result"
    }
   ],
   "source": [
    "test_listings_prepared.shape"
   ]
  },
  {
   "cell_type": "markdown",
   "id": "590b2e21",
   "metadata": {},
   "source": [
    "# Train and test model"
   ]
  },
  {
   "cell_type": "code",
   "execution_count": 85,
   "id": "4987f4c3",
   "metadata": {},
   "outputs": [],
   "source": [
    "r_rating_cat_test = pd.cut(r_rating_test,\n",
    "                      bins=[0., 4., 4.5, 4.8, 4.95, 5],\n",
    "                      labels=[1, 2, 3, 4, 5])\n",
    "\n",
    "r_rating_cat_train = pd.cut(r_rating_train,\n",
    "                      bins=[0., 4., 4.5, 4.8, 4.95, 5],\n",
    "                      labels=[1, 2, 3, 4, 5])"
   ]
  },
  {
   "cell_type": "code",
   "execution_count": 86,
   "id": "52a458d7",
   "metadata": {},
   "outputs": [
    {
     "data": {
      "text/plain": [
       "<AxesSubplot:>"
      ]
     },
     "execution_count": 86,
     "metadata": {},
     "output_type": "execute_result"
    },
    {
     "data": {
      "image/png": "[encoded data removed]",
      "text/plain": [
       "<Figure size 432x288 with 1 Axes>"
      ]
     },
     "metadata": {
      "needs_background": "light"
     },
     "output_type": "display_data"
    }
   ],
   "source": [
    "r_rating_cat_test.hist()\n",
    "r_rating_cat_train.hist()"
   ]
  },
  {
   "cell_type": "code",
   "execution_count": 87,
   "id": "3f94ab22",
   "metadata": {},
   "outputs": [],
   "source": [
    "from sklearn import preprocessing\n",
    "from sklearn import utils\n",
    "\n",
    "#convert y values to categorical values\n",
    "lab = preprocessing.LabelEncoder()\n",
    "ratings_transformed_test = lab.fit_transform(r_rating_cat_test)\n",
    "ratings_transformed_train = lab.fit_transform(r_rating_cat_train)"
   ]
  },
  {
   "cell_type": "code",
   "execution_count": 88,
   "id": "f54c8661",
   "metadata": {},
   "outputs": [
    {
     "name": "stdout",
     "output_type": "stream",
     "text": [
      "98.49%\n"
     ]
    }
   ],
   "source": [
    "from sklearn.ensemble import RandomForestClassifier\n",
    "from sklearn.metrics import accuracy_score\n",
    "classifier3 = RandomForestClassifier(n_estimators = 10, criterion = 'entropy', random_state = 42)\n",
    "\n",
    "classifier3.fit(train_listings_prepared, ratings_transformed_train)\n",
    "y_pred_train = classifier3.predict(train_listings_prepared)\n",
    "acc = accuracy_score(y_pred_train, ratings_transformed_train)\n",
    "print(round(acc*100, 2), \"%\", sep=\"\")"
   ]
  },
  {
   "cell_type": "code",
   "execution_count": 89,
   "id": "def87676",
   "metadata": {},
   "outputs": [
    {
     "name": "stdout",
     "output_type": "stream",
     "text": [
      "44.55%\n"
     ]
    }
   ],
   "source": [
    "y_pred_test = classifier3.predict(test_listings_prepared)\n",
    "acc = accuracy_score(y_pred_test, ratings_transformed_test)\n",
    "print(round(acc*100, 2), \"%\", sep=\"\")"
   ]
  },
  {
   "cell_type": "code",
   "execution_count": 90,
   "id": "e7c5ef28",
   "metadata": {},
   "outputs": [
    {
     "name": "stdout",
     "output_type": "stream",
     "text": [
      "23.89%\n"
     ]
    }
   ],
   "source": [
    "from sklearn.dummy import DummyClassifier\n",
    "\n",
    "\n",
    "clf = DummyClassifier(strategy='stratified')\n",
    "clf.fit(train_listings_prepared, ratings_transformed_train)\n",
    "y_pred_dummy = clf.predict(test_listings_prepared)\n",
    "acc = accuracy_score(y_pred_dummy, ratings_transformed_test)\n",
    "print(round(acc*100, 2), \"%\", sep=\"\")"
   ]
  },
  {
   "cell_type": "markdown",
   "id": "23281379",
   "metadata": {},
   "source": [
    "## Grid search for Random forrest"
   ]
  },
  {
   "cell_type": "code",
   "execution_count": 91,
   "id": "b0e0f908",
   "metadata": {},
   "outputs": [],
   "source": [
    "from sklearn.model_selection import GridSearchCV\n",
    "def best_model(model, grid, X_train, y_train):\n",
    "    gs = GridSearchCV(model, grid)\n",
    "    gs.fit(X_train, y_train)\n",
    "    print(\"CV PARAMS: \", gs.best_params_)\n",
    "    print(\"BEST MODEL: \", gs.best_estimator_)\n",
    "    best_model = gs.best_estimator_\n",
    "    return best_model\n"
   ]
  },
  {
   "cell_type": "code",
   "execution_count": 92,
   "id": "cba51d72",
   "metadata": {},
   "outputs": [],
   "source": [
    "from sklearn.ensemble import RandomForestClassifier\n",
    "model = RandomForestClassifier(random_state=0)\n",
    "grid = {'n_estimators' : [1, 30], \n",
    "        'max_features' : ['auto', 'log2'],  \n",
    "        'max_depth' : [ 3, 5, 7, 10, 12, 15], \n",
    "        'criterion' : ['gini', 'entropy']}\n"
   ]
  },
  {
   "cell_type": "code",
   "execution_count": 93,
   "id": "4051eada",
   "metadata": {
    "scrolled": true
   },
   "outputs": [
    {
     "name": "stderr",
     "output_type": "stream",
     "text": [
      "C:\\Users\\catat\\anaconda3\\lib\\site-packages\\sklearn\\ensemble\\_forest.py:427: FutureWarning: `max_features='auto'` has been deprecated in 1.1 and will be removed in 1.3. To keep the past behaviour, explicitly set `max_features='sqrt'` or remove this parameter as it is also the default value for RandomForestClassifiers and ExtraTreesClassifiers.\n",
      "  warn(\n",
      "C:\\Users\\catat\\anaconda3\\lib\\site-packages\\sklearn\\ensemble\\_forest.py:427: FutureWarning: `max_features='auto'` has been deprecated in 1.1 and will be removed in 1.3. To keep the past behaviour, explicitly set `max_features='sqrt'` or remove this parameter as it is also the default value for RandomForestClassifiers and ExtraTreesClassifiers.\n",
      "  warn(\n",
      "C:\\Users\\catat\\anaconda3\\lib\\site-packages\\sklearn\\ensemble\\_forest.py:427: FutureWarning: `max_features='auto'` has been deprecated in 1.1 and will be removed in 1.3. To keep the past behaviour, explicitly set `max_features='sqrt'` or remove this parameter as it is also the default value for RandomForestClassifiers and ExtraTreesClassifiers.\n",
      "  warn(\n",
      "C:\\Users\\catat\\anaconda3\\lib\\site-packages\\sklearn\\ensemble\\_forest.py:427: FutureWarning: `max_features='auto'` has been deprecated in 1.1 and will be removed in 1.3. To keep the past behaviour, explicitly set `max_features='sqrt'` or remove this parameter as it is also the default value for RandomForestClassifiers and ExtraTreesClassifiers.\n",
      "  warn(\n",
      "C:\\Users\\catat\\anaconda3\\lib\\site-packages\\sklearn\\ensemble\\_forest.py:427: FutureWarning: `max_features='auto'` has been deprecated in 1.1 and will be removed in 1.3. To keep the past behaviour, explicitly set `max_features='sqrt'` or remove this parameter as it is also the default value for RandomForestClassifiers and ExtraTreesClassifiers.\n",
      "  warn(\n",
      "C:\\Users\\catat\\anaconda3\\lib\\site-packages\\sklearn\\ensemble\\_forest.py:427: FutureWarning: `max_features='auto'` has been deprecated in 1.1 and will be removed in 1.3. To keep the past behaviour, explicitly set `max_features='sqrt'` or remove this parameter as it is also the default value for RandomForestClassifiers and ExtraTreesClassifiers.\n",
      "  warn(\n",
      "C:\\Users\\catat\\anaconda3\\lib\\site-packages\\sklearn\\ensemble\\_forest.py:427: FutureWarning: `max_features='auto'` has been deprecated in 1.1 and will be removed in 1.3. To keep the past behaviour, explicitly set `max_features='sqrt'` or remove this parameter as it is also the default value for RandomForestClassifiers and ExtraTreesClassifiers.\n",
      "  warn(\n",
      "C:\\Users\\catat\\anaconda3\\lib\\site-packages\\sklearn\\ensemble\\_forest.py:427: FutureWarning: `max_features='auto'` has been deprecated in 1.1 and will be removed in 1.3. To keep the past behaviour, explicitly set `max_features='sqrt'` or remove this parameter as it is also the default value for RandomForestClassifiers and ExtraTreesClassifiers.\n",
      "  warn(\n",
      "C:\\Users\\catat\\anaconda3\\lib\\site-packages\\sklearn\\ensemble\\_forest.py:427: FutureWarning: `max_features='auto'` has been deprecated in 1.1 and will be removed in 1.3. To keep the past behaviour, explicitly set `max_features='sqrt'` or remove this parameter as it is also the default value for RandomForestClassifiers and ExtraTreesClassifiers.\n",
      "  warn(\n",
      "C:\\Users\\catat\\anaconda3\\lib\\site-packages\\sklearn\\ensemble\\_forest.py:427: FutureWarning: `max_features='auto'` has been deprecated in 1.1 and will be removed in 1.3. To keep the past behaviour, explicitly set `max_features='sqrt'` or remove this parameter as it is also the default value for RandomForestClassifiers and ExtraTreesClassifiers.\n",
      "  warn(\n",
      "C:\\Users\\catat\\anaconda3\\lib\\site-packages\\sklearn\\ensemble\\_forest.py:427: FutureWarning: `max_features='auto'` has been deprecated in 1.1 and will be removed in 1.3. To keep the past behaviour, explicitly set `max_features='sqrt'` or remove this parameter as it is also the default value for RandomForestClassifiers and ExtraTreesClassifiers.\n",
      "  warn(\n",
      "C:\\Users\\catat\\anaconda3\\lib\\site-packages\\sklearn\\ensemble\\_forest.py:427: FutureWarning: `max_features='auto'` has been deprecated in 1.1 and will be removed in 1.3. To keep the past behaviour, explicitly set `max_features='sqrt'` or remove this parameter as it is also the default value for RandomForestClassifiers and ExtraTreesClassifiers.\n",
      "  warn(\n",
      "C:\\Users\\catat\\anaconda3\\lib\\site-packages\\sklearn\\ensemble\\_forest.py:427: FutureWarning: `max_features='auto'` has been deprecated in 1.1 and will be removed in 1.3. To keep the past behaviour, explicitly set `max_features='sqrt'` or remove this parameter as it is also the default value for RandomForestClassifiers and ExtraTreesClassifiers.\n",
      "  warn(\n",
      "C:\\Users\\catat\\anaconda3\\lib\\site-packages\\sklearn\\ensemble\\_forest.py:427: FutureWarning: `max_features='auto'` has been deprecated in 1.1 and will be removed in 1.3. To keep the past behaviour, explicitly set `max_features='sqrt'` or remove this parameter as it is also the default value for RandomForestClassifiers and ExtraTreesClassifiers.\n",
      "  warn(\n",
      "C:\\Users\\catat\\anaconda3\\lib\\site-packages\\sklearn\\ensemble\\_forest.py:427: FutureWarning: `max_features='auto'` has been deprecated in 1.1 and will be removed in 1.3. To keep the past behaviour, explicitly set `max_features='sqrt'` or remove this parameter as it is also the default value for RandomForestClassifiers and ExtraTreesClassifiers.\n",
      "  warn(\n",
      "C:\\Users\\catat\\anaconda3\\lib\\site-packages\\sklearn\\ensemble\\_forest.py:427: FutureWarning: `max_features='auto'` has been deprecated in 1.1 and will be removed in 1.3. To keep the past behaviour, explicitly set `max_features='sqrt'` or remove this parameter as it is also the default value for RandomForestClassifiers and ExtraTreesClassifiers.\n",
      "  warn(\n",
      "C:\\Users\\catat\\anaconda3\\lib\\site-packages\\sklearn\\ensemble\\_forest.py:427: FutureWarning: `max_features='auto'` has been deprecated in 1.1 and will be removed in 1.3. To keep the past behaviour, explicitly set `max_features='sqrt'` or remove this parameter as it is also the default value for RandomForestClassifiers and ExtraTreesClassifiers.\n",
      "  warn(\n",
      "C:\\Users\\catat\\anaconda3\\lib\\site-packages\\sklearn\\ensemble\\_forest.py:427: FutureWarning: `max_features='auto'` has been deprecated in 1.1 and will be removed in 1.3. To keep the past behaviour, explicitly set `max_features='sqrt'` or remove this parameter as it is also the default value for RandomForestClassifiers and ExtraTreesClassifiers.\n",
      "  warn(\n",
      "C:\\Users\\catat\\anaconda3\\lib\\site-packages\\sklearn\\ensemble\\_forest.py:427: FutureWarning: `max_features='auto'` has been deprecated in 1.1 and will be removed in 1.3. To keep the past behaviour, explicitly set `max_features='sqrt'` or remove this parameter as it is also the default value for RandomForestClassifiers and ExtraTreesClassifiers.\n",
      "  warn(\n",
      "C:\\Users\\catat\\anaconda3\\lib\\site-packages\\sklearn\\ensemble\\_forest.py:427: FutureWarning: `max_features='auto'` has been deprecated in 1.1 and will be removed in 1.3. To keep the past behaviour, explicitly set `max_features='sqrt'` or remove this parameter as it is also the default value for RandomForestClassifiers and ExtraTreesClassifiers.\n",
      "  warn(\n",
      "C:\\Users\\catat\\anaconda3\\lib\\site-packages\\sklearn\\ensemble\\_forest.py:427: FutureWarning: `max_features='auto'` has been deprecated in 1.1 and will be removed in 1.3. To keep the past behaviour, explicitly set `max_features='sqrt'` or remove this parameter as it is also the default value for RandomForestClassifiers and ExtraTreesClassifiers.\n",
      "  warn(\n",
      "C:\\Users\\catat\\anaconda3\\lib\\site-packages\\sklearn\\ensemble\\_forest.py:427: FutureWarning: `max_features='auto'` has been deprecated in 1.1 and will be removed in 1.3. To keep the past behaviour, explicitly set `max_features='sqrt'` or remove this parameter as it is also the default value for RandomForestClassifiers and ExtraTreesClassifiers.\n",
      "  warn(\n",
      "C:\\Users\\catat\\anaconda3\\lib\\site-packages\\sklearn\\ensemble\\_forest.py:427: FutureWarning: `max_features='auto'` has been deprecated in 1.1 and will be removed in 1.3. To keep the past behaviour, explicitly set `max_features='sqrt'` or remove this parameter as it is also the default value for RandomForestClassifiers and ExtraTreesClassifiers.\n",
      "  warn(\n",
      "C:\\Users\\catat\\anaconda3\\lib\\site-packages\\sklearn\\ensemble\\_forest.py:427: FutureWarning: `max_features='auto'` has been deprecated in 1.1 and will be removed in 1.3. To keep the past behaviour, explicitly set `max_features='sqrt'` or remove this parameter as it is also the default value for RandomForestClassifiers and ExtraTreesClassifiers.\n",
      "  warn(\n",
      "C:\\Users\\catat\\anaconda3\\lib\\site-packages\\sklearn\\ensemble\\_forest.py:427: FutureWarning: `max_features='auto'` has been deprecated in 1.1 and will be removed in 1.3. To keep the past behaviour, explicitly set `max_features='sqrt'` or remove this parameter as it is also the default value for RandomForestClassifiers and ExtraTreesClassifiers.\n",
      "  warn(\n",
      "C:\\Users\\catat\\anaconda3\\lib\\site-packages\\sklearn\\ensemble\\_forest.py:427: FutureWarning: `max_features='auto'` has been deprecated in 1.1 and will be removed in 1.3. To keep the past behaviour, explicitly set `max_features='sqrt'` or remove this parameter as it is also the default value for RandomForestClassifiers and ExtraTreesClassifiers.\n",
      "  warn(\n",
      "C:\\Users\\catat\\anaconda3\\lib\\site-packages\\sklearn\\ensemble\\_forest.py:427: FutureWarning: `max_features='auto'` has been deprecated in 1.1 and will be removed in 1.3. To keep the past behaviour, explicitly set `max_features='sqrt'` or remove this parameter as it is also the default value for RandomForestClassifiers and ExtraTreesClassifiers.\n",
      "  warn(\n"
     ]
    },
    {
     "name": "stderr",
     "output_type": "stream",
     "text": [
      "C:\\Users\\catat\\anaconda3\\lib\\site-packages\\sklearn\\ensemble\\_forest.py:427: FutureWarning: `max_features='auto'` has been deprecated in 1.1 and will be removed in 1.3. To keep the past behaviour, explicitly set `max_features='sqrt'` or remove this parameter as it is also the default value for RandomForestClassifiers and ExtraTreesClassifiers.\n",
      "  warn(\n",
      "C:\\Users\\catat\\anaconda3\\lib\\site-packages\\sklearn\\ensemble\\_forest.py:427: FutureWarning: `max_features='auto'` has been deprecated in 1.1 and will be removed in 1.3. To keep the past behaviour, explicitly set `max_features='sqrt'` or remove this parameter as it is also the default value for RandomForestClassifiers and ExtraTreesClassifiers.\n",
      "  warn(\n",
      "C:\\Users\\catat\\anaconda3\\lib\\site-packages\\sklearn\\ensemble\\_forest.py:427: FutureWarning: `max_features='auto'` has been deprecated in 1.1 and will be removed in 1.3. To keep the past behaviour, explicitly set `max_features='sqrt'` or remove this parameter as it is also the default value for RandomForestClassifiers and ExtraTreesClassifiers.\n",
      "  warn(\n",
      "C:\\Users\\catat\\anaconda3\\lib\\site-packages\\sklearn\\ensemble\\_forest.py:427: FutureWarning: `max_features='auto'` has been deprecated in 1.1 and will be removed in 1.3. To keep the past behaviour, explicitly set `max_features='sqrt'` or remove this parameter as it is also the default value for RandomForestClassifiers and ExtraTreesClassifiers.\n",
      "  warn(\n",
      "C:\\Users\\catat\\anaconda3\\lib\\site-packages\\sklearn\\ensemble\\_forest.py:427: FutureWarning: `max_features='auto'` has been deprecated in 1.1 and will be removed in 1.3. To keep the past behaviour, explicitly set `max_features='sqrt'` or remove this parameter as it is also the default value for RandomForestClassifiers and ExtraTreesClassifiers.\n",
      "  warn(\n",
      "C:\\Users\\catat\\anaconda3\\lib\\site-packages\\sklearn\\ensemble\\_forest.py:427: FutureWarning: `max_features='auto'` has been deprecated in 1.1 and will be removed in 1.3. To keep the past behaviour, explicitly set `max_features='sqrt'` or remove this parameter as it is also the default value for RandomForestClassifiers and ExtraTreesClassifiers.\n",
      "  warn(\n",
      "C:\\Users\\catat\\anaconda3\\lib\\site-packages\\sklearn\\ensemble\\_forest.py:427: FutureWarning: `max_features='auto'` has been deprecated in 1.1 and will be removed in 1.3. To keep the past behaviour, explicitly set `max_features='sqrt'` or remove this parameter as it is also the default value for RandomForestClassifiers and ExtraTreesClassifiers.\n",
      "  warn(\n",
      "C:\\Users\\catat\\anaconda3\\lib\\site-packages\\sklearn\\ensemble\\_forest.py:427: FutureWarning: `max_features='auto'` has been deprecated in 1.1 and will be removed in 1.3. To keep the past behaviour, explicitly set `max_features='sqrt'` or remove this parameter as it is also the default value for RandomForestClassifiers and ExtraTreesClassifiers.\n",
      "  warn(\n",
      "C:\\Users\\catat\\anaconda3\\lib\\site-packages\\sklearn\\ensemble\\_forest.py:427: FutureWarning: `max_features='auto'` has been deprecated in 1.1 and will be removed in 1.3. To keep the past behaviour, explicitly set `max_features='sqrt'` or remove this parameter as it is also the default value for RandomForestClassifiers and ExtraTreesClassifiers.\n",
      "  warn(\n",
      "C:\\Users\\catat\\anaconda3\\lib\\site-packages\\sklearn\\ensemble\\_forest.py:427: FutureWarning: `max_features='auto'` has been deprecated in 1.1 and will be removed in 1.3. To keep the past behaviour, explicitly set `max_features='sqrt'` or remove this parameter as it is also the default value for RandomForestClassifiers and ExtraTreesClassifiers.\n",
      "  warn(\n",
      "C:\\Users\\catat\\anaconda3\\lib\\site-packages\\sklearn\\ensemble\\_forest.py:427: FutureWarning: `max_features='auto'` has been deprecated in 1.1 and will be removed in 1.3. To keep the past behaviour, explicitly set `max_features='sqrt'` or remove this parameter as it is also the default value for RandomForestClassifiers and ExtraTreesClassifiers.\n",
      "  warn(\n",
      "C:\\Users\\catat\\anaconda3\\lib\\site-packages\\sklearn\\ensemble\\_forest.py:427: FutureWarning: `max_features='auto'` has been deprecated in 1.1 and will be removed in 1.3. To keep the past behaviour, explicitly set `max_features='sqrt'` or remove this parameter as it is also the default value for RandomForestClassifiers and ExtraTreesClassifiers.\n",
      "  warn(\n",
      "C:\\Users\\catat\\anaconda3\\lib\\site-packages\\sklearn\\ensemble\\_forest.py:427: FutureWarning: `max_features='auto'` has been deprecated in 1.1 and will be removed in 1.3. To keep the past behaviour, explicitly set `max_features='sqrt'` or remove this parameter as it is also the default value for RandomForestClassifiers and ExtraTreesClassifiers.\n",
      "  warn(\n",
      "C:\\Users\\catat\\anaconda3\\lib\\site-packages\\sklearn\\ensemble\\_forest.py:427: FutureWarning: `max_features='auto'` has been deprecated in 1.1 and will be removed in 1.3. To keep the past behaviour, explicitly set `max_features='sqrt'` or remove this parameter as it is also the default value for RandomForestClassifiers and ExtraTreesClassifiers.\n",
      "  warn(\n",
      "C:\\Users\\catat\\anaconda3\\lib\\site-packages\\sklearn\\ensemble\\_forest.py:427: FutureWarning: `max_features='auto'` has been deprecated in 1.1 and will be removed in 1.3. To keep the past behaviour, explicitly set `max_features='sqrt'` or remove this parameter as it is also the default value for RandomForestClassifiers and ExtraTreesClassifiers.\n",
      "  warn(\n",
      "C:\\Users\\catat\\anaconda3\\lib\\site-packages\\sklearn\\ensemble\\_forest.py:427: FutureWarning: `max_features='auto'` has been deprecated in 1.1 and will be removed in 1.3. To keep the past behaviour, explicitly set `max_features='sqrt'` or remove this parameter as it is also the default value for RandomForestClassifiers and ExtraTreesClassifiers.\n",
      "  warn(\n",
      "C:\\Users\\catat\\anaconda3\\lib\\site-packages\\sklearn\\ensemble\\_forest.py:427: FutureWarning: `max_features='auto'` has been deprecated in 1.1 and will be removed in 1.3. To keep the past behaviour, explicitly set `max_features='sqrt'` or remove this parameter as it is also the default value for RandomForestClassifiers and ExtraTreesClassifiers.\n",
      "  warn(\n",
      "C:\\Users\\catat\\anaconda3\\lib\\site-packages\\sklearn\\ensemble\\_forest.py:427: FutureWarning: `max_features='auto'` has been deprecated in 1.1 and will be removed in 1.3. To keep the past behaviour, explicitly set `max_features='sqrt'` or remove this parameter as it is also the default value for RandomForestClassifiers and ExtraTreesClassifiers.\n",
      "  warn(\n",
      "C:\\Users\\catat\\anaconda3\\lib\\site-packages\\sklearn\\ensemble\\_forest.py:427: FutureWarning: `max_features='auto'` has been deprecated in 1.1 and will be removed in 1.3. To keep the past behaviour, explicitly set `max_features='sqrt'` or remove this parameter as it is also the default value for RandomForestClassifiers and ExtraTreesClassifiers.\n",
      "  warn(\n",
      "C:\\Users\\catat\\anaconda3\\lib\\site-packages\\sklearn\\ensemble\\_forest.py:427: FutureWarning: `max_features='auto'` has been deprecated in 1.1 and will be removed in 1.3. To keep the past behaviour, explicitly set `max_features='sqrt'` or remove this parameter as it is also the default value for RandomForestClassifiers and ExtraTreesClassifiers.\n",
      "  warn(\n",
      "C:\\Users\\catat\\anaconda3\\lib\\site-packages\\sklearn\\ensemble\\_forest.py:427: FutureWarning: `max_features='auto'` has been deprecated in 1.1 and will be removed in 1.3. To keep the past behaviour, explicitly set `max_features='sqrt'` or remove this parameter as it is also the default value for RandomForestClassifiers and ExtraTreesClassifiers.\n",
      "  warn(\n",
      "C:\\Users\\catat\\anaconda3\\lib\\site-packages\\sklearn\\ensemble\\_forest.py:427: FutureWarning: `max_features='auto'` has been deprecated in 1.1 and will be removed in 1.3. To keep the past behaviour, explicitly set `max_features='sqrt'` or remove this parameter as it is also the default value for RandomForestClassifiers and ExtraTreesClassifiers.\n",
      "  warn(\n",
      "C:\\Users\\catat\\anaconda3\\lib\\site-packages\\sklearn\\ensemble\\_forest.py:427: FutureWarning: `max_features='auto'` has been deprecated in 1.1 and will be removed in 1.3. To keep the past behaviour, explicitly set `max_features='sqrt'` or remove this parameter as it is also the default value for RandomForestClassifiers and ExtraTreesClassifiers.\n",
      "  warn(\n",
      "C:\\Users\\catat\\anaconda3\\lib\\site-packages\\sklearn\\ensemble\\_forest.py:427: FutureWarning: `max_features='auto'` has been deprecated in 1.1 and will be removed in 1.3. To keep the past behaviour, explicitly set `max_features='sqrt'` or remove this parameter as it is also the default value for RandomForestClassifiers and ExtraTreesClassifiers.\n",
      "  warn(\n",
      "C:\\Users\\catat\\anaconda3\\lib\\site-packages\\sklearn\\ensemble\\_forest.py:427: FutureWarning: `max_features='auto'` has been deprecated in 1.1 and will be removed in 1.3. To keep the past behaviour, explicitly set `max_features='sqrt'` or remove this parameter as it is also the default value for RandomForestClassifiers and ExtraTreesClassifiers.\n",
      "  warn(\n",
      "C:\\Users\\catat\\anaconda3\\lib\\site-packages\\sklearn\\ensemble\\_forest.py:427: FutureWarning: `max_features='auto'` has been deprecated in 1.1 and will be removed in 1.3. To keep the past behaviour, explicitly set `max_features='sqrt'` or remove this parameter as it is also the default value for RandomForestClassifiers and ExtraTreesClassifiers.\n",
      "  warn(\n",
      "C:\\Users\\catat\\anaconda3\\lib\\site-packages\\sklearn\\ensemble\\_forest.py:427: FutureWarning: `max_features='auto'` has been deprecated in 1.1 and will be removed in 1.3. To keep the past behaviour, explicitly set `max_features='sqrt'` or remove this parameter as it is also the default value for RandomForestClassifiers and ExtraTreesClassifiers.\n",
      "  warn(\n",
      "C:\\Users\\catat\\anaconda3\\lib\\site-packages\\sklearn\\ensemble\\_forest.py:427: FutureWarning: `max_features='auto'` has been deprecated in 1.1 and will be removed in 1.3. To keep the past behaviour, explicitly set `max_features='sqrt'` or remove this parameter as it is also the default value for RandomForestClassifiers and ExtraTreesClassifiers.\n",
      "  warn(\n",
      "C:\\Users\\catat\\anaconda3\\lib\\site-packages\\sklearn\\ensemble\\_forest.py:427: FutureWarning: `max_features='auto'` has been deprecated in 1.1 and will be removed in 1.3. To keep the past behaviour, explicitly set `max_features='sqrt'` or remove this parameter as it is also the default value for RandomForestClassifiers and ExtraTreesClassifiers.\n",
      "  warn(\n"
     ]
    },
    {
     "name": "stderr",
     "output_type": "stream",
     "text": [
      "C:\\Users\\catat\\anaconda3\\lib\\site-packages\\sklearn\\ensemble\\_forest.py:427: FutureWarning: `max_features='auto'` has been deprecated in 1.1 and will be removed in 1.3. To keep the past behaviour, explicitly set `max_features='sqrt'` or remove this parameter as it is also the default value for RandomForestClassifiers and ExtraTreesClassifiers.\n",
      "  warn(\n",
      "C:\\Users\\catat\\anaconda3\\lib\\site-packages\\sklearn\\ensemble\\_forest.py:427: FutureWarning: `max_features='auto'` has been deprecated in 1.1 and will be removed in 1.3. To keep the past behaviour, explicitly set `max_features='sqrt'` or remove this parameter as it is also the default value for RandomForestClassifiers and ExtraTreesClassifiers.\n",
      "  warn(\n",
      "C:\\Users\\catat\\anaconda3\\lib\\site-packages\\sklearn\\ensemble\\_forest.py:427: FutureWarning: `max_features='auto'` has been deprecated in 1.1 and will be removed in 1.3. To keep the past behaviour, explicitly set `max_features='sqrt'` or remove this parameter as it is also the default value for RandomForestClassifiers and ExtraTreesClassifiers.\n",
      "  warn(\n",
      "C:\\Users\\catat\\anaconda3\\lib\\site-packages\\sklearn\\ensemble\\_forest.py:427: FutureWarning: `max_features='auto'` has been deprecated in 1.1 and will be removed in 1.3. To keep the past behaviour, explicitly set `max_features='sqrt'` or remove this parameter as it is also the default value for RandomForestClassifiers and ExtraTreesClassifiers.\n",
      "  warn(\n",
      "C:\\Users\\catat\\anaconda3\\lib\\site-packages\\sklearn\\ensemble\\_forest.py:427: FutureWarning: `max_features='auto'` has been deprecated in 1.1 and will be removed in 1.3. To keep the past behaviour, explicitly set `max_features='sqrt'` or remove this parameter as it is also the default value for RandomForestClassifiers and ExtraTreesClassifiers.\n",
      "  warn(\n",
      "C:\\Users\\catat\\anaconda3\\lib\\site-packages\\sklearn\\ensemble\\_forest.py:427: FutureWarning: `max_features='auto'` has been deprecated in 1.1 and will be removed in 1.3. To keep the past behaviour, explicitly set `max_features='sqrt'` or remove this parameter as it is also the default value for RandomForestClassifiers and ExtraTreesClassifiers.\n",
      "  warn(\n",
      "C:\\Users\\catat\\anaconda3\\lib\\site-packages\\sklearn\\ensemble\\_forest.py:427: FutureWarning: `max_features='auto'` has been deprecated in 1.1 and will be removed in 1.3. To keep the past behaviour, explicitly set `max_features='sqrt'` or remove this parameter as it is also the default value for RandomForestClassifiers and ExtraTreesClassifiers.\n",
      "  warn(\n",
      "C:\\Users\\catat\\anaconda3\\lib\\site-packages\\sklearn\\ensemble\\_forest.py:427: FutureWarning: `max_features='auto'` has been deprecated in 1.1 and will be removed in 1.3. To keep the past behaviour, explicitly set `max_features='sqrt'` or remove this parameter as it is also the default value for RandomForestClassifiers and ExtraTreesClassifiers.\n",
      "  warn(\n",
      "C:\\Users\\catat\\anaconda3\\lib\\site-packages\\sklearn\\ensemble\\_forest.py:427: FutureWarning: `max_features='auto'` has been deprecated in 1.1 and will be removed in 1.3. To keep the past behaviour, explicitly set `max_features='sqrt'` or remove this parameter as it is also the default value for RandomForestClassifiers and ExtraTreesClassifiers.\n",
      "  warn(\n",
      "C:\\Users\\catat\\anaconda3\\lib\\site-packages\\sklearn\\ensemble\\_forest.py:427: FutureWarning: `max_features='auto'` has been deprecated in 1.1 and will be removed in 1.3. To keep the past behaviour, explicitly set `max_features='sqrt'` or remove this parameter as it is also the default value for RandomForestClassifiers and ExtraTreesClassifiers.\n",
      "  warn(\n",
      "C:\\Users\\catat\\anaconda3\\lib\\site-packages\\sklearn\\ensemble\\_forest.py:427: FutureWarning: `max_features='auto'` has been deprecated in 1.1 and will be removed in 1.3. To keep the past behaviour, explicitly set `max_features='sqrt'` or remove this parameter as it is also the default value for RandomForestClassifiers and ExtraTreesClassifiers.\n",
      "  warn(\n",
      "C:\\Users\\catat\\anaconda3\\lib\\site-packages\\sklearn\\ensemble\\_forest.py:427: FutureWarning: `max_features='auto'` has been deprecated in 1.1 and will be removed in 1.3. To keep the past behaviour, explicitly set `max_features='sqrt'` or remove this parameter as it is also the default value for RandomForestClassifiers and ExtraTreesClassifiers.\n",
      "  warn(\n",
      "C:\\Users\\catat\\anaconda3\\lib\\site-packages\\sklearn\\ensemble\\_forest.py:427: FutureWarning: `max_features='auto'` has been deprecated in 1.1 and will be removed in 1.3. To keep the past behaviour, explicitly set `max_features='sqrt'` or remove this parameter as it is also the default value for RandomForestClassifiers and ExtraTreesClassifiers.\n",
      "  warn(\n",
      "C:\\Users\\catat\\anaconda3\\lib\\site-packages\\sklearn\\ensemble\\_forest.py:427: FutureWarning: `max_features='auto'` has been deprecated in 1.1 and will be removed in 1.3. To keep the past behaviour, explicitly set `max_features='sqrt'` or remove this parameter as it is also the default value for RandomForestClassifiers and ExtraTreesClassifiers.\n",
      "  warn(\n",
      "C:\\Users\\catat\\anaconda3\\lib\\site-packages\\sklearn\\ensemble\\_forest.py:427: FutureWarning: `max_features='auto'` has been deprecated in 1.1 and will be removed in 1.3. To keep the past behaviour, explicitly set `max_features='sqrt'` or remove this parameter as it is also the default value for RandomForestClassifiers and ExtraTreesClassifiers.\n",
      "  warn(\n",
      "C:\\Users\\catat\\anaconda3\\lib\\site-packages\\sklearn\\ensemble\\_forest.py:427: FutureWarning: `max_features='auto'` has been deprecated in 1.1 and will be removed in 1.3. To keep the past behaviour, explicitly set `max_features='sqrt'` or remove this parameter as it is also the default value for RandomForestClassifiers and ExtraTreesClassifiers.\n",
      "  warn(\n",
      "C:\\Users\\catat\\anaconda3\\lib\\site-packages\\sklearn\\ensemble\\_forest.py:427: FutureWarning: `max_features='auto'` has been deprecated in 1.1 and will be removed in 1.3. To keep the past behaviour, explicitly set `max_features='sqrt'` or remove this parameter as it is also the default value for RandomForestClassifiers and ExtraTreesClassifiers.\n",
      "  warn(\n",
      "C:\\Users\\catat\\anaconda3\\lib\\site-packages\\sklearn\\ensemble\\_forest.py:427: FutureWarning: `max_features='auto'` has been deprecated in 1.1 and will be removed in 1.3. To keep the past behaviour, explicitly set `max_features='sqrt'` or remove this parameter as it is also the default value for RandomForestClassifiers and ExtraTreesClassifiers.\n",
      "  warn(\n",
      "C:\\Users\\catat\\anaconda3\\lib\\site-packages\\sklearn\\ensemble\\_forest.py:427: FutureWarning: `max_features='auto'` has been deprecated in 1.1 and will be removed in 1.3. To keep the past behaviour, explicitly set `max_features='sqrt'` or remove this parameter as it is also the default value for RandomForestClassifiers and ExtraTreesClassifiers.\n",
      "  warn(\n",
      "C:\\Users\\catat\\anaconda3\\lib\\site-packages\\sklearn\\ensemble\\_forest.py:427: FutureWarning: `max_features='auto'` has been deprecated in 1.1 and will be removed in 1.3. To keep the past behaviour, explicitly set `max_features='sqrt'` or remove this parameter as it is also the default value for RandomForestClassifiers and ExtraTreesClassifiers.\n",
      "  warn(\n",
      "C:\\Users\\catat\\anaconda3\\lib\\site-packages\\sklearn\\ensemble\\_forest.py:427: FutureWarning: `max_features='auto'` has been deprecated in 1.1 and will be removed in 1.3. To keep the past behaviour, explicitly set `max_features='sqrt'` or remove this parameter as it is also the default value for RandomForestClassifiers and ExtraTreesClassifiers.\n",
      "  warn(\n",
      "C:\\Users\\catat\\anaconda3\\lib\\site-packages\\sklearn\\ensemble\\_forest.py:427: FutureWarning: `max_features='auto'` has been deprecated in 1.1 and will be removed in 1.3. To keep the past behaviour, explicitly set `max_features='sqrt'` or remove this parameter as it is also the default value for RandomForestClassifiers and ExtraTreesClassifiers.\n",
      "  warn(\n",
      "C:\\Users\\catat\\anaconda3\\lib\\site-packages\\sklearn\\ensemble\\_forest.py:427: FutureWarning: `max_features='auto'` has been deprecated in 1.1 and will be removed in 1.3. To keep the past behaviour, explicitly set `max_features='sqrt'` or remove this parameter as it is also the default value for RandomForestClassifiers and ExtraTreesClassifiers.\n",
      "  warn(\n",
      "C:\\Users\\catat\\anaconda3\\lib\\site-packages\\sklearn\\ensemble\\_forest.py:427: FutureWarning: `max_features='auto'` has been deprecated in 1.1 and will be removed in 1.3. To keep the past behaviour, explicitly set `max_features='sqrt'` or remove this parameter as it is also the default value for RandomForestClassifiers and ExtraTreesClassifiers.\n",
      "  warn(\n"
     ]
    },
    {
     "name": "stderr",
     "output_type": "stream",
     "text": [
      "C:\\Users\\catat\\anaconda3\\lib\\site-packages\\sklearn\\ensemble\\_forest.py:427: FutureWarning: `max_features='auto'` has been deprecated in 1.1 and will be removed in 1.3. To keep the past behaviour, explicitly set `max_features='sqrt'` or remove this parameter as it is also the default value for RandomForestClassifiers and ExtraTreesClassifiers.\n",
      "  warn(\n",
      "C:\\Users\\catat\\anaconda3\\lib\\site-packages\\sklearn\\ensemble\\_forest.py:427: FutureWarning: `max_features='auto'` has been deprecated in 1.1 and will be removed in 1.3. To keep the past behaviour, explicitly set `max_features='sqrt'` or remove this parameter as it is also the default value for RandomForestClassifiers and ExtraTreesClassifiers.\n",
      "  warn(\n",
      "C:\\Users\\catat\\anaconda3\\lib\\site-packages\\sklearn\\ensemble\\_forest.py:427: FutureWarning: `max_features='auto'` has been deprecated in 1.1 and will be removed in 1.3. To keep the past behaviour, explicitly set `max_features='sqrt'` or remove this parameter as it is also the default value for RandomForestClassifiers and ExtraTreesClassifiers.\n",
      "  warn(\n",
      "C:\\Users\\catat\\anaconda3\\lib\\site-packages\\sklearn\\ensemble\\_forest.py:427: FutureWarning: `max_features='auto'` has been deprecated in 1.1 and will be removed in 1.3. To keep the past behaviour, explicitly set `max_features='sqrt'` or remove this parameter as it is also the default value for RandomForestClassifiers and ExtraTreesClassifiers.\n",
      "  warn(\n",
      "C:\\Users\\catat\\anaconda3\\lib\\site-packages\\sklearn\\ensemble\\_forest.py:427: FutureWarning: `max_features='auto'` has been deprecated in 1.1 and will be removed in 1.3. To keep the past behaviour, explicitly set `max_features='sqrt'` or remove this parameter as it is also the default value for RandomForestClassifiers and ExtraTreesClassifiers.\n",
      "  warn(\n",
      "C:\\Users\\catat\\anaconda3\\lib\\site-packages\\sklearn\\ensemble\\_forest.py:427: FutureWarning: `max_features='auto'` has been deprecated in 1.1 and will be removed in 1.3. To keep the past behaviour, explicitly set `max_features='sqrt'` or remove this parameter as it is also the default value for RandomForestClassifiers and ExtraTreesClassifiers.\n",
      "  warn(\n",
      "C:\\Users\\catat\\anaconda3\\lib\\site-packages\\sklearn\\ensemble\\_forest.py:427: FutureWarning: `max_features='auto'` has been deprecated in 1.1 and will be removed in 1.3. To keep the past behaviour, explicitly set `max_features='sqrt'` or remove this parameter as it is also the default value for RandomForestClassifiers and ExtraTreesClassifiers.\n",
      "  warn(\n",
      "C:\\Users\\catat\\anaconda3\\lib\\site-packages\\sklearn\\ensemble\\_forest.py:427: FutureWarning: `max_features='auto'` has been deprecated in 1.1 and will be removed in 1.3. To keep the past behaviour, explicitly set `max_features='sqrt'` or remove this parameter as it is also the default value for RandomForestClassifiers and ExtraTreesClassifiers.\n",
      "  warn(\n",
      "C:\\Users\\catat\\anaconda3\\lib\\site-packages\\sklearn\\ensemble\\_forest.py:427: FutureWarning: `max_features='auto'` has been deprecated in 1.1 and will be removed in 1.3. To keep the past behaviour, explicitly set `max_features='sqrt'` or remove this parameter as it is also the default value for RandomForestClassifiers and ExtraTreesClassifiers.\n",
      "  warn(\n",
      "C:\\Users\\catat\\anaconda3\\lib\\site-packages\\sklearn\\ensemble\\_forest.py:427: FutureWarning: `max_features='auto'` has been deprecated in 1.1 and will be removed in 1.3. To keep the past behaviour, explicitly set `max_features='sqrt'` or remove this parameter as it is also the default value for RandomForestClassifiers and ExtraTreesClassifiers.\n",
      "  warn(\n",
      "C:\\Users\\catat\\anaconda3\\lib\\site-packages\\sklearn\\ensemble\\_forest.py:427: FutureWarning: `max_features='auto'` has been deprecated in 1.1 and will be removed in 1.3. To keep the past behaviour, explicitly set `max_features='sqrt'` or remove this parameter as it is also the default value for RandomForestClassifiers and ExtraTreesClassifiers.\n",
      "  warn(\n",
      "C:\\Users\\catat\\anaconda3\\lib\\site-packages\\sklearn\\ensemble\\_forest.py:427: FutureWarning: `max_features='auto'` has been deprecated in 1.1 and will be removed in 1.3. To keep the past behaviour, explicitly set `max_features='sqrt'` or remove this parameter as it is also the default value for RandomForestClassifiers and ExtraTreesClassifiers.\n",
      "  warn(\n",
      "C:\\Users\\catat\\anaconda3\\lib\\site-packages\\sklearn\\ensemble\\_forest.py:427: FutureWarning: `max_features='auto'` has been deprecated in 1.1 and will be removed in 1.3. To keep the past behaviour, explicitly set `max_features='sqrt'` or remove this parameter as it is also the default value for RandomForestClassifiers and ExtraTreesClassifiers.\n",
      "  warn(\n",
      "C:\\Users\\catat\\anaconda3\\lib\\site-packages\\sklearn\\ensemble\\_forest.py:427: FutureWarning: `max_features='auto'` has been deprecated in 1.1 and will be removed in 1.3. To keep the past behaviour, explicitly set `max_features='sqrt'` or remove this parameter as it is also the default value for RandomForestClassifiers and ExtraTreesClassifiers.\n",
      "  warn(\n",
      "C:\\Users\\catat\\anaconda3\\lib\\site-packages\\sklearn\\ensemble\\_forest.py:427: FutureWarning: `max_features='auto'` has been deprecated in 1.1 and will be removed in 1.3. To keep the past behaviour, explicitly set `max_features='sqrt'` or remove this parameter as it is also the default value for RandomForestClassifiers and ExtraTreesClassifiers.\n",
      "  warn(\n",
      "C:\\Users\\catat\\anaconda3\\lib\\site-packages\\sklearn\\ensemble\\_forest.py:427: FutureWarning: `max_features='auto'` has been deprecated in 1.1 and will be removed in 1.3. To keep the past behaviour, explicitly set `max_features='sqrt'` or remove this parameter as it is also the default value for RandomForestClassifiers and ExtraTreesClassifiers.\n",
      "  warn(\n",
      "C:\\Users\\catat\\anaconda3\\lib\\site-packages\\sklearn\\ensemble\\_forest.py:427: FutureWarning: `max_features='auto'` has been deprecated in 1.1 and will be removed in 1.3. To keep the past behaviour, explicitly set `max_features='sqrt'` or remove this parameter as it is also the default value for RandomForestClassifiers and ExtraTreesClassifiers.\n",
      "  warn(\n",
      "C:\\Users\\catat\\anaconda3\\lib\\site-packages\\sklearn\\ensemble\\_forest.py:427: FutureWarning: `max_features='auto'` has been deprecated in 1.1 and will be removed in 1.3. To keep the past behaviour, explicitly set `max_features='sqrt'` or remove this parameter as it is also the default value for RandomForestClassifiers and ExtraTreesClassifiers.\n",
      "  warn(\n",
      "C:\\Users\\catat\\anaconda3\\lib\\site-packages\\sklearn\\ensemble\\_forest.py:427: FutureWarning: `max_features='auto'` has been deprecated in 1.1 and will be removed in 1.3. To keep the past behaviour, explicitly set `max_features='sqrt'` or remove this parameter as it is also the default value for RandomForestClassifiers and ExtraTreesClassifiers.\n",
      "  warn(\n",
      "C:\\Users\\catat\\anaconda3\\lib\\site-packages\\sklearn\\ensemble\\_forest.py:427: FutureWarning: `max_features='auto'` has been deprecated in 1.1 and will be removed in 1.3. To keep the past behaviour, explicitly set `max_features='sqrt'` or remove this parameter as it is also the default value for RandomForestClassifiers and ExtraTreesClassifiers.\n",
      "  warn(\n",
      "C:\\Users\\catat\\anaconda3\\lib\\site-packages\\sklearn\\ensemble\\_forest.py:427: FutureWarning: `max_features='auto'` has been deprecated in 1.1 and will be removed in 1.3. To keep the past behaviour, explicitly set `max_features='sqrt'` or remove this parameter as it is also the default value for RandomForestClassifiers and ExtraTreesClassifiers.\n",
      "  warn(\n",
      "C:\\Users\\catat\\anaconda3\\lib\\site-packages\\sklearn\\ensemble\\_forest.py:427: FutureWarning: `max_features='auto'` has been deprecated in 1.1 and will be removed in 1.3. To keep the past behaviour, explicitly set `max_features='sqrt'` or remove this parameter as it is also the default value for RandomForestClassifiers and ExtraTreesClassifiers.\n",
      "  warn(\n",
      "C:\\Users\\catat\\anaconda3\\lib\\site-packages\\sklearn\\ensemble\\_forest.py:427: FutureWarning: `max_features='auto'` has been deprecated in 1.1 and will be removed in 1.3. To keep the past behaviour, explicitly set `max_features='sqrt'` or remove this parameter as it is also the default value for RandomForestClassifiers and ExtraTreesClassifiers.\n",
      "  warn(\n",
      "C:\\Users\\catat\\anaconda3\\lib\\site-packages\\sklearn\\ensemble\\_forest.py:427: FutureWarning: `max_features='auto'` has been deprecated in 1.1 and will be removed in 1.3. To keep the past behaviour, explicitly set `max_features='sqrt'` or remove this parameter as it is also the default value for RandomForestClassifiers and ExtraTreesClassifiers.\n",
      "  warn(\n",
      "C:\\Users\\catat\\anaconda3\\lib\\site-packages\\sklearn\\ensemble\\_forest.py:427: FutureWarning: `max_features='auto'` has been deprecated in 1.1 and will be removed in 1.3. To keep the past behaviour, explicitly set `max_features='sqrt'` or remove this parameter as it is also the default value for RandomForestClassifiers and ExtraTreesClassifiers.\n",
      "  warn(\n",
      "C:\\Users\\catat\\anaconda3\\lib\\site-packages\\sklearn\\ensemble\\_forest.py:427: FutureWarning: `max_features='auto'` has been deprecated in 1.1 and will be removed in 1.3. To keep the past behaviour, explicitly set `max_features='sqrt'` or remove this parameter as it is also the default value for RandomForestClassifiers and ExtraTreesClassifiers.\n",
      "  warn(\n"
     ]
    },
    {
     "name": "stderr",
     "output_type": "stream",
     "text": [
      "C:\\Users\\catat\\anaconda3\\lib\\site-packages\\sklearn\\ensemble\\_forest.py:427: FutureWarning: `max_features='auto'` has been deprecated in 1.1 and will be removed in 1.3. To keep the past behaviour, explicitly set `max_features='sqrt'` or remove this parameter as it is also the default value for RandomForestClassifiers and ExtraTreesClassifiers.\n",
      "  warn(\n",
      "C:\\Users\\catat\\anaconda3\\lib\\site-packages\\sklearn\\ensemble\\_forest.py:427: FutureWarning: `max_features='auto'` has been deprecated in 1.1 and will be removed in 1.3. To keep the past behaviour, explicitly set `max_features='sqrt'` or remove this parameter as it is also the default value for RandomForestClassifiers and ExtraTreesClassifiers.\n",
      "  warn(\n",
      "C:\\Users\\catat\\anaconda3\\lib\\site-packages\\sklearn\\ensemble\\_forest.py:427: FutureWarning: `max_features='auto'` has been deprecated in 1.1 and will be removed in 1.3. To keep the past behaviour, explicitly set `max_features='sqrt'` or remove this parameter as it is also the default value for RandomForestClassifiers and ExtraTreesClassifiers.\n",
      "  warn(\n",
      "C:\\Users\\catat\\anaconda3\\lib\\site-packages\\sklearn\\ensemble\\_forest.py:427: FutureWarning: `max_features='auto'` has been deprecated in 1.1 and will be removed in 1.3. To keep the past behaviour, explicitly set `max_features='sqrt'` or remove this parameter as it is also the default value for RandomForestClassifiers and ExtraTreesClassifiers.\n",
      "  warn(\n",
      "C:\\Users\\catat\\anaconda3\\lib\\site-packages\\sklearn\\ensemble\\_forest.py:427: FutureWarning: `max_features='auto'` has been deprecated in 1.1 and will be removed in 1.3. To keep the past behaviour, explicitly set `max_features='sqrt'` or remove this parameter as it is also the default value for RandomForestClassifiers and ExtraTreesClassifiers.\n",
      "  warn(\n",
      "C:\\Users\\catat\\anaconda3\\lib\\site-packages\\sklearn\\ensemble\\_forest.py:427: FutureWarning: `max_features='auto'` has been deprecated in 1.1 and will be removed in 1.3. To keep the past behaviour, explicitly set `max_features='sqrt'` or remove this parameter as it is also the default value for RandomForestClassifiers and ExtraTreesClassifiers.\n",
      "  warn(\n",
      "C:\\Users\\catat\\anaconda3\\lib\\site-packages\\sklearn\\ensemble\\_forest.py:427: FutureWarning: `max_features='auto'` has been deprecated in 1.1 and will be removed in 1.3. To keep the past behaviour, explicitly set `max_features='sqrt'` or remove this parameter as it is also the default value for RandomForestClassifiers and ExtraTreesClassifiers.\n",
      "  warn(\n",
      "C:\\Users\\catat\\anaconda3\\lib\\site-packages\\sklearn\\ensemble\\_forest.py:427: FutureWarning: `max_features='auto'` has been deprecated in 1.1 and will be removed in 1.3. To keep the past behaviour, explicitly set `max_features='sqrt'` or remove this parameter as it is also the default value for RandomForestClassifiers and ExtraTreesClassifiers.\n",
      "  warn(\n",
      "C:\\Users\\catat\\anaconda3\\lib\\site-packages\\sklearn\\ensemble\\_forest.py:427: FutureWarning: `max_features='auto'` has been deprecated in 1.1 and will be removed in 1.3. To keep the past behaviour, explicitly set `max_features='sqrt'` or remove this parameter as it is also the default value for RandomForestClassifiers and ExtraTreesClassifiers.\n",
      "  warn(\n",
      "C:\\Users\\catat\\anaconda3\\lib\\site-packages\\sklearn\\ensemble\\_forest.py:427: FutureWarning: `max_features='auto'` has been deprecated in 1.1 and will be removed in 1.3. To keep the past behaviour, explicitly set `max_features='sqrt'` or remove this parameter as it is also the default value for RandomForestClassifiers and ExtraTreesClassifiers.\n",
      "  warn(\n",
      "C:\\Users\\catat\\anaconda3\\lib\\site-packages\\sklearn\\ensemble\\_forest.py:427: FutureWarning: `max_features='auto'` has been deprecated in 1.1 and will be removed in 1.3. To keep the past behaviour, explicitly set `max_features='sqrt'` or remove this parameter as it is also the default value for RandomForestClassifiers and ExtraTreesClassifiers.\n",
      "  warn(\n",
      "C:\\Users\\catat\\anaconda3\\lib\\site-packages\\sklearn\\ensemble\\_forest.py:427: FutureWarning: `max_features='auto'` has been deprecated in 1.1 and will be removed in 1.3. To keep the past behaviour, explicitly set `max_features='sqrt'` or remove this parameter as it is also the default value for RandomForestClassifiers and ExtraTreesClassifiers.\n",
      "  warn(\n",
      "C:\\Users\\catat\\anaconda3\\lib\\site-packages\\sklearn\\ensemble\\_forest.py:427: FutureWarning: `max_features='auto'` has been deprecated in 1.1 and will be removed in 1.3. To keep the past behaviour, explicitly set `max_features='sqrt'` or remove this parameter as it is also the default value for RandomForestClassifiers and ExtraTreesClassifiers.\n",
      "  warn(\n",
      "C:\\Users\\catat\\anaconda3\\lib\\site-packages\\sklearn\\ensemble\\_forest.py:427: FutureWarning: `max_features='auto'` has been deprecated in 1.1 and will be removed in 1.3. To keep the past behaviour, explicitly set `max_features='sqrt'` or remove this parameter as it is also the default value for RandomForestClassifiers and ExtraTreesClassifiers.\n",
      "  warn(\n"
     ]
    },
    {
     "name": "stdout",
     "output_type": "stream",
     "text": [
      "CV PARAMS:  {'criterion': 'gini', 'max_depth': 10, 'max_features': 'log2', 'n_estimators': 30}\n",
      "BEST MODEL:  RandomForestClassifier(max_depth=10, max_features='log2', n_estimators=30,\n",
      "                       random_state=0)\n"
     ]
    }
   ],
   "source": [
    "best_mod = best_model(model, grid, train_listings_prepared, ratings_transformed_train)"
   ]
  },
  {
   "cell_type": "code",
   "execution_count": 94,
   "id": "15bba7ba",
   "metadata": {},
   "outputs": [
    {
     "name": "stdout",
     "output_type": "stream",
     "text": [
      "48.1%\n"
     ]
    }
   ],
   "source": [
    "from sklearn.metrics import accuracy_score\n",
    "y_pred_test = best_mod.predict(test_listings_prepared)\n",
    "acc = accuracy_score(y_pred_test, ratings_transformed_test)\n",
    "print(round(acc*100, 2), \"%\", sep=\"\")"
   ]
  },
  {
   "cell_type": "code",
   "execution_count": 95,
   "id": "3a6b8bc6",
   "metadata": {},
   "outputs": [
    {
     "name": "stdout",
     "output_type": "stream",
     "text": [
      "[[  0 101]\n",
      " [  1 175]\n",
      " [  2 337]\n",
      " [  3 274]\n",
      " [  4 336]\n",
      " [  5  16]]\n",
      "[[   0  369]\n",
      " [   1  660]\n",
      " [   2 1314]\n",
      " [   3 1093]\n",
      " [   4 1430]\n",
      " [   5  104]]\n"
     ]
    }
   ],
   "source": [
    "unique, counts = np.unique(ratings_transformed_test, return_counts=True)\n",
    "print(np.asarray((unique, counts)).T)\n",
    "unique, counts = np.unique(ratings_transformed_train, return_counts=True)\n",
    "print(np.asarray((unique, counts)).T)"
   ]
  },
  {
   "cell_type": "code",
   "execution_count": 47,
   "id": "b1e64984",
   "metadata": {},
   "outputs": [
    {
     "data": {
      "image/png": "[encoded data removed]",
      "text/plain": [
       "<Figure size 720x432 with 2 Axes>"
      ]
     },
     "metadata": {
      "needs_background": "light"
     },
     "output_type": "display_data"
    }
   ],
   "source": [
    "from sklearn.metrics import confusion_matrix\n",
    "plt.figure(figsize=(10,6))\n",
    "fx=sns.heatmap(confusion_matrix(ratings_transformed_test,y_pred_test), annot=True, fmt=\".2f\",cmap=\"GnBu\")\n",
    "fx.set_title('Confusion Matrix \\n');\n",
    "fx.set_xlabel('\\n Predicted Values\\n')\n",
    "fx.set_ylabel('Actual Values\\n');\n",
    "fx.xaxis.set_ticklabels(['nan', '0-4','4-4.5','4.5-4.8', '4.8-4.95', '4.95-5'])\n",
    "fx.yaxis.set_ticklabels(['nan', '0-4','4-4.5','4.5-4.8', '4.8-4.95', '4.95-5'])\n",
    "plt.show()"
   ]
  },
  {
   "cell_type": "markdown",
   "id": "070aabf7",
   "metadata": {},
   "source": [
    "## Ridge classifier"
   ]
  },
  {
   "cell_type": "code",
   "execution_count": 50,
   "id": "92f40e8a",
   "metadata": {},
   "outputs": [
    {
     "data": {
      "image/png": "[encoded data removed]",
      "text/plain": [
       "<Figure size 432x288 with 1 Axes>"
      ]
     },
     "metadata": {
      "needs_background": "light"
     },
     "output_type": "display_data"
    }
   ],
   "source": [
    "# search for an optimal value for C\n",
    "from sklearn.linear_model import RidgeClassifier\n",
    "\n",
    "from sklearn.model_selection import cross_val_score\n",
    "C_range = range(10, 50)\n",
    "C_scores = []\n",
    "for C in C_range:\n",
    "    ridge = RidgeClassifier(alpha=1/(2*C))\n",
    "    scores = cross_val_score(ridge, train_listings_prepared, ratings_transformed_train, cv=5, scoring='accuracy')\n",
    "    C_scores.append(scores.mean())\n",
    "\n",
    "    \n",
    "plt.errorbar(C_range, C_scores, xerr=0.2, yerr=0.4)\n",
    "plt.xlabel('Value of C for Ridge')\n",
    "plt.ylabel('Accuracy')\n",
    "plt.show()"
   ]
  },
  {
   "cell_type": "code",
   "execution_count": 51,
   "id": "787be3cc",
   "metadata": {},
   "outputs": [],
   "source": [
    "def plot_learning_curves(model, X_train, y_train, X_test, y_test):\n",
    "    train_errors, test_errors = [], []\n",
    "    for m in range(1, len(X_train) + 1):\n",
    "        y_train_predict = model.predict(X_train[:m])\n",
    "        y_test_predict = model.predict(X_test)\n",
    "        train_errors.append(accuracy_score(y_train[:m], y_train_predict))\n",
    "        test_errors.append(accuracy_score(y_test, y_test_predict))\n",
    "        \n",
    "    plt.plot(train_errors, \"r-+\", linewidth=2, label=\"train\")\n",
    "    plt.plot(test_errors, \"b-\", linewidth=3, label=\"test\")\n",
    "    plt.legend(loc=\"upper right\", fontsize=14)   \n",
    "    plt.xlabel(\"Training set size\", fontsize=14)\n",
    "    plt.ylabel(\"Accuracy\", fontsize=14)  \n",
    "        "
   ]
  },
  {
   "cell_type": "code",
   "execution_count": 56,
   "id": "a6020281",
   "metadata": {},
   "outputs": [
    {
     "data": {
      "image/png": "[encoded data removed]",
      "text/plain": [
       "<Figure size 432x288 with 1 Axes>"
      ]
     },
     "metadata": {
      "needs_background": "light"
     },
     "output_type": "display_data"
    }
   ],
   "source": [
    "ridge_1 = RidgeClassifier(alpha=1)\n",
    "ridge_1.fit(train_listings_prepared, ratings_transformed_train)\n",
    "plot_learning_curves(ridge_1, train_listings_prepared, ratings_transformed_train, test_listings_prepared, ratings_transformed_test)"
   ]
  },
  {
   "cell_type": "code",
   "execution_count": 57,
   "id": "3d7b6286",
   "metadata": {},
   "outputs": [
    {
     "data": {
      "image/png": "[encoded data removed]",
      "text/plain": [
       "<Figure size 432x288 with 1 Axes>"
      ]
     },
     "metadata": {
      "needs_background": "light"
     },
     "output_type": "display_data"
    }
   ],
   "source": [
    "ridge_2 = RidgeClassifier(alpha=0.5)\n",
    "ridge_2.fit(train_listings_prepared, ratings_transformed_train)\n",
    "plot_learning_curves(ridge_2, train_listings_prepared, ratings_transformed_train, test_listings_prepared, ratings_transformed_test)"
   ]
  },
  {
   "cell_type": "code",
   "execution_count": 58,
   "id": "f33405f7",
   "metadata": {},
   "outputs": [
    {
     "data": {
      "image/png": "[encoded data removed]",
      "text/plain": [
       "<Figure size 432x288 with 1 Axes>"
      ]
     },
     "metadata": {
      "needs_background": "light"
     },
     "output_type": "display_data"
    }
   ],
   "source": [
    "ridge_3 = RidgeClassifier(alpha=0.005)\n",
    "ridge_3.fit(train_listings_prepared, ratings_transformed_train)\n",
    "plot_learning_curves(ridge_3, train_listings_prepared, ratings_transformed_train, test_listings_prepared, ratings_transformed_test)"
   ]
  },
  {
   "cell_type": "markdown",
   "id": "4205d7bb",
   "metadata": {},
   "source": [
    "## kNN classifier"
   ]
  },
  {
   "cell_type": "code",
   "execution_count": 61,
   "id": "2b3ad63b",
   "metadata": {
    "scrolled": true
   },
   "outputs": [
    {
     "data": {
      "image/png": "[encoded data removed]",
      "text/plain": [
       "<Figure size 432x288 with 1 Axes>"
      ]
     },
     "metadata": {
      "needs_background": "light"
     },
     "output_type": "display_data"
    }
   ],
   "source": [
    "from sklearn.neighbors import KNeighborsClassifier\n",
    "k_range = range(3, 12)\n",
    "k_scores = []\n",
    "k_alternative = []\n",
    "for k in k_range:\n",
    "    kNN = KNeighborsClassifier(n_neighbors=k, weights='uniform')\n",
    "    scores = cross_val_score(kNN, train_listings_prepared, ratings_transformed_train, cv=5, scoring='accuracy')\n",
    "    k_scores.append(scores.mean())\n",
    "    \n",
    "plt.errorbar(k_range, k_scores, xerr=0.2, yerr=0.4)\n",
    "plt.xlabel('Value of k for kNN')\n",
    "plt.ylabel('Accuracy on train data')\n",
    "plt.show()"
   ]
  },
  {
   "cell_type": "markdown",
   "id": "885b0882",
   "metadata": {},
   "source": [
    "## Gaussian Naive Bayes"
   ]
  },
  {
   "cell_type": "code",
   "execution_count": 73,
   "id": "5db45874",
   "metadata": {},
   "outputs": [],
   "source": [
    "from sklearn.naive_bayes import GaussianNB\n",
    "model = GaussianNB()\n",
    "grid = {\"var_smoothing\" : [1e-01, 1e-05, 1e-09, 1e-15]}"
   ]
  },
  {
   "cell_type": "code",
   "execution_count": 74,
   "id": "66b7ad22",
   "metadata": {},
   "outputs": [
    {
     "name": "stdout",
     "output_type": "stream",
     "text": [
      "CV PARAMS:  {'var_smoothing': 1e-05}\n",
      "BEST MODEL:  GaussianNB(var_smoothing=1e-05)\n"
     ]
    }
   ],
   "source": [
    "best_mod = best_model(model, grid, train_listings_prepared, ratings_transformed_train)"
   ]
  },
  {
   "cell_type": "code",
   "execution_count": 75,
   "id": "9eae74f0",
   "metadata": {},
   "outputs": [
    {
     "name": "stdout",
     "output_type": "stream",
     "text": [
      "40.28%\n"
     ]
    }
   ],
   "source": [
    "best_mod.fit(train_listings_prepared, ratings_transformed_train)\n",
    "y_pred_train = best_mod.predict(train_listings_prepared)\n",
    "acc = accuracy_score(y_pred_train, ratings_transformed_train)\n",
    "print(round(acc*100, 2), \"%\", sep=\"\")"
   ]
  },
  {
   "cell_type": "markdown",
   "id": "b156de76",
   "metadata": {},
   "source": [
    "## CNN model"
   ]
  },
  {
   "cell_type": "markdown",
   "id": "14b89135",
   "metadata": {},
   "source": [
    "split the data furthermore so we have a validation batch for the training"
   ]
  },
  {
   "cell_type": "code",
   "execution_count": 43,
   "id": "32208a20",
   "metadata": {},
   "outputs": [
    {
     "data": {
      "text/plain": [
       "6052"
      ]
     },
     "execution_count": 43,
     "metadata": {},
     "output_type": "execute_result"
    }
   ],
   "source": [
    "len(train_listings_prepared)"
   ]
  },
  {
   "cell_type": "code",
   "execution_count": 44,
   "id": "61317cfa",
   "metadata": {},
   "outputs": [],
   "source": [
    "X_train, X_valid = train_listings_prepared[:5500], train_listings_prepared[5500:]\n",
    "y_train, y_valid = ratings_transformed_train[:5500], ratings_transformed_train[5500:]"
   ]
  },
  {
   "cell_type": "code",
   "execution_count": 45,
   "id": "f0538562",
   "metadata": {},
   "outputs": [
    {
     "name": "stdout",
     "output_type": "stream",
     "text": [
      "5500\n",
      "552\n"
     ]
    }
   ],
   "source": [
    "print(len(X_train))\n",
    "print(len(X_valid))"
   ]
  },
  {
   "cell_type": "code",
   "execution_count": 46,
   "id": "e4aae224",
   "metadata": {},
   "outputs": [],
   "source": [
    "import tensorflow as tf\n",
    "from tensorflow import keras\n",
    "assert tf.__version__ >= \"2.0\""
   ]
  },
  {
   "cell_type": "markdown",
   "id": "3ce33cad",
   "metadata": {},
   "source": [
    "### Train using Leaky ReLU "
   ]
  },
  {
   "cell_type": "code",
   "execution_count": 53,
   "id": "ed3d6402",
   "metadata": {},
   "outputs": [],
   "source": [
    "tf.random.set_seed(42)\n",
    "np.random.seed(42)\n",
    "\n",
    "model = keras.models.Sequential([\n",
    "    keras.layers.Flatten(input_shape=[40]),\n",
    "    keras.layers.Dense(300, kernel_initializer=\"he_normal\"),\n",
    "    keras.layers.LeakyReLU(),\n",
    "    keras.layers.Dense(100, kernel_initializer=\"he_normal\"),\n",
    "    keras.layers.LeakyReLU(),\n",
    "    keras.layers.Dense(6, activation=\"softmax\")\n",
    "])"
   ]
  },
  {
   "cell_type": "code",
   "execution_count": 54,
   "id": "4dc17427",
   "metadata": {},
   "outputs": [],
   "source": [
    "model.compile(loss=\"sparse_categorical_crossentropy\",\n",
    "              optimizer=keras.optimizers.SGD(learning_rate=1e-3),\n",
    "              metrics=[\"accuracy\"])"
   ]
  },
  {
   "cell_type": "code",
   "execution_count": 55,
   "id": "548c8b8b",
   "metadata": {
    "scrolled": true
   },
   "outputs": [
    {
     "name": "stdout",
     "output_type": "stream",
     "text": [
      "Epoch 1/20\n",
      "172/172 [==============================] - 1s 2ms/step - loss: 1.9741 - accuracy: 0.1873 - val_loss: 1.8131 - val_accuracy: 0.2337\n",
      "Epoch 2/20\n",
      "172/172 [==============================] - 0s 1ms/step - loss: 1.7157 - accuracy: 0.2840 - val_loss: 1.6791 - val_accuracy: 0.3243\n",
      "Epoch 3/20\n",
      "172/172 [==============================] - 0s 1ms/step - loss: 1.6167 - accuracy: 0.3395 - val_loss: 1.6129 - val_accuracy: 0.3478\n",
      "Epoch 4/20\n",
      "172/172 [==============================] - 0s 1ms/step - loss: 1.5576 - accuracy: 0.3704 - val_loss: 1.5715 - val_accuracy: 0.3569\n",
      "Epoch 5/20\n",
      "172/172 [==============================] - 0s 1ms/step - loss: 1.5183 - accuracy: 0.3962 - val_loss: 1.5412 - val_accuracy: 0.3750\n",
      "Epoch 6/20\n",
      "172/172 [==============================] - 0s 1ms/step - loss: 1.4899 - accuracy: 0.4067 - val_loss: 1.5196 - val_accuracy: 0.3859\n",
      "Epoch 7/20\n",
      "172/172 [==============================] - 0s 1ms/step - loss: 1.4682 - accuracy: 0.4171 - val_loss: 1.5027 - val_accuracy: 0.4022\n",
      "Epoch 8/20\n",
      "172/172 [==============================] - 0s 1ms/step - loss: 1.4505 - accuracy: 0.4262 - val_loss: 1.4888 - val_accuracy: 0.4112\n",
      "Epoch 9/20\n",
      "172/172 [==============================] - 0s 1ms/step - loss: 1.4365 - accuracy: 0.4282 - val_loss: 1.4784 - val_accuracy: 0.4167\n",
      "Epoch 10/20\n",
      "172/172 [==============================] - 0s 1ms/step - loss: 1.4239 - accuracy: 0.4340 - val_loss: 1.4686 - val_accuracy: 0.4167\n",
      "Epoch 11/20\n",
      "172/172 [==============================] - 0s 1ms/step - loss: 1.4134 - accuracy: 0.4375 - val_loss: 1.4600 - val_accuracy: 0.4185\n",
      "Epoch 12/20\n",
      "172/172 [==============================] - 0s 1ms/step - loss: 1.4037 - accuracy: 0.4440 - val_loss: 1.4543 - val_accuracy: 0.4185\n",
      "Epoch 13/20\n",
      "172/172 [==============================] - 0s 1ms/step - loss: 1.3955 - accuracy: 0.4444 - val_loss: 1.4470 - val_accuracy: 0.4257\n",
      "Epoch 14/20\n",
      "172/172 [==============================] - 0s 1ms/step - loss: 1.3877 - accuracy: 0.4485 - val_loss: 1.4404 - val_accuracy: 0.4221\n",
      "Epoch 15/20\n",
      "172/172 [==============================] - 0s 2ms/step - loss: 1.3806 - accuracy: 0.4493 - val_loss: 1.4339 - val_accuracy: 0.4275\n",
      "Epoch 16/20\n",
      "172/172 [==============================] - 0s 1ms/step - loss: 1.3739 - accuracy: 0.4520 - val_loss: 1.4286 - val_accuracy: 0.4312\n",
      "Epoch 17/20\n",
      "172/172 [==============================] - 0s 1ms/step - loss: 1.3678 - accuracy: 0.4540 - val_loss: 1.4263 - val_accuracy: 0.4293\n",
      "Epoch 18/20\n",
      "172/172 [==============================] - 0s 1ms/step - loss: 1.3623 - accuracy: 0.4544 - val_loss: 1.4216 - val_accuracy: 0.4330\n",
      "Epoch 19/20\n",
      "172/172 [==============================] - 0s 2ms/step - loss: 1.3570 - accuracy: 0.4580 - val_loss: 1.4173 - val_accuracy: 0.4330\n",
      "Epoch 20/20\n",
      "172/172 [==============================] - 0s 1ms/step - loss: 1.3517 - accuracy: 0.4587 - val_loss: 1.4138 - val_accuracy: 0.4384\n"
     ]
    }
   ],
   "source": [
    "history = model.fit(X_train, y_train, epochs=20,\n",
    "                    validation_data=(X_valid, y_valid))"
   ]
  },
  {
   "cell_type": "markdown",
   "id": "b542748b",
   "metadata": {},
   "source": [
    "### PReLU"
   ]
  },
  {
   "cell_type": "code",
   "execution_count": 103,
   "id": "442b92a7",
   "metadata": {},
   "outputs": [],
   "source": [
    "tf.random.set_seed(42)\n",
    "np.random.seed(42)\n",
    "\n",
    "model = keras.models.Sequential([\n",
    "    keras.layers.Flatten(input_shape=[39]),\n",
    "    keras.layers.Dense(300, kernel_initializer=\"he_normal\"),\n",
    "    keras.layers.PReLU(),\n",
    "    keras.layers.Dense(100, kernel_initializer=\"he_normal\"),\n",
    "    keras.layers.PReLU(),\n",
    "    keras.layers.Dense(10, activation=\"softmax\")\n",
    "])"
   ]
  },
  {
   "cell_type": "code",
   "execution_count": 104,
   "id": "def9082c",
   "metadata": {},
   "outputs": [],
   "source": [
    "model.compile(loss=\"sparse_categorical_crossentropy\",\n",
    "              optimizer=keras.optimizers.SGD(learning_rate=1e-3),\n",
    "              metrics=[\"accuracy\"])"
   ]
  },
  {
   "cell_type": "code",
   "execution_count": 106,
   "id": "82df085a",
   "metadata": {},
   "outputs": [
    {
     "name": "stdout",
     "output_type": "stream",
     "text": [
      "Epoch 1/20\n",
      "172/172 [==============================] - 0s 2ms/step - loss: 1.4701 - accuracy: 0.4289 - val_loss: 1.4948 - val_accuracy: 0.4293\n",
      "Epoch 2/20\n",
      "172/172 [==============================] - 0s 3ms/step - loss: 1.4562 - accuracy: 0.4331 - val_loss: 1.4823 - val_accuracy: 0.4366\n",
      "Epoch 3/20\n",
      "172/172 [==============================] - 1s 4ms/step - loss: 1.4442 - accuracy: 0.4353 - val_loss: 1.4734 - val_accuracy: 0.4366\n",
      "Epoch 4/20\n",
      "172/172 [==============================] - 0s 2ms/step - loss: 1.4328 - accuracy: 0.4391 - val_loss: 1.4654 - val_accuracy: 0.4348\n",
      "Epoch 5/20\n",
      "172/172 [==============================] - 0s 2ms/step - loss: 1.4230 - accuracy: 0.4445 - val_loss: 1.4561 - val_accuracy: 0.4402\n",
      "Epoch 6/20\n",
      "172/172 [==============================] - 0s 2ms/step - loss: 1.4137 - accuracy: 0.4473 - val_loss: 1.4488 - val_accuracy: 0.4420\n",
      "Epoch 7/20\n",
      "172/172 [==============================] - 0s 2ms/step - loss: 1.4050 - accuracy: 0.4485 - val_loss: 1.4428 - val_accuracy: 0.4475\n",
      "Epoch 8/20\n",
      "172/172 [==============================] - 0s 2ms/step - loss: 1.3971 - accuracy: 0.4518 - val_loss: 1.4352 - val_accuracy: 0.4420\n",
      "Epoch 9/20\n",
      "172/172 [==============================] - 0s 3ms/step - loss: 1.3903 - accuracy: 0.4567 - val_loss: 1.4297 - val_accuracy: 0.4384\n",
      "Epoch 10/20\n",
      "172/172 [==============================] - 0s 2ms/step - loss: 1.3832 - accuracy: 0.4575 - val_loss: 1.4243 - val_accuracy: 0.4366\n",
      "Epoch 11/20\n",
      "172/172 [==============================] - 0s 2ms/step - loss: 1.3771 - accuracy: 0.4582 - val_loss: 1.4188 - val_accuracy: 0.4457\n",
      "Epoch 12/20\n",
      "172/172 [==============================] - 0s 2ms/step - loss: 1.3708 - accuracy: 0.4598 - val_loss: 1.4148 - val_accuracy: 0.4457\n",
      "Epoch 13/20\n",
      "172/172 [==============================] - 0s 2ms/step - loss: 1.3653 - accuracy: 0.4647 - val_loss: 1.4092 - val_accuracy: 0.4511\n",
      "Epoch 14/20\n",
      "172/172 [==============================] - 1s 3ms/step - loss: 1.3597 - accuracy: 0.4678 - val_loss: 1.4053 - val_accuracy: 0.4475\n",
      "Epoch 15/20\n",
      "172/172 [==============================] - 0s 3ms/step - loss: 1.3545 - accuracy: 0.4684 - val_loss: 1.3999 - val_accuracy: 0.4438\n",
      "Epoch 16/20\n",
      "172/172 [==============================] - 0s 2ms/step - loss: 1.3494 - accuracy: 0.4713 - val_loss: 1.3968 - val_accuracy: 0.4583\n",
      "Epoch 17/20\n",
      "172/172 [==============================] - 0s 2ms/step - loss: 1.3443 - accuracy: 0.4738 - val_loss: 1.3929 - val_accuracy: 0.4547\n",
      "Epoch 18/20\n",
      "172/172 [==============================] - 0s 2ms/step - loss: 1.3401 - accuracy: 0.4731 - val_loss: 1.3894 - val_accuracy: 0.4511\n",
      "Epoch 19/20\n",
      "172/172 [==============================] - 0s 3ms/step - loss: 1.3357 - accuracy: 0.4780 - val_loss: 1.3850 - val_accuracy: 0.4565\n",
      "Epoch 20/20\n",
      "172/172 [==============================] - 1s 3ms/step - loss: 1.3313 - accuracy: 0.4787 - val_loss: 1.3810 - val_accuracy: 0.4565\n"
     ]
    }
   ],
   "source": [
    "history = model.fit(X_train, y_train, epochs=20,\n",
    "                    validation_data=(X_valid, y_valid))"
   ]
  },
  {
   "cell_type": "markdown",
   "id": "82688b85",
   "metadata": {},
   "source": [
    "### Selu model"
   ]
  },
  {
   "cell_type": "code",
   "execution_count": 115,
   "id": "0799914e",
   "metadata": {},
   "outputs": [],
   "source": [
    "model = keras.models.Sequential()\n",
    "model.add(keras.layers.Flatten(input_shape=[39]))\n",
    "model.add(keras.layers.Dense(300, activation=\"selu\",\n",
    "                             kernel_initializer=\"lecun_normal\"))\n",
    "for layer in range(99):\n",
    "    model.add(keras.layers.Dense(100, activation=\"selu\",\n",
    "                                 kernel_initializer=\"lecun_normal\"))\n",
    "model.add(keras.layers.Dense(10, activation=\"softmax\"))"
   ]
  },
  {
   "cell_type": "code",
   "execution_count": 116,
   "id": "d6788752",
   "metadata": {},
   "outputs": [],
   "source": [
    "model.compile(loss=\"sparse_categorical_crossentropy\",\n",
    "              optimizer=keras.optimizers.SGD(learning_rate=1e-3),\n",
    "              metrics=[\"accuracy\"])"
   ]
  },
  {
   "cell_type": "code",
   "execution_count": 117,
   "id": "add8a3e8",
   "metadata": {},
   "outputs": [
    {
     "name": "stdout",
     "output_type": "stream",
     "text": [
      "Epoch 1/5\n",
      "172/172 [==============================] - 6s 17ms/step - loss: 1.7929 - accuracy: 0.2578 - val_loss: 1.6536 - val_accuracy: 0.2862\n",
      "Epoch 2/5\n",
      "172/172 [==============================] - 2s 14ms/step - loss: 1.6159 - accuracy: 0.3360 - val_loss: 1.5567 - val_accuracy: 0.3623\n",
      "Epoch 3/5\n",
      "172/172 [==============================] - 3s 15ms/step - loss: 1.5646 - accuracy: 0.3491 - val_loss: 1.5175 - val_accuracy: 0.3949\n",
      "Epoch 4/5\n",
      "172/172 [==============================] - 2s 13ms/step - loss: 1.4933 - accuracy: 0.3758 - val_loss: 1.5006 - val_accuracy: 0.3750\n",
      "Epoch 5/5\n",
      "172/172 [==============================] - 2s 13ms/step - loss: 1.4700 - accuracy: 0.4022 - val_loss: 1.4674 - val_accuracy: 0.4040\n"
     ]
    }
   ],
   "source": [
    "history = model.fit(X_train, y_train, epochs=5,\n",
    "                    validation_data=(X_valid, y_valid))"
   ]
  },
  {
   "cell_type": "markdown",
   "id": "bfc41900",
   "metadata": {},
   "source": [
    "## Batch normalization"
   ]
  },
  {
   "cell_type": "code",
   "execution_count": 121,
   "id": "a78a4bff",
   "metadata": {},
   "outputs": [],
   "source": [
    "model = keras.models.Sequential([\n",
    "    keras.layers.Flatten(input_shape=[39]),\n",
    "    keras.layers.BatchNormalization(),\n",
    "    keras.layers.Dense(300, activation=\"relu\"),\n",
    "    keras.layers.BatchNormalization(),\n",
    "    keras.layers.Dense(100, activation=\"relu\"),\n",
    "    keras.layers.BatchNormalization(),\n",
    "    keras.layers.Dense(10, activation=\"softmax\")\n",
    "])"
   ]
  },
  {
   "cell_type": "code",
   "execution_count": 122,
   "id": "d84a81e4",
   "metadata": {},
   "outputs": [
    {
     "name": "stdout",
     "output_type": "stream",
     "text": [
      "Model: \"sequential_12\"\n",
      "_________________________________________________________________\n",
      " Layer (type)                Output Shape              Param #   \n",
      "=================================================================\n",
      " flatten_12 (Flatten)        (None, 39)                0         \n",
      "                                                                 \n",
      " batch_normalization_6 (Batc  (None, 39)               156       \n",
      " hNormalization)                                                 \n",
      "                                                                 \n",
      " dense_428 (Dense)           (None, 300)               12000     \n",
      "                                                                 \n",
      " batch_normalization_7 (Batc  (None, 300)              1200      \n",
      " hNormalization)                                                 \n",
      "                                                                 \n",
      " dense_429 (Dense)           (None, 100)               30100     \n",
      "                                                                 \n",
      " batch_normalization_8 (Batc  (None, 100)              400       \n",
      " hNormalization)                                                 \n",
      "                                                                 \n",
      " dense_430 (Dense)           (None, 10)                1010      \n",
      "                                                                 \n",
      "=================================================================\n",
      "Total params: 44,866\n",
      "Trainable params: 43,988\n",
      "Non-trainable params: 878\n",
      "_________________________________________________________________\n"
     ]
    }
   ],
   "source": [
    "model.summary()"
   ]
  },
  {
   "cell_type": "code",
   "execution_count": 123,
   "id": "c17a6767",
   "metadata": {},
   "outputs": [],
   "source": [
    "model.compile(loss=\"sparse_categorical_crossentropy\",\n",
    "              optimizer=keras.optimizers.SGD(learning_rate=1e-3),\n",
    "              metrics=[\"accuracy\"])"
   ]
  },
  {
   "cell_type": "code",
   "execution_count": 125,
   "id": "74bd5c10",
   "metadata": {},
   "outputs": [
    {
     "name": "stdout",
     "output_type": "stream",
     "text": [
      "Epoch 1/20\n",
      "172/172 [==============================] - 1s 3ms/step - loss: 1.5777 - accuracy: 0.4620 - val_loss: 1.7093 - val_accuracy: 0.4475\n",
      "Epoch 2/20\n",
      "172/172 [==============================] - 0s 3ms/step - loss: 1.5562 - accuracy: 0.4740 - val_loss: 1.6852 - val_accuracy: 0.4565\n",
      "Epoch 3/20\n",
      "172/172 [==============================] - 1s 3ms/step - loss: 1.5322 - accuracy: 0.4796 - val_loss: 1.6618 - val_accuracy: 0.4620\n",
      "Epoch 4/20\n",
      "172/172 [==============================] - 1s 3ms/step - loss: 1.5097 - accuracy: 0.4809 - val_loss: 1.6441 - val_accuracy: 0.4601\n",
      "Epoch 5/20\n",
      "172/172 [==============================] - 0s 3ms/step - loss: 1.4907 - accuracy: 0.4911 - val_loss: 1.6273 - val_accuracy: 0.4638\n",
      "Epoch 6/20\n",
      "172/172 [==============================] - 0s 3ms/step - loss: 1.4675 - accuracy: 0.4898 - val_loss: 1.6120 - val_accuracy: 0.4547\n",
      "Epoch 7/20\n",
      "172/172 [==============================] - 1s 3ms/step - loss: 1.4581 - accuracy: 0.4915 - val_loss: 1.6038 - val_accuracy: 0.4547\n",
      "Epoch 8/20\n",
      "172/172 [==============================] - 1s 3ms/step - loss: 1.4320 - accuracy: 0.5016 - val_loss: 1.5845 - val_accuracy: 0.4565\n",
      "Epoch 9/20\n",
      "172/172 [==============================] - 1s 3ms/step - loss: 1.4174 - accuracy: 0.5045 - val_loss: 1.5747 - val_accuracy: 0.4457\n",
      "Epoch 10/20\n",
      "172/172 [==============================] - 1s 4ms/step - loss: 1.4008 - accuracy: 0.5071 - val_loss: 1.5627 - val_accuracy: 0.4511\n",
      "Epoch 11/20\n",
      "172/172 [==============================] - 1s 4ms/step - loss: 1.3886 - accuracy: 0.5033 - val_loss: 1.5552 - val_accuracy: 0.4493\n",
      "Epoch 12/20\n",
      "172/172 [==============================] - 1s 3ms/step - loss: 1.3742 - accuracy: 0.5109 - val_loss: 1.5391 - val_accuracy: 0.4565\n",
      "Epoch 13/20\n",
      "172/172 [==============================] - 0s 3ms/step - loss: 1.3833 - accuracy: 0.5073 - val_loss: 1.5205 - val_accuracy: 0.4620\n",
      "Epoch 14/20\n",
      "172/172 [==============================] - 1s 3ms/step - loss: 1.3498 - accuracy: 0.5125 - val_loss: 1.5198 - val_accuracy: 0.4620\n",
      "Epoch 15/20\n",
      "172/172 [==============================] - 1s 3ms/step - loss: 1.3419 - accuracy: 0.5165 - val_loss: 1.5075 - val_accuracy: 0.4656\n",
      "Epoch 16/20\n",
      "172/172 [==============================] - 1s 3ms/step - loss: 1.3220 - accuracy: 0.5178 - val_loss: 1.5006 - val_accuracy: 0.4583\n",
      "Epoch 17/20\n",
      "172/172 [==============================] - 1s 3ms/step - loss: 1.3211 - accuracy: 0.5202 - val_loss: 1.4945 - val_accuracy: 0.4601\n",
      "Epoch 18/20\n",
      "172/172 [==============================] - 1s 3ms/step - loss: 1.3025 - accuracy: 0.5284 - val_loss: 1.4916 - val_accuracy: 0.4638\n",
      "Epoch 19/20\n",
      "172/172 [==============================] - 1s 3ms/step - loss: 1.3039 - accuracy: 0.5225 - val_loss: 1.4695 - val_accuracy: 0.4620\n",
      "Epoch 20/20\n",
      "172/172 [==============================] - 1s 3ms/step - loss: 1.2878 - accuracy: 0.5209 - val_loss: 1.4729 - val_accuracy: 0.4601\n"
     ]
    }
   ],
   "source": [
    "history = model.fit(X_train, y_train, epochs=20,\n",
    "                    validation_data=(X_valid, y_valid))"
   ]
  },
  {
   "cell_type": "markdown",
   "id": "fc3bfdf5",
   "metadata": {},
   "source": [
    "second approach towards batch normalization"
   ]
  },
  {
   "cell_type": "code",
   "execution_count": 129,
   "id": "c4654ead",
   "metadata": {},
   "outputs": [],
   "source": [
    "model = keras.models.Sequential([\n",
    "    keras.layers.Flatten(input_shape=[39]),\n",
    "    keras.layers.BatchNormalization(),\n",
    "    keras.layers.Dense(300, use_bias=False),\n",
    "    keras.layers.BatchNormalization(),\n",
    "    keras.layers.Activation(\"relu\"),\n",
    "    keras.layers.Dense(100, use_bias=False),\n",
    "    keras.layers.BatchNormalization(),\n",
    "    keras.layers.Activation(\"relu\"),\n",
    "    keras.layers.Dense(10, activation=\"softmax\")\n",
    "])"
   ]
  },
  {
   "cell_type": "code",
   "execution_count": 130,
   "id": "41657de1",
   "metadata": {},
   "outputs": [],
   "source": [
    "model.compile(loss=\"sparse_categorical_crossentropy\",\n",
    "              optimizer=keras.optimizers.SGD(learning_rate=1e-3),\n",
    "              metrics=[\"accuracy\"])"
   ]
  },
  {
   "cell_type": "code",
   "execution_count": 132,
   "id": "96306ca4",
   "metadata": {},
   "outputs": [
    {
     "name": "stdout",
     "output_type": "stream",
     "text": [
      "Epoch 1/20\n",
      "172/172 [==============================] - 1s 3ms/step - loss: 1.4962 - accuracy: 0.4493 - val_loss: 1.5405 - val_accuracy: 0.4475\n",
      "Epoch 2/20\n",
      "172/172 [==============================] - 0s 3ms/step - loss: 1.4746 - accuracy: 0.4478 - val_loss: 1.5262 - val_accuracy: 0.4475\n",
      "Epoch 3/20\n",
      "172/172 [==============================] - 0s 3ms/step - loss: 1.4541 - accuracy: 0.4595 - val_loss: 1.5126 - val_accuracy: 0.4511\n",
      "Epoch 4/20\n",
      "172/172 [==============================] - 1s 3ms/step - loss: 1.4386 - accuracy: 0.4605 - val_loss: 1.4982 - val_accuracy: 0.4511\n",
      "Epoch 5/20\n",
      "172/172 [==============================] - 1s 3ms/step - loss: 1.4259 - accuracy: 0.4645 - val_loss: 1.4845 - val_accuracy: 0.4511\n",
      "Epoch 6/20\n",
      "172/172 [==============================] - 0s 3ms/step - loss: 1.4093 - accuracy: 0.4682 - val_loss: 1.4716 - val_accuracy: 0.4583\n",
      "Epoch 7/20\n",
      "172/172 [==============================] - 0s 3ms/step - loss: 1.4010 - accuracy: 0.4720 - val_loss: 1.4610 - val_accuracy: 0.4638\n",
      "Epoch 8/20\n",
      "172/172 [==============================] - 1s 3ms/step - loss: 1.3905 - accuracy: 0.4711 - val_loss: 1.4516 - val_accuracy: 0.4620\n",
      "Epoch 9/20\n",
      "172/172 [==============================] - 1s 3ms/step - loss: 1.3782 - accuracy: 0.4793 - val_loss: 1.4467 - val_accuracy: 0.4638\n",
      "Epoch 10/20\n",
      "172/172 [==============================] - 1s 3ms/step - loss: 1.3651 - accuracy: 0.4751 - val_loss: 1.4402 - val_accuracy: 0.4620\n",
      "Epoch 11/20\n",
      "172/172 [==============================] - 0s 3ms/step - loss: 1.3578 - accuracy: 0.4822 - val_loss: 1.4345 - val_accuracy: 0.4565\n",
      "Epoch 12/20\n",
      "172/172 [==============================] - 1s 3ms/step - loss: 1.3527 - accuracy: 0.4920 - val_loss: 1.4290 - val_accuracy: 0.4583\n",
      "Epoch 13/20\n",
      "172/172 [==============================] - 1s 3ms/step - loss: 1.3457 - accuracy: 0.4762 - val_loss: 1.4180 - val_accuracy: 0.4601\n",
      "Epoch 14/20\n",
      "172/172 [==============================] - 0s 3ms/step - loss: 1.3402 - accuracy: 0.4889 - val_loss: 1.4130 - val_accuracy: 0.4601\n",
      "Epoch 15/20\n",
      "172/172 [==============================] - 0s 3ms/step - loss: 1.3295 - accuracy: 0.4889 - val_loss: 1.4099 - val_accuracy: 0.4583\n",
      "Epoch 16/20\n",
      "172/172 [==============================] - 0s 3ms/step - loss: 1.3217 - accuracy: 0.4944 - val_loss: 1.4053 - val_accuracy: 0.4529\n",
      "Epoch 17/20\n",
      "172/172 [==============================] - 1s 3ms/step - loss: 1.3162 - accuracy: 0.4958 - val_loss: 1.3997 - val_accuracy: 0.4601\n",
      "Epoch 18/20\n",
      "172/172 [==============================] - 1s 3ms/step - loss: 1.3077 - accuracy: 0.4985 - val_loss: 1.3974 - val_accuracy: 0.4547\n",
      "Epoch 19/20\n",
      "172/172 [==============================] - 1s 3ms/step - loss: 1.3059 - accuracy: 0.4931 - val_loss: 1.3904 - val_accuracy: 0.4547\n",
      "Epoch 20/20\n",
      "172/172 [==============================] - 0s 3ms/step - loss: 1.2957 - accuracy: 0.5045 - val_loss: 1.3908 - val_accuracy: 0.4565\n"
     ]
    }
   ],
   "source": [
    "history = model.fit(X_train, y_train, epochs=20,\n",
    "                    validation_data=(X_valid, y_valid))"
   ]
  },
  {
   "cell_type": "markdown",
   "id": "c5cad3e8",
   "metadata": {},
   "source": [
    "# Exponential Scheduling"
   ]
  },
  {
   "cell_type": "code",
   "execution_count": 56,
   "id": "3b37997d",
   "metadata": {},
   "outputs": [],
   "source": [
    "def exponential_decay_fn(epoch):\n",
    "    return 0.01 * 0.1**(epoch / 20)"
   ]
  },
  {
   "cell_type": "code",
   "execution_count": 57,
   "id": "8f141801",
   "metadata": {},
   "outputs": [],
   "source": [
    "def exponential_decay(lr0, s):\n",
    "    def exponential_decay_fn(epoch):\n",
    "        return lr0 * 0.1**(epoch / s)\n",
    "    return exponential_decay_fn\n",
    "\n",
    "exponential_decay_fn = exponential_decay(lr0=0.01, s=20)"
   ]
  },
  {
   "cell_type": "code",
   "execution_count": 63,
   "id": "e130eebe",
   "metadata": {},
   "outputs": [],
   "source": [
    "model = keras.models.Sequential([\n",
    "    keras.layers.Flatten(input_shape=[40]),\n",
    "    keras.layers.Dense(300, activation=\"selu\", kernel_initializer=\"lecun_normal\"),\n",
    "    keras.layers.Dense(100, activation=\"selu\", kernel_initializer=\"lecun_normal\"),\n",
    "    keras.layers.Dense(6, activation=\"softmax\")\n",
    "])\n",
    "model.compile(loss=\"sparse_categorical_crossentropy\", optimizer=\"nadam\", metrics=[\"accuracy\"])\n",
    "n_epochs = 70"
   ]
  },
  {
   "cell_type": "code",
   "execution_count": 64,
   "id": "ded576e0",
   "metadata": {},
   "outputs": [
    {
     "name": "stdout",
     "output_type": "stream",
     "text": [
      "Epoch 1/70\n",
      "172/172 [==============================] - 1s 3ms/step - loss: 1.5929 - accuracy: 0.4153 - val_loss: 1.3501 - val_accuracy: 0.4728 - lr: 0.0100\n",
      "Epoch 2/70\n",
      "172/172 [==============================] - 0s 2ms/step - loss: 1.2809 - accuracy: 0.4744 - val_loss: 1.2930 - val_accuracy: 0.4909 - lr: 0.0089\n",
      "Epoch 3/70\n",
      "172/172 [==============================] - 0s 2ms/step - loss: 1.2342 - accuracy: 0.4944 - val_loss: 1.2518 - val_accuracy: 0.4583 - lr: 0.0079\n",
      "Epoch 4/70\n",
      "172/172 [==============================] - 0s 1ms/step - loss: 1.1890 - accuracy: 0.5115 - val_loss: 1.2209 - val_accuracy: 0.4764 - lr: 0.0071\n",
      "Epoch 5/70\n",
      "172/172 [==============================] - 0s 1ms/step - loss: 1.1263 - accuracy: 0.5331 - val_loss: 1.0978 - val_accuracy: 0.5580 - lr: 0.0063\n",
      "Epoch 6/70\n",
      "172/172 [==============================] - 0s 1ms/step - loss: 1.0856 - accuracy: 0.5475 - val_loss: 1.1418 - val_accuracy: 0.5127 - lr: 0.0056\n",
      "Epoch 7/70\n",
      "172/172 [==============================] - 0s 1ms/step - loss: 1.0515 - accuracy: 0.5562 - val_loss: 1.1027 - val_accuracy: 0.5091 - lr: 0.0050\n",
      "Epoch 8/70\n",
      "172/172 [==============================] - 0s 2ms/step - loss: 1.0111 - accuracy: 0.5740 - val_loss: 1.1031 - val_accuracy: 0.5326 - lr: 0.0045\n",
      "Epoch 9/70\n",
      "172/172 [==============================] - 0s 2ms/step - loss: 0.9857 - accuracy: 0.5851 - val_loss: 1.0952 - val_accuracy: 0.5688 - lr: 0.0040\n",
      "Epoch 10/70\n",
      "172/172 [==============================] - 0s 2ms/step - loss: 0.9582 - accuracy: 0.5902 - val_loss: 1.1022 - val_accuracy: 0.5181 - lr: 0.0035\n",
      "Epoch 11/70\n",
      "172/172 [==============================] - 0s 2ms/step - loss: 0.9307 - accuracy: 0.6080 - val_loss: 1.1256 - val_accuracy: 0.5272 - lr: 0.0032\n",
      "Epoch 12/70\n",
      "172/172 [==============================] - 0s 2ms/step - loss: 0.9085 - accuracy: 0.6151 - val_loss: 1.1201 - val_accuracy: 0.5326 - lr: 0.0028\n",
      "Epoch 13/70\n",
      "172/172 [==============================] - 0s 2ms/step - loss: 0.8867 - accuracy: 0.6216 - val_loss: 1.1219 - val_accuracy: 0.5453 - lr: 0.0025\n",
      "Epoch 14/70\n",
      "172/172 [==============================] - 0s 2ms/step - loss: 0.8606 - accuracy: 0.6335 - val_loss: 1.1244 - val_accuracy: 0.5471 - lr: 0.0022\n",
      "Epoch 15/70\n",
      "172/172 [==============================] - 0s 2ms/step - loss: 0.8399 - accuracy: 0.6440 - val_loss: 1.1306 - val_accuracy: 0.5453 - lr: 0.0020\n",
      "Epoch 16/70\n",
      "172/172 [==============================] - 0s 2ms/step - loss: 0.8144 - accuracy: 0.6560 - val_loss: 1.1515 - val_accuracy: 0.5199 - lr: 0.0018\n",
      "Epoch 17/70\n",
      "172/172 [==============================] - 0s 2ms/step - loss: 0.7951 - accuracy: 0.6662 - val_loss: 1.1737 - val_accuracy: 0.5272 - lr: 0.0016\n",
      "Epoch 18/70\n",
      "172/172 [==============================] - 0s 2ms/step - loss: 0.7744 - accuracy: 0.6735 - val_loss: 1.1995 - val_accuracy: 0.5489 - lr: 0.0014\n",
      "Epoch 19/70\n",
      "172/172 [==============================] - 0s 2ms/step - loss: 0.7593 - accuracy: 0.6789 - val_loss: 1.1922 - val_accuracy: 0.5471 - lr: 0.0013\n",
      "Epoch 20/70\n",
      "172/172 [==============================] - 0s 2ms/step - loss: 0.7378 - accuracy: 0.6889 - val_loss: 1.2064 - val_accuracy: 0.5489 - lr: 0.0011\n",
      "Epoch 21/70\n",
      "172/172 [==============================] - 0s 2ms/step - loss: 0.7243 - accuracy: 0.6933 - val_loss: 1.2095 - val_accuracy: 0.5380 - lr: 0.0010\n",
      "Epoch 22/70\n",
      "172/172 [==============================] - 0s 2ms/step - loss: 0.7066 - accuracy: 0.7033 - val_loss: 1.2507 - val_accuracy: 0.5290 - lr: 8.9125e-04\n",
      "Epoch 23/70\n",
      "172/172 [==============================] - 0s 2ms/step - loss: 0.6933 - accuracy: 0.7125 - val_loss: 1.2399 - val_accuracy: 0.5471 - lr: 7.9433e-04\n",
      "Epoch 24/70\n",
      "172/172 [==============================] - 0s 2ms/step - loss: 0.6783 - accuracy: 0.7195 - val_loss: 1.2617 - val_accuracy: 0.5399 - lr: 7.0795e-04\n",
      "Epoch 25/70\n",
      "172/172 [==============================] - 0s 2ms/step - loss: 0.6638 - accuracy: 0.7247 - val_loss: 1.2671 - val_accuracy: 0.5380 - lr: 6.3096e-04\n",
      "Epoch 26/70\n",
      "172/172 [==============================] - 0s 2ms/step - loss: 0.6529 - accuracy: 0.7382 - val_loss: 1.2803 - val_accuracy: 0.5181 - lr: 5.6234e-04\n",
      "Epoch 27/70\n",
      "172/172 [==============================] - 0s 2ms/step - loss: 0.6418 - accuracy: 0.7398 - val_loss: 1.2972 - val_accuracy: 0.5326 - lr: 5.0119e-04\n",
      "Epoch 28/70\n",
      "172/172 [==============================] - 0s 2ms/step - loss: 0.6332 - accuracy: 0.7411 - val_loss: 1.2914 - val_accuracy: 0.5417 - lr: 4.4668e-04\n",
      "Epoch 29/70\n",
      "172/172 [==============================] - 0s 2ms/step - loss: 0.6222 - accuracy: 0.7476 - val_loss: 1.2976 - val_accuracy: 0.5308 - lr: 3.9811e-04\n",
      "Epoch 30/70\n",
      "172/172 [==============================] - 0s 2ms/step - loss: 0.6172 - accuracy: 0.7535 - val_loss: 1.3117 - val_accuracy: 0.5453 - lr: 3.5481e-04\n",
      "Epoch 31/70\n",
      "172/172 [==============================] - 0s 2ms/step - loss: 0.6081 - accuracy: 0.7560 - val_loss: 1.3321 - val_accuracy: 0.5290 - lr: 3.1623e-04\n",
      "Epoch 32/70\n",
      "172/172 [==============================] - 0s 2ms/step - loss: 0.6020 - accuracy: 0.7585 - val_loss: 1.3302 - val_accuracy: 0.5417 - lr: 2.8184e-04\n",
      "Epoch 33/70\n",
      "172/172 [==============================] - 0s 2ms/step - loss: 0.5959 - accuracy: 0.7602 - val_loss: 1.3357 - val_accuracy: 0.5217 - lr: 2.5119e-04\n",
      "Epoch 34/70\n",
      "172/172 [==============================] - 0s 2ms/step - loss: 0.5905 - accuracy: 0.7695 - val_loss: 1.3296 - val_accuracy: 0.5453 - lr: 2.2387e-04\n",
      "Epoch 35/70\n",
      "172/172 [==============================] - 0s 2ms/step - loss: 0.5860 - accuracy: 0.7635 - val_loss: 1.3294 - val_accuracy: 0.5453 - lr: 1.9953e-04\n",
      "Epoch 36/70\n",
      "172/172 [==============================] - 0s 2ms/step - loss: 0.5813 - accuracy: 0.7698 - val_loss: 1.3431 - val_accuracy: 0.5344 - lr: 1.7783e-04\n",
      "Epoch 37/70\n",
      "172/172 [==============================] - 0s 2ms/step - loss: 0.5781 - accuracy: 0.7745 - val_loss: 1.3375 - val_accuracy: 0.5489 - lr: 1.5849e-04\n",
      "Epoch 38/70\n",
      "172/172 [==============================] - 0s 2ms/step - loss: 0.5741 - accuracy: 0.7744 - val_loss: 1.3492 - val_accuracy: 0.5417 - lr: 1.4125e-04\n",
      "Epoch 39/70\n",
      "172/172 [==============================] - 0s 2ms/step - loss: 0.5720 - accuracy: 0.7749 - val_loss: 1.3467 - val_accuracy: 0.5489 - lr: 1.2589e-04\n",
      "Epoch 40/70\n",
      "172/172 [==============================] - 0s 2ms/step - loss: 0.5687 - accuracy: 0.7753 - val_loss: 1.3498 - val_accuracy: 0.5380 - lr: 1.1220e-04\n",
      "Epoch 41/70\n",
      "172/172 [==============================] - 0s 2ms/step - loss: 0.5663 - accuracy: 0.7767 - val_loss: 1.3551 - val_accuracy: 0.5362 - lr: 1.0000e-04\n",
      "Epoch 42/70\n",
      "172/172 [==============================] - 0s 2ms/step - loss: 0.5641 - accuracy: 0.7787 - val_loss: 1.3514 - val_accuracy: 0.5453 - lr: 8.9125e-05\n",
      "Epoch 43/70\n",
      "172/172 [==============================] - 0s 2ms/step - loss: 0.5622 - accuracy: 0.7789 - val_loss: 1.3543 - val_accuracy: 0.5417 - lr: 7.9433e-05\n",
      "Epoch 44/70\n",
      "172/172 [==============================] - 0s 1ms/step - loss: 0.5601 - accuracy: 0.7822 - val_loss: 1.3568 - val_accuracy: 0.5417 - lr: 7.0795e-05\n",
      "Epoch 45/70\n",
      "172/172 [==============================] - 0s 2ms/step - loss: 0.5584 - accuracy: 0.7833 - val_loss: 1.3582 - val_accuracy: 0.5435 - lr: 6.3096e-05\n",
      "Epoch 46/70\n",
      "172/172 [==============================] - 0s 2ms/step - loss: 0.5568 - accuracy: 0.7818 - val_loss: 1.3607 - val_accuracy: 0.5399 - lr: 5.6234e-05\n",
      "Epoch 47/70\n",
      "172/172 [==============================] - 0s 2ms/step - loss: 0.5559 - accuracy: 0.7836 - val_loss: 1.3617 - val_accuracy: 0.5435 - lr: 5.0119e-05\n",
      "Epoch 48/70\n",
      "172/172 [==============================] - 0s 2ms/step - loss: 0.5545 - accuracy: 0.7842 - val_loss: 1.3616 - val_accuracy: 0.5435 - lr: 4.4668e-05\n",
      "Epoch 49/70\n",
      "172/172 [==============================] - 0s 2ms/step - loss: 0.5535 - accuracy: 0.7835 - val_loss: 1.3636 - val_accuracy: 0.5417 - lr: 3.9811e-05\n",
      "Epoch 50/70\n",
      "172/172 [==============================] - 0s 2ms/step - loss: 0.5524 - accuracy: 0.7862 - val_loss: 1.3639 - val_accuracy: 0.5453 - lr: 3.5481e-05\n",
      "Epoch 51/70\n",
      "172/172 [==============================] - 0s 2ms/step - loss: 0.5518 - accuracy: 0.7847 - val_loss: 1.3647 - val_accuracy: 0.5453 - lr: 3.1623e-05\n",
      "Epoch 52/70\n",
      "172/172 [==============================] - 0s 2ms/step - loss: 0.5511 - accuracy: 0.7855 - val_loss: 1.3656 - val_accuracy: 0.5453 - lr: 2.8184e-05\n"
     ]
    },
    {
     "name": "stdout",
     "output_type": "stream",
     "text": [
      "Epoch 53/70\n",
      "172/172 [==============================] - 0s 2ms/step - loss: 0.5503 - accuracy: 0.7849 - val_loss: 1.3672 - val_accuracy: 0.5435 - lr: 2.5119e-05\n",
      "Epoch 54/70\n",
      "172/172 [==============================] - 0s 2ms/step - loss: 0.5497 - accuracy: 0.7864 - val_loss: 1.3672 - val_accuracy: 0.5453 - lr: 2.2387e-05\n",
      "Epoch 55/70\n",
      "172/172 [==============================] - 0s 2ms/step - loss: 0.5491 - accuracy: 0.7864 - val_loss: 1.3673 - val_accuracy: 0.5453 - lr: 1.9953e-05\n",
      "Epoch 56/70\n",
      "172/172 [==============================] - 0s 2ms/step - loss: 0.5486 - accuracy: 0.7878 - val_loss: 1.3677 - val_accuracy: 0.5471 - lr: 1.7783e-05\n",
      "Epoch 57/70\n",
      "172/172 [==============================] - 0s 2ms/step - loss: 0.5482 - accuracy: 0.7878 - val_loss: 1.3688 - val_accuracy: 0.5435 - lr: 1.5849e-05\n",
      "Epoch 58/70\n",
      "172/172 [==============================] - 0s 1ms/step - loss: 0.5479 - accuracy: 0.7875 - val_loss: 1.3689 - val_accuracy: 0.5453 - lr: 1.4125e-05\n",
      "Epoch 59/70\n",
      "172/172 [==============================] - 0s 2ms/step - loss: 0.5475 - accuracy: 0.7871 - val_loss: 1.3691 - val_accuracy: 0.5453 - lr: 1.2589e-05\n",
      "Epoch 60/70\n",
      "172/172 [==============================] - 0s 2ms/step - loss: 0.5472 - accuracy: 0.7865 - val_loss: 1.3693 - val_accuracy: 0.5453 - lr: 1.1220e-05\n",
      "Epoch 61/70\n",
      "172/172 [==============================] - 0s 2ms/step - loss: 0.5470 - accuracy: 0.7876 - val_loss: 1.3697 - val_accuracy: 0.5453 - lr: 1.0000e-05\n",
      "Epoch 62/70\n",
      "172/172 [==============================] - 0s 2ms/step - loss: 0.5467 - accuracy: 0.7871 - val_loss: 1.3701 - val_accuracy: 0.5453 - lr: 8.9125e-06\n",
      "Epoch 63/70\n",
      "172/172 [==============================] - 0s 2ms/step - loss: 0.5465 - accuracy: 0.7876 - val_loss: 1.3702 - val_accuracy: 0.5453 - lr: 7.9433e-06\n",
      "Epoch 64/70\n",
      "172/172 [==============================] - 0s 2ms/step - loss: 0.5463 - accuracy: 0.7878 - val_loss: 1.3704 - val_accuracy: 0.5453 - lr: 7.0795e-06\n",
      "Epoch 65/70\n",
      "172/172 [==============================] - 0s 2ms/step - loss: 0.5462 - accuracy: 0.7876 - val_loss: 1.3707 - val_accuracy: 0.5453 - lr: 6.3096e-06\n",
      "Epoch 66/70\n",
      "172/172 [==============================] - 0s 2ms/step - loss: 0.5460 - accuracy: 0.7875 - val_loss: 1.3708 - val_accuracy: 0.5453 - lr: 5.6234e-06\n",
      "Epoch 67/70\n",
      "172/172 [==============================] - 0s 2ms/step - loss: 0.5458 - accuracy: 0.7873 - val_loss: 1.3709 - val_accuracy: 0.5453 - lr: 5.0119e-06\n",
      "Epoch 68/70\n",
      "172/172 [==============================] - 0s 2ms/step - loss: 0.5457 - accuracy: 0.7873 - val_loss: 1.3709 - val_accuracy: 0.5453 - lr: 4.4668e-06\n",
      "Epoch 69/70\n",
      "172/172 [==============================] - 0s 2ms/step - loss: 0.5456 - accuracy: 0.7876 - val_loss: 1.3711 - val_accuracy: 0.5453 - lr: 3.9811e-06\n",
      "Epoch 70/70\n",
      "172/172 [==============================] - 0s 2ms/step - loss: 0.5455 - accuracy: 0.7876 - val_loss: 1.3711 - val_accuracy: 0.5453 - lr: 3.5481e-06\n"
     ]
    }
   ],
   "source": [
    "lr_scheduler = keras.callbacks.LearningRateScheduler(exponential_decay_fn)\n",
    "history = model.fit(X_train, y_train, epochs=n_epochs,\n",
    "                    validation_data=(X_valid, y_valid),\n",
    "                    callbacks=[lr_scheduler])"
   ]
  },
  {
   "cell_type": "code",
   "execution_count": 65,
   "id": "93459e6e",
   "metadata": {},
   "outputs": [
    {
     "name": "stdout",
     "output_type": "stream",
     "text": [
      "Test accuracy: 0.5099075436592102\n"
     ]
    }
   ],
   "source": [
    "score = model.evaluate(test_listings_prepared, ratings_transformed_test, verbose = 0)\n",
    "print('Test accuracy:', score[1])"
   ]
  },
  {
   "cell_type": "code",
   "execution_count": 140,
   "id": "d6066777",
   "metadata": {},
   "outputs": [
    {
     "data": {
      "image/png": "[encoded data removed]",
      "text/plain": [
       "<Figure size 432x288 with 1 Axes>"
      ]
     },
     "metadata": {
      "needs_background": "light"
     },
     "output_type": "display_data"
    }
   ],
   "source": [
    "plt.plot(history.epoch, history.history[\"lr\"], \"o-\")\n",
    "plt.axis([0, n_epochs - 1, 0, 0.011])\n",
    "plt.xlabel(\"Epoch\")\n",
    "plt.ylabel(\"Learning Rate\")\n",
    "plt.title(\"Exponential Scheduling\", fontsize=14)\n",
    "plt.grid(True)\n",
    "plt.show()"
   ]
  },
  {
   "cell_type": "markdown",
   "id": "64d7bbde",
   "metadata": {},
   "source": [
    "Updating the learning rate at each iteration instead of each epoch through own callback function"
   ]
  },
  {
   "cell_type": "code",
   "execution_count": 142,
   "id": "cbf74387",
   "metadata": {},
   "outputs": [
    {
     "name": "stdout",
     "output_type": "stream",
     "text": [
      "Epoch 1/30\n",
      "172/172 [==============================] - 1s 4ms/step - loss: 1.6635 - accuracy: 0.4140 - val_loss: 1.3088 - val_accuracy: 0.4855 - lr: 0.0089\n",
      "Epoch 2/30\n",
      "172/172 [==============================] - 1s 3ms/step - loss: 1.3065 - accuracy: 0.4660 - val_loss: 1.3275 - val_accuracy: 0.4565 - lr: 0.0079\n",
      "Epoch 3/30\n",
      "172/172 [==============================] - 1s 4ms/step - loss: 1.2626 - accuracy: 0.4845 - val_loss: 1.2256 - val_accuracy: 0.5127 - lr: 0.0071\n",
      "Epoch 4/30\n",
      "172/172 [==============================] - 1s 3ms/step - loss: 1.2018 - accuracy: 0.5056 - val_loss: 1.2156 - val_accuracy: 0.4674 - lr: 0.0063\n",
      "Epoch 5/30\n",
      "172/172 [==============================] - 1s 3ms/step - loss: 1.1441 - accuracy: 0.5222 - val_loss: 1.1443 - val_accuracy: 0.5290 - lr: 0.0056\n",
      "Epoch 6/30\n",
      "172/172 [==============================] - 1s 3ms/step - loss: 1.1050 - accuracy: 0.5349 - val_loss: 1.1892 - val_accuracy: 0.4873 - lr: 0.0050\n",
      "Epoch 7/30\n",
      "172/172 [==============================] - 1s 3ms/step - loss: 1.0645 - accuracy: 0.5589 - val_loss: 1.2354 - val_accuracy: 0.4873 - lr: 0.0045\n",
      "Epoch 8/30\n",
      "172/172 [==============================] - 1s 3ms/step - loss: 1.0395 - accuracy: 0.5595 - val_loss: 1.1482 - val_accuracy: 0.5054 - lr: 0.0040\n",
      "Epoch 9/30\n",
      "172/172 [==============================] - 1s 3ms/step - loss: 1.0064 - accuracy: 0.5735 - val_loss: 1.1274 - val_accuracy: 0.5308 - lr: 0.0035\n",
      "Epoch 10/30\n",
      "172/172 [==============================] - 1s 3ms/step - loss: 0.9899 - accuracy: 0.5831 - val_loss: 1.1395 - val_accuracy: 0.5362 - lr: 0.0032\n",
      "Epoch 11/30\n",
      "172/172 [==============================] - 1s 3ms/step - loss: 0.9470 - accuracy: 0.6029 - val_loss: 1.1156 - val_accuracy: 0.5362 - lr: 0.0028\n",
      "Epoch 12/30\n",
      "172/172 [==============================] - 1s 3ms/step - loss: 0.9236 - accuracy: 0.6102 - val_loss: 1.1812 - val_accuracy: 0.5326 - lr: 0.0025\n",
      "Epoch 13/30\n",
      "172/172 [==============================] - 1s 3ms/step - loss: 0.8967 - accuracy: 0.6213 - val_loss: 1.1541 - val_accuracy: 0.5453 - lr: 0.0022\n",
      "Epoch 14/30\n",
      "172/172 [==============================] - 1s 4ms/step - loss: 0.8672 - accuracy: 0.6347 - val_loss: 1.1673 - val_accuracy: 0.5453 - lr: 0.0020\n",
      "Epoch 15/30\n",
      "172/172 [==============================] - 1s 3ms/step - loss: 0.8452 - accuracy: 0.6376 - val_loss: 1.1786 - val_accuracy: 0.5290 - lr: 0.0018\n",
      "Epoch 16/30\n",
      "172/172 [==============================] - 1s 3ms/step - loss: 0.8206 - accuracy: 0.6504 - val_loss: 1.1835 - val_accuracy: 0.5236 - lr: 0.0016\n",
      "Epoch 17/30\n",
      "172/172 [==============================] - 1s 3ms/step - loss: 0.8007 - accuracy: 0.6622 - val_loss: 1.1897 - val_accuracy: 0.5344 - lr: 0.0014\n",
      "Epoch 18/30\n",
      "172/172 [==============================] - 1s 3ms/step - loss: 0.7772 - accuracy: 0.6662 - val_loss: 1.2329 - val_accuracy: 0.5380 - lr: 0.0013\n",
      "Epoch 19/30\n",
      "172/172 [==============================] - 1s 3ms/step - loss: 0.7580 - accuracy: 0.6827 - val_loss: 1.2317 - val_accuracy: 0.5217 - lr: 0.0011\n",
      "Epoch 20/30\n",
      "172/172 [==============================] - 1s 3ms/step - loss: 0.7389 - accuracy: 0.6900 - val_loss: 1.2404 - val_accuracy: 0.5362 - lr: 9.9799e-04\n",
      "Epoch 21/30\n",
      "172/172 [==============================] - 1s 3ms/step - loss: 0.7227 - accuracy: 0.6973 - val_loss: 1.2449 - val_accuracy: 0.5308 - lr: 8.8937e-04\n",
      "Epoch 22/30\n",
      "172/172 [==============================] - 1s 3ms/step - loss: 0.7056 - accuracy: 0.7029 - val_loss: 1.2894 - val_accuracy: 0.5181 - lr: 7.9257e-04\n",
      "Epoch 23/30\n",
      "172/172 [==============================] - 1s 3ms/step - loss: 0.6908 - accuracy: 0.7115 - val_loss: 1.2896 - val_accuracy: 0.5507 - lr: 7.0631e-04\n",
      "Epoch 24/30\n",
      "172/172 [==============================] - 0s 3ms/step - loss: 0.6777 - accuracy: 0.7165 - val_loss: 1.2899 - val_accuracy: 0.5399 - lr: 6.2944e-04\n",
      "Epoch 25/30\n",
      "172/172 [==============================] - 1s 3ms/step - loss: 0.6632 - accuracy: 0.7249 - val_loss: 1.3205 - val_accuracy: 0.5326 - lr: 5.6093e-04\n",
      "Epoch 26/30\n",
      "172/172 [==============================] - 1s 3ms/step - loss: 0.6530 - accuracy: 0.7347 - val_loss: 1.3445 - val_accuracy: 0.5199 - lr: 4.9988e-04\n",
      "Epoch 27/30\n",
      "172/172 [==============================] - 1s 3ms/step - loss: 0.6418 - accuracy: 0.7425 - val_loss: 1.3374 - val_accuracy: 0.5181 - lr: 4.4547e-04\n",
      "Epoch 28/30\n",
      "172/172 [==============================] - 1s 3ms/step - loss: 0.6323 - accuracy: 0.7467 - val_loss: 1.3749 - val_accuracy: 0.5254 - lr: 3.9699e-04\n",
      "Epoch 29/30\n",
      "172/172 [==============================] - 1s 3ms/step - loss: 0.6219 - accuracy: 0.7487 - val_loss: 1.3695 - val_accuracy: 0.5217 - lr: 3.5378e-04\n",
      "Epoch 30/30\n",
      "172/172 [==============================] - 1s 3ms/step - loss: 0.6158 - accuracy: 0.7533 - val_loss: 1.3849 - val_accuracy: 0.5236 - lr: 3.1528e-04\n"
     ]
    }
   ],
   "source": [
    "K = keras.backend\n",
    "\n",
    "class ExponentialDecay(keras.callbacks.Callback):\n",
    "    def __init__(self, s=40000):\n",
    "        super().__init__()\n",
    "        self.s = s\n",
    "\n",
    "    def on_batch_begin(self, batch, logs=None):\n",
    "        # Note: the `batch` argument is reset at each epoch\n",
    "        lr = K.get_value(self.model.optimizer.learning_rate)\n",
    "        K.set_value(self.model.optimizer.learning_rate, lr * 0.1**(1 / self.s))\n",
    "\n",
    "    def on_epoch_end(self, epoch, logs=None):\n",
    "        logs = logs or {}\n",
    "        logs['lr'] = K.get_value(self.model.optimizer.learning_rate)\n",
    "\n",
    "model = keras.models.Sequential([\n",
    "    keras.layers.Flatten(input_shape=[39]),\n",
    "    keras.layers.Dense(300, activation=\"selu\", kernel_initializer=\"lecun_normal\"),\n",
    "    keras.layers.Dense(100, activation=\"selu\", kernel_initializer=\"lecun_normal\"),\n",
    "    keras.layers.Dense(10, activation=\"softmax\")\n",
    "])\n",
    "lr0 = 0.01\n",
    "optimizer = keras.optimizers.Nadam(learning_rate=lr0)\n",
    "model.compile(loss=\"sparse_categorical_crossentropy\", optimizer=optimizer, metrics=[\"accuracy\"])\n",
    "n_epochs = 30\n",
    "\n",
    "s = 20 * len(X_train) // 32 # number of steps in 20 epochs (batch size = 32)\n",
    "exp_decay = ExponentialDecay(s)\n",
    "history = model.fit(X_train_scaled, y_train, epochs=n_epochs,\n",
    "                    validation_data=(X_valid_scaled, y_valid),\n",
    "                    callbacks=[exp_decay])"
   ]
  },
  {
   "cell_type": "code",
   "execution_count": 143,
   "id": "db9cfd3c",
   "metadata": {},
   "outputs": [
    {
     "data": {
      "image/png": "[encoded data removed]",
      "text/plain": [
       "<Figure size 432x288 with 1 Axes>"
      ]
     },
     "metadata": {
      "needs_background": "light"
     },
     "output_type": "display_data"
    }
   ],
   "source": [
    "plt.plot(pd.DataFrame(history.history))\n",
    "plt.grid(True)\n",
    "plt.gca().set_ylim(0, 1)\n",
    "plt.show()"
   ]
  },
  {
   "cell_type": "code",
   "execution_count": 144,
   "id": "d72f5de8",
   "metadata": {
    "scrolled": true
   },
   "outputs": [
    {
     "name": "stdout",
     "output_type": "stream",
     "text": [
      "Test accuracy: 0.5112285614013672\n"
     ]
    }
   ],
   "source": [
    "score = model.evaluate(test_listings_prepared, ratings_transformed_test, verbose = 0)\n",
    "print('Test accuracy:', score[1])"
   ]
  },
  {
   "cell_type": "markdown",
   "id": "a09408d8",
   "metadata": {},
   "source": [
    "## Feature Selection "
   ]
  },
  {
   "cell_type": "code",
   "execution_count": 38,
   "id": "33493db1",
   "metadata": {},
   "outputs": [],
   "source": [
    "from sklearn.feature_selection import SelectKBest\n",
    "from sklearn.feature_selection import chi2"
   ]
  },
  {
   "cell_type": "code",
   "execution_count": 40,
   "id": "6babf604",
   "metadata": {},
   "outputs": [],
   "source": [
    "X = train_listings_cleaned.copy()\n",
    "X['rating'] = r_rating_cat_train\n",
    "X = X.dropna()\n"
   ]
  },
  {
   "cell_type": "code",
   "execution_count": 41,
   "id": "068b1f63",
   "metadata": {},
   "outputs": [],
   "source": [
    "y = X['rating']\n",
    "X = X.drop(['rating'], axis=1)"
   ]
  },
  {
   "cell_type": "code",
   "execution_count": 44,
   "id": "22a88e7f",
   "metadata": {},
   "outputs": [],
   "source": [
    "cat_att = ['host_response_time', 'neighbourhood', 'neighbourhood_cleansed', 'longitude', 'latitude', 'room_type']\n",
    "X = X.drop(cat_att, axis=1)"
   ]
  },
  {
   "cell_type": "code",
   "execution_count": 45,
   "id": "b522297a",
   "metadata": {},
   "outputs": [
    {
     "name": "stdout",
     "output_type": "stream",
     "text": [
      "                             Specs          Score\n",
      "4        host_total_listings_count  294784.634749\n",
      "3              host_listings_count  195132.599874\n",
      "22          days_since_last_review  118832.227067\n",
      "15               number_of_reviews   72322.825209\n",
      "10                       amenities   35964.421181\n",
      "11                           price   31209.496277\n",
      "21                        new_date   18967.700852\n",
      "16           number_of_reviews_ltm   11873.833884\n",
      "19  calculated_host_listings_count    2009.966596\n",
      "12                  minimum_nights     705.694144\n"
     ]
    }
   ],
   "source": [
    "bestfeatures = SelectKBest(score_func=chi2, k=10)\n",
    "fit = bestfeatures.fit(X,y)\n",
    "dfscores = pd.DataFrame(fit.scores_)\n",
    "dfcolumns = pd.DataFrame(X.columns)\n",
    "#concat two dataframes for better visualization \n",
    "featureScores = pd.concat([dfcolumns,dfscores],axis=1)\n",
    "featureScores.columns = ['Specs','Score']  #naming the dataframe columns\n",
    "print(featureScores.nlargest(10,'Score'))  #print 10 best features"
   ]
  },
  {
   "cell_type": "code",
   "execution_count": 52,
   "id": "783e89b5",
   "metadata": {},
   "outputs": [
    {
     "name": "stdout",
     "output_type": "stream",
     "text": [
      "[0.01813526 0.0282759  0.02712152 0.03587819 0.04739355 0.00250114\n",
      " 0.01195961 0.04084054 0.02573619 0.03339128 0.07717758 0.06773285\n",
      " 0.05216456 0.02535426 0.02826419 0.1261513  0.04683257 0.02589512\n",
      " 0.01359341 0.03256919 0.08784956 0.06755426 0.07762795]\n"
     ]
    },
    {
     "data": {
      "image/png": "[encoded data removed]",
      "text/plain": [
       "<Figure size 432x288 with 1 Axes>"
      ]
     },
     "metadata": {
      "needs_background": "light"
     },
     "output_type": "display_data"
    }
   ],
   "source": [
    "from sklearn.ensemble import ExtraTreesClassifier\n",
    "import matplotlib.pyplot as plt\n",
    "model = ExtraTreesClassifier()\n",
    "model.fit(X,y)\n",
    "print(model.feature_importances_) #use inbuilt class feature_importances of tree based classifiers\n",
    "#plot graph of feature importances for better visualization\n",
    "feat_importances = pd.Series(model.feature_importances_, index=X.columns)\n",
    "most_important = feat_importances.nlargest(10)\n",
    "feat_importances.nlargest(10).plot(kind='barh')\n",
    "plt.show()"
   ]
  },
  {
   "cell_type": "markdown",
   "id": "a5283606",
   "metadata": {},
   "source": [
    "## In conclusion we will simply keep the categorical attributes along with the top 10 most relevant features"
   ]
  },
  {
   "cell_type": "code",
   "execution_count": 120,
   "id": "b20831ce",
   "metadata": {},
   "outputs": [],
   "source": [
    "most_important = ['number_of_reviews', 'reviews_per_month', 'days_since_last_review', 'amenities', \n",
    "                 'price', 'new_date', 'minimum_nights', 'host_total_listings_count', 'number_of_reviews_ltm', 'accommodates',\n",
    "                 'neighbourhood_cleansed', 'room_type', 'host_response_time']"
   ]
  },
  {
   "cell_type": "code",
   "execution_count": 121,
   "id": "f84ab8bb",
   "metadata": {},
   "outputs": [],
   "source": [
    "train_listings_cleaned_2 = train_listings_cleaned.copy()\n",
    "train_listings_cleaned_2[\"rating\"] = r_rating_cat_train\n",
    "train_listings_cleaned_2 = train_listings_cleaned_2.dropna()\n",
    "r_rating_cat_train_2 = train_listings_cleaned_2[\"rating\"]\n",
    "train_listings_cleaned_2 = train_listings_cleaned_2.drop([\"rating\"], axis=1)\n",
    "train_listings_cleaned_2 = train_listings_cleaned_2[most_important]"
   ]
  },
  {
   "cell_type": "code",
   "execution_count": 122,
   "id": "c2bfa35f",
   "metadata": {},
   "outputs": [
    {
     "name": "stdout",
     "output_type": "stream",
     "text": [
      "<class 'pandas.core.frame.DataFrame'>\n",
      "Int64Index: 4700 entries, 1 to 6051\n",
      "Data columns (total 13 columns):\n",
      " #   Column                     Non-Null Count  Dtype  \n",
      "---  ------                     --------------  -----  \n",
      " 0   number_of_reviews          4700 non-null   int64  \n",
      " 1   reviews_per_month          4700 non-null   float64\n",
      " 2   days_since_last_review     4700 non-null   float64\n",
      " 3   amenities                  4700 non-null   int32  \n",
      " 4   price                      4700 non-null   float64\n",
      " 5   new_date                   4700 non-null   int64  \n",
      " 6   minimum_nights             4700 non-null   int64  \n",
      " 7   host_total_listings_count  4700 non-null   int64  \n",
      " 8   number_of_reviews_ltm      4700 non-null   int64  \n",
      " 9   accommodates               4700 non-null   int64  \n",
      " 10  neighbourhood_cleansed     4700 non-null   object \n",
      " 11  room_type                  4700 non-null   object \n",
      " 12  host_response_time         4700 non-null   object \n",
      "dtypes: float64(3), int32(1), int64(6), object(3)\n",
      "memory usage: 495.7+ KB\n",
      "None\n",
      "<class 'pandas.core.series.Series'>\n",
      "Int64Index: 4700 entries, 1 to 6051\n",
      "Series name: rating\n",
      "Non-Null Count  Dtype   \n",
      "--------------  -----   \n",
      "4700 non-null   category\n",
      "dtypes: category(1)\n",
      "memory usage: 41.5 KB\n",
      "None\n"
     ]
    }
   ],
   "source": [
    "print(train_listings_cleaned_2.info())\n",
    "print(r_rating_cat_train_2.info())"
   ]
  },
  {
   "cell_type": "code",
   "execution_count": 123,
   "id": "ae692c75",
   "metadata": {},
   "outputs": [],
   "source": [
    "test_listings_cleaned_2 = test_listings_cleaned.copy()\n",
    "test_listings_cleaned_2[\"rating\"] = r_rating_cat_test\n",
    "test_listings_cleaned_2 = test_listings_cleaned_2.dropna()\n",
    "r_rating_cat_test_2 = test_listings_cleaned_2[\"rating\"]\n",
    "test_listings_cleaned_2 = test_listings_cleaned_2.drop([\"rating\"], axis=1)\n",
    "test_listings_cleaned_2 = test_listings_cleaned_2[most_important]\n"
   ]
  },
  {
   "cell_type": "code",
   "execution_count": 124,
   "id": "339d0496",
   "metadata": {
    "scrolled": false
   },
   "outputs": [
    {
     "name": "stdout",
     "output_type": "stream",
     "text": [
      "<class 'pandas.core.frame.DataFrame'>\n",
      "Int64Index: 1169 entries, 0 to 1513\n",
      "Data columns (total 13 columns):\n",
      " #   Column                     Non-Null Count  Dtype  \n",
      "---  ------                     --------------  -----  \n",
      " 0   number_of_reviews          1169 non-null   int64  \n",
      " 1   reviews_per_month          1169 non-null   float64\n",
      " 2   days_since_last_review     1169 non-null   float64\n",
      " 3   amenities                  1169 non-null   int32  \n",
      " 4   price                      1169 non-null   float64\n",
      " 5   new_date                   1169 non-null   int64  \n",
      " 6   minimum_nights             1169 non-null   int64  \n",
      " 7   host_total_listings_count  1169 non-null   int64  \n",
      " 8   number_of_reviews_ltm      1169 non-null   int64  \n",
      " 9   accommodates               1169 non-null   int64  \n",
      " 10  neighbourhood_cleansed     1169 non-null   object \n",
      " 11  room_type                  1169 non-null   object \n",
      " 12  host_response_time         1169 non-null   object \n",
      "dtypes: float64(3), int32(1), int64(6), object(3)\n",
      "memory usage: 123.3+ KB\n",
      "None\n",
      "0       2\n",
      "1       5\n",
      "2       2\n",
      "4       5\n",
      "6       4\n",
      "       ..\n",
      "1509    5\n",
      "1510    3\n",
      "1511    4\n",
      "1512    4\n",
      "1513    5\n",
      "Name: rating, Length: 1169, dtype: category\n",
      "Categories (5, int64): [1 < 2 < 3 < 4 < 5]\n"
     ]
    }
   ],
   "source": [
    "print(test_listings_cleaned_2.info())\n",
    "print(r_rating_cat_test_2)"
   ]
  },
  {
   "cell_type": "code",
   "execution_count": 125,
   "id": "b082618b",
   "metadata": {},
   "outputs": [],
   "source": [
    "cat_attributes = [\"host_response_time\", \"neighbourhood_cleansed\",  \"room_type\"]\n",
    "num_attributes = list(train_listings_cleaned_2.drop(cat_attributes, axis=1))\n",
    "\n",
    "num_pipeline = Pipeline([\n",
    "        ('imputer', SimpleImputer(strategy=\"median\")),\n",
    "        ('std_scaler', StandardScaler()),\n",
    "    ])\n",
    "\n",
    "full_pipeline = ColumnTransformer([\n",
    "        (\"num\", num_pipeline, num_attributes),\n",
    "        (\"cat\", OneHotEncoder(), cat_attributes),\n",
    "    ])"
   ]
  },
  {
   "cell_type": "code",
   "execution_count": 126,
   "id": "1e0a293f",
   "metadata": {},
   "outputs": [],
   "source": [
    "\n",
    "train_listings_prepared_2 = full_pipeline.fit_transform(train_listings_cleaned_2)\n",
    "test_listings_prepared_2 = full_pipeline.fit_transform(test_listings_cleaned_2)"
   ]
  },
  {
   "cell_type": "code",
   "execution_count": 127,
   "id": "358abe34",
   "metadata": {},
   "outputs": [
    {
     "name": "stdout",
     "output_type": "stream",
     "text": [
      "(4700, 23)\n",
      "(1169, 23)\n"
     ]
    }
   ],
   "source": [
    "print(train_listings_prepared_2.shape)\n",
    "print(test_listings_prepared_2.shape)"
   ]
  },
  {
   "cell_type": "markdown",
   "id": "4c52b21c",
   "metadata": {},
   "source": [
    "## Train the models with the new data version"
   ]
  },
  {
   "cell_type": "markdown",
   "id": "f1c6a296",
   "metadata": {},
   "source": [
    "### Random forest 2"
   ]
  },
  {
   "cell_type": "code",
   "execution_count": 135,
   "id": "4ea201de",
   "metadata": {},
   "outputs": [
    {
     "name": "stderr",
     "output_type": "stream",
     "text": [
      "C:\\Users\\catat\\anaconda3\\lib\\site-packages\\sklearn\\ensemble\\_forest.py:427: FutureWarning: `max_features='auto'` has been deprecated in 1.1 and will be removed in 1.3. To keep the past behaviour, explicitly set `max_features='sqrt'` or remove this parameter as it is also the default value for RandomForestClassifiers and ExtraTreesClassifiers.\n",
      "  warn(\n",
      "C:\\Users\\catat\\anaconda3\\lib\\site-packages\\sklearn\\ensemble\\_forest.py:427: FutureWarning: `max_features='auto'` has been deprecated in 1.1 and will be removed in 1.3. To keep the past behaviour, explicitly set `max_features='sqrt'` or remove this parameter as it is also the default value for RandomForestClassifiers and ExtraTreesClassifiers.\n",
      "  warn(\n",
      "C:\\Users\\catat\\anaconda3\\lib\\site-packages\\sklearn\\ensemble\\_forest.py:427: FutureWarning: `max_features='auto'` has been deprecated in 1.1 and will be removed in 1.3. To keep the past behaviour, explicitly set `max_features='sqrt'` or remove this parameter as it is also the default value for RandomForestClassifiers and ExtraTreesClassifiers.\n",
      "  warn(\n",
      "C:\\Users\\catat\\anaconda3\\lib\\site-packages\\sklearn\\ensemble\\_forest.py:427: FutureWarning: `max_features='auto'` has been deprecated in 1.1 and will be removed in 1.3. To keep the past behaviour, explicitly set `max_features='sqrt'` or remove this parameter as it is also the default value for RandomForestClassifiers and ExtraTreesClassifiers.\n",
      "  warn(\n",
      "C:\\Users\\catat\\anaconda3\\lib\\site-packages\\sklearn\\ensemble\\_forest.py:427: FutureWarning: `max_features='auto'` has been deprecated in 1.1 and will be removed in 1.3. To keep the past behaviour, explicitly set `max_features='sqrt'` or remove this parameter as it is also the default value for RandomForestClassifiers and ExtraTreesClassifiers.\n",
      "  warn(\n",
      "C:\\Users\\catat\\anaconda3\\lib\\site-packages\\sklearn\\ensemble\\_forest.py:427: FutureWarning: `max_features='auto'` has been deprecated in 1.1 and will be removed in 1.3. To keep the past behaviour, explicitly set `max_features='sqrt'` or remove this parameter as it is also the default value for RandomForestClassifiers and ExtraTreesClassifiers.\n",
      "  warn(\n",
      "C:\\Users\\catat\\anaconda3\\lib\\site-packages\\sklearn\\ensemble\\_forest.py:427: FutureWarning: `max_features='auto'` has been deprecated in 1.1 and will be removed in 1.3. To keep the past behaviour, explicitly set `max_features='sqrt'` or remove this parameter as it is also the default value for RandomForestClassifiers and ExtraTreesClassifiers.\n",
      "  warn(\n",
      "C:\\Users\\catat\\anaconda3\\lib\\site-packages\\sklearn\\ensemble\\_forest.py:427: FutureWarning: `max_features='auto'` has been deprecated in 1.1 and will be removed in 1.3. To keep the past behaviour, explicitly set `max_features='sqrt'` or remove this parameter as it is also the default value for RandomForestClassifiers and ExtraTreesClassifiers.\n",
      "  warn(\n",
      "C:\\Users\\catat\\anaconda3\\lib\\site-packages\\sklearn\\ensemble\\_forest.py:427: FutureWarning: `max_features='auto'` has been deprecated in 1.1 and will be removed in 1.3. To keep the past behaviour, explicitly set `max_features='sqrt'` or remove this parameter as it is also the default value for RandomForestClassifiers and ExtraTreesClassifiers.\n",
      "  warn(\n",
      "C:\\Users\\catat\\anaconda3\\lib\\site-packages\\sklearn\\ensemble\\_forest.py:427: FutureWarning: `max_features='auto'` has been deprecated in 1.1 and will be removed in 1.3. To keep the past behaviour, explicitly set `max_features='sqrt'` or remove this parameter as it is also the default value for RandomForestClassifiers and ExtraTreesClassifiers.\n",
      "  warn(\n",
      "C:\\Users\\catat\\anaconda3\\lib\\site-packages\\sklearn\\ensemble\\_forest.py:427: FutureWarning: `max_features='auto'` has been deprecated in 1.1 and will be removed in 1.3. To keep the past behaviour, explicitly set `max_features='sqrt'` or remove this parameter as it is also the default value for RandomForestClassifiers and ExtraTreesClassifiers.\n",
      "  warn(\n",
      "C:\\Users\\catat\\anaconda3\\lib\\site-packages\\sklearn\\ensemble\\_forest.py:427: FutureWarning: `max_features='auto'` has been deprecated in 1.1 and will be removed in 1.3. To keep the past behaviour, explicitly set `max_features='sqrt'` or remove this parameter as it is also the default value for RandomForestClassifiers and ExtraTreesClassifiers.\n",
      "  warn(\n",
      "C:\\Users\\catat\\anaconda3\\lib\\site-packages\\sklearn\\ensemble\\_forest.py:427: FutureWarning: `max_features='auto'` has been deprecated in 1.1 and will be removed in 1.3. To keep the past behaviour, explicitly set `max_features='sqrt'` or remove this parameter as it is also the default value for RandomForestClassifiers and ExtraTreesClassifiers.\n",
      "  warn(\n",
      "C:\\Users\\catat\\anaconda3\\lib\\site-packages\\sklearn\\ensemble\\_forest.py:427: FutureWarning: `max_features='auto'` has been deprecated in 1.1 and will be removed in 1.3. To keep the past behaviour, explicitly set `max_features='sqrt'` or remove this parameter as it is also the default value for RandomForestClassifiers and ExtraTreesClassifiers.\n",
      "  warn(\n",
      "C:\\Users\\catat\\anaconda3\\lib\\site-packages\\sklearn\\ensemble\\_forest.py:427: FutureWarning: `max_features='auto'` has been deprecated in 1.1 and will be removed in 1.3. To keep the past behaviour, explicitly set `max_features='sqrt'` or remove this parameter as it is also the default value for RandomForestClassifiers and ExtraTreesClassifiers.\n",
      "  warn(\n",
      "C:\\Users\\catat\\anaconda3\\lib\\site-packages\\sklearn\\ensemble\\_forest.py:427: FutureWarning: `max_features='auto'` has been deprecated in 1.1 and will be removed in 1.3. To keep the past behaviour, explicitly set `max_features='sqrt'` or remove this parameter as it is also the default value for RandomForestClassifiers and ExtraTreesClassifiers.\n",
      "  warn(\n",
      "C:\\Users\\catat\\anaconda3\\lib\\site-packages\\sklearn\\ensemble\\_forest.py:427: FutureWarning: `max_features='auto'` has been deprecated in 1.1 and will be removed in 1.3. To keep the past behaviour, explicitly set `max_features='sqrt'` or remove this parameter as it is also the default value for RandomForestClassifiers and ExtraTreesClassifiers.\n",
      "  warn(\n",
      "C:\\Users\\catat\\anaconda3\\lib\\site-packages\\sklearn\\ensemble\\_forest.py:427: FutureWarning: `max_features='auto'` has been deprecated in 1.1 and will be removed in 1.3. To keep the past behaviour, explicitly set `max_features='sqrt'` or remove this parameter as it is also the default value for RandomForestClassifiers and ExtraTreesClassifiers.\n",
      "  warn(\n",
      "C:\\Users\\catat\\anaconda3\\lib\\site-packages\\sklearn\\ensemble\\_forest.py:427: FutureWarning: `max_features='auto'` has been deprecated in 1.1 and will be removed in 1.3. To keep the past behaviour, explicitly set `max_features='sqrt'` or remove this parameter as it is also the default value for RandomForestClassifiers and ExtraTreesClassifiers.\n",
      "  warn(\n",
      "C:\\Users\\catat\\anaconda3\\lib\\site-packages\\sklearn\\ensemble\\_forest.py:427: FutureWarning: `max_features='auto'` has been deprecated in 1.1 and will be removed in 1.3. To keep the past behaviour, explicitly set `max_features='sqrt'` or remove this parameter as it is also the default value for RandomForestClassifiers and ExtraTreesClassifiers.\n",
      "  warn(\n",
      "C:\\Users\\catat\\anaconda3\\lib\\site-packages\\sklearn\\ensemble\\_forest.py:427: FutureWarning: `max_features='auto'` has been deprecated in 1.1 and will be removed in 1.3. To keep the past behaviour, explicitly set `max_features='sqrt'` or remove this parameter as it is also the default value for RandomForestClassifiers and ExtraTreesClassifiers.\n",
      "  warn(\n",
      "C:\\Users\\catat\\anaconda3\\lib\\site-packages\\sklearn\\ensemble\\_forest.py:427: FutureWarning: `max_features='auto'` has been deprecated in 1.1 and will be removed in 1.3. To keep the past behaviour, explicitly set `max_features='sqrt'` or remove this parameter as it is also the default value for RandomForestClassifiers and ExtraTreesClassifiers.\n",
      "  warn(\n",
      "C:\\Users\\catat\\anaconda3\\lib\\site-packages\\sklearn\\ensemble\\_forest.py:427: FutureWarning: `max_features='auto'` has been deprecated in 1.1 and will be removed in 1.3. To keep the past behaviour, explicitly set `max_features='sqrt'` or remove this parameter as it is also the default value for RandomForestClassifiers and ExtraTreesClassifiers.\n",
      "  warn(\n",
      "C:\\Users\\catat\\anaconda3\\lib\\site-packages\\sklearn\\ensemble\\_forest.py:427: FutureWarning: `max_features='auto'` has been deprecated in 1.1 and will be removed in 1.3. To keep the past behaviour, explicitly set `max_features='sqrt'` or remove this parameter as it is also the default value for RandomForestClassifiers and ExtraTreesClassifiers.\n",
      "  warn(\n",
      "C:\\Users\\catat\\anaconda3\\lib\\site-packages\\sklearn\\ensemble\\_forest.py:427: FutureWarning: `max_features='auto'` has been deprecated in 1.1 and will be removed in 1.3. To keep the past behaviour, explicitly set `max_features='sqrt'` or remove this parameter as it is also the default value for RandomForestClassifiers and ExtraTreesClassifiers.\n",
      "  warn(\n",
      "C:\\Users\\catat\\anaconda3\\lib\\site-packages\\sklearn\\ensemble\\_forest.py:427: FutureWarning: `max_features='auto'` has been deprecated in 1.1 and will be removed in 1.3. To keep the past behaviour, explicitly set `max_features='sqrt'` or remove this parameter as it is also the default value for RandomForestClassifiers and ExtraTreesClassifiers.\n",
      "  warn(\n",
      "C:\\Users\\catat\\anaconda3\\lib\\site-packages\\sklearn\\ensemble\\_forest.py:427: FutureWarning: `max_features='auto'` has been deprecated in 1.1 and will be removed in 1.3. To keep the past behaviour, explicitly set `max_features='sqrt'` or remove this parameter as it is also the default value for RandomForestClassifiers and ExtraTreesClassifiers.\n",
      "  warn(\n"
     ]
    },
    {
     "name": "stderr",
     "output_type": "stream",
     "text": [
      "C:\\Users\\catat\\anaconda3\\lib\\site-packages\\sklearn\\ensemble\\_forest.py:427: FutureWarning: `max_features='auto'` has been deprecated in 1.1 and will be removed in 1.3. To keep the past behaviour, explicitly set `max_features='sqrt'` or remove this parameter as it is also the default value for RandomForestClassifiers and ExtraTreesClassifiers.\n",
      "  warn(\n",
      "C:\\Users\\catat\\anaconda3\\lib\\site-packages\\sklearn\\ensemble\\_forest.py:427: FutureWarning: `max_features='auto'` has been deprecated in 1.1 and will be removed in 1.3. To keep the past behaviour, explicitly set `max_features='sqrt'` or remove this parameter as it is also the default value for RandomForestClassifiers and ExtraTreesClassifiers.\n",
      "  warn(\n",
      "C:\\Users\\catat\\anaconda3\\lib\\site-packages\\sklearn\\ensemble\\_forest.py:427: FutureWarning: `max_features='auto'` has been deprecated in 1.1 and will be removed in 1.3. To keep the past behaviour, explicitly set `max_features='sqrt'` or remove this parameter as it is also the default value for RandomForestClassifiers and ExtraTreesClassifiers.\n",
      "  warn(\n",
      "C:\\Users\\catat\\anaconda3\\lib\\site-packages\\sklearn\\ensemble\\_forest.py:427: FutureWarning: `max_features='auto'` has been deprecated in 1.1 and will be removed in 1.3. To keep the past behaviour, explicitly set `max_features='sqrt'` or remove this parameter as it is also the default value for RandomForestClassifiers and ExtraTreesClassifiers.\n",
      "  warn(\n",
      "C:\\Users\\catat\\anaconda3\\lib\\site-packages\\sklearn\\ensemble\\_forest.py:427: FutureWarning: `max_features='auto'` has been deprecated in 1.1 and will be removed in 1.3. To keep the past behaviour, explicitly set `max_features='sqrt'` or remove this parameter as it is also the default value for RandomForestClassifiers and ExtraTreesClassifiers.\n",
      "  warn(\n",
      "C:\\Users\\catat\\anaconda3\\lib\\site-packages\\sklearn\\ensemble\\_forest.py:427: FutureWarning: `max_features='auto'` has been deprecated in 1.1 and will be removed in 1.3. To keep the past behaviour, explicitly set `max_features='sqrt'` or remove this parameter as it is also the default value for RandomForestClassifiers and ExtraTreesClassifiers.\n",
      "  warn(\n",
      "C:\\Users\\catat\\anaconda3\\lib\\site-packages\\sklearn\\ensemble\\_forest.py:427: FutureWarning: `max_features='auto'` has been deprecated in 1.1 and will be removed in 1.3. To keep the past behaviour, explicitly set `max_features='sqrt'` or remove this parameter as it is also the default value for RandomForestClassifiers and ExtraTreesClassifiers.\n",
      "  warn(\n",
      "C:\\Users\\catat\\anaconda3\\lib\\site-packages\\sklearn\\ensemble\\_forest.py:427: FutureWarning: `max_features='auto'` has been deprecated in 1.1 and will be removed in 1.3. To keep the past behaviour, explicitly set `max_features='sqrt'` or remove this parameter as it is also the default value for RandomForestClassifiers and ExtraTreesClassifiers.\n",
      "  warn(\n",
      "C:\\Users\\catat\\anaconda3\\lib\\site-packages\\sklearn\\ensemble\\_forest.py:427: FutureWarning: `max_features='auto'` has been deprecated in 1.1 and will be removed in 1.3. To keep the past behaviour, explicitly set `max_features='sqrt'` or remove this parameter as it is also the default value for RandomForestClassifiers and ExtraTreesClassifiers.\n",
      "  warn(\n",
      "C:\\Users\\catat\\anaconda3\\lib\\site-packages\\sklearn\\ensemble\\_forest.py:427: FutureWarning: `max_features='auto'` has been deprecated in 1.1 and will be removed in 1.3. To keep the past behaviour, explicitly set `max_features='sqrt'` or remove this parameter as it is also the default value for RandomForestClassifiers and ExtraTreesClassifiers.\n",
      "  warn(\n",
      "C:\\Users\\catat\\anaconda3\\lib\\site-packages\\sklearn\\ensemble\\_forest.py:427: FutureWarning: `max_features='auto'` has been deprecated in 1.1 and will be removed in 1.3. To keep the past behaviour, explicitly set `max_features='sqrt'` or remove this parameter as it is also the default value for RandomForestClassifiers and ExtraTreesClassifiers.\n",
      "  warn(\n",
      "C:\\Users\\catat\\anaconda3\\lib\\site-packages\\sklearn\\ensemble\\_forest.py:427: FutureWarning: `max_features='auto'` has been deprecated in 1.1 and will be removed in 1.3. To keep the past behaviour, explicitly set `max_features='sqrt'` or remove this parameter as it is also the default value for RandomForestClassifiers and ExtraTreesClassifiers.\n",
      "  warn(\n",
      "C:\\Users\\catat\\anaconda3\\lib\\site-packages\\sklearn\\ensemble\\_forest.py:427: FutureWarning: `max_features='auto'` has been deprecated in 1.1 and will be removed in 1.3. To keep the past behaviour, explicitly set `max_features='sqrt'` or remove this parameter as it is also the default value for RandomForestClassifiers and ExtraTreesClassifiers.\n",
      "  warn(\n",
      "C:\\Users\\catat\\anaconda3\\lib\\site-packages\\sklearn\\ensemble\\_forest.py:427: FutureWarning: `max_features='auto'` has been deprecated in 1.1 and will be removed in 1.3. To keep the past behaviour, explicitly set `max_features='sqrt'` or remove this parameter as it is also the default value for RandomForestClassifiers and ExtraTreesClassifiers.\n",
      "  warn(\n",
      "C:\\Users\\catat\\anaconda3\\lib\\site-packages\\sklearn\\ensemble\\_forest.py:427: FutureWarning: `max_features='auto'` has been deprecated in 1.1 and will be removed in 1.3. To keep the past behaviour, explicitly set `max_features='sqrt'` or remove this parameter as it is also the default value for RandomForestClassifiers and ExtraTreesClassifiers.\n",
      "  warn(\n",
      "C:\\Users\\catat\\anaconda3\\lib\\site-packages\\sklearn\\ensemble\\_forest.py:427: FutureWarning: `max_features='auto'` has been deprecated in 1.1 and will be removed in 1.3. To keep the past behaviour, explicitly set `max_features='sqrt'` or remove this parameter as it is also the default value for RandomForestClassifiers and ExtraTreesClassifiers.\n",
      "  warn(\n",
      "C:\\Users\\catat\\anaconda3\\lib\\site-packages\\sklearn\\ensemble\\_forest.py:427: FutureWarning: `max_features='auto'` has been deprecated in 1.1 and will be removed in 1.3. To keep the past behaviour, explicitly set `max_features='sqrt'` or remove this parameter as it is also the default value for RandomForestClassifiers and ExtraTreesClassifiers.\n",
      "  warn(\n",
      "C:\\Users\\catat\\anaconda3\\lib\\site-packages\\sklearn\\ensemble\\_forest.py:427: FutureWarning: `max_features='auto'` has been deprecated in 1.1 and will be removed in 1.3. To keep the past behaviour, explicitly set `max_features='sqrt'` or remove this parameter as it is also the default value for RandomForestClassifiers and ExtraTreesClassifiers.\n",
      "  warn(\n",
      "C:\\Users\\catat\\anaconda3\\lib\\site-packages\\sklearn\\ensemble\\_forest.py:427: FutureWarning: `max_features='auto'` has been deprecated in 1.1 and will be removed in 1.3. To keep the past behaviour, explicitly set `max_features='sqrt'` or remove this parameter as it is also the default value for RandomForestClassifiers and ExtraTreesClassifiers.\n",
      "  warn(\n",
      "C:\\Users\\catat\\anaconda3\\lib\\site-packages\\sklearn\\ensemble\\_forest.py:427: FutureWarning: `max_features='auto'` has been deprecated in 1.1 and will be removed in 1.3. To keep the past behaviour, explicitly set `max_features='sqrt'` or remove this parameter as it is also the default value for RandomForestClassifiers and ExtraTreesClassifiers.\n",
      "  warn(\n",
      "C:\\Users\\catat\\anaconda3\\lib\\site-packages\\sklearn\\ensemble\\_forest.py:427: FutureWarning: `max_features='auto'` has been deprecated in 1.1 and will be removed in 1.3. To keep the past behaviour, explicitly set `max_features='sqrt'` or remove this parameter as it is also the default value for RandomForestClassifiers and ExtraTreesClassifiers.\n",
      "  warn(\n",
      "C:\\Users\\catat\\anaconda3\\lib\\site-packages\\sklearn\\ensemble\\_forest.py:427: FutureWarning: `max_features='auto'` has been deprecated in 1.1 and will be removed in 1.3. To keep the past behaviour, explicitly set `max_features='sqrt'` or remove this parameter as it is also the default value for RandomForestClassifiers and ExtraTreesClassifiers.\n",
      "  warn(\n",
      "C:\\Users\\catat\\anaconda3\\lib\\site-packages\\sklearn\\ensemble\\_forest.py:427: FutureWarning: `max_features='auto'` has been deprecated in 1.1 and will be removed in 1.3. To keep the past behaviour, explicitly set `max_features='sqrt'` or remove this parameter as it is also the default value for RandomForestClassifiers and ExtraTreesClassifiers.\n",
      "  warn(\n",
      "C:\\Users\\catat\\anaconda3\\lib\\site-packages\\sklearn\\ensemble\\_forest.py:427: FutureWarning: `max_features='auto'` has been deprecated in 1.1 and will be removed in 1.3. To keep the past behaviour, explicitly set `max_features='sqrt'` or remove this parameter as it is also the default value for RandomForestClassifiers and ExtraTreesClassifiers.\n",
      "  warn(\n",
      "C:\\Users\\catat\\anaconda3\\lib\\site-packages\\sklearn\\ensemble\\_forest.py:427: FutureWarning: `max_features='auto'` has been deprecated in 1.1 and will be removed in 1.3. To keep the past behaviour, explicitly set `max_features='sqrt'` or remove this parameter as it is also the default value for RandomForestClassifiers and ExtraTreesClassifiers.\n",
      "  warn(\n",
      "C:\\Users\\catat\\anaconda3\\lib\\site-packages\\sklearn\\ensemble\\_forest.py:427: FutureWarning: `max_features='auto'` has been deprecated in 1.1 and will be removed in 1.3. To keep the past behaviour, explicitly set `max_features='sqrt'` or remove this parameter as it is also the default value for RandomForestClassifiers and ExtraTreesClassifiers.\n",
      "  warn(\n",
      "C:\\Users\\catat\\anaconda3\\lib\\site-packages\\sklearn\\ensemble\\_forest.py:427: FutureWarning: `max_features='auto'` has been deprecated in 1.1 and will be removed in 1.3. To keep the past behaviour, explicitly set `max_features='sqrt'` or remove this parameter as it is also the default value for RandomForestClassifiers and ExtraTreesClassifiers.\n",
      "  warn(\n",
      "C:\\Users\\catat\\anaconda3\\lib\\site-packages\\sklearn\\ensemble\\_forest.py:427: FutureWarning: `max_features='auto'` has been deprecated in 1.1 and will be removed in 1.3. To keep the past behaviour, explicitly set `max_features='sqrt'` or remove this parameter as it is also the default value for RandomForestClassifiers and ExtraTreesClassifiers.\n",
      "  warn(\n",
      "C:\\Users\\catat\\anaconda3\\lib\\site-packages\\sklearn\\ensemble\\_forest.py:427: FutureWarning: `max_features='auto'` has been deprecated in 1.1 and will be removed in 1.3. To keep the past behaviour, explicitly set `max_features='sqrt'` or remove this parameter as it is also the default value for RandomForestClassifiers and ExtraTreesClassifiers.\n",
      "  warn(\n"
     ]
    },
    {
     "name": "stderr",
     "output_type": "stream",
     "text": [
      "C:\\Users\\catat\\anaconda3\\lib\\site-packages\\sklearn\\ensemble\\_forest.py:427: FutureWarning: `max_features='auto'` has been deprecated in 1.1 and will be removed in 1.3. To keep the past behaviour, explicitly set `max_features='sqrt'` or remove this parameter as it is also the default value for RandomForestClassifiers and ExtraTreesClassifiers.\n",
      "  warn(\n",
      "C:\\Users\\catat\\anaconda3\\lib\\site-packages\\sklearn\\ensemble\\_forest.py:427: FutureWarning: `max_features='auto'` has been deprecated in 1.1 and will be removed in 1.3. To keep the past behaviour, explicitly set `max_features='sqrt'` or remove this parameter as it is also the default value for RandomForestClassifiers and ExtraTreesClassifiers.\n",
      "  warn(\n",
      "C:\\Users\\catat\\anaconda3\\lib\\site-packages\\sklearn\\ensemble\\_forest.py:427: FutureWarning: `max_features='auto'` has been deprecated in 1.1 and will be removed in 1.3. To keep the past behaviour, explicitly set `max_features='sqrt'` or remove this parameter as it is also the default value for RandomForestClassifiers and ExtraTreesClassifiers.\n",
      "  warn(\n",
      "C:\\Users\\catat\\anaconda3\\lib\\site-packages\\sklearn\\ensemble\\_forest.py:427: FutureWarning: `max_features='auto'` has been deprecated in 1.1 and will be removed in 1.3. To keep the past behaviour, explicitly set `max_features='sqrt'` or remove this parameter as it is also the default value for RandomForestClassifiers and ExtraTreesClassifiers.\n",
      "  warn(\n",
      "C:\\Users\\catat\\anaconda3\\lib\\site-packages\\sklearn\\ensemble\\_forest.py:427: FutureWarning: `max_features='auto'` has been deprecated in 1.1 and will be removed in 1.3. To keep the past behaviour, explicitly set `max_features='sqrt'` or remove this parameter as it is also the default value for RandomForestClassifiers and ExtraTreesClassifiers.\n",
      "  warn(\n",
      "C:\\Users\\catat\\anaconda3\\lib\\site-packages\\sklearn\\ensemble\\_forest.py:427: FutureWarning: `max_features='auto'` has been deprecated in 1.1 and will be removed in 1.3. To keep the past behaviour, explicitly set `max_features='sqrt'` or remove this parameter as it is also the default value for RandomForestClassifiers and ExtraTreesClassifiers.\n",
      "  warn(\n",
      "C:\\Users\\catat\\anaconda3\\lib\\site-packages\\sklearn\\ensemble\\_forest.py:427: FutureWarning: `max_features='auto'` has been deprecated in 1.1 and will be removed in 1.3. To keep the past behaviour, explicitly set `max_features='sqrt'` or remove this parameter as it is also the default value for RandomForestClassifiers and ExtraTreesClassifiers.\n",
      "  warn(\n",
      "C:\\Users\\catat\\anaconda3\\lib\\site-packages\\sklearn\\ensemble\\_forest.py:427: FutureWarning: `max_features='auto'` has been deprecated in 1.1 and will be removed in 1.3. To keep the past behaviour, explicitly set `max_features='sqrt'` or remove this parameter as it is also the default value for RandomForestClassifiers and ExtraTreesClassifiers.\n",
      "  warn(\n",
      "C:\\Users\\catat\\anaconda3\\lib\\site-packages\\sklearn\\ensemble\\_forest.py:427: FutureWarning: `max_features='auto'` has been deprecated in 1.1 and will be removed in 1.3. To keep the past behaviour, explicitly set `max_features='sqrt'` or remove this parameter as it is also the default value for RandomForestClassifiers and ExtraTreesClassifiers.\n",
      "  warn(\n",
      "C:\\Users\\catat\\anaconda3\\lib\\site-packages\\sklearn\\ensemble\\_forest.py:427: FutureWarning: `max_features='auto'` has been deprecated in 1.1 and will be removed in 1.3. To keep the past behaviour, explicitly set `max_features='sqrt'` or remove this parameter as it is also the default value for RandomForestClassifiers and ExtraTreesClassifiers.\n",
      "  warn(\n",
      "C:\\Users\\catat\\anaconda3\\lib\\site-packages\\sklearn\\ensemble\\_forest.py:427: FutureWarning: `max_features='auto'` has been deprecated in 1.1 and will be removed in 1.3. To keep the past behaviour, explicitly set `max_features='sqrt'` or remove this parameter as it is also the default value for RandomForestClassifiers and ExtraTreesClassifiers.\n",
      "  warn(\n",
      "C:\\Users\\catat\\anaconda3\\lib\\site-packages\\sklearn\\ensemble\\_forest.py:427: FutureWarning: `max_features='auto'` has been deprecated in 1.1 and will be removed in 1.3. To keep the past behaviour, explicitly set `max_features='sqrt'` or remove this parameter as it is also the default value for RandomForestClassifiers and ExtraTreesClassifiers.\n",
      "  warn(\n",
      "C:\\Users\\catat\\anaconda3\\lib\\site-packages\\sklearn\\ensemble\\_forest.py:427: FutureWarning: `max_features='auto'` has been deprecated in 1.1 and will be removed in 1.3. To keep the past behaviour, explicitly set `max_features='sqrt'` or remove this parameter as it is also the default value for RandomForestClassifiers and ExtraTreesClassifiers.\n",
      "  warn(\n",
      "C:\\Users\\catat\\anaconda3\\lib\\site-packages\\sklearn\\ensemble\\_forest.py:427: FutureWarning: `max_features='auto'` has been deprecated in 1.1 and will be removed in 1.3. To keep the past behaviour, explicitly set `max_features='sqrt'` or remove this parameter as it is also the default value for RandomForestClassifiers and ExtraTreesClassifiers.\n",
      "  warn(\n",
      "C:\\Users\\catat\\anaconda3\\lib\\site-packages\\sklearn\\ensemble\\_forest.py:427: FutureWarning: `max_features='auto'` has been deprecated in 1.1 and will be removed in 1.3. To keep the past behaviour, explicitly set `max_features='sqrt'` or remove this parameter as it is also the default value for RandomForestClassifiers and ExtraTreesClassifiers.\n",
      "  warn(\n",
      "C:\\Users\\catat\\anaconda3\\lib\\site-packages\\sklearn\\ensemble\\_forest.py:427: FutureWarning: `max_features='auto'` has been deprecated in 1.1 and will be removed in 1.3. To keep the past behaviour, explicitly set `max_features='sqrt'` or remove this parameter as it is also the default value for RandomForestClassifiers and ExtraTreesClassifiers.\n",
      "  warn(\n",
      "C:\\Users\\catat\\anaconda3\\lib\\site-packages\\sklearn\\ensemble\\_forest.py:427: FutureWarning: `max_features='auto'` has been deprecated in 1.1 and will be removed in 1.3. To keep the past behaviour, explicitly set `max_features='sqrt'` or remove this parameter as it is also the default value for RandomForestClassifiers and ExtraTreesClassifiers.\n",
      "  warn(\n",
      "C:\\Users\\catat\\anaconda3\\lib\\site-packages\\sklearn\\ensemble\\_forest.py:427: FutureWarning: `max_features='auto'` has been deprecated in 1.1 and will be removed in 1.3. To keep the past behaviour, explicitly set `max_features='sqrt'` or remove this parameter as it is also the default value for RandomForestClassifiers and ExtraTreesClassifiers.\n",
      "  warn(\n",
      "C:\\Users\\catat\\anaconda3\\lib\\site-packages\\sklearn\\ensemble\\_forest.py:427: FutureWarning: `max_features='auto'` has been deprecated in 1.1 and will be removed in 1.3. To keep the past behaviour, explicitly set `max_features='sqrt'` or remove this parameter as it is also the default value for RandomForestClassifiers and ExtraTreesClassifiers.\n",
      "  warn(\n",
      "C:\\Users\\catat\\anaconda3\\lib\\site-packages\\sklearn\\ensemble\\_forest.py:427: FutureWarning: `max_features='auto'` has been deprecated in 1.1 and will be removed in 1.3. To keep the past behaviour, explicitly set `max_features='sqrt'` or remove this parameter as it is also the default value for RandomForestClassifiers and ExtraTreesClassifiers.\n",
      "  warn(\n",
      "C:\\Users\\catat\\anaconda3\\lib\\site-packages\\sklearn\\ensemble\\_forest.py:427: FutureWarning: `max_features='auto'` has been deprecated in 1.1 and will be removed in 1.3. To keep the past behaviour, explicitly set `max_features='sqrt'` or remove this parameter as it is also the default value for RandomForestClassifiers and ExtraTreesClassifiers.\n",
      "  warn(\n",
      "C:\\Users\\catat\\anaconda3\\lib\\site-packages\\sklearn\\ensemble\\_forest.py:427: FutureWarning: `max_features='auto'` has been deprecated in 1.1 and will be removed in 1.3. To keep the past behaviour, explicitly set `max_features='sqrt'` or remove this parameter as it is also the default value for RandomForestClassifiers and ExtraTreesClassifiers.\n",
      "  warn(\n",
      "C:\\Users\\catat\\anaconda3\\lib\\site-packages\\sklearn\\ensemble\\_forest.py:427: FutureWarning: `max_features='auto'` has been deprecated in 1.1 and will be removed in 1.3. To keep the past behaviour, explicitly set `max_features='sqrt'` or remove this parameter as it is also the default value for RandomForestClassifiers and ExtraTreesClassifiers.\n",
      "  warn(\n",
      "C:\\Users\\catat\\anaconda3\\lib\\site-packages\\sklearn\\ensemble\\_forest.py:427: FutureWarning: `max_features='auto'` has been deprecated in 1.1 and will be removed in 1.3. To keep the past behaviour, explicitly set `max_features='sqrt'` or remove this parameter as it is also the default value for RandomForestClassifiers and ExtraTreesClassifiers.\n",
      "  warn(\n"
     ]
    },
    {
     "name": "stderr",
     "output_type": "stream",
     "text": [
      "C:\\Users\\catat\\anaconda3\\lib\\site-packages\\sklearn\\ensemble\\_forest.py:427: FutureWarning: `max_features='auto'` has been deprecated in 1.1 and will be removed in 1.3. To keep the past behaviour, explicitly set `max_features='sqrt'` or remove this parameter as it is also the default value for RandomForestClassifiers and ExtraTreesClassifiers.\n",
      "  warn(\n",
      "C:\\Users\\catat\\anaconda3\\lib\\site-packages\\sklearn\\ensemble\\_forest.py:427: FutureWarning: `max_features='auto'` has been deprecated in 1.1 and will be removed in 1.3. To keep the past behaviour, explicitly set `max_features='sqrt'` or remove this parameter as it is also the default value for RandomForestClassifiers and ExtraTreesClassifiers.\n",
      "  warn(\n",
      "C:\\Users\\catat\\anaconda3\\lib\\site-packages\\sklearn\\ensemble\\_forest.py:427: FutureWarning: `max_features='auto'` has been deprecated in 1.1 and will be removed in 1.3. To keep the past behaviour, explicitly set `max_features='sqrt'` or remove this parameter as it is also the default value for RandomForestClassifiers and ExtraTreesClassifiers.\n",
      "  warn(\n",
      "C:\\Users\\catat\\anaconda3\\lib\\site-packages\\sklearn\\ensemble\\_forest.py:427: FutureWarning: `max_features='auto'` has been deprecated in 1.1 and will be removed in 1.3. To keep the past behaviour, explicitly set `max_features='sqrt'` or remove this parameter as it is also the default value for RandomForestClassifiers and ExtraTreesClassifiers.\n",
      "  warn(\n",
      "C:\\Users\\catat\\anaconda3\\lib\\site-packages\\sklearn\\ensemble\\_forest.py:427: FutureWarning: `max_features='auto'` has been deprecated in 1.1 and will be removed in 1.3. To keep the past behaviour, explicitly set `max_features='sqrt'` or remove this parameter as it is also the default value for RandomForestClassifiers and ExtraTreesClassifiers.\n",
      "  warn(\n",
      "C:\\Users\\catat\\anaconda3\\lib\\site-packages\\sklearn\\ensemble\\_forest.py:427: FutureWarning: `max_features='auto'` has been deprecated in 1.1 and will be removed in 1.3. To keep the past behaviour, explicitly set `max_features='sqrt'` or remove this parameter as it is also the default value for RandomForestClassifiers and ExtraTreesClassifiers.\n",
      "  warn(\n",
      "C:\\Users\\catat\\anaconda3\\lib\\site-packages\\sklearn\\ensemble\\_forest.py:427: FutureWarning: `max_features='auto'` has been deprecated in 1.1 and will be removed in 1.3. To keep the past behaviour, explicitly set `max_features='sqrt'` or remove this parameter as it is also the default value for RandomForestClassifiers and ExtraTreesClassifiers.\n",
      "  warn(\n",
      "C:\\Users\\catat\\anaconda3\\lib\\site-packages\\sklearn\\ensemble\\_forest.py:427: FutureWarning: `max_features='auto'` has been deprecated in 1.1 and will be removed in 1.3. To keep the past behaviour, explicitly set `max_features='sqrt'` or remove this parameter as it is also the default value for RandomForestClassifiers and ExtraTreesClassifiers.\n",
      "  warn(\n",
      "C:\\Users\\catat\\anaconda3\\lib\\site-packages\\sklearn\\ensemble\\_forest.py:427: FutureWarning: `max_features='auto'` has been deprecated in 1.1 and will be removed in 1.3. To keep the past behaviour, explicitly set `max_features='sqrt'` or remove this parameter as it is also the default value for RandomForestClassifiers and ExtraTreesClassifiers.\n",
      "  warn(\n",
      "C:\\Users\\catat\\anaconda3\\lib\\site-packages\\sklearn\\ensemble\\_forest.py:427: FutureWarning: `max_features='auto'` has been deprecated in 1.1 and will be removed in 1.3. To keep the past behaviour, explicitly set `max_features='sqrt'` or remove this parameter as it is also the default value for RandomForestClassifiers and ExtraTreesClassifiers.\n",
      "  warn(\n",
      "C:\\Users\\catat\\anaconda3\\lib\\site-packages\\sklearn\\ensemble\\_forest.py:427: FutureWarning: `max_features='auto'` has been deprecated in 1.1 and will be removed in 1.3. To keep the past behaviour, explicitly set `max_features='sqrt'` or remove this parameter as it is also the default value for RandomForestClassifiers and ExtraTreesClassifiers.\n",
      "  warn(\n",
      "C:\\Users\\catat\\anaconda3\\lib\\site-packages\\sklearn\\ensemble\\_forest.py:427: FutureWarning: `max_features='auto'` has been deprecated in 1.1 and will be removed in 1.3. To keep the past behaviour, explicitly set `max_features='sqrt'` or remove this parameter as it is also the default value for RandomForestClassifiers and ExtraTreesClassifiers.\n",
      "  warn(\n",
      "C:\\Users\\catat\\anaconda3\\lib\\site-packages\\sklearn\\ensemble\\_forest.py:427: FutureWarning: `max_features='auto'` has been deprecated in 1.1 and will be removed in 1.3. To keep the past behaviour, explicitly set `max_features='sqrt'` or remove this parameter as it is also the default value for RandomForestClassifiers and ExtraTreesClassifiers.\n",
      "  warn(\n",
      "C:\\Users\\catat\\anaconda3\\lib\\site-packages\\sklearn\\ensemble\\_forest.py:427: FutureWarning: `max_features='auto'` has been deprecated in 1.1 and will be removed in 1.3. To keep the past behaviour, explicitly set `max_features='sqrt'` or remove this parameter as it is also the default value for RandomForestClassifiers and ExtraTreesClassifiers.\n",
      "  warn(\n",
      "C:\\Users\\catat\\anaconda3\\lib\\site-packages\\sklearn\\ensemble\\_forest.py:427: FutureWarning: `max_features='auto'` has been deprecated in 1.1 and will be removed in 1.3. To keep the past behaviour, explicitly set `max_features='sqrt'` or remove this parameter as it is also the default value for RandomForestClassifiers and ExtraTreesClassifiers.\n",
      "  warn(\n",
      "C:\\Users\\catat\\anaconda3\\lib\\site-packages\\sklearn\\ensemble\\_forest.py:427: FutureWarning: `max_features='auto'` has been deprecated in 1.1 and will be removed in 1.3. To keep the past behaviour, explicitly set `max_features='sqrt'` or remove this parameter as it is also the default value for RandomForestClassifiers and ExtraTreesClassifiers.\n",
      "  warn(\n",
      "C:\\Users\\catat\\anaconda3\\lib\\site-packages\\sklearn\\ensemble\\_forest.py:427: FutureWarning: `max_features='auto'` has been deprecated in 1.1 and will be removed in 1.3. To keep the past behaviour, explicitly set `max_features='sqrt'` or remove this parameter as it is also the default value for RandomForestClassifiers and ExtraTreesClassifiers.\n",
      "  warn(\n",
      "C:\\Users\\catat\\anaconda3\\lib\\site-packages\\sklearn\\ensemble\\_forest.py:427: FutureWarning: `max_features='auto'` has been deprecated in 1.1 and will be removed in 1.3. To keep the past behaviour, explicitly set `max_features='sqrt'` or remove this parameter as it is also the default value for RandomForestClassifiers and ExtraTreesClassifiers.\n",
      "  warn(\n",
      "C:\\Users\\catat\\anaconda3\\lib\\site-packages\\sklearn\\ensemble\\_forest.py:427: FutureWarning: `max_features='auto'` has been deprecated in 1.1 and will be removed in 1.3. To keep the past behaviour, explicitly set `max_features='sqrt'` or remove this parameter as it is also the default value for RandomForestClassifiers and ExtraTreesClassifiers.\n",
      "  warn(\n",
      "C:\\Users\\catat\\anaconda3\\lib\\site-packages\\sklearn\\ensemble\\_forest.py:427: FutureWarning: `max_features='auto'` has been deprecated in 1.1 and will be removed in 1.3. To keep the past behaviour, explicitly set `max_features='sqrt'` or remove this parameter as it is also the default value for RandomForestClassifiers and ExtraTreesClassifiers.\n",
      "  warn(\n",
      "C:\\Users\\catat\\anaconda3\\lib\\site-packages\\sklearn\\ensemble\\_forest.py:427: FutureWarning: `max_features='auto'` has been deprecated in 1.1 and will be removed in 1.3. To keep the past behaviour, explicitly set `max_features='sqrt'` or remove this parameter as it is also the default value for RandomForestClassifiers and ExtraTreesClassifiers.\n",
      "  warn(\n",
      "C:\\Users\\catat\\anaconda3\\lib\\site-packages\\sklearn\\ensemble\\_forest.py:427: FutureWarning: `max_features='auto'` has been deprecated in 1.1 and will be removed in 1.3. To keep the past behaviour, explicitly set `max_features='sqrt'` or remove this parameter as it is also the default value for RandomForestClassifiers and ExtraTreesClassifiers.\n",
      "  warn(\n",
      "C:\\Users\\catat\\anaconda3\\lib\\site-packages\\sklearn\\ensemble\\_forest.py:427: FutureWarning: `max_features='auto'` has been deprecated in 1.1 and will be removed in 1.3. To keep the past behaviour, explicitly set `max_features='sqrt'` or remove this parameter as it is also the default value for RandomForestClassifiers and ExtraTreesClassifiers.\n",
      "  warn(\n",
      "C:\\Users\\catat\\anaconda3\\lib\\site-packages\\sklearn\\ensemble\\_forest.py:427: FutureWarning: `max_features='auto'` has been deprecated in 1.1 and will be removed in 1.3. To keep the past behaviour, explicitly set `max_features='sqrt'` or remove this parameter as it is also the default value for RandomForestClassifiers and ExtraTreesClassifiers.\n",
      "  warn(\n",
      "C:\\Users\\catat\\anaconda3\\lib\\site-packages\\sklearn\\ensemble\\_forest.py:427: FutureWarning: `max_features='auto'` has been deprecated in 1.1 and will be removed in 1.3. To keep the past behaviour, explicitly set `max_features='sqrt'` or remove this parameter as it is also the default value for RandomForestClassifiers and ExtraTreesClassifiers.\n",
      "  warn(\n",
      "C:\\Users\\catat\\anaconda3\\lib\\site-packages\\sklearn\\ensemble\\_forest.py:427: FutureWarning: `max_features='auto'` has been deprecated in 1.1 and will be removed in 1.3. To keep the past behaviour, explicitly set `max_features='sqrt'` or remove this parameter as it is also the default value for RandomForestClassifiers and ExtraTreesClassifiers.\n",
      "  warn(\n"
     ]
    },
    {
     "name": "stderr",
     "output_type": "stream",
     "text": [
      "C:\\Users\\catat\\anaconda3\\lib\\site-packages\\sklearn\\ensemble\\_forest.py:427: FutureWarning: `max_features='auto'` has been deprecated in 1.1 and will be removed in 1.3. To keep the past behaviour, explicitly set `max_features='sqrt'` or remove this parameter as it is also the default value for RandomForestClassifiers and ExtraTreesClassifiers.\n",
      "  warn(\n",
      "C:\\Users\\catat\\anaconda3\\lib\\site-packages\\sklearn\\ensemble\\_forest.py:427: FutureWarning: `max_features='auto'` has been deprecated in 1.1 and will be removed in 1.3. To keep the past behaviour, explicitly set `max_features='sqrt'` or remove this parameter as it is also the default value for RandomForestClassifiers and ExtraTreesClassifiers.\n",
      "  warn(\n",
      "C:\\Users\\catat\\anaconda3\\lib\\site-packages\\sklearn\\ensemble\\_forest.py:427: FutureWarning: `max_features='auto'` has been deprecated in 1.1 and will be removed in 1.3. To keep the past behaviour, explicitly set `max_features='sqrt'` or remove this parameter as it is also the default value for RandomForestClassifiers and ExtraTreesClassifiers.\n",
      "  warn(\n",
      "C:\\Users\\catat\\anaconda3\\lib\\site-packages\\sklearn\\ensemble\\_forest.py:427: FutureWarning: `max_features='auto'` has been deprecated in 1.1 and will be removed in 1.3. To keep the past behaviour, explicitly set `max_features='sqrt'` or remove this parameter as it is also the default value for RandomForestClassifiers and ExtraTreesClassifiers.\n",
      "  warn(\n",
      "C:\\Users\\catat\\anaconda3\\lib\\site-packages\\sklearn\\ensemble\\_forest.py:427: FutureWarning: `max_features='auto'` has been deprecated in 1.1 and will be removed in 1.3. To keep the past behaviour, explicitly set `max_features='sqrt'` or remove this parameter as it is also the default value for RandomForestClassifiers and ExtraTreesClassifiers.\n",
      "  warn(\n",
      "C:\\Users\\catat\\anaconda3\\lib\\site-packages\\sklearn\\ensemble\\_forest.py:427: FutureWarning: `max_features='auto'` has been deprecated in 1.1 and will be removed in 1.3. To keep the past behaviour, explicitly set `max_features='sqrt'` or remove this parameter as it is also the default value for RandomForestClassifiers and ExtraTreesClassifiers.\n",
      "  warn(\n",
      "C:\\Users\\catat\\anaconda3\\lib\\site-packages\\sklearn\\ensemble\\_forest.py:427: FutureWarning: `max_features='auto'` has been deprecated in 1.1 and will be removed in 1.3. To keep the past behaviour, explicitly set `max_features='sqrt'` or remove this parameter as it is also the default value for RandomForestClassifiers and ExtraTreesClassifiers.\n",
      "  warn(\n",
      "C:\\Users\\catat\\anaconda3\\lib\\site-packages\\sklearn\\ensemble\\_forest.py:427: FutureWarning: `max_features='auto'` has been deprecated in 1.1 and will be removed in 1.3. To keep the past behaviour, explicitly set `max_features='sqrt'` or remove this parameter as it is also the default value for RandomForestClassifiers and ExtraTreesClassifiers.\n",
      "  warn(\n",
      "C:\\Users\\catat\\anaconda3\\lib\\site-packages\\sklearn\\ensemble\\_forest.py:427: FutureWarning: `max_features='auto'` has been deprecated in 1.1 and will be removed in 1.3. To keep the past behaviour, explicitly set `max_features='sqrt'` or remove this parameter as it is also the default value for RandomForestClassifiers and ExtraTreesClassifiers.\n",
      "  warn(\n",
      "C:\\Users\\catat\\anaconda3\\lib\\site-packages\\sklearn\\ensemble\\_forest.py:427: FutureWarning: `max_features='auto'` has been deprecated in 1.1 and will be removed in 1.3. To keep the past behaviour, explicitly set `max_features='sqrt'` or remove this parameter as it is also the default value for RandomForestClassifiers and ExtraTreesClassifiers.\n",
      "  warn(\n",
      "C:\\Users\\catat\\anaconda3\\lib\\site-packages\\sklearn\\ensemble\\_forest.py:427: FutureWarning: `max_features='auto'` has been deprecated in 1.1 and will be removed in 1.3. To keep the past behaviour, explicitly set `max_features='sqrt'` or remove this parameter as it is also the default value for RandomForestClassifiers and ExtraTreesClassifiers.\n",
      "  warn(\n",
      "C:\\Users\\catat\\anaconda3\\lib\\site-packages\\sklearn\\ensemble\\_forest.py:427: FutureWarning: `max_features='auto'` has been deprecated in 1.1 and will be removed in 1.3. To keep the past behaviour, explicitly set `max_features='sqrt'` or remove this parameter as it is also the default value for RandomForestClassifiers and ExtraTreesClassifiers.\n",
      "  warn(\n",
      "C:\\Users\\catat\\anaconda3\\lib\\site-packages\\sklearn\\ensemble\\_forest.py:427: FutureWarning: `max_features='auto'` has been deprecated in 1.1 and will be removed in 1.3. To keep the past behaviour, explicitly set `max_features='sqrt'` or remove this parameter as it is also the default value for RandomForestClassifiers and ExtraTreesClassifiers.\n",
      "  warn(\n",
      "C:\\Users\\catat\\anaconda3\\lib\\site-packages\\sklearn\\ensemble\\_forest.py:427: FutureWarning: `max_features='auto'` has been deprecated in 1.1 and will be removed in 1.3. To keep the past behaviour, explicitly set `max_features='sqrt'` or remove this parameter as it is also the default value for RandomForestClassifiers and ExtraTreesClassifiers.\n",
      "  warn(\n"
     ]
    },
    {
     "name": "stdout",
     "output_type": "stream",
     "text": [
      "CV PARAMS:  {'criterion': 'entropy', 'max_depth': 10, 'max_features': 'auto', 'n_estimators': 30}\n",
      "BEST MODEL:  RandomForestClassifier(criterion='entropy', max_depth=10, max_features='auto',\n",
      "                       n_estimators=30, random_state=0)\n"
     ]
    },
    {
     "name": "stderr",
     "output_type": "stream",
     "text": [
      "C:\\Users\\catat\\anaconda3\\lib\\site-packages\\sklearn\\ensemble\\_forest.py:427: FutureWarning: `max_features='auto'` has been deprecated in 1.1 and will be removed in 1.3. To keep the past behaviour, explicitly set `max_features='sqrt'` or remove this parameter as it is also the default value for RandomForestClassifiers and ExtraTreesClassifiers.\n",
      "  warn(\n"
     ]
    }
   ],
   "source": [
    "best_mod = best_model(model, grid, train_listings_prepared_2, r_rating_cat_train_2)"
   ]
  },
  {
   "cell_type": "code",
   "execution_count": 136,
   "id": "3268f82b",
   "metadata": {},
   "outputs": [
    {
     "name": "stdout",
     "output_type": "stream",
     "text": [
      "46.54%\n"
     ]
    }
   ],
   "source": [
    "from sklearn.metrics import accuracy_score\n",
    "y_pred_test = best_mod.predict(test_listings_prepared_2)\n",
    "acc = accuracy_score(y_pred_test, r_rating_cat_test_2)\n",
    "print(round(acc*100, 2), \"%\", sep=\"\")"
   ]
  },
  {
   "cell_type": "markdown",
   "id": "134e9250",
   "metadata": {},
   "source": [
    "## Ridge classifier 2"
   ]
  },
  {
   "cell_type": "code",
   "execution_count": 137,
   "id": "7ad87289",
   "metadata": {},
   "outputs": [
    {
     "data": {
      "image/png": "[encoded data removed]",
      "text/plain": [
       "<Figure size 432x288 with 1 Axes>"
      ]
     },
     "metadata": {
      "needs_background": "light"
     },
     "output_type": "display_data"
    }
   ],
   "source": [
    "# search for an optimal value for C\n",
    "from sklearn.linear_model import RidgeClassifier\n",
    "\n",
    "from sklearn.model_selection import cross_val_score\n",
    "C_range = range(10, 50)\n",
    "C_scores = []\n",
    "for C in C_range:\n",
    "    ridge = RidgeClassifier(alpha=1/(2*C))\n",
    "    scores = cross_val_score(ridge, train_listings_prepared_2, r_rating_cat_train_2, cv=5, scoring='accuracy')\n",
    "    C_scores.append(scores.mean())\n",
    "\n",
    "    \n",
    "plt.errorbar(C_range, C_scores, xerr=0.2, yerr=0.4)\n",
    "plt.xlabel('Value of C for Ridge')\n",
    "plt.ylabel('Accuracy')\n",
    "plt.show()"
   ]
  },
  {
   "cell_type": "markdown",
   "id": "38548778",
   "metadata": {},
   "source": [
    "# CNN 2"
   ]
  },
  {
   "cell_type": "markdown",
   "id": "c793c91b",
   "metadata": {},
   "source": [
    "### Leaky ReLu"
   ]
  },
  {
   "cell_type": "code",
   "execution_count": 138,
   "id": "5c0bbba4",
   "metadata": {},
   "outputs": [],
   "source": [
    "X_train, X_valid = train_listings_prepared_2[:3500], train_listings_prepared_2[3500:]\n",
    "y_train, y_valid = r_rating_cat_train_2[:3500], r_rating_cat_train_2[3500:]"
   ]
  },
  {
   "cell_type": "code",
   "execution_count": 146,
   "id": "da9aface",
   "metadata": {},
   "outputs": [],
   "source": [
    "tf.random.set_seed(42)\n",
    "np.random.seed(42)\n",
    "\n",
    "model = keras.models.Sequential([\n",
    "    keras.layers.Flatten(input_shape=[23]),\n",
    "    keras.layers.Dense(300, kernel_initializer=\"he_normal\"),\n",
    "    keras.layers.LeakyReLU(),\n",
    "    keras.layers.Dense(100, kernel_initializer=\"he_normal\"),\n",
    "    keras.layers.LeakyReLU(),\n",
    "    keras.layers.Dense(10, activation=\"softmax\")\n",
    "])"
   ]
  },
  {
   "cell_type": "code",
   "execution_count": 147,
   "id": "1a6ca942",
   "metadata": {},
   "outputs": [],
   "source": [
    "model.compile(loss=\"sparse_categorical_crossentropy\",\n",
    "              optimizer=keras.optimizers.SGD(learning_rate=1e-3),\n",
    "              metrics=[\"accuracy\"])"
   ]
  },
  {
   "cell_type": "code",
   "execution_count": 148,
   "id": "7e458167",
   "metadata": {
    "scrolled": true
   },
   "outputs": [
    {
     "name": "stdout",
     "output_type": "stream",
     "text": [
      "Epoch 1/20\n",
      "110/110 [==============================] - 1s 4ms/step - loss: 2.3329 - accuracy: 0.1591 - val_loss: 2.0394 - val_accuracy: 0.2633\n",
      "Epoch 2/20\n",
      "110/110 [==============================] - 0s 2ms/step - loss: 1.8935 - accuracy: 0.2969 - val_loss: 1.7940 - val_accuracy: 0.3233\n",
      "Epoch 3/20\n",
      "110/110 [==============================] - 0s 2ms/step - loss: 1.7283 - accuracy: 0.3260 - val_loss: 1.6737 - val_accuracy: 0.3550\n",
      "Epoch 4/20\n",
      "110/110 [==============================] - 0s 2ms/step - loss: 1.6382 - accuracy: 0.3557 - val_loss: 1.6026 - val_accuracy: 0.3633\n",
      "Epoch 5/20\n",
      "110/110 [==============================] - 0s 2ms/step - loss: 1.5814 - accuracy: 0.3709 - val_loss: 1.5537 - val_accuracy: 0.3842\n",
      "Epoch 6/20\n",
      "110/110 [==============================] - 0s 2ms/step - loss: 1.5418 - accuracy: 0.3783 - val_loss: 1.5168 - val_accuracy: 0.3917\n",
      "Epoch 7/20\n",
      "110/110 [==============================] - 0s 2ms/step - loss: 1.5120 - accuracy: 0.3903 - val_loss: 1.4884 - val_accuracy: 0.3983\n",
      "Epoch 8/20\n",
      "110/110 [==============================] - 0s 3ms/step - loss: 1.4882 - accuracy: 0.3911 - val_loss: 1.4644 - val_accuracy: 0.4083\n",
      "Epoch 9/20\n",
      "110/110 [==============================] - 0s 3ms/step - loss: 1.4682 - accuracy: 0.3957 - val_loss: 1.4443 - val_accuracy: 0.4133\n",
      "Epoch 10/20\n",
      "110/110 [==============================] - 0s 2ms/step - loss: 1.4514 - accuracy: 0.4014 - val_loss: 1.4268 - val_accuracy: 0.4150\n",
      "Epoch 11/20\n",
      "110/110 [==============================] - 0s 3ms/step - loss: 1.4370 - accuracy: 0.4046 - val_loss: 1.4124 - val_accuracy: 0.4183\n",
      "Epoch 12/20\n",
      "110/110 [==============================] - 0s 3ms/step - loss: 1.4253 - accuracy: 0.4094 - val_loss: 1.3997 - val_accuracy: 0.4342\n",
      "Epoch 13/20\n",
      "110/110 [==============================] - 0s 2ms/step - loss: 1.4157 - accuracy: 0.4191 - val_loss: 1.3909 - val_accuracy: 0.4350\n",
      "Epoch 14/20\n",
      "110/110 [==============================] - 0s 2ms/step - loss: 1.4083 - accuracy: 0.4183 - val_loss: 1.3835 - val_accuracy: 0.4367\n",
      "Epoch 15/20\n",
      "110/110 [==============================] - 0s 2ms/step - loss: 1.4017 - accuracy: 0.4214 - val_loss: 1.3781 - val_accuracy: 0.4383\n",
      "Epoch 16/20\n",
      "110/110 [==============================] - 0s 2ms/step - loss: 1.3964 - accuracy: 0.4214 - val_loss: 1.3724 - val_accuracy: 0.4400\n",
      "Epoch 17/20\n",
      "110/110 [==============================] - 0s 3ms/step - loss: 1.3911 - accuracy: 0.4243 - val_loss: 1.3678 - val_accuracy: 0.4467\n",
      "Epoch 18/20\n",
      "110/110 [==============================] - 0s 3ms/step - loss: 1.3863 - accuracy: 0.4266 - val_loss: 1.3643 - val_accuracy: 0.4525\n",
      "Epoch 19/20\n",
      "110/110 [==============================] - 0s 2ms/step - loss: 1.3822 - accuracy: 0.4306 - val_loss: 1.3604 - val_accuracy: 0.4483\n",
      "Epoch 20/20\n",
      "110/110 [==============================] - 0s 2ms/step - loss: 1.3782 - accuracy: 0.4317 - val_loss: 1.3573 - val_accuracy: 0.4483\n"
     ]
    }
   ],
   "source": [
    "history = model.fit(X_train, y_train, epochs=20,\n",
    "                    validation_data=(X_valid, y_valid))"
   ]
  },
  {
   "cell_type": "markdown",
   "id": "cfbcb3a1",
   "metadata": {},
   "source": [
    "### Batch Normalization"
   ]
  },
  {
   "cell_type": "code",
   "execution_count": 152,
   "id": "4aabe232",
   "metadata": {},
   "outputs": [],
   "source": [
    "model = keras.models.Sequential([\n",
    "    keras.layers.Flatten(input_shape=[23]),\n",
    "    keras.layers.BatchNormalization(),\n",
    "    keras.layers.Dense(300, activation=\"relu\"),\n",
    "    keras.layers.BatchNormalization(),\n",
    "    keras.layers.Dense(100, activation=\"relu\"),\n",
    "    keras.layers.BatchNormalization(),\n",
    "    keras.layers.Dense(10, activation=\"softmax\")\n",
    "])"
   ]
  },
  {
   "cell_type": "code",
   "execution_count": 153,
   "id": "9c82d3d2",
   "metadata": {},
   "outputs": [],
   "source": [
    "model.compile(loss=\"sparse_categorical_crossentropy\",\n",
    "              optimizer=keras.optimizers.SGD(learning_rate=1e-3),\n",
    "              metrics=[\"accuracy\"])"
   ]
  },
  {
   "cell_type": "code",
   "execution_count": 154,
   "id": "eccb0a39",
   "metadata": {},
   "outputs": [
    {
     "name": "stdout",
     "output_type": "stream",
     "text": [
      "Epoch 1/20\n",
      "110/110 [==============================] - 1s 3ms/step - loss: 2.8903 - accuracy: 0.1171 - val_loss: 2.4038 - val_accuracy: 0.0583\n",
      "Epoch 2/20\n",
      "110/110 [==============================] - 0s 2ms/step - loss: 2.4700 - accuracy: 0.1711 - val_loss: 2.3535 - val_accuracy: 0.1158\n",
      "Epoch 3/20\n",
      "110/110 [==============================] - 0s 2ms/step - loss: 2.2667 - accuracy: 0.2229 - val_loss: 2.1949 - val_accuracy: 0.2258\n",
      "Epoch 4/20\n",
      "110/110 [==============================] - 0s 2ms/step - loss: 2.1342 - accuracy: 0.2714 - val_loss: 2.0835 - val_accuracy: 0.2883\n",
      "Epoch 5/20\n",
      "110/110 [==============================] - 0s 2ms/step - loss: 2.0428 - accuracy: 0.3011 - val_loss: 2.0134 - val_accuracy: 0.3275\n",
      "Epoch 6/20\n",
      "110/110 [==============================] - 0s 2ms/step - loss: 1.9890 - accuracy: 0.3314 - val_loss: 1.9544 - val_accuracy: 0.3517\n",
      "Epoch 7/20\n",
      "110/110 [==============================] - 0s 2ms/step - loss: 1.9021 - accuracy: 0.3669 - val_loss: 1.9050 - val_accuracy: 0.3792\n",
      "Epoch 8/20\n",
      "110/110 [==============================] - 0s 3ms/step - loss: 1.8728 - accuracy: 0.3774 - val_loss: 1.8636 - val_accuracy: 0.3958\n",
      "Epoch 9/20\n",
      "110/110 [==============================] - 0s 3ms/step - loss: 1.8446 - accuracy: 0.3909 - val_loss: 1.8242 - val_accuracy: 0.4083\n",
      "Epoch 10/20\n",
      "110/110 [==============================] - 0s 2ms/step - loss: 1.7957 - accuracy: 0.4106 - val_loss: 1.7943 - val_accuracy: 0.4158\n",
      "Epoch 11/20\n",
      "110/110 [==============================] - 0s 2ms/step - loss: 1.7609 - accuracy: 0.4211 - val_loss: 1.7666 - val_accuracy: 0.4300\n",
      "Epoch 12/20\n",
      "110/110 [==============================] - 0s 2ms/step - loss: 1.7256 - accuracy: 0.4300 - val_loss: 1.7401 - val_accuracy: 0.4350\n",
      "Epoch 13/20\n",
      "110/110 [==============================] - 0s 2ms/step - loss: 1.7143 - accuracy: 0.4234 - val_loss: 1.7192 - val_accuracy: 0.4292\n",
      "Epoch 14/20\n",
      "110/110 [==============================] - 0s 2ms/step - loss: 1.6754 - accuracy: 0.4417 - val_loss: 1.7016 - val_accuracy: 0.4317\n",
      "Epoch 15/20\n",
      "110/110 [==============================] - 0s 3ms/step - loss: 1.6597 - accuracy: 0.4446 - val_loss: 1.6762 - val_accuracy: 0.4392\n",
      "Epoch 16/20\n",
      "110/110 [==============================] - 0s 2ms/step - loss: 1.6495 - accuracy: 0.4397 - val_loss: 1.6646 - val_accuracy: 0.4342\n",
      "Epoch 17/20\n",
      "110/110 [==============================] - 0s 2ms/step - loss: 1.6323 - accuracy: 0.4469 - val_loss: 1.6487 - val_accuracy: 0.4400\n",
      "Epoch 18/20\n",
      "110/110 [==============================] - 0s 2ms/step - loss: 1.6142 - accuracy: 0.4486 - val_loss: 1.6344 - val_accuracy: 0.4358\n",
      "Epoch 19/20\n",
      "110/110 [==============================] - 0s 2ms/step - loss: 1.5997 - accuracy: 0.4480 - val_loss: 1.6186 - val_accuracy: 0.4417\n",
      "Epoch 20/20\n",
      "110/110 [==============================] - 0s 3ms/step - loss: 1.5575 - accuracy: 0.4580 - val_loss: 1.6021 - val_accuracy: 0.4425\n"
     ]
    }
   ],
   "source": [
    "history = model.fit(X_train, y_train, epochs=20,\n",
    "                    validation_data=(X_valid, y_valid))"
   ]
  },
  {
   "cell_type": "markdown",
   "id": "cd721130",
   "metadata": {},
   "source": [
    "# Learning rate frequent update"
   ]
  },
  {
   "cell_type": "code",
   "execution_count": 156,
   "id": "e6c27327",
   "metadata": {},
   "outputs": [
    {
     "name": "stdout",
     "output_type": "stream",
     "text": [
      "Epoch 1/30\n",
      "110/110 [==============================] - 1s 3ms/step - loss: 1.6949 - accuracy: 0.3603 - val_loss: 1.5691 - val_accuracy: 0.3408 - lr: 0.0089\n",
      "Epoch 2/30\n",
      "110/110 [==============================] - 0s 2ms/step - loss: 1.3528 - accuracy: 0.4251 - val_loss: 1.3194 - val_accuracy: 0.4475 - lr: 0.0079\n",
      "Epoch 3/30\n",
      "110/110 [==============================] - 0s 2ms/step - loss: 1.3315 - accuracy: 0.4351 - val_loss: 1.3075 - val_accuracy: 0.4408 - lr: 0.0071\n",
      "Epoch 4/30\n",
      "110/110 [==============================] - 0s 3ms/step - loss: 1.2912 - accuracy: 0.4406 - val_loss: 1.3206 - val_accuracy: 0.4625 - lr: 0.0063\n",
      "Epoch 5/30\n",
      "110/110 [==============================] - 0s 3ms/step - loss: 1.2465 - accuracy: 0.4580 - val_loss: 1.3944 - val_accuracy: 0.3983 - lr: 0.0056\n",
      "Epoch 6/30\n",
      "110/110 [==============================] - 0s 2ms/step - loss: 1.2249 - accuracy: 0.4580 - val_loss: 1.4153 - val_accuracy: 0.4158 - lr: 0.0050\n",
      "Epoch 7/30\n",
      "110/110 [==============================] - 0s 2ms/step - loss: 1.2123 - accuracy: 0.4666 - val_loss: 1.2231 - val_accuracy: 0.4800 - lr: 0.0044\n",
      "Epoch 8/30\n",
      "110/110 [==============================] - 0s 3ms/step - loss: 1.1867 - accuracy: 0.4734 - val_loss: 1.3295 - val_accuracy: 0.4275 - lr: 0.0040\n",
      "Epoch 9/30\n",
      "110/110 [==============================] - 0s 3ms/step - loss: 1.1696 - accuracy: 0.4883 - val_loss: 1.2529 - val_accuracy: 0.4658 - lr: 0.0035\n",
      "Epoch 10/30\n",
      "110/110 [==============================] - 0s 2ms/step - loss: 1.1530 - accuracy: 0.4951 - val_loss: 1.2148 - val_accuracy: 0.4600 - lr: 0.0031\n",
      "Epoch 11/30\n",
      "110/110 [==============================] - 0s 3ms/step - loss: 1.1402 - accuracy: 0.5089 - val_loss: 1.2129 - val_accuracy: 0.4525 - lr: 0.0028\n",
      "Epoch 12/30\n",
      "110/110 [==============================] - 0s 2ms/step - loss: 1.1266 - accuracy: 0.4966 - val_loss: 1.2289 - val_accuracy: 0.4725 - lr: 0.0025\n",
      "Epoch 13/30\n",
      "110/110 [==============================] - 0s 3ms/step - loss: 1.1116 - accuracy: 0.5100 - val_loss: 1.2227 - val_accuracy: 0.4942 - lr: 0.0022\n",
      "Epoch 14/30\n",
      "110/110 [==============================] - 0s 3ms/step - loss: 1.0991 - accuracy: 0.5183 - val_loss: 1.2146 - val_accuracy: 0.4850 - lr: 0.0020\n",
      "Epoch 15/30\n",
      "110/110 [==============================] - 0s 2ms/step - loss: 1.0927 - accuracy: 0.5231 - val_loss: 1.1983 - val_accuracy: 0.4917 - lr: 0.0018\n",
      "Epoch 16/30\n",
      "110/110 [==============================] - 0s 2ms/step - loss: 1.0841 - accuracy: 0.5271 - val_loss: 1.2023 - val_accuracy: 0.4950 - lr: 0.0016\n",
      "Epoch 17/30\n",
      "110/110 [==============================] - 0s 2ms/step - loss: 1.0684 - accuracy: 0.5263 - val_loss: 1.2059 - val_accuracy: 0.4950 - lr: 0.0014\n",
      "Epoch 18/30\n",
      "110/110 [==============================] - 0s 3ms/step - loss: 1.0602 - accuracy: 0.5363 - val_loss: 1.2101 - val_accuracy: 0.4858 - lr: 0.0012\n",
      "Epoch 19/30\n",
      "110/110 [==============================] - 0s 3ms/step - loss: 1.0505 - accuracy: 0.5371 - val_loss: 1.1980 - val_accuracy: 0.5092 - lr: 0.0011\n",
      "Epoch 20/30\n",
      "110/110 [==============================] - 0s 3ms/step - loss: 1.0412 - accuracy: 0.5469 - val_loss: 1.2115 - val_accuracy: 0.4667 - lr: 9.8641e-04\n",
      "Epoch 21/30\n",
      "110/110 [==============================] - 0s 3ms/step - loss: 1.0351 - accuracy: 0.5486 - val_loss: 1.2032 - val_accuracy: 0.4875 - lr: 8.7853e-04\n",
      "Epoch 22/30\n",
      "110/110 [==============================] - 0s 2ms/step - loss: 1.0245 - accuracy: 0.5520 - val_loss: 1.2100 - val_accuracy: 0.4708 - lr: 7.8246e-04\n",
      "Epoch 23/30\n",
      "110/110 [==============================] - 0s 3ms/step - loss: 1.0178 - accuracy: 0.5571 - val_loss: 1.2047 - val_accuracy: 0.4808 - lr: 6.9689e-04\n",
      "Epoch 24/30\n",
      "110/110 [==============================] - 0s 3ms/step - loss: 1.0126 - accuracy: 0.5609 - val_loss: 1.2111 - val_accuracy: 0.4492 - lr: 6.2068e-04\n",
      "Epoch 25/30\n",
      "110/110 [==============================] - 0s 3ms/step - loss: 1.0052 - accuracy: 0.5611 - val_loss: 1.2047 - val_accuracy: 0.5008 - lr: 5.5280e-04\n",
      "Epoch 26/30\n",
      "110/110 [==============================] - 0s 2ms/step - loss: 1.0006 - accuracy: 0.5706 - val_loss: 1.2020 - val_accuracy: 0.4967 - lr: 4.9235e-04\n",
      "Epoch 27/30\n",
      "110/110 [==============================] - 0s 2ms/step - loss: 0.9937 - accuracy: 0.5677 - val_loss: 1.2069 - val_accuracy: 0.4917 - lr: 4.3851e-04\n",
      "Epoch 28/30\n",
      "110/110 [==============================] - 0s 3ms/step - loss: 0.9880 - accuracy: 0.5720 - val_loss: 1.2060 - val_accuracy: 0.4867 - lr: 3.9055e-04\n",
      "Epoch 29/30\n",
      "110/110 [==============================] - 0s 3ms/step - loss: 0.9850 - accuracy: 0.5760 - val_loss: 1.2147 - val_accuracy: 0.4742 - lr: 3.4784e-04\n",
      "Epoch 30/30\n",
      "110/110 [==============================] - 0s 3ms/step - loss: 0.9812 - accuracy: 0.5734 - val_loss: 1.2070 - val_accuracy: 0.4892 - lr: 3.0980e-04\n"
     ]
    }
   ],
   "source": [
    "K = keras.backend\n",
    "\n",
    "class ExponentialDecay(keras.callbacks.Callback):\n",
    "    def __init__(self, s=40000):\n",
    "        super().__init__()\n",
    "        self.s = s\n",
    "\n",
    "    def on_batch_begin(self, batch, logs=None):\n",
    "        # Note: the `batch` argument is reset at each epoch\n",
    "        lr = K.get_value(self.model.optimizer.learning_rate)\n",
    "        K.set_value(self.model.optimizer.learning_rate, lr * 0.1**(1 / self.s))\n",
    "\n",
    "    def on_epoch_end(self, epoch, logs=None):\n",
    "        logs = logs or {}\n",
    "        logs['lr'] = K.get_value(self.model.optimizer.learning_rate)\n",
    "\n",
    "model = keras.models.Sequential([\n",
    "    keras.layers.Flatten(input_shape=[23]),\n",
    "    keras.layers.Dense(300, activation=\"selu\", kernel_initializer=\"lecun_normal\"),\n",
    "    keras.layers.Dense(100, activation=\"selu\", kernel_initializer=\"lecun_normal\"),\n",
    "    keras.layers.Dense(10, activation=\"softmax\")\n",
    "])\n",
    "lr0 = 0.01\n",
    "optimizer = keras.optimizers.Nadam(learning_rate=lr0)\n",
    "model.compile(loss=\"sparse_categorical_crossentropy\", optimizer=optimizer, metrics=[\"accuracy\"])\n",
    "n_epochs = 30\n",
    "\n",
    "s = 20 * len(X_train) // 32 # number of steps in 20 epochs (batch size = 32)\n",
    "exp_decay = ExponentialDecay(s)\n",
    "history = model.fit(X_train, y_train, epochs=n_epochs,\n",
    "                    validation_data=(X_valid, y_valid),\n",
    "                    callbacks=[exp_decay])"
   ]
  },
  {
   "cell_type": "code",
   "execution_count": 158,
   "id": "0e38e9b4",
   "metadata": {},
   "outputs": [
    {
     "name": "stdout",
     "output_type": "stream",
     "text": [
      "Test accuracy: 0.4585115611553192\n"
     ]
    }
   ],
   "source": [
    "score = model.evaluate(test_listings_prepared_2, r_rating_cat_test_2, verbose = 0)\n",
    "print('Test accuracy:', score[1])"
   ]
  },
  {
   "cell_type": "code",
   "execution_count": null,
   "id": "116ed3c2",
   "metadata": {},
   "outputs": [],
   "source": []
  }
 ],
 "metadata": {
  "kernelspec": {
   "display_name": "Python 3 (ipykernel)",
   "language": "python",
   "name": "python3"
  },
  "language_info": {
   "codemirror_mode": {
    "name": "ipython",
    "version": 3
   },
   "file_extension": ".py",
   "mimetype": "text/x-python",
   "name": "python",
   "nbconvert_exporter": "python",
   "pygments_lexer": "ipython3",
   "version": "3.9.12"
  }
 },
 "nbformat": 4,
 "nbformat_minor": 5
}
