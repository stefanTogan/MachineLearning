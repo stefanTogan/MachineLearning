{
 "cells": [
  {
   "cell_type": "code",
   "execution_count": 16,
   "id": "9881b340",
   "metadata": {},
   "outputs": [],
   "source": [
    "import numpy as np\n",
    "import pandas as pd\n",
    "import matplotlib.pyplot as plt\n",
    "import matplotlib\n",
    "import seaborn as sns"
   ]
  },
  {
   "cell_type": "code",
   "execution_count": 17,
   "id": "14f8e38f",
   "metadata": {},
   "outputs": [
    {
     "name": "stdout",
     "output_type": "stream",
     "text": [
      "<class 'pandas.core.frame.DataFrame'>\n",
      "RangeIndex: 7566 entries, 0 to 7565\n",
      "Data columns (total 75 columns):\n",
      " #   Column                                        Non-Null Count  Dtype  \n",
      "---  ------                                        --------------  -----  \n",
      " 0   id                                            7566 non-null   int64  \n",
      " 1   listing_url                                   7566 non-null   object \n",
      " 2   scrape_id                                     7566 non-null   int64  \n",
      " 3   last_scraped                                  7566 non-null   object \n",
      " 4   source                                        7566 non-null   object \n",
      " 5   name                                          7566 non-null   object \n",
      " 6   description                                   7411 non-null   object \n",
      " 7   neighborhood_overview                         4194 non-null   object \n",
      " 8   picture_url                                   7566 non-null   object \n",
      " 9   host_id                                       7566 non-null   int64  \n",
      " 10  host_url                                      7566 non-null   object \n",
      " 11  host_name                                     7566 non-null   object \n",
      " 12  host_since                                    7566 non-null   object \n",
      " 13  host_location                                 6232 non-null   object \n",
      " 14  host_about                                    3556 non-null   object \n",
      " 15  host_response_time                            3932 non-null   object \n",
      " 16  host_response_rate                            3932 non-null   object \n",
      " 17  host_acceptance_rate                          4191 non-null   object \n",
      " 18  host_is_superhost                             7566 non-null   object \n",
      " 19  host_thumbnail_url                            7566 non-null   object \n",
      " 20  host_picture_url                              7566 non-null   object \n",
      " 21  host_neighbourhood                            5234 non-null   object \n",
      " 22  host_listings_count                           7566 non-null   int64  \n",
      " 23  host_total_listings_count                     7566 non-null   int64  \n",
      " 24  host_verifications                            7566 non-null   object \n",
      " 25  host_has_profile_pic                          7566 non-null   object \n",
      " 26  host_identity_verified                        7566 non-null   object \n",
      " 27  neighbourhood                                 4194 non-null   object \n",
      " 28  neighbourhood_cleansed                        7566 non-null   object \n",
      " 29  neighbourhood_group_cleansed                  0 non-null      float64\n",
      " 30  latitude                                      7566 non-null   float64\n",
      " 31  longitude                                     7566 non-null   float64\n",
      " 32  property_type                                 7566 non-null   object \n",
      " 33  room_type                                     7566 non-null   object \n",
      " 34  accommodates                                  7566 non-null   int64  \n",
      " 35  bathrooms                                     0 non-null      float64\n",
      " 36  bathrooms_text                                7562 non-null   object \n",
      " 37  bedrooms                                      7361 non-null   float64\n",
      " 38  beds                                          7472 non-null   float64\n",
      " 39  amenities                                     7566 non-null   object \n",
      " 40  price                                         7566 non-null   object \n",
      " 41  minimum_nights                                7566 non-null   int64  \n",
      " 42  maximum_nights                                7566 non-null   int64  \n",
      " 43  minimum_minimum_nights                        7566 non-null   int64  \n",
      " 44  maximum_minimum_nights                        7566 non-null   int64  \n",
      " 45  minimum_maximum_nights                        7566 non-null   int64  \n",
      " 46  maximum_maximum_nights                        7566 non-null   int64  \n",
      " 47  minimum_nights_avg_ntm                        7566 non-null   float64\n",
      " 48  maximum_nights_avg_ntm                        7566 non-null   float64\n",
      " 49  calendar_updated                              0 non-null      float64\n",
      " 50  has_availability                              7566 non-null   object \n",
      " 51  availability_30                               7566 non-null   int64  \n",
      " 52  availability_60                               7566 non-null   int64  \n",
      " 53  availability_90                               7566 non-null   int64  \n",
      " 54  availability_365                              7566 non-null   int64  \n",
      " 55  calendar_last_scraped                         7566 non-null   object \n",
      " 56  number_of_reviews                             7566 non-null   int64  \n",
      " 57  number_of_reviews_ltm                         7566 non-null   int64  \n",
      " 58  number_of_reviews_l30d                        7566 non-null   int64  \n",
      " 59  first_review                                  6209 non-null   object \n",
      " 60  last_review                                   6209 non-null   object \n",
      " 61  review_scores_rating                          6209 non-null   float64\n",
      " 62  review_scores_accuracy                        6085 non-null   float64\n",
      " 63  review_scores_cleanliness                     6086 non-null   float64\n",
      " 64  review_scores_checkin                         6081 non-null   float64\n",
      " 65  review_scores_communication                   6085 non-null   float64\n",
      " 66  review_scores_location                        6081 non-null   float64\n",
      " 67  review_scores_value                           6079 non-null   float64\n",
      " 68  license                                       0 non-null      float64\n",
      " 69  instant_bookable                              7566 non-null   object \n",
      " 70  calculated_host_listings_count                7566 non-null   int64  \n",
      " 71  calculated_host_listings_count_entire_homes   7566 non-null   int64  \n",
      " 72  calculated_host_listings_count_private_rooms  7566 non-null   int64  \n",
      " 73  calculated_host_listings_count_shared_rooms   7566 non-null   int64  \n",
      " 74  reviews_per_month                             6209 non-null   float64\n",
      "dtypes: float64(18), int64(23), object(34)\n",
      "memory usage: 4.3+ MB\n"
     ]
    }
   ],
   "source": [
    "df_listings = pd.read_csv('listings.csv')\n",
    "df_listings.info()"
   ]
  },
  {
   "cell_type": "code",
   "execution_count": 18,
   "id": "60cff104",
   "metadata": {},
   "outputs": [
    {
     "data": {
      "text/html": [
       "<div>\n",
       "<style scoped>\n",
       "    .dataframe tbody tr th:only-of-type {\n",
       "        vertical-align: middle;\n",
       "    }\n",
       "\n",
       "    .dataframe tbody tr th {\n",
       "        vertical-align: top;\n",
       "    }\n",
       "\n",
       "    .dataframe thead th {\n",
       "        text-align: right;\n",
       "    }\n",
       "</style>\n",
       "<table border=\"1\" class=\"dataframe\">\n",
       "  <thead>\n",
       "    <tr style=\"text-align: right;\">\n",
       "      <th></th>\n",
       "      <th>id</th>\n",
       "      <th>listing_url</th>\n",
       "      <th>scrape_id</th>\n",
       "      <th>last_scraped</th>\n",
       "      <th>source</th>\n",
       "      <th>name</th>\n",
       "      <th>description</th>\n",
       "      <th>neighborhood_overview</th>\n",
       "      <th>picture_url</th>\n",
       "      <th>host_id</th>\n",
       "      <th>...</th>\n",
       "      <th>review_scores_communication</th>\n",
       "      <th>review_scores_location</th>\n",
       "      <th>review_scores_value</th>\n",
       "      <th>license</th>\n",
       "      <th>instant_bookable</th>\n",
       "      <th>calculated_host_listings_count</th>\n",
       "      <th>calculated_host_listings_count_entire_homes</th>\n",
       "      <th>calculated_host_listings_count_private_rooms</th>\n",
       "      <th>calculated_host_listings_count_shared_rooms</th>\n",
       "      <th>reviews_per_month</th>\n",
       "    </tr>\n",
       "  </thead>\n",
       "  <tbody>\n",
       "    <tr>\n",
       "      <th>0</th>\n",
       "      <td>44077</td>\n",
       "      <td>https://www.airbnb.com/rooms/44077</td>\n",
       "      <td>20220911231053</td>\n",
       "      <td>2022-09-12</td>\n",
       "      <td>city scrape</td>\n",
       "      <td>cosy comfortable Irish cottage twin</td>\n",
       "      <td>Our house was built in 1937 when there was ple...</td>\n",
       "      <td>I like our neighbourhood as there is no shorta...</td>\n",
       "      <td>https://a0.muscache.com/pictures/525706/050a3a...</td>\n",
       "      <td>193005</td>\n",
       "      <td>...</td>\n",
       "      <td>4.93</td>\n",
       "      <td>4.66</td>\n",
       "      <td>4.82</td>\n",
       "      <td>NaN</td>\n",
       "      <td>f</td>\n",
       "      <td>2</td>\n",
       "      <td>0</td>\n",
       "      <td>2</td>\n",
       "      <td>0</td>\n",
       "      <td>1.85</td>\n",
       "    </tr>\n",
       "    <tr>\n",
       "      <th>1</th>\n",
       "      <td>85156</td>\n",
       "      <td>https://www.airbnb.com/rooms/85156</td>\n",
       "      <td>20220911231053</td>\n",
       "      <td>2022-09-12</td>\n",
       "      <td>city scrape</td>\n",
       "      <td>Cosy Comfortable Irish Cottage  1 Double Bed</td>\n",
       "      <td>Our Cottage is a charming light filled cottage...</td>\n",
       "      <td>I love Dundrum and its surrounding areas ,&lt;br ...</td>\n",
       "      <td>https://a0.muscache.com/pictures/1749253/9ed2a...</td>\n",
       "      <td>193005</td>\n",
       "      <td>...</td>\n",
       "      <td>4.88</td>\n",
       "      <td>4.64</td>\n",
       "      <td>4.78</td>\n",
       "      <td>NaN</td>\n",
       "      <td>f</td>\n",
       "      <td>2</td>\n",
       "      <td>0</td>\n",
       "      <td>2</td>\n",
       "      <td>0</td>\n",
       "      <td>1.53</td>\n",
       "    </tr>\n",
       "    <tr>\n",
       "      <th>2</th>\n",
       "      <td>159889</td>\n",
       "      <td>https://www.airbnb.com/rooms/159889</td>\n",
       "      <td>20220911231053</td>\n",
       "      <td>2022-09-12</td>\n",
       "      <td>city scrape</td>\n",
       "      <td>Friendly Single Room</td>\n",
       "      <td>Washing can be done at a cost of €5  per load....</td>\n",
       "      <td>Plenty of buses into the city and the area is ...</td>\n",
       "      <td>https://a0.muscache.com/pictures/3031697/a8259...</td>\n",
       "      <td>766611</td>\n",
       "      <td>...</td>\n",
       "      <td>4.90</td>\n",
       "      <td>4.63</td>\n",
       "      <td>4.74</td>\n",
       "      <td>NaN</td>\n",
       "      <td>f</td>\n",
       "      <td>3</td>\n",
       "      <td>0</td>\n",
       "      <td>3</td>\n",
       "      <td>0</td>\n",
       "      <td>2.78</td>\n",
       "    </tr>\n",
       "    <tr>\n",
       "      <th>3</th>\n",
       "      <td>162809</td>\n",
       "      <td>https://www.airbnb.com/rooms/162809</td>\n",
       "      <td>20220911231053</td>\n",
       "      <td>2022-09-11</td>\n",
       "      <td>city scrape</td>\n",
       "      <td>5.5 miles south of Dublin City :^)</td>\n",
       "      <td>A nice place to relax after the bustle of the ...</td>\n",
       "      <td>Close to the sea, hill walks and the city - vi...</td>\n",
       "      <td>https://a0.muscache.com/pictures/86694529/c07b...</td>\n",
       "      <td>777681</td>\n",
       "      <td>...</td>\n",
       "      <td>4.97</td>\n",
       "      <td>4.77</td>\n",
       "      <td>4.85</td>\n",
       "      <td>NaN</td>\n",
       "      <td>f</td>\n",
       "      <td>2</td>\n",
       "      <td>0</td>\n",
       "      <td>2</td>\n",
       "      <td>0</td>\n",
       "      <td>3.68</td>\n",
       "    </tr>\n",
       "    <tr>\n",
       "      <th>4</th>\n",
       "      <td>165828</td>\n",
       "      <td>https://www.airbnb.com/rooms/165828</td>\n",
       "      <td>20220911231053</td>\n",
       "      <td>2022-09-11</td>\n",
       "      <td>city scrape</td>\n",
       "      <td>Pádraig Pearse apt. Kilmainham</td>\n",
       "      <td>Don't just visit Dublin, experience Dublin in ...</td>\n",
       "      <td>Enjoy a walk along the grand canal, or just ob...</td>\n",
       "      <td>https://a0.muscache.com/pictures/34311419/b3f6...</td>\n",
       "      <td>790601</td>\n",
       "      <td>...</td>\n",
       "      <td>4.75</td>\n",
       "      <td>4.34</td>\n",
       "      <td>4.55</td>\n",
       "      <td>NaN</td>\n",
       "      <td>t</td>\n",
       "      <td>5</td>\n",
       "      <td>5</td>\n",
       "      <td>0</td>\n",
       "      <td>0</td>\n",
       "      <td>0.48</td>\n",
       "    </tr>\n",
       "  </tbody>\n",
       "</table>\n",
       "<p>5 rows × 75 columns</p>\n",
       "</div>"
      ],
      "text/plain": [
       "       id                          listing_url       scrape_id last_scraped  \\\n",
       "0   44077   https://www.airbnb.com/rooms/44077  20220911231053   2022-09-12   \n",
       "1   85156   https://www.airbnb.com/rooms/85156  20220911231053   2022-09-12   \n",
       "2  159889  https://www.airbnb.com/rooms/159889  20220911231053   2022-09-12   \n",
       "3  162809  https://www.airbnb.com/rooms/162809  20220911231053   2022-09-11   \n",
       "4  165828  https://www.airbnb.com/rooms/165828  20220911231053   2022-09-11   \n",
       "\n",
       "        source                                          name  \\\n",
       "0  city scrape           cosy comfortable Irish cottage twin   \n",
       "1  city scrape  Cosy Comfortable Irish Cottage  1 Double Bed   \n",
       "2  city scrape                          Friendly Single Room   \n",
       "3  city scrape            5.5 miles south of Dublin City :^)   \n",
       "4  city scrape                Pádraig Pearse apt. Kilmainham   \n",
       "\n",
       "                                         description  \\\n",
       "0  Our house was built in 1937 when there was ple...   \n",
       "1  Our Cottage is a charming light filled cottage...   \n",
       "2  Washing can be done at a cost of €5  per load....   \n",
       "3  A nice place to relax after the bustle of the ...   \n",
       "4  Don't just visit Dublin, experience Dublin in ...   \n",
       "\n",
       "                               neighborhood_overview  \\\n",
       "0  I like our neighbourhood as there is no shorta...   \n",
       "1  I love Dundrum and its surrounding areas ,<br ...   \n",
       "2  Plenty of buses into the city and the area is ...   \n",
       "3  Close to the sea, hill walks and the city - vi...   \n",
       "4  Enjoy a walk along the grand canal, or just ob...   \n",
       "\n",
       "                                         picture_url  host_id  ...  \\\n",
       "0  https://a0.muscache.com/pictures/525706/050a3a...   193005  ...   \n",
       "1  https://a0.muscache.com/pictures/1749253/9ed2a...   193005  ...   \n",
       "2  https://a0.muscache.com/pictures/3031697/a8259...   766611  ...   \n",
       "3  https://a0.muscache.com/pictures/86694529/c07b...   777681  ...   \n",
       "4  https://a0.muscache.com/pictures/34311419/b3f6...   790601  ...   \n",
       "\n",
       "  review_scores_communication review_scores_location review_scores_value  \\\n",
       "0                        4.93                   4.66                4.82   \n",
       "1                        4.88                   4.64                4.78   \n",
       "2                        4.90                   4.63                4.74   \n",
       "3                        4.97                   4.77                4.85   \n",
       "4                        4.75                   4.34                4.55   \n",
       "\n",
       "  license instant_bookable calculated_host_listings_count  \\\n",
       "0     NaN                f                              2   \n",
       "1     NaN                f                              2   \n",
       "2     NaN                f                              3   \n",
       "3     NaN                f                              2   \n",
       "4     NaN                t                              5   \n",
       "\n",
       "  calculated_host_listings_count_entire_homes  \\\n",
       "0                                           0   \n",
       "1                                           0   \n",
       "2                                           0   \n",
       "3                                           0   \n",
       "4                                           5   \n",
       "\n",
       "  calculated_host_listings_count_private_rooms  \\\n",
       "0                                            2   \n",
       "1                                            2   \n",
       "2                                            3   \n",
       "3                                            2   \n",
       "4                                            0   \n",
       "\n",
       "  calculated_host_listings_count_shared_rooms reviews_per_month  \n",
       "0                                           0              1.85  \n",
       "1                                           0              1.53  \n",
       "2                                           0              2.78  \n",
       "3                                           0              3.68  \n",
       "4                                           0              0.48  \n",
       "\n",
       "[5 rows x 75 columns]"
      ]
     },
     "execution_count": 18,
     "metadata": {},
     "output_type": "execute_result"
    }
   ],
   "source": [
    "df_listings.head()"
   ]
  },
  {
   "cell_type": "code",
   "execution_count": 19,
   "id": "fa9c7889",
   "metadata": {},
   "outputs": [
    {
     "name": "stdout",
     "output_type": "stream",
     "text": [
      "<class 'pandas.core.frame.DataFrame'>\n",
      "RangeIndex: 243183 entries, 0 to 243182\n",
      "Data columns (total 6 columns):\n",
      " #   Column         Non-Null Count   Dtype \n",
      "---  ------         --------------   ----- \n",
      " 0   listing_id     243183 non-null  int64 \n",
      " 1   id             243183 non-null  int64 \n",
      " 2   date           243183 non-null  object\n",
      " 3   reviewer_id    243183 non-null  int64 \n",
      " 4   reviewer_name  243183 non-null  object\n",
      " 5   comments       243165 non-null  object\n",
      "dtypes: int64(3), object(3)\n",
      "memory usage: 11.1+ MB\n"
     ]
    }
   ],
   "source": [
    "df_reviews = pd.read_csv('reviews.csv')\n",
    "df_reviews.info()"
   ]
  },
  {
   "cell_type": "code",
   "execution_count": 20,
   "id": "5ddd9c91",
   "metadata": {},
   "outputs": [
    {
     "data": {
      "text/html": [
       "<div>\n",
       "<style scoped>\n",
       "    .dataframe tbody tr th:only-of-type {\n",
       "        vertical-align: middle;\n",
       "    }\n",
       "\n",
       "    .dataframe tbody tr th {\n",
       "        vertical-align: top;\n",
       "    }\n",
       "\n",
       "    .dataframe thead th {\n",
       "        text-align: right;\n",
       "    }\n",
       "</style>\n",
       "<table border=\"1\" class=\"dataframe\">\n",
       "  <thead>\n",
       "    <tr style=\"text-align: right;\">\n",
       "      <th></th>\n",
       "      <th>listing_id</th>\n",
       "      <th>id</th>\n",
       "      <th>date</th>\n",
       "      <th>reviewer_id</th>\n",
       "      <th>reviewer_name</th>\n",
       "      <th>comments</th>\n",
       "    </tr>\n",
       "  </thead>\n",
       "  <tbody>\n",
       "    <tr>\n",
       "      <th>0</th>\n",
       "      <td>44077</td>\n",
       "      <td>203703</td>\n",
       "      <td>2011-03-20</td>\n",
       "      <td>393348</td>\n",
       "      <td>Christian</td>\n",
       "      <td>We enjoyed our stay very much. The room was co...</td>\n",
       "    </tr>\n",
       "    <tr>\n",
       "      <th>1</th>\n",
       "      <td>44077</td>\n",
       "      <td>211369</td>\n",
       "      <td>2011-03-28</td>\n",
       "      <td>444004</td>\n",
       "      <td>Solidea</td>\n",
       "      <td>We have been here 4 nights. Stay in a home is ...</td>\n",
       "    </tr>\n",
       "    <tr>\n",
       "      <th>2</th>\n",
       "      <td>44077</td>\n",
       "      <td>234215</td>\n",
       "      <td>2011-04-21</td>\n",
       "      <td>465058</td>\n",
       "      <td>Michael And Isabelle</td>\n",
       "      <td>Teresa and Hughie were great hosts. They were ...</td>\n",
       "    </tr>\n",
       "    <tr>\n",
       "      <th>3</th>\n",
       "      <td>44077</td>\n",
       "      <td>261843</td>\n",
       "      <td>2011-05-13</td>\n",
       "      <td>490005</td>\n",
       "      <td>Weston</td>\n",
       "      <td>No surprises, was as described.  Very gracious...</td>\n",
       "    </tr>\n",
       "    <tr>\n",
       "      <th>4</th>\n",
       "      <td>44077</td>\n",
       "      <td>268148</td>\n",
       "      <td>2011-05-17</td>\n",
       "      <td>520460</td>\n",
       "      <td>Barbara</td>\n",
       "      <td>Teresa was a lovely hostess, and we had a deli...</td>\n",
       "    </tr>\n",
       "  </tbody>\n",
       "</table>\n",
       "</div>"
      ],
      "text/plain": [
       "   listing_id      id        date  reviewer_id         reviewer_name  \\\n",
       "0       44077  203703  2011-03-20       393348             Christian   \n",
       "1       44077  211369  2011-03-28       444004               Solidea   \n",
       "2       44077  234215  2011-04-21       465058  Michael And Isabelle   \n",
       "3       44077  261843  2011-05-13       490005                Weston   \n",
       "4       44077  268148  2011-05-17       520460               Barbara   \n",
       "\n",
       "                                            comments  \n",
       "0  We enjoyed our stay very much. The room was co...  \n",
       "1  We have been here 4 nights. Stay in a home is ...  \n",
       "2  Teresa and Hughie were great hosts. They were ...  \n",
       "3  No surprises, was as described.  Very gracious...  \n",
       "4  Teresa was a lovely hostess, and we had a deli...  "
      ]
     },
     "execution_count": 20,
     "metadata": {},
     "output_type": "execute_result"
    }
   ],
   "source": [
    "df_reviews.head()"
   ]
  },
  {
   "cell_type": "markdown",
   "id": "fe243e2d",
   "metadata": {},
   "source": [
    "## Clean the data in the listings df"
   ]
  },
  {
   "cell_type": "markdown",
   "id": "0667e6eb",
   "metadata": {},
   "source": [
    "###  Drop unimportant columns"
   ]
  },
  {
   "cell_type": "code",
   "execution_count": 21,
   "id": "65ea6fd9",
   "metadata": {},
   "outputs": [],
   "source": [
    "columns_to_be_dropped_listings = ['listing_url', 'scrape_id', 'last_scraped', 'source', 'picture_url', 'host_url',\n",
    "                                 'host_url', 'host_name', 'host_about', 'host_thumbnail_url', 'host_picture_url',\n",
    "                                 'bathrooms', 'bathrooms_text', 'calendar_updated', 'has_availability',\n",
    "                                 'first_review', 'license', 'name', 'neighbourhood_group_cleansed', 'host_location', 'calendar_last_scraped',\n",
    "                                 'minimum_minimum_nights', 'maximum_minimum_nights', 'minimum_maximum_nights', \n",
    "                                 'maximum_maximum_nights', 'minimum_nights_avg_ntm', 'maximum_nights_avg_ntm', 'host_id'] "
   ]
  },
  {
   "cell_type": "code",
   "execution_count": 22,
   "id": "60bb62e0",
   "metadata": {},
   "outputs": [],
   "source": [
    "df_listings_cleaned = df_listings.drop(columns_to_be_dropped_listings, axis=1)"
   ]
  },
  {
   "cell_type": "code",
   "execution_count": 23,
   "id": "59320e43",
   "metadata": {},
   "outputs": [
    {
     "name": "stdout",
     "output_type": "stream",
     "text": [
      "<class 'pandas.core.frame.DataFrame'>\n",
      "RangeIndex: 7566 entries, 0 to 7565\n",
      "Data columns (total 48 columns):\n",
      " #   Column                                        Non-Null Count  Dtype  \n",
      "---  ------                                        --------------  -----  \n",
      " 0   id                                            7566 non-null   int64  \n",
      " 1   description                                   7411 non-null   object \n",
      " 2   neighborhood_overview                         4194 non-null   object \n",
      " 3   host_since                                    7566 non-null   object \n",
      " 4   host_response_time                            3932 non-null   object \n",
      " 5   host_response_rate                            3932 non-null   object \n",
      " 6   host_acceptance_rate                          4191 non-null   object \n",
      " 7   host_is_superhost                             7566 non-null   object \n",
      " 8   host_neighbourhood                            5234 non-null   object \n",
      " 9   host_listings_count                           7566 non-null   int64  \n",
      " 10  host_total_listings_count                     7566 non-null   int64  \n",
      " 11  host_verifications                            7566 non-null   object \n",
      " 12  host_has_profile_pic                          7566 non-null   object \n",
      " 13  host_identity_verified                        7566 non-null   object \n",
      " 14  neighbourhood                                 4194 non-null   object \n",
      " 15  neighbourhood_cleansed                        7566 non-null   object \n",
      " 16  latitude                                      7566 non-null   float64\n",
      " 17  longitude                                     7566 non-null   float64\n",
      " 18  property_type                                 7566 non-null   object \n",
      " 19  room_type                                     7566 non-null   object \n",
      " 20  accommodates                                  7566 non-null   int64  \n",
      " 21  bedrooms                                      7361 non-null   float64\n",
      " 22  beds                                          7472 non-null   float64\n",
      " 23  amenities                                     7566 non-null   object \n",
      " 24  price                                         7566 non-null   object \n",
      " 25  minimum_nights                                7566 non-null   int64  \n",
      " 26  maximum_nights                                7566 non-null   int64  \n",
      " 27  availability_30                               7566 non-null   int64  \n",
      " 28  availability_60                               7566 non-null   int64  \n",
      " 29  availability_90                               7566 non-null   int64  \n",
      " 30  availability_365                              7566 non-null   int64  \n",
      " 31  number_of_reviews                             7566 non-null   int64  \n",
      " 32  number_of_reviews_ltm                         7566 non-null   int64  \n",
      " 33  number_of_reviews_l30d                        7566 non-null   int64  \n",
      " 34  last_review                                   6209 non-null   object \n",
      " 35  review_scores_rating                          6209 non-null   float64\n",
      " 36  review_scores_accuracy                        6085 non-null   float64\n",
      " 37  review_scores_cleanliness                     6086 non-null   float64\n",
      " 38  review_scores_checkin                         6081 non-null   float64\n",
      " 39  review_scores_communication                   6085 non-null   float64\n",
      " 40  review_scores_location                        6081 non-null   float64\n",
      " 41  review_scores_value                           6079 non-null   float64\n",
      " 42  instant_bookable                              7566 non-null   object \n",
      " 43  calculated_host_listings_count                7566 non-null   int64  \n",
      " 44  calculated_host_listings_count_entire_homes   7566 non-null   int64  \n",
      " 45  calculated_host_listings_count_private_rooms  7566 non-null   int64  \n",
      " 46  calculated_host_listings_count_shared_rooms   7566 non-null   int64  \n",
      " 47  reviews_per_month                             6209 non-null   float64\n",
      "dtypes: float64(12), int64(17), object(19)\n",
      "memory usage: 2.8+ MB\n"
     ]
    }
   ],
   "source": [
    "df_listings_cleaned.info()"
   ]
  },
  {
   "cell_type": "markdown",
   "id": "70f80acb",
   "metadata": {},
   "source": [
    "### Split the train/test data based on the price"
   ]
  },
  {
   "cell_type": "code",
   "execution_count": 24,
   "id": "679e6dae",
   "metadata": {
    "scrolled": true
   },
   "outputs": [
    {
     "data": {
      "text/plain": [
       "$100.00    235\n",
       "$50.00     234\n",
       "$150.00    205\n",
       "$120.00    187\n",
       "$200.00    184\n",
       "          ... \n",
       "$592.00      1\n",
       "$599.00      1\n",
       "$520.00      1\n",
       "$707.00      1\n",
       "$857.00      1\n",
       "Name: price, Length: 547, dtype: int64"
      ]
     },
     "execution_count": 24,
     "metadata": {},
     "output_type": "execute_result"
    }
   ],
   "source": [
    "df_listings_cleaned['price'].value_counts()"
   ]
  },
  {
   "cell_type": "code",
   "execution_count": 25,
   "id": "3f9e3456",
   "metadata": {
    "scrolled": true
   },
   "outputs": [
    {
     "name": "stderr",
     "output_type": "stream",
     "text": [
      "C:\\Users\\catat\\AppData\\Local\\Temp\\ipykernel_15044\\1863160517.py:1: FutureWarning: The default value of regex will change from True to False in a future version. In addition, single character regular expressions will *not* be treated as literal strings when regex=True.\n",
      "  df_listings_cleaned['price'] = df_listings_cleaned['price'].str.replace(',', '').str.replace('$', '').astype(float)\n"
     ]
    }
   ],
   "source": [
    "df_listings_cleaned['price'] = df_listings_cleaned['price'].str.replace(',', '').str.replace('$', '').astype(float)"
   ]
  },
  {
   "cell_type": "code",
   "execution_count": 26,
   "id": "f97b68a8",
   "metadata": {
    "scrolled": true
   },
   "outputs": [
    {
     "data": {
      "text/plain": [
       "<AxesSubplot:>"
      ]
     },
     "execution_count": 26,
     "metadata": {},
     "output_type": "execute_result"
    },
    {
     "data": {
      "image/png": "[encoded data removed]",
      "text/plain": [
       "<Figure size 432x288 with 1 Axes>"
      ]
     },
     "metadata": {
      "needs_background": "light"
     },
     "output_type": "display_data"
    }
   ],
   "source": [
    "df_listings_cleaned['price'].hist()"
   ]
  },
  {
   "cell_type": "code",
   "execution_count": 27,
   "id": "7bf2158f",
   "metadata": {
    "scrolled": false
   },
   "outputs": [],
   "source": [
    "df_listings_cleaned[\"price_cat\"] = pd.cut(df_listings_cleaned[\"price\"],\n",
    "                               bins=[0., 50, 100, 120, 150, 200, np.inf],\n",
    "                               labels=[1, 2, 3, 4, 5, 6])"
   ]
  },
  {
   "cell_type": "code",
   "execution_count": 28,
   "id": "b3e4a05d",
   "metadata": {},
   "outputs": [
    {
     "data": {
      "text/plain": [
       "<AxesSubplot:>"
      ]
     },
     "execution_count": 28,
     "metadata": {},
     "output_type": "execute_result"
    },
    {
     "data": {
      "image/png": "[encoded data removed]",
      "text/plain": [
       "<Figure size 432x288 with 1 Axes>"
      ]
     },
     "metadata": {
      "needs_background": "light"
     },
     "output_type": "display_data"
    }
   ],
   "source": [
    "\n",
    "df_listings_cleaned[\"price_cat\"].hist()"
   ]
  },
  {
   "cell_type": "code",
   "execution_count": 33,
   "id": "515dcb25",
   "metadata": {},
   "outputs": [
    {
     "ename": "TypeError",
     "evalue": "split() takes from 3 to 4 positional arguments but 5 were given",
     "output_type": "error",
     "traceback": [
      "\u001b[1;31m---------------------------------------------------------------------------\u001b[0m",
      "\u001b[1;31mTypeError\u001b[0m                                 Traceback (most recent call last)",
      "Input \u001b[1;32mIn [33]\u001b[0m, in \u001b[0;36m<cell line: 4>\u001b[1;34m()\u001b[0m\n\u001b[0;32m      1\u001b[0m \u001b[38;5;28;01mfrom\u001b[39;00m \u001b[38;5;21;01msklearn\u001b[39;00m\u001b[38;5;21;01m.\u001b[39;00m\u001b[38;5;21;01mmodel_selection\u001b[39;00m \u001b[38;5;28;01mimport\u001b[39;00m StratifiedShuffleSplit\n\u001b[0;32m      3\u001b[0m split \u001b[38;5;241m=\u001b[39m StratifiedShuffleSplit(n_splits\u001b[38;5;241m=\u001b[39m\u001b[38;5;241m1\u001b[39m, test_size\u001b[38;5;241m=\u001b[39m\u001b[38;5;241m0.2\u001b[39m, random_state\u001b[38;5;241m=\u001b[39m\u001b[38;5;241m42\u001b[39m)\n\u001b[1;32m----> 4\u001b[0m \u001b[38;5;28;01mfor\u001b[39;00m train_index, test_index \u001b[38;5;129;01min\u001b[39;00m \u001b[43msplit\u001b[49m\u001b[38;5;241;43m.\u001b[39;49m\u001b[43msplit\u001b[49m\u001b[43m(\u001b[49m\u001b[43mdf_listings_cleaned\u001b[49m\u001b[43m,\u001b[49m\u001b[43m \u001b[49m\u001b[43mdf_listings_cleaned\u001b[49m\u001b[43m[\u001b[49m\u001b[38;5;124;43m\"\u001b[39;49m\u001b[38;5;124;43mroom_type\u001b[39;49m\u001b[38;5;124;43m\"\u001b[39;49m\u001b[43m]\u001b[49m\u001b[43m,\u001b[49m\u001b[43m \u001b[49m\n\u001b[0;32m      5\u001b[0m \u001b[43m                                           \u001b[49m\u001b[43mdf_listings_cleaned\u001b[49m\u001b[43m[\u001b[49m\u001b[38;5;124;43m\"\u001b[39;49m\u001b[38;5;124;43mproperty_type\u001b[39;49m\u001b[38;5;124;43m\"\u001b[39;49m\u001b[43m]\u001b[49m\u001b[43m,\u001b[49m\u001b[43m \u001b[49m\u001b[43mdf_listings_cleaned\u001b[49m\u001b[43m[\u001b[49m\u001b[38;5;124;43m'\u001b[39;49m\u001b[38;5;124;43mprice_cat\u001b[39;49m\u001b[38;5;124;43m'\u001b[39;49m\u001b[43m]\u001b[49m\u001b[43m)\u001b[49m:\n\u001b[0;32m      6\u001b[0m     strat_train_set \u001b[38;5;241m=\u001b[39m df_listings_cleaned\u001b[38;5;241m.\u001b[39mloc[train_index]\n\u001b[0;32m      7\u001b[0m     strat_test_set \u001b[38;5;241m=\u001b[39m df_listings_cleaned\u001b[38;5;241m.\u001b[39mloc[test_index]\n",
      "\u001b[1;31mTypeError\u001b[0m: split() takes from 3 to 4 positional arguments but 5 were given"
     ]
    }
   ],
   "source": [
    "from sklearn.model_selection import StratifiedShuffleSplit\n",
    "\n",
    "split = StratifiedShuffleSplit(n_splits=1, test_size=0.2, random_state=42)\n",
    "for train_index, test_index in split.split(df_listings_cleaned, df_listings_cleaned[\"price_cat\"]):\n",
    "    strat_train_set = df_listings_cleaned.loc[train_index]\n",
    "    strat_test_set = df_listings_cleaned.loc[test_index]"
   ]
  },
  {
   "cell_type": "code",
   "execution_count": 12,
   "id": "a55c3830",
   "metadata": {},
   "outputs": [
    {
     "data": {
      "text/plain": [
       "2    0.326948\n",
       "6    0.213342\n",
       "1    0.161823\n",
       "5    0.119551\n",
       "4    0.101057\n",
       "3    0.077279\n",
       "Name: price_cat, dtype: float64"
      ]
     },
     "execution_count": 12,
     "metadata": {},
     "output_type": "execute_result"
    }
   ],
   "source": [
    "strat_test_set[\"price_cat\"].value_counts() / len(strat_test_set)"
   ]
  },
  {
   "cell_type": "code",
   "execution_count": 13,
   "id": "5330798d",
   "metadata": {},
   "outputs": [
    {
     "data": {
      "text/plain": [
       "2    0.326857\n",
       "6    0.213455\n",
       "1    0.162041\n",
       "5    0.119218\n",
       "4    0.101242\n",
       "3    0.077187\n",
       "Name: price_cat, dtype: float64"
      ]
     },
     "execution_count": 13,
     "metadata": {},
     "output_type": "execute_result"
    }
   ],
   "source": [
    "df_listings_cleaned[\"price_cat\"].value_counts() / len(df_listings_cleaned)\n"
   ]
  },
  {
   "cell_type": "code",
   "execution_count": 14,
   "id": "e7acca1f",
   "metadata": {},
   "outputs": [],
   "source": [
    "for set_ in (strat_train_set, strat_test_set):\n",
    "    set_.drop(\"price_cat\", axis=1, inplace=True)"
   ]
  },
  {
   "cell_type": "code",
   "execution_count": 15,
   "id": "097d9ca6",
   "metadata": {},
   "outputs": [],
   "source": [
    "strat_test_set.to_csv('test_listing_data')\n",
    "strat_train_set.to_csv('train_listing_dat')"
   ]
  },
  {
   "cell_type": "markdown",
   "id": "ccf36f37",
   "metadata": {},
   "source": [
    "## Gain insights about data"
   ]
  },
  {
   "cell_type": "code",
   "execution_count": 18,
   "id": "b83cd2b2",
   "metadata": {},
   "outputs": [],
   "source": [
    "locations = strat_train_set.copy()"
   ]
  },
  {
   "cell_type": "markdown",
   "id": "80e709cf",
   "metadata": {},
   "source": [
    "### Visualize Geographical Data"
   ]
  },
  {
   "cell_type": "code",
   "execution_count": 19,
   "id": "7555fc95",
   "metadata": {},
   "outputs": [
    {
     "data": {
      "text/plain": [
       "<AxesSubplot:xlabel='longitude', ylabel='latitude'>"
      ]
     },
     "execution_count": 19,
     "metadata": {},
     "output_type": "execute_result"
    },
    {
     "data": {
      "image/png": "[encoded data removed]",
      "text/plain": [
       "<Figure size 432x288 with 1 Axes>"
      ]
     },
     "metadata": {
      "needs_background": "light"
     },
     "output_type": "display_data"
    }
   ],
   "source": [
    "\n",
    "\n",
    "locations.plot(kind=\"scatter\", x=\"longitude\", y=\"latitude\", alpha=0.1)\n"
   ]
  },
  {
   "cell_type": "code",
   "execution_count": 20,
   "id": "fa0d43f6",
   "metadata": {},
   "outputs": [
    {
     "data": {
      "text/plain": [
       "<matplotlib.legend.Legend at 0x1585f6ba190>"
      ]
     },
     "execution_count": 20,
     "metadata": {},
     "output_type": "execute_result"
    },
    {
     "data": {
      "image/png": "[encoded data removed]",
      "text/plain": [
       "<Figure size 720x504 with 2 Axes>"
      ]
     },
     "metadata": {
      "needs_background": "light"
     },
     "output_type": "display_data"
    }
   ],
   "source": [
    "locations.plot(kind=\"scatter\", x=\"longitude\", y=\"latitude\", alpha=0.4,\n",
    "             s=locations[\"price\"]/50, label=\"price\", figsize=(10,7),\n",
    "             c=(locations[\"review_scores_rating\"]-3)/5, cmap=plt.get_cmap(\"jet\"), colorbar=True,\n",
    "             sharex=False)\n",
    "plt.legend()"
   ]
  },
  {
   "cell_type": "markdown",
   "id": "c39442c1",
   "metadata": {},
   "source": [
    "## study the review distribution "
   ]
  },
  {
   "cell_type": "code",
   "execution_count": 21,
   "id": "d7ea360e",
   "metadata": {},
   "outputs": [
    {
     "data": {
      "text/plain": [
       "Text(0, 0.5, 'count')"
      ]
     },
     "execution_count": 21,
     "metadata": {},
     "output_type": "execute_result"
    },
    {
     "data": {
      "image/png": "[encoded data removed]",
      "text/plain": [
       "<Figure size 720x288 with 1 Axes>"
      ]
     },
     "metadata": {
      "needs_background": "light"
     },
     "output_type": "display_data"
    }
   ],
   "source": [
    "fig = plt.figure(figsize = (10,4))\n",
    "\n",
    "ax1 = fig.add_subplot(1,2,1)\n",
    "\n",
    "locations.review_scores_rating.hist(ax = ax1, bins = 20)\n",
    "ax1.set_title('Distribution of Rating Score')\n",
    "ax1.set_xlabel('Rating Score Overall')\n",
    "ax1.set_ylabel('count')\n"
   ]
  },
  {
   "cell_type": "code",
   "execution_count": 22,
   "id": "24905789",
   "metadata": {},
   "outputs": [
    {
     "data": {
      "text/plain": [
       "Text(0, 0.5, 'count')"
      ]
     },
     "execution_count": 22,
     "metadata": {},
     "output_type": "execute_result"
    },
    {
     "data": {
      "image/png": "[encoded data removed]",
      "text/plain": [
       "<Figure size 720x288 with 1 Axes>"
      ]
     },
     "metadata": {
      "needs_background": "light"
     },
     "output_type": "display_data"
    }
   ],
   "source": [
    "\n",
    "\n",
    "fig = plt.figure(figsize = (10,4))\n",
    "\n",
    "ax1 = fig.add_subplot(1,2,1)\n",
    "\n",
    "locations.review_scores_accuracy.hist(ax = ax1, bins = 20)\n",
    "ax1.set_title('Distribution of Rating Score')\n",
    "ax1.set_xlabel('Rating Score Accuracy')\n",
    "ax1.set_ylabel('count')"
   ]
  },
  {
   "cell_type": "code",
   "execution_count": 23,
   "id": "d5327f95",
   "metadata": {},
   "outputs": [
    {
     "data": {
      "text/plain": [
       "Text(0, 0.5, 'count')"
      ]
     },
     "execution_count": 23,
     "metadata": {},
     "output_type": "execute_result"
    },
    {
     "data": {
      "image/png": "[encoded data removed]",
      "text/plain": [
       "<Figure size 720x288 with 1 Axes>"
      ]
     },
     "metadata": {
      "needs_background": "light"
     },
     "output_type": "display_data"
    }
   ],
   "source": [
    "\n",
    "\n",
    "fig = plt.figure(figsize = (10,4))\n",
    "\n",
    "ax1 = fig.add_subplot(1,2,1)\n",
    "\n",
    "locations.review_scores_cleanliness.hist(ax = ax1, bins = 20)\n",
    "ax1.set_title('Distribution of Rating Score')\n",
    "ax1.set_xlabel('Rating Score Accuracy')\n",
    "ax1.set_ylabel('count')"
   ]
  },
  {
   "cell_type": "code",
   "execution_count": 24,
   "id": "4786fbee",
   "metadata": {},
   "outputs": [
    {
     "data": {
      "text/plain": [
       "Text(0, 0.5, 'count')"
      ]
     },
     "execution_count": 24,
     "metadata": {},
     "output_type": "execute_result"
    },
    {
     "data": {
      "image/png": "[encoded data removed]",
      "text/plain": [
       "<Figure size 720x288 with 1 Axes>"
      ]
     },
     "metadata": {
      "needs_background": "light"
     },
     "output_type": "display_data"
    }
   ],
   "source": [
    "\n",
    "fig = plt.figure(figsize = (10,4))\n",
    "\n",
    "ax1 = fig.add_subplot(1,2,1)\n",
    "\n",
    "locations.review_scores_location.hist(ax = ax1, bins = 20)\n",
    "ax1.set_title('Distribution of Rating Score')\n",
    "ax1.set_xlabel('Rating Score Accuracy')\n",
    "ax1.set_ylabel('count')"
   ]
  },
  {
   "cell_type": "code",
   "execution_count": 25,
   "id": "cdb98119",
   "metadata": {},
   "outputs": [
    {
     "data": {
      "text/plain": [
       "Text(0, 0.5, 'count')"
      ]
     },
     "execution_count": 25,
     "metadata": {},
     "output_type": "execute_result"
    },
    {
     "data": {
      "image/png": "[encoded data removed]",
      "text/plain": [
       "<Figure size 720x288 with 1 Axes>"
      ]
     },
     "metadata": {
      "needs_background": "light"
     },
     "output_type": "display_data"
    }
   ],
   "source": [
    "fig = plt.figure(figsize = (10,4))\n",
    "\n",
    "ax1 = fig.add_subplot(1,2,1)\n",
    "\n",
    "locations.review_scores_value.hist(ax = ax1, bins = 20)\n",
    "ax1.set_title('Distribution of Rating Score')\n",
    "ax1.set_xlabel('Rating Score Accuracy')\n",
    "ax1.set_ylabel('count')"
   ]
  },
  {
   "cell_type": "markdown",
   "id": "2043f99a",
   "metadata": {},
   "source": [
    "Most of the data is severly skewed that means this could be turned into a classification problem"
   ]
  },
  {
   "cell_type": "markdown",
   "id": "958ec5f7",
   "metadata": {},
   "source": [
    "### Create a column to split the samples into bin based on the overall number of ratings"
   ]
  },
  {
   "cell_type": "code",
   "execution_count": 26,
   "id": "0675f1e5",
   "metadata": {},
   "outputs": [
    {
     "data": {
      "text/plain": [
       "4.596460764587512"
      ]
     },
     "execution_count": 26,
     "metadata": {},
     "output_type": "execute_result"
    }
   ],
   "source": [
    "mean_ratings = locations['review_scores_rating'].mean()\n",
    "mean_ratings"
   ]
  },
  {
   "cell_type": "code",
   "execution_count": 27,
   "id": "3c8d2b5f",
   "metadata": {},
   "outputs": [],
   "source": [
    "locations = locations.dropna(subset=['review_scores_rating'])"
   ]
  },
  {
   "cell_type": "markdown",
   "id": "d4ab023d",
   "metadata": {},
   "source": [
    "Put the rating related data into separate lists"
   ]
  },
  {
   "cell_type": "code",
   "execution_count": 28,
   "id": "ebdd760f",
   "metadata": {},
   "outputs": [],
   "source": [
    "r_rating = locations[\"review_scores_rating\"]\n",
    "r_accuracy = locations[\"review_scores_accuracy\"]\n",
    "r_chekin = locations[\"review_scores_checkin\"]\n",
    "r_communication = locations[\"review_scores_communication\"]\n",
    "r_location = locations[\"review_scores_location\"]\n",
    "r_value = locations[\"review_scores_value\"]"
   ]
  },
  {
   "cell_type": "code",
   "execution_count": 29,
   "id": "44f728b7",
   "metadata": {},
   "outputs": [
    {
     "name": "stdout",
     "output_type": "stream",
     "text": [
      "<class 'pandas.core.frame.DataFrame'>\n",
      "Int64Index: 4970 entries, 4539 to 220\n",
      "Data columns (total 42 columns):\n",
      " #   Column                                        Non-Null Count  Dtype  \n",
      "---  ------                                        --------------  -----  \n",
      " 0   id                                            4970 non-null   int64  \n",
      " 1   description                                   4886 non-null   object \n",
      " 2   neighborhood_overview                         2931 non-null   object \n",
      " 3   host_since                                    4970 non-null   object \n",
      " 4   host_response_time                            2682 non-null   object \n",
      " 5   host_response_rate                            2682 non-null   object \n",
      " 6   host_acceptance_rate                          2878 non-null   object \n",
      " 7   host_is_superhost                             4970 non-null   object \n",
      " 8   host_neighbourhood                            3441 non-null   object \n",
      " 9   host_listings_count                           4970 non-null   int64  \n",
      " 10  host_total_listings_count                     4970 non-null   int64  \n",
      " 11  host_verifications                            4970 non-null   object \n",
      " 12  host_has_profile_pic                          4970 non-null   object \n",
      " 13  host_identity_verified                        4970 non-null   object \n",
      " 14  neighbourhood                                 2931 non-null   object \n",
      " 15  neighbourhood_cleansed                        4970 non-null   object \n",
      " 16  latitude                                      4970 non-null   float64\n",
      " 17  longitude                                     4970 non-null   float64\n",
      " 18  property_type                                 4970 non-null   object \n",
      " 19  room_type                                     4970 non-null   object \n",
      " 20  accommodates                                  4970 non-null   int64  \n",
      " 21  bedrooms                                      4845 non-null   float64\n",
      " 22  beds                                          4913 non-null   float64\n",
      " 23  amenities                                     4970 non-null   object \n",
      " 24  price                                         4970 non-null   float64\n",
      " 25  minimum_nights                                4970 non-null   int64  \n",
      " 26  maximum_nights                                4970 non-null   int64  \n",
      " 27  availability_30                               4970 non-null   int64  \n",
      " 28  availability_60                               4970 non-null   int64  \n",
      " 29  availability_90                               4970 non-null   int64  \n",
      " 30  availability_365                              4970 non-null   int64  \n",
      " 31  number_of_reviews                             4970 non-null   int64  \n",
      " 32  number_of_reviews_ltm                         4970 non-null   int64  \n",
      " 33  number_of_reviews_l30d                        4970 non-null   int64  \n",
      " 34  last_review                                   4970 non-null   object \n",
      " 35  review_scores_cleanliness                     4863 non-null   float64\n",
      " 36  instant_bookable                              4970 non-null   object \n",
      " 37  calculated_host_listings_count                4970 non-null   int64  \n",
      " 38  calculated_host_listings_count_entire_homes   4970 non-null   int64  \n",
      " 39  calculated_host_listings_count_private_rooms  4970 non-null   int64  \n",
      " 40  calculated_host_listings_count_shared_rooms   4970 non-null   int64  \n",
      " 41  reviews_per_month                             4970 non-null   float64\n",
      "dtypes: float64(7), int64(17), object(18)\n",
      "memory usage: 1.6+ MB\n"
     ]
    }
   ],
   "source": [
    "y_values_to_be_dropped = [\"review_scores_rating\", \"review_scores_accuracy\", \"review_scores_checkin\",\n",
    "                         \"review_scores_communication\", \"review_scores_location\", \"review_scores_value\"]\n",
    "locations = locations.drop(y_values_to_be_dropped, axis = 1)\n",
    "locations.info()"
   ]
  },
  {
   "cell_type": "markdown",
   "id": "3d27de47",
   "metadata": {},
   "source": [
    "### Split the ratings into bins"
   ]
  },
  {
   "cell_type": "code",
   "execution_count": 30,
   "id": "4cbac014",
   "metadata": {},
   "outputs": [
    {
     "data": {
      "text/plain": [
       "4539    4.56\n",
       "3517    5.00\n",
       "817     0.00\n",
       "4125    4.77\n",
       "6669    4.79\n",
       "        ... \n",
       "5791    5.00\n",
       "5376    4.97\n",
       "7279    5.00\n",
       "3905    4.70\n",
       "220     5.00\n",
       "Name: review_scores_rating, Length: 4970, dtype: float64"
      ]
     },
     "execution_count": 30,
     "metadata": {},
     "output_type": "execute_result"
    }
   ],
   "source": [
    "len(r_rating.head())\n",
    "r_rating"
   ]
  },
  {
   "cell_type": "code",
   "execution_count": 31,
   "id": "24cab928",
   "metadata": {},
   "outputs": [
    {
     "data": {
      "text/plain": [
       "Text(0, 0.5, 'count')"
      ]
     },
     "execution_count": 31,
     "metadata": {},
     "output_type": "execute_result"
    },
    {
     "data": {
      "image/png": "[encoded data removed]",
      "text/plain": [
       "<Figure size 720x288 with 1 Axes>"
      ]
     },
     "metadata": {
      "needs_background": "light"
     },
     "output_type": "display_data"
    }
   ],
   "source": [
    "fig = plt.figure(figsize = (10,4))\n",
    "\n",
    "ax1 = fig.add_subplot(1,2,1)\n",
    "\n",
    "r_rating.hist(ax = ax1, bins = 20)\n",
    "ax1.set_title('Distribution of Average Rating Score')\n",
    "ax1.set_xlabel('Rating Score Accuracy')\n",
    "ax1.set_ylabel('count')"
   ]
  },
  {
   "cell_type": "markdown",
   "id": "b8b8452e",
   "metadata": {},
   "source": [
    "Best decision will be to drop these values all togheter"
   ]
  },
  {
   "cell_type": "code",
   "execution_count": 32,
   "id": "d6f19bff",
   "metadata": {
    "scrolled": true
   },
   "outputs": [],
   "source": [
    "r_rating_cat = pd.cut(r_rating,\n",
    "                      bins=[0., 4., 4.5, 4.8, 4.95, 5],\n",
    "                      labels=[1, 2, 3, 4, 5])"
   ]
  },
  {
   "cell_type": "code",
   "execution_count": 33,
   "id": "5de99037",
   "metadata": {},
   "outputs": [
    {
     "data": {
      "text/plain": [
       "<AxesSubplot:>"
      ]
     },
     "execution_count": 33,
     "metadata": {},
     "output_type": "execute_result"
    },
    {
     "data": {
      "image/png": "[encoded data removed]",
      "text/plain": [
       "<Figure size 432x288 with 1 Axes>"
      ]
     },
     "metadata": {
      "needs_background": "light"
     },
     "output_type": "display_data"
    }
   ],
   "source": [
    "r_rating_cat.hist()"
   ]
  },
  {
   "cell_type": "markdown",
   "id": "d5ee6852",
   "metadata": {},
   "source": [
    "Retrieve textual column information that might be useful at a later point"
   ]
  },
  {
   "cell_type": "code",
   "execution_count": 34,
   "id": "f0fa590f",
   "metadata": {},
   "outputs": [
    {
     "name": "stdout",
     "output_type": "stream",
     "text": [
      "<class 'pandas.core.frame.DataFrame'>\n",
      "Int64Index: 4970 entries, 4539 to 220\n",
      "Data columns (total 40 columns):\n",
      " #   Column                                        Non-Null Count  Dtype  \n",
      "---  ------                                        --------------  -----  \n",
      " 0   id                                            4970 non-null   int64  \n",
      " 1   host_since                                    4970 non-null   object \n",
      " 2   host_response_time                            2682 non-null   object \n",
      " 3   host_response_rate                            2682 non-null   object \n",
      " 4   host_acceptance_rate                          2878 non-null   object \n",
      " 5   host_is_superhost                             4970 non-null   object \n",
      " 6   host_neighbourhood                            3441 non-null   object \n",
      " 7   host_listings_count                           4970 non-null   int64  \n",
      " 8   host_total_listings_count                     4970 non-null   int64  \n",
      " 9   host_verifications                            4970 non-null   object \n",
      " 10  host_has_profile_pic                          4970 non-null   object \n",
      " 11  host_identity_verified                        4970 non-null   object \n",
      " 12  neighbourhood                                 2931 non-null   object \n",
      " 13  neighbourhood_cleansed                        4970 non-null   object \n",
      " 14  latitude                                      4970 non-null   float64\n",
      " 15  longitude                                     4970 non-null   float64\n",
      " 16  property_type                                 4970 non-null   object \n",
      " 17  room_type                                     4970 non-null   object \n",
      " 18  accommodates                                  4970 non-null   int64  \n",
      " 19  bedrooms                                      4845 non-null   float64\n",
      " 20  beds                                          4913 non-null   float64\n",
      " 21  amenities                                     4970 non-null   object \n",
      " 22  price                                         4970 non-null   float64\n",
      " 23  minimum_nights                                4970 non-null   int64  \n",
      " 24  maximum_nights                                4970 non-null   int64  \n",
      " 25  availability_30                               4970 non-null   int64  \n",
      " 26  availability_60                               4970 non-null   int64  \n",
      " 27  availability_90                               4970 non-null   int64  \n",
      " 28  availability_365                              4970 non-null   int64  \n",
      " 29  number_of_reviews                             4970 non-null   int64  \n",
      " 30  number_of_reviews_ltm                         4970 non-null   int64  \n",
      " 31  number_of_reviews_l30d                        4970 non-null   int64  \n",
      " 32  last_review                                   4970 non-null   object \n",
      " 33  review_scores_cleanliness                     4863 non-null   float64\n",
      " 34  instant_bookable                              4970 non-null   object \n",
      " 35  calculated_host_listings_count                4970 non-null   int64  \n",
      " 36  calculated_host_listings_count_entire_homes   4970 non-null   int64  \n",
      " 37  calculated_host_listings_count_private_rooms  4970 non-null   int64  \n",
      " 38  calculated_host_listings_count_shared_rooms   4970 non-null   int64  \n",
      " 39  reviews_per_month                             4970 non-null   float64\n",
      "dtypes: float64(7), int64(17), object(16)\n",
      "memory usage: 1.6+ MB\n"
     ]
    }
   ],
   "source": [
    "loc_description = locations['description']\n",
    "loc_neigh_overview = locations['neighborhood_overview']\n",
    "locations = locations.drop(['description', 'neighborhood_overview'], axis=1)\n",
    "locations.info()"
   ]
  },
  {
   "cell_type": "markdown",
   "id": "a3773bad",
   "metadata": {},
   "source": [
    "## Feature engineering for the other fields"
   ]
  },
  {
   "cell_type": "markdown",
   "id": "5fbea96f",
   "metadata": {},
   "source": [
    "transform host_since in the number of days of experience as a host"
   ]
  },
  {
   "cell_type": "code",
   "execution_count": 35,
   "id": "1051235d",
   "metadata": {},
   "outputs": [],
   "source": [
    "import datetime\n",
    "now = datetime.datetime.now()\n",
    "#print(now - locations.iloc[1]['host_since'])\n",
    "locations['new_date'] = pd.to_datetime(locations['host_since'].astype(str), format='%Y-%m-%d')"
   ]
  },
  {
   "cell_type": "code",
   "execution_count": 36,
   "id": "49ef3543",
   "metadata": {},
   "outputs": [
    {
     "name": "stdout",
     "output_type": "stream",
     "text": [
      "1814 days 08:39:02.225470\n"
     ]
    }
   ],
   "source": [
    "print(now - locations.iloc[1]['new_date'])"
   ]
  },
  {
   "cell_type": "code",
   "execution_count": 37,
   "id": "2f6fcbed",
   "metadata": {},
   "outputs": [],
   "source": [
    "locations = locations.drop(['host_since'], axis=1)\n"
   ]
  },
  {
   "cell_type": "code",
   "execution_count": 38,
   "id": "8e74e412",
   "metadata": {
    "scrolled": true
   },
   "outputs": [
    {
     "name": "stdout",
     "output_type": "stream",
     "text": [
      "<class 'pandas.core.frame.DataFrame'>\n",
      "Int64Index: 4970 entries, 4539 to 220\n",
      "Data columns (total 40 columns):\n",
      " #   Column                                        Non-Null Count  Dtype         \n",
      "---  ------                                        --------------  -----         \n",
      " 0   id                                            4970 non-null   int64         \n",
      " 1   host_response_time                            2682 non-null   object        \n",
      " 2   host_response_rate                            2682 non-null   object        \n",
      " 3   host_acceptance_rate                          2878 non-null   object        \n",
      " 4   host_is_superhost                             4970 non-null   object        \n",
      " 5   host_neighbourhood                            3441 non-null   object        \n",
      " 6   host_listings_count                           4970 non-null   int64         \n",
      " 7   host_total_listings_count                     4970 non-null   int64         \n",
      " 8   host_verifications                            4970 non-null   object        \n",
      " 9   host_has_profile_pic                          4970 non-null   object        \n",
      " 10  host_identity_verified                        4970 non-null   object        \n",
      " 11  neighbourhood                                 2931 non-null   object        \n",
      " 12  neighbourhood_cleansed                        4970 non-null   object        \n",
      " 13  latitude                                      4970 non-null   float64       \n",
      " 14  longitude                                     4970 non-null   float64       \n",
      " 15  property_type                                 4970 non-null   object        \n",
      " 16  room_type                                     4970 non-null   object        \n",
      " 17  accommodates                                  4970 non-null   int64         \n",
      " 18  bedrooms                                      4845 non-null   float64       \n",
      " 19  beds                                          4913 non-null   float64       \n",
      " 20  amenities                                     4970 non-null   object        \n",
      " 21  price                                         4970 non-null   float64       \n",
      " 22  minimum_nights                                4970 non-null   int64         \n",
      " 23  maximum_nights                                4970 non-null   int64         \n",
      " 24  availability_30                               4970 non-null   int64         \n",
      " 25  availability_60                               4970 non-null   int64         \n",
      " 26  availability_90                               4970 non-null   int64         \n",
      " 27  availability_365                              4970 non-null   int64         \n",
      " 28  number_of_reviews                             4970 non-null   int64         \n",
      " 29  number_of_reviews_ltm                         4970 non-null   int64         \n",
      " 30  number_of_reviews_l30d                        4970 non-null   int64         \n",
      " 31  last_review                                   4970 non-null   object        \n",
      " 32  review_scores_cleanliness                     4863 non-null   float64       \n",
      " 33  instant_bookable                              4970 non-null   object        \n",
      " 34  calculated_host_listings_count                4970 non-null   int64         \n",
      " 35  calculated_host_listings_count_entire_homes   4970 non-null   int64         \n",
      " 36  calculated_host_listings_count_private_rooms  4970 non-null   int64         \n",
      " 37  calculated_host_listings_count_shared_rooms   4970 non-null   int64         \n",
      " 38  reviews_per_month                             4970 non-null   float64       \n",
      " 39  new_date                                      4970 non-null   datetime64[ns]\n",
      "dtypes: datetime64[ns](1), float64(7), int64(17), object(15)\n",
      "memory usage: 1.6+ MB\n"
     ]
    }
   ],
   "source": [
    "locations.info()"
   ]
  },
  {
   "cell_type": "markdown",
   "id": "897d6222",
   "metadata": {},
   "source": [
    "host_response_time"
   ]
  },
  {
   "cell_type": "code",
   "execution_count": 39,
   "id": "c1161420",
   "metadata": {
    "scrolled": true
   },
   "outputs": [
    {
     "data": {
      "text/plain": [
       "within an hour        1820\n",
       "within a few hours     502\n",
       "within a day           316\n",
       "a few days or more      44\n",
       "Name: host_response_time, dtype: int64"
      ]
     },
     "execution_count": 39,
     "metadata": {},
     "output_type": "execute_result"
    }
   ],
   "source": [
    "locations[\"host_response_time\"].value_counts()"
   ]
  },
  {
   "cell_type": "code",
   "execution_count": 40,
   "id": "184f2224",
   "metadata": {
    "scrolled": true
   },
   "outputs": [
    {
     "data": {
      "text/plain": [
       "unknown               2288\n",
       "within an hour        1820\n",
       "within a few hours     502\n",
       "within a day           316\n",
       "a few days or more      44\n",
       "Name: host_response_time, dtype: int64"
      ]
     },
     "execution_count": 40,
     "metadata": {},
     "output_type": "execute_result"
    }
   ],
   "source": [
    "locations[\"host_response_time\"].fillna(\"unknown\", inplace  = True)\n",
    "locations[\"host_response_time\"].value_counts()"
   ]
  },
  {
   "cell_type": "code",
   "execution_count": 41,
   "id": "38e2368b",
   "metadata": {},
   "outputs": [
    {
     "data": {
      "text/html": [
       "<div>\n",
       "<style scoped>\n",
       "    .dataframe tbody tr th:only-of-type {\n",
       "        vertical-align: middle;\n",
       "    }\n",
       "\n",
       "    .dataframe tbody tr th {\n",
       "        vertical-align: top;\n",
       "    }\n",
       "\n",
       "    .dataframe thead th {\n",
       "        text-align: right;\n",
       "    }\n",
       "</style>\n",
       "<table border=\"1\" class=\"dataframe\">\n",
       "  <thead>\n",
       "    <tr style=\"text-align: right;\">\n",
       "      <th></th>\n",
       "      <th>host_response_time</th>\n",
       "    </tr>\n",
       "  </thead>\n",
       "  <tbody>\n",
       "    <tr>\n",
       "      <th>4539</th>\n",
       "      <td>within an hour</td>\n",
       "    </tr>\n",
       "    <tr>\n",
       "      <th>3517</th>\n",
       "      <td>unknown</td>\n",
       "    </tr>\n",
       "    <tr>\n",
       "      <th>817</th>\n",
       "      <td>unknown</td>\n",
       "    </tr>\n",
       "    <tr>\n",
       "      <th>4125</th>\n",
       "      <td>unknown</td>\n",
       "    </tr>\n",
       "    <tr>\n",
       "      <th>6669</th>\n",
       "      <td>within an hour</td>\n",
       "    </tr>\n",
       "    <tr>\n",
       "      <th>1943</th>\n",
       "      <td>unknown</td>\n",
       "    </tr>\n",
       "    <tr>\n",
       "      <th>2532</th>\n",
       "      <td>within an hour</td>\n",
       "    </tr>\n",
       "    <tr>\n",
       "      <th>2432</th>\n",
       "      <td>unknown</td>\n",
       "    </tr>\n",
       "    <tr>\n",
       "      <th>5180</th>\n",
       "      <td>within a few hours</td>\n",
       "    </tr>\n",
       "    <tr>\n",
       "      <th>3650</th>\n",
       "      <td>within a day</td>\n",
       "    </tr>\n",
       "  </tbody>\n",
       "</table>\n",
       "</div>"
      ],
      "text/plain": [
       "      host_response_time\n",
       "4539      within an hour\n",
       "3517             unknown\n",
       "817              unknown\n",
       "4125             unknown\n",
       "6669      within an hour\n",
       "1943             unknown\n",
       "2532      within an hour\n",
       "2432             unknown\n",
       "5180  within a few hours\n",
       "3650        within a day"
      ]
     },
     "execution_count": 41,
     "metadata": {},
     "output_type": "execute_result"
    }
   ],
   "source": [
    "host_response_cat = locations[[\"host_response_time\"]]\n",
    "host_response_cat.head(10)"
   ]
  },
  {
   "cell_type": "code",
   "execution_count": 42,
   "id": "07147146",
   "metadata": {},
   "outputs": [
    {
     "data": {
      "text/plain": [
       "array([[0., 0., 0., 0., 1.],\n",
       "       [0., 1., 0., 0., 0.],\n",
       "       [0., 1., 0., 0., 0.],\n",
       "       ...,\n",
       "       [0., 0., 0., 0., 1.],\n",
       "       [0., 0., 0., 0., 1.],\n",
       "       [0., 0., 0., 0., 1.]])"
      ]
     },
     "execution_count": 42,
     "metadata": {},
     "output_type": "execute_result"
    }
   ],
   "source": [
    "from sklearn.preprocessing import OneHotEncoder\n",
    "\n",
    "cat_encoder = OneHotEncoder()\n",
    "housing_cat_1hot = cat_encoder.fit_transform(host_response_cat)\n",
    "housing_cat_1hot.toarray()"
   ]
  },
  {
   "cell_type": "markdown",
   "id": "8ce49205",
   "metadata": {},
   "source": [
    "host_response_rate"
   ]
  },
  {
   "cell_type": "code",
   "execution_count": 43,
   "id": "3759ba1b",
   "metadata": {},
   "outputs": [],
   "source": [
    "locations[\"host_response_rate\"] = locations[\"host_response_rate\"].fillna(\"0%\")"
   ]
  },
  {
   "cell_type": "code",
   "execution_count": 44,
   "id": "0affd77d",
   "metadata": {
    "scrolled": true
   },
   "outputs": [],
   "source": [
    "locations[\"host_response_rate\"] = locations[\"host_response_rate\"].str.replace(\"%\", \"\").astype(int)"
   ]
  },
  {
   "cell_type": "code",
   "execution_count": 45,
   "id": "44b79369",
   "metadata": {},
   "outputs": [],
   "source": [
    "locations[\"host_response_rate\"] = locations[\"host_response_rate\"].replace(0, np.NaN)\n",
    "host_response_time_median = locations[\"host_response_rate\"].median()\n",
    "locations[\"host_response_rate\"].fillna(host_response_time_median, inplace=True) # option 3"
   ]
  },
  {
   "cell_type": "markdown",
   "id": "96f38a8a",
   "metadata": {},
   "source": [
    "host_acceptance_rate"
   ]
  },
  {
   "cell_type": "code",
   "execution_count": 46,
   "id": "fd8b7417",
   "metadata": {},
   "outputs": [
    {
     "data": {
      "text/plain": [
       "100%    867\n",
       "99%     198\n",
       "98%     166\n",
       "96%     109\n",
       "97%     101\n",
       "       ... \n",
       "9%        1\n",
       "24%       1\n",
       "8%        1\n",
       "14%       1\n",
       "28%       1\n",
       "Name: host_acceptance_rate, Length: 90, dtype: int64"
      ]
     },
     "execution_count": 46,
     "metadata": {},
     "output_type": "execute_result"
    }
   ],
   "source": [
    "locations[\"host_acceptance_rate\"].value_counts()"
   ]
  },
  {
   "cell_type": "code",
   "execution_count": 47,
   "id": "db20a7f2",
   "metadata": {},
   "outputs": [],
   "source": [
    "locations[\"host_acceptance_rate\"] = locations[\"host_acceptance_rate\"].fillna(\"0%\")"
   ]
  },
  {
   "cell_type": "code",
   "execution_count": 48,
   "id": "acf7d01f",
   "metadata": {},
   "outputs": [],
   "source": [
    "locations[\"host_acceptance_rate\"] = locations[\"host_acceptance_rate\"].str.replace(\"%\", \"\").astype(int)"
   ]
  },
  {
   "cell_type": "code",
   "execution_count": 49,
   "id": "47e1437e",
   "metadata": {},
   "outputs": [],
   "source": [
    "locations[\"host_acceptance_rate\"] = locations[\"host_acceptance_rate\"].replace(0, np.NaN)\n",
    "host_acceptance_rate_median = locations[\"host_acceptance_rate\"].median()\n",
    "locations[\"host_acceptance_rate\"].fillna(host_acceptance_rate_median, inplace=True) # option 3"
   ]
  },
  {
   "cell_type": "code",
   "execution_count": 50,
   "id": "5b679e6f",
   "metadata": {},
   "outputs": [
    {
     "data": {
      "text/plain": [
       "4539    100.0\n",
       "3517    100.0\n",
       "817     100.0\n",
       "4125    100.0\n",
       "6669     97.0\n",
       "        ...  \n",
       "5791     58.0\n",
       "5376     75.0\n",
       "7279    100.0\n",
       "3905    100.0\n",
       "220      40.0\n",
       "Name: host_acceptance_rate, Length: 4970, dtype: float64"
      ]
     },
     "execution_count": 50,
     "metadata": {},
     "output_type": "execute_result"
    }
   ],
   "source": [
    "locations[\"host_acceptance_rate\"] "
   ]
  },
  {
   "cell_type": "markdown",
   "id": "1a8c31fc",
   "metadata": {},
   "source": [
    "host_is_superhost"
   ]
  },
  {
   "cell_type": "code",
   "execution_count": 51,
   "id": "c9bf8af0",
   "metadata": {},
   "outputs": [],
   "source": [
    "locations[\"host_is_superhost\"] = (locations[\"host_is_superhost\"] == 't').astype(int)"
   ]
  },
  {
   "cell_type": "code",
   "execution_count": 52,
   "id": "9c2bbf48",
   "metadata": {},
   "outputs": [
    {
     "data": {
      "text/plain": [
       "0    4217\n",
       "1     753\n",
       "Name: host_is_superhost, dtype: int64"
      ]
     },
     "execution_count": 52,
     "metadata": {},
     "output_type": "execute_result"
    }
   ],
   "source": [
    "locations[\"host_is_superhost\"].value_counts()"
   ]
  },
  {
   "cell_type": "markdown",
   "id": "c220d6f8",
   "metadata": {},
   "source": [
    "host_neighborhood"
   ]
  },
  {
   "cell_type": "code",
   "execution_count": 53,
   "id": "c71ab4f7",
   "metadata": {},
   "outputs": [],
   "source": [
    "locations = locations.drop([\"host_neighbourhood\"], axis=1)"
   ]
  },
  {
   "cell_type": "markdown",
   "id": "8179e835",
   "metadata": {},
   "source": [
    "host_listings_count"
   ]
  },
  {
   "cell_type": "code",
   "execution_count": 54,
   "id": "99d62a62",
   "metadata": {},
   "outputs": [
    {
     "name": "stdout",
     "output_type": "stream",
     "text": [
      "1       2686\n",
      "2        827\n",
      "3        400\n",
      "4        170\n",
      "5        162\n",
      "6         68\n",
      "8         65\n",
      "12        61\n",
      "10        60\n",
      "7         51\n",
      "9         45\n",
      "55        44\n",
      "11        37\n",
      "68        32\n",
      "21        25\n",
      "23        25\n",
      "2157      24\n",
      "32        24\n",
      "16        23\n",
      "17        23\n",
      "38        17\n",
      "87        14\n",
      "13        12\n",
      "24        11\n",
      "15        11\n",
      "19        10\n",
      "18        10\n",
      "14         9\n",
      "20         6\n",
      "327        3\n",
      "26         3\n",
      "144        3\n",
      "949        2\n",
      "154        2\n",
      "22         2\n",
      "71         1\n",
      "29         1\n",
      "1327       1\n",
      "Name: host_listings_count, dtype: int64\n",
      "================================================\n"
     ]
    },
    {
     "data": {
      "text/plain": [
       "1       1938\n",
       "2        974\n",
       "3        523\n",
       "4        302\n",
       "5        241\n",
       "6        105\n",
       "7         95\n",
       "8         94\n",
       "12        65\n",
       "10        49\n",
       "137       44\n",
       "9         43\n",
       "13        40\n",
       "22        37\n",
       "30        31\n",
       "14        31\n",
       "129       30\n",
       "21        28\n",
       "11        25\n",
       "3311      24\n",
       "41        24\n",
       "15        20\n",
       "18        17\n",
       "80        17\n",
       "16        15\n",
       "143       14\n",
       "36        13\n",
       "17        12\n",
       "23        10\n",
       "56        10\n",
       "29        10\n",
       "43         9\n",
       "35         8\n",
       "59         8\n",
       "87         7\n",
       "24         7\n",
       "54         6\n",
       "19         5\n",
       "25         4\n",
       "38         4\n",
       "28         3\n",
       "251        3\n",
       "395        3\n",
       "32         3\n",
       "127        3\n",
       "1834       2\n",
       "117        2\n",
       "218        2\n",
       "39         2\n",
       "26         2\n",
       "2307       1\n",
       "33         1\n",
       "44         1\n",
       "20         1\n",
       "800        1\n",
       "70         1\n",
       "Name: host_total_listings_count, dtype: int64"
      ]
     },
     "execution_count": 54,
     "metadata": {},
     "output_type": "execute_result"
    }
   ],
   "source": [
    "print(locations[\"host_listings_count\"].value_counts())\n",
    "print(\"================================================\")\n",
    "locations[\"host_total_listings_count\"].value_counts()"
   ]
  },
  {
   "cell_type": "markdown",
   "id": "37a7fdad",
   "metadata": {},
   "source": [
    "host_verifications"
   ]
  },
  {
   "cell_type": "code",
   "execution_count": 55,
   "id": "3ccc5f88",
   "metadata": {
    "scrolled": true
   },
   "outputs": [
    {
     "name": "stdout",
     "output_type": "stream",
     "text": [
      "['email', 'phone']                  3917\n",
      "['email', 'phone', 'work_email']     623\n",
      "['phone']                            396\n",
      "['phone', 'work_email']               21\n",
      "['email']                              7\n",
      "[]                                     5\n",
      "['email', 'work_email']                1\n",
      "Name: host_verifications, dtype: int64\n"
     ]
    }
   ],
   "source": [
    "print(locations[\"host_verifications\"].value_counts())"
   ]
  },
  {
   "cell_type": "code",
   "execution_count": 56,
   "id": "738575cd",
   "metadata": {},
   "outputs": [],
   "source": [
    "host_verification_cat = locations[[\"host_verifications\"]]"
   ]
  },
  {
   "cell_type": "code",
   "execution_count": 57,
   "id": "2bcf7662",
   "metadata": {},
   "outputs": [
    {
     "data": {
      "text/plain": [
       "array([[0., 1., 0., ..., 0., 0., 0.],\n",
       "       [0., 1., 0., ..., 0., 0., 0.],\n",
       "       [0., 1., 0., ..., 0., 0., 0.],\n",
       "       ...,\n",
       "       [1., 0., 0., ..., 0., 0., 0.],\n",
       "       [1., 0., 0., ..., 0., 0., 0.],\n",
       "       [0., 1., 0., ..., 0., 0., 0.]])"
      ]
     },
     "execution_count": 57,
     "metadata": {},
     "output_type": "execute_result"
    }
   ],
   "source": [
    "cat_encoder = OneHotEncoder()\n",
    "housing_cat_1hot = cat_encoder.fit_transform(host_verification_cat)\n",
    "housing_cat_1hot.toarray()"
   ]
  },
  {
   "cell_type": "markdown",
   "id": "c5f1b47a",
   "metadata": {},
   "source": [
    "host_has_profile_pic"
   ]
  },
  {
   "cell_type": "code",
   "execution_count": 58,
   "id": "070fedbe",
   "metadata": {},
   "outputs": [],
   "source": [
    "locations[\"host_has_profile_pic\"] = (locations[\"host_has_profile_pic\"] == 't').astype(int)"
   ]
  },
  {
   "cell_type": "code",
   "execution_count": 59,
   "id": "fdb40e3e",
   "metadata": {},
   "outputs": [
    {
     "data": {
      "text/plain": [
       "1    4916\n",
       "0      54\n",
       "Name: host_has_profile_pic, dtype: int64"
      ]
     },
     "execution_count": 59,
     "metadata": {},
     "output_type": "execute_result"
    }
   ],
   "source": [
    "locations[\"host_has_profile_pic\"].value_counts()"
   ]
  },
  {
   "cell_type": "markdown",
   "id": "6f142e46",
   "metadata": {},
   "source": [
    "host_identity_verified"
   ]
  },
  {
   "cell_type": "code",
   "execution_count": 60,
   "id": "4954dc13",
   "metadata": {},
   "outputs": [],
   "source": [
    "locations[\"host_identity_verified\"] = (locations[\"host_identity_verified\"] == 't').astype(int)"
   ]
  },
  {
   "cell_type": "code",
   "execution_count": 61,
   "id": "b417f882",
   "metadata": {},
   "outputs": [
    {
     "data": {
      "text/plain": [
       "1    3875\n",
       "0    1095\n",
       "Name: host_identity_verified, dtype: int64"
      ]
     },
     "execution_count": 61,
     "metadata": {},
     "output_type": "execute_result"
    }
   ],
   "source": [
    "locations[\"host_identity_verified\"].value_counts()"
   ]
  },
  {
   "cell_type": "markdown",
   "id": "a93d3310",
   "metadata": {},
   "source": [
    "neighbourhood "
   ]
  },
  {
   "cell_type": "code",
   "execution_count": 62,
   "id": "1ff8b3d8",
   "metadata": {},
   "outputs": [
    {
     "data": {
      "text/plain": [
       "Dublin, County Dublin, Ireland       763\n",
       "Dublin, Ireland                      349\n",
       "Dublin 8, County Dublin, Ireland     201\n",
       "Dublin 1, County Dublin, Ireland     150\n",
       "Dublin 4, County Dublin, Ireland      80\n",
       "                                    ... \n",
       "Clontarf , County Dublin, Ireland      1\n",
       "Dublin 1 /Ireland, Ireland             1\n",
       "Dublin 7, Leinster, Ireland            1\n",
       "Donabate, Co Dublin, Ireland           1\n",
       "Kildare, Ireland                       1\n",
       "Name: neighbourhood, Length: 337, dtype: int64"
      ]
     },
     "execution_count": 62,
     "metadata": {},
     "output_type": "execute_result"
    }
   ],
   "source": [
    "locations[\"neighbourhood\"].value_counts()"
   ]
  },
  {
   "cell_type": "code",
   "execution_count": 63,
   "id": "7a67ce54",
   "metadata": {},
   "outputs": [],
   "source": [
    "locations[\"neighbourhood\"] = locations[\"neighbourhood\"].str.replace(\", Ireland\", \"\")"
   ]
  },
  {
   "cell_type": "code",
   "execution_count": 64,
   "id": "5701cc3d",
   "metadata": {},
   "outputs": [
    {
     "data": {
      "text/plain": [
       "Dublin, County Dublin       763\n",
       "Dublin                      349\n",
       "Dublin 8, County Dublin     201\n",
       "Dublin 1, County Dublin     150\n",
       "Dublin 4, County Dublin      80\n",
       "                           ... \n",
       "Clontarf , County Dublin      1\n",
       "Dublin 1 /Ireland             1\n",
       "Dublin 7, Leinster            1\n",
       "Donabate, Co Dublin           1\n",
       "Kildare                       1\n",
       "Name: neighbourhood, Length: 337, dtype: int64"
      ]
     },
     "execution_count": 64,
     "metadata": {},
     "output_type": "execute_result"
    }
   ],
   "source": [
    "locations[\"neighbourhood\"].value_counts()"
   ]
  },
  {
   "cell_type": "code",
   "execution_count": 65,
   "id": "d78cf2e5",
   "metadata": {},
   "outputs": [],
   "source": [
    "locations[\"neighbourhood\"] = locations[\"neighbourhood\"].str.replace(\", County\", \"\")"
   ]
  },
  {
   "cell_type": "code",
   "execution_count": 66,
   "id": "881c8014",
   "metadata": {},
   "outputs": [
    {
     "data": {
      "text/plain": [
       "Dublin Dublin          763\n",
       "Dublin                 349\n",
       "Dublin 8 Dublin        201\n",
       "Dublin 1 Dublin        150\n",
       "Dublin 4 Dublin         80\n",
       "                      ... \n",
       "Clontarf  Dublin         1\n",
       "Dublin 1 /Ireland        1\n",
       "Dublin 7, Leinster       1\n",
       "Donabate, Co Dublin      1\n",
       "Kildare                  1\n",
       "Name: neighbourhood, Length: 337, dtype: int64"
      ]
     },
     "execution_count": 66,
     "metadata": {},
     "output_type": "execute_result"
    }
   ],
   "source": [
    "locations[\"neighbourhood\"].value_counts()"
   ]
  },
  {
   "cell_type": "code",
   "execution_count": 67,
   "id": "2bf957b9",
   "metadata": {},
   "outputs": [],
   "source": [
    "locations[\"neighbourhood\"] = locations[\"neighbourhood\"].str.replace(\"Ireland\", \"\")"
   ]
  },
  {
   "cell_type": "code",
   "execution_count": 68,
   "id": "f3fe4d95",
   "metadata": {},
   "outputs": [
    {
     "data": {
      "text/plain": [
       "Dublin Dublin          763\n",
       "Dublin                 349\n",
       "Dublin 8 Dublin        201\n",
       "Dublin 1 Dublin        150\n",
       "Dublin 4 Dublin         80\n",
       "                      ... \n",
       "Clontarf  Dublin         1\n",
       "Dublin 1 /               1\n",
       "Dublin 7, Leinster       1\n",
       "Donabate, Co Dublin      1\n",
       "Kildare                  1\n",
       "Name: neighbourhood, Length: 337, dtype: int64"
      ]
     },
     "execution_count": 68,
     "metadata": {},
     "output_type": "execute_result"
    }
   ],
   "source": [
    "locations[\"neighbourhood\"].value_counts()"
   ]
  },
  {
   "cell_type": "code",
   "execution_count": 69,
   "id": "6d4bffcb",
   "metadata": {},
   "outputs": [],
   "source": [
    "locations[\"neighbourhood\"] = locations[\"neighbourhood\"].str.replace(\"Dublin\", \"\")"
   ]
  },
  {
   "cell_type": "code",
   "execution_count": 70,
   "id": "1828bb37",
   "metadata": {},
   "outputs": [
    {
     "data": {
      "text/plain": [
       "                 765\n",
       "                 354\n",
       " 8               202\n",
       " 1               150\n",
       " 4                80\n",
       "                ... \n",
       "Clontarf           1\n",
       " 1 /               1\n",
       " 7, Leinster       1\n",
       "Donabate, Co       1\n",
       "Kildare            1\n",
       "Name: neighbourhood, Length: 333, dtype: int64"
      ]
     },
     "execution_count": 70,
     "metadata": {},
     "output_type": "execute_result"
    }
   ],
   "source": [
    "locations[\"neighbourhood\"].value_counts()"
   ]
  },
  {
   "cell_type": "code",
   "execution_count": 71,
   "id": "5b3f7f44",
   "metadata": {},
   "outputs": [
    {
     "data": {
      "text/plain": [
       "0     4086\n",
       "8      210\n",
       "1      158\n",
       "4       88\n",
       "7       78\n",
       "6       73\n",
       "2       73\n",
       "13      31\n",
       "14      23\n",
       "3       23\n",
       "5       22\n",
       "9       18\n",
       "18      16\n",
       "10      13\n",
       "16      12\n",
       "11      11\n",
       "15      11\n",
       "22       9\n",
       "24       7\n",
       "12       6\n",
       "20       1\n",
       "17       1\n",
       "Name: neighbourhood, dtype: int64"
      ]
     },
     "execution_count": 71,
     "metadata": {},
     "output_type": "execute_result"
    }
   ],
   "source": [
    "def contains_number(string):\n",
    "    return any(char.isdigit() for char in string)\n",
    "\n",
    "for index, row in locations.iterrows():\n",
    "    txt = row[\"neighbourhood\"]\n",
    "    num = 0\n",
    "    if contains_number(str(txt)):\n",
    "        num_list = [int(s) for s in str(txt).split() if s.isdigit()]\n",
    "        num = num_list[0] if len(num_list) >= 1 else 0\n",
    "    \n",
    "    locations.at[index, \"neighbourhood\"] = num\n",
    "        \n",
    "        \n",
    "locations[\"neighbourhood\"].value_counts()"
   ]
  },
  {
   "cell_type": "markdown",
   "id": "ac860eb3",
   "metadata": {},
   "source": [
    "neighbourhood_cleansed"
   ]
  },
  {
   "cell_type": "code",
   "execution_count": 72,
   "id": "386ce9e0",
   "metadata": {},
   "outputs": [
    {
     "data": {
      "text/plain": [
       "Dublin City              3671\n",
       "Dn Laoghaire-Rathdown     564\n",
       "Fingal                    508\n",
       "South Dublin              227\n",
       "Name: neighbourhood_cleansed, dtype: int64"
      ]
     },
     "execution_count": 72,
     "metadata": {},
     "output_type": "execute_result"
    }
   ],
   "source": [
    "locations[\"neighbourhood_cleansed\"].value_counts()"
   ]
  },
  {
   "cell_type": "markdown",
   "id": "f93d2ade",
   "metadata": {},
   "source": [
    "property_type"
   ]
  },
  {
   "cell_type": "code",
   "execution_count": 73,
   "id": "5edafecf",
   "metadata": {},
   "outputs": [
    {
     "data": {
      "text/plain": [
       "Entire rental unit                    1040\n",
       "Private room in home                   961\n",
       "Private room in rental unit            736\n",
       "Entire home                            695\n",
       "Entire condo                           366\n",
       "Private room in condo                  224\n",
       "Private room in townhouse              181\n",
       "Entire townhouse                       156\n",
       "Private room in bed and breakfast       71\n",
       "Entire serviced apartment               49\n",
       "Shared room in rental unit              42\n",
       "Entire cottage                          40\n",
       "Entire guest suite                      37\n",
       "Entire guesthouse                       35\n",
       "Private room in bungalow                30\n",
       "Room in boutique hotel                  29\n",
       "Shared room in home                     28\n",
       "Room in hotel                           28\n",
       "Entire bungalow                         24\n",
       "Entire loft                             22\n",
       "Private room in guest suite             17\n",
       "Room in hostel                          14\n",
       "Shared room in condo                    12\n",
       "Private room in guesthouse              11\n",
       "Private room in cottage                 10\n",
       "Private room in casa particular         10\n",
       "Entire cabin                             9\n",
       "Private room                             8\n",
       "Room in aparthotel                       8\n",
       "Entire place                             7\n",
       "Tiny home                                7\n",
       "Private room in serviced apartment       6\n",
       "Private room in hostel                   6\n",
       "Private room in loft                     6\n",
       "Private room in cabin                    6\n",
       "Room in serviced apartment               5\n",
       "Camper/RV                                4\n",
       "Private room in villa                    3\n",
       "Farm stay                                3\n",
       "Entire chalet                            2\n",
       "Entire villa                             2\n",
       "Shared room                              2\n",
       "Entire vacation home                     2\n",
       "Room in bed and breakfast                2\n",
       "Shared room in hostel                    2\n",
       "Castle                                   1\n",
       "Private room in floor                    1\n",
       "Dome                                     1\n",
       "Casa particular                          1\n",
       "Tipi                                     1\n",
       "Private room in chalet                   1\n",
       "Hut                                      1\n",
       "Houseboat                                1\n",
       "Boat                                     1\n",
       "Private room in vacation home            1\n",
       "Barn                                     1\n",
       "Shared room in loft                      1\n",
       "Name: property_type, dtype: int64"
      ]
     },
     "execution_count": 73,
     "metadata": {},
     "output_type": "execute_result"
    }
   ],
   "source": [
    "locations[\"property_type\"].value_counts()"
   ]
  },
  {
   "cell_type": "code",
   "execution_count": 74,
   "id": "3becb5e6",
   "metadata": {},
   "outputs": [
    {
     "data": {
      "text/plain": [
       "Entire home/apt    2509\n",
       "Private room       2340\n",
       "Shared room          87\n",
       "Hotel room           34\n",
       "Name: room_type, dtype: int64"
      ]
     },
     "execution_count": 74,
     "metadata": {},
     "output_type": "execute_result"
    }
   ],
   "source": [
    "locations[\"room_type\"].value_counts()"
   ]
  },
  {
   "cell_type": "markdown",
   "id": "32067e06",
   "metadata": {},
   "source": [
    "accommodates"
   ]
  },
  {
   "cell_type": "code",
   "execution_count": 75,
   "id": "3731e4f8",
   "metadata": {},
   "outputs": [
    {
     "data": {
      "text/plain": [
       "2     2389\n",
       "4      884\n",
       "1      590\n",
       "6      344\n",
       "3      293\n",
       "5      230\n",
       "8       91\n",
       "7       84\n",
       "10      25\n",
       "9       15\n",
       "12       9\n",
       "16       5\n",
       "11       5\n",
       "14       4\n",
       "13       1\n",
       "15       1\n",
       "Name: accommodates, dtype: int64"
      ]
     },
     "execution_count": 75,
     "metadata": {},
     "output_type": "execute_result"
    }
   ],
   "source": [
    "locations[\"accommodates\"].value_counts()"
   ]
  },
  {
   "cell_type": "markdown",
   "id": "ee14bc72",
   "metadata": {},
   "source": [
    "amenities"
   ]
  },
  {
   "cell_type": "code",
   "execution_count": 76,
   "id": "4892b3b2",
   "metadata": {},
   "outputs": [
    {
     "data": {
      "text/plain": [
       "[\"Essentials\", \"Hot water kettle\", \"Refrigerator\", \"Oven\", \"Bed linens\", \"Hangers\", \"Lock on bedroom door\", \"Wifi\", \"Long term stays allowed\", \"Heating\", \"Smoke alarm\", \"Kitchen\", \"Dishes and silverware\", \"Dedicated workspace\", \"Stove\", \"Microwave\", \"Shampoo\", \"Hot water\"]                                                                                                                                                                                                                                                                                                                                                                                                                                                                                                                                                                              15\n",
       "[\"Long term stays allowed\"]                                                                                                                                                                                                                                                                                                                                                                                                                                                                                                                                                                                                                                                                                                                                                                                                                                     7\n",
       "[\"Fire extinguisher\", \"Lockbox\", \"Wifi\", \"Smoke alarm\", \"Carbon monoxide alarm\", \"Kitchen\", \"Luggage dropoff allowed\"]                                                                                                                                                                                                                                                                                                                                                                                                                                                                                                                                                                                                                                                                                                                                          7\n",
       "[\"TV with standard cable\", \"Essentials\", \"Fire extinguisher\", \"Dryer\", \"Wifi\", \"Long term stays allowed\", \"Heating\", \"Washer\", \"Smoke alarm\", \"Carbon monoxide alarm\", \"Kitchen\", \"Cable TV\", \"Free parking on premises\"]                                                                                                                                                                                                                                                                                                                                                                                                                                                                                                                                                                                                                                       6\n",
       "[\"Hot water kettle\", \"Fire extinguisher\", \"Lockbox\", \"Smoke alarm\", \"Carbon monoxide alarm\", \"Washer\", \"Kitchen\", \"Hot water\"]                                                                                                                                                                                                                                                                                                                                                                                                                                                                                                                                                                                                                                                                                                                                  6\n",
       "                                                                                                                                                                                                                                                                                                                                                                                                                                                                                                                                                                                                                                                                                                                                                                                                                                                               ..\n",
       "[\"Oven\", \"Hot water kettle\", \"Outdoor furniture\", \"Dining table\", \"Hangers\", \"Indoor fireplace\", \"Security cameras on property\", \"Long term stays allowed\", \"Laundromat nearby\", \"Breakfast\", \"Microwave\", \"Private fenced garden or backyard\", \"Mini fridge\", \"Heating\", \"First aid kit\", \"Cleaning products\", \"Hot water\", \"Free parking on premises\", \"Shower gel\", \"Lock on bedroom door\", \"Hair dryer\", \"Iron\", \"Clothing storage: closet and wardrobe\", \"Dishwasher\", \"Freezer\", \"Free street parking\", \"Shampoo\", \"Luggage dropoff allowed\", \"Coffee maker\", \"Essentials\", \"Refrigerator\", \"Body soap\", \"Conditioner\", \"Bed linens\", \"TV with Chromecast\", \"Wifi\", \"Toaster\", \"Lockbox\", \"Smoke alarm\", \"Outdoor dining area\", \"Wine glasses\", \"Extra pillows and blankets\"]                                                                             1\n",
       "[\"Essentials\", \"Dryer\", \"Bed linens\", \"Lock on bedroom door\", \"Wifi\", \"Hair dryer\", \"Iron\", \"Heating\", \"Smoke alarm\", \"Free street parking\", \"Breakfast\", \"Shampoo\", \"Extra pillows and blankets\", \"Hot water\", \"Free parking on premises\", \"Shower gel\"]                                                                                                                                                                                                                                                                                                                                                                                                                                                                                                                                                                                                       1\n",
       "[\"Essentials\", \"Dryer\", \"Hangers\", \"Hair dryer\", \"Iron\", \"Long term stays allowed\", \"Heating\", \"Washer\", \"Kitchen\", \"Shampoo\"]                                                                                                                                                                                                                                                                                                                                                                                                                                                                                                                                                                                                                                                                                                                                  1\n",
       "[\"Essentials\", \"Wifi\", \"Hair dryer\", \"Heating\", \"Washer\", \"Kitchen\", \"Shampoo\"]                                                                                                                                                                                                                                                                                                                                                                                                                                                                                                                                                                                                                                                                                                                                                                                 1\n",
       "[\"Oven\", \"Hot water kettle\", \"Fire extinguisher\", \"Outdoor furniture\", \"Dining table\", \"Hangers\", \"Indoor fireplace\", \"Carbon monoxide alarm\", \"Kitchen\", \"Cooking basics\", \"Microwave\", \"Private fenced garden or backyard\", \"Ethernet connection\", \"Heating\", \"Dishes and silverware\", \"Drying rack for clothing\", \"Cleaning products\", \"Baking sheet\", \"Hot water\", \"Free parking on premises\", \"Free washer \\u2013 In building\", \"Free dryer \\u2013 In building\", \"Shower gel\", \"Hair dryer\", \"Iron\", \"38\\\" HDTV with Chromecast\", \"Sound system\", \"Freezer\", \"Dishwasher\", \"Free street parking\", \"Bathtub\", \"Shampoo\", \"Luggage dropoff allowed\", \"Essentials\", \"Private entrance\", \"Refrigerator\", \"Body soap\", \"Bed linens\", \"Lockbox\", \"Wifi\", \"Private patio or balcony\", \"Smoke alarm\", \"Room-darkening shades\", \"Outdoor dining area\", \"Piano\"]     1\n",
       "Name: amenities, Length: 4761, dtype: int64"
      ]
     },
     "execution_count": 76,
     "metadata": {},
     "output_type": "execute_result"
    }
   ],
   "source": [
    "locations[\"amenities\"].value_counts()"
   ]
  },
  {
   "cell_type": "code",
   "execution_count": 77,
   "id": "1573262f",
   "metadata": {},
   "outputs": [
    {
     "data": {
      "text/plain": [
       "147     24\n",
       "273     22\n",
       "199     22\n",
       "252     21\n",
       "217     19\n",
       "        ..\n",
       "1360     1\n",
       "871      1\n",
       "745      1\n",
       "885      1\n",
       "481      1\n",
       "Name: amenities, Length: 960, dtype: int64"
      ]
     },
     "execution_count": 77,
     "metadata": {},
     "output_type": "execute_result"
    }
   ],
   "source": [
    "for index, row in locations.iterrows():\n",
    "    lst = row[\"amenities\"]\n",
    "    locations.at[index, \"amenities\"] = len(lst)\n",
    "        \n",
    "        \n",
    "locations[\"amenities\"].value_counts()"
   ]
  },
  {
   "cell_type": "code",
   "execution_count": 78,
   "id": "434db96a",
   "metadata": {},
   "outputs": [],
   "source": [
    "locations[\"amenities\"] = locations[\"amenities\"].astype(int)"
   ]
  },
  {
   "cell_type": "markdown",
   "id": "f4cc3c3a",
   "metadata": {},
   "source": [
    "availability_"
   ]
  },
  {
   "cell_type": "code",
   "execution_count": 79,
   "id": "0e22b07d",
   "metadata": {},
   "outputs": [
    {
     "data": {
      "text/plain": [
       "0     3304\n",
       "2      191\n",
       "1      160\n",
       "3      132\n",
       "4      113\n",
       "6      103\n",
       "5      100\n",
       "7       99\n",
       "11      80\n",
       "10      78\n",
       "8       72\n",
       "9       70\n",
       "13      54\n",
       "15      52\n",
       "12      50\n",
       "17      38\n",
       "14      32\n",
       "20      27\n",
       "16      27\n",
       "18      26\n",
       "23      24\n",
       "19      23\n",
       "22      22\n",
       "24      18\n",
       "21      17\n",
       "25      15\n",
       "27      14\n",
       "29      11\n",
       "26       7\n",
       "28       6\n",
       "30       5\n",
       "Name: availability_30, dtype: int64"
      ]
     },
     "execution_count": 79,
     "metadata": {},
     "output_type": "execute_result"
    }
   ],
   "source": [
    "locations[\"availability_30\"].value_counts()"
   ]
  },
  {
   "cell_type": "markdown",
   "id": "ad021053",
   "metadata": {},
   "source": [
    "number_of_reviews"
   ]
  },
  {
   "cell_type": "code",
   "execution_count": 80,
   "id": "6e79b5b9",
   "metadata": {},
   "outputs": [
    {
     "data": {
      "text/plain": [
       "1      615\n",
       "2      407\n",
       "3      296\n",
       "4      233\n",
       "5      215\n",
       "      ... \n",
       "175      1\n",
       "248      1\n",
       "514      1\n",
       "451      1\n",
       "272      1\n",
       "Name: number_of_reviews, Length: 325, dtype: int64"
      ]
     },
     "execution_count": 80,
     "metadata": {},
     "output_type": "execute_result"
    }
   ],
   "source": [
    "locations[\"number_of_reviews\"].value_counts()"
   ]
  },
  {
   "cell_type": "markdown",
   "id": "e70b4262",
   "metadata": {},
   "source": [
    "last_review"
   ]
  },
  {
   "cell_type": "code",
   "execution_count": 81,
   "id": "5733ab6e",
   "metadata": {},
   "outputs": [
    {
     "data": {
      "text/plain": [
       "2022-08-28    151\n",
       "2022-09-11    132\n",
       "2022-09-10    123\n",
       "2022-09-04    110\n",
       "2022-08-29     97\n",
       "             ... \n",
       "2018-04-26      1\n",
       "2019-01-21      1\n",
       "2018-11-12      1\n",
       "2020-07-19      1\n",
       "2020-08-13      1\n",
       "Name: last_review, Length: 1316, dtype: int64"
      ]
     },
     "execution_count": 81,
     "metadata": {},
     "output_type": "execute_result"
    }
   ],
   "source": [
    "locations[\"last_review\"].value_counts()"
   ]
  },
  {
   "cell_type": "code",
   "execution_count": 82,
   "id": "1ad5ae5e",
   "metadata": {},
   "outputs": [],
   "source": [
    "now = datetime.datetime.now()\n",
    "locations['days_since_last_review'] = pd.to_datetime(locations['last_review'].astype(str), format='%Y-%m-%d')"
   ]
  },
  {
   "cell_type": "code",
   "execution_count": 83,
   "id": "7bb75b90",
   "metadata": {},
   "outputs": [],
   "source": [
    "locations['days_since_last_review'] = now - locations['days_since_last_review']"
   ]
  },
  {
   "cell_type": "code",
   "execution_count": 84,
   "id": "4b1c1af7",
   "metadata": {},
   "outputs": [],
   "source": [
    "locations['days_since_last_review'] = locations['days_since_last_review'].dt.days\n"
   ]
  },
  {
   "cell_type": "code",
   "execution_count": 85,
   "id": "ba5f2ecc",
   "metadata": {},
   "outputs": [
    {
     "data": {
      "text/plain": [
       "115     151\n",
       "101     132\n",
       "102     123\n",
       "108     110\n",
       "114      97\n",
       "       ... \n",
       "1700      1\n",
       "1430      1\n",
       "1500      1\n",
       "885       1\n",
       "860       1\n",
       "Name: days_since_last_review, Length: 1316, dtype: int64"
      ]
     },
     "execution_count": 85,
     "metadata": {},
     "output_type": "execute_result"
    }
   ],
   "source": [
    "locations['days_since_last_review'].value_counts()"
   ]
  },
  {
   "cell_type": "code",
   "execution_count": 86,
   "id": "acd3c9a8",
   "metadata": {},
   "outputs": [],
   "source": [
    "locations['new_date'] = now - locations['new_date']"
   ]
  },
  {
   "cell_type": "code",
   "execution_count": 87,
   "id": "e2c7fd52",
   "metadata": {},
   "outputs": [
    {
     "data": {
      "text/plain": [
       "2807    46\n",
       "2426    34\n",
       "2054    27\n",
       "4481    24\n",
       "3239    18\n",
       "        ..\n",
       "1541     1\n",
       "393      1\n",
       "4361     1\n",
       "3031     1\n",
       "3373     1\n",
       "Name: new_date, Length: 2085, dtype: int64"
      ]
     },
     "execution_count": 87,
     "metadata": {},
     "output_type": "execute_result"
    }
   ],
   "source": [
    "locations['new_date'] = locations['new_date'].dt.days\n",
    "locations['new_date'].value_counts()"
   ]
  },
  {
   "cell_type": "code",
   "execution_count": 88,
   "id": "efc65397",
   "metadata": {},
   "outputs": [],
   "source": [
    "#locations = locations.drop([\"last_review\"], axis=1)"
   ]
  },
  {
   "cell_type": "markdown",
   "id": "b95e2742",
   "metadata": {},
   "source": [
    "review_scores_cleanliness"
   ]
  },
  {
   "cell_type": "code",
   "execution_count": 89,
   "id": "d7fcf3d9",
   "metadata": {},
   "outputs": [
    {
     "data": {
      "text/plain": [
       "5.00    1277\n",
       "4.00     214\n",
       "4.50     171\n",
       "4.67     141\n",
       "4.75     119\n",
       "        ... \n",
       "2.43       1\n",
       "3.71       1\n",
       "3.87       1\n",
       "3.82       1\n",
       "3.64       1\n",
       "Name: review_scores_cleanliness, Length: 148, dtype: int64"
      ]
     },
     "execution_count": 89,
     "metadata": {},
     "output_type": "execute_result"
    }
   ],
   "source": [
    "locations['review_scores_cleanliness'].value_counts()"
   ]
  },
  {
   "cell_type": "code",
   "execution_count": 90,
   "id": "34c3708e",
   "metadata": {},
   "outputs": [],
   "source": [
    "locations = locations.drop([\"review_scores_cleanliness\"], axis=1)"
   ]
  },
  {
   "cell_type": "markdown",
   "id": "d50dfad7",
   "metadata": {},
   "source": [
    "instant_bookable"
   ]
  },
  {
   "cell_type": "code",
   "execution_count": 91,
   "id": "da4bd805",
   "metadata": {},
   "outputs": [
    {
     "data": {
      "text/plain": [
       "f    3125\n",
       "t    1845\n",
       "Name: instant_bookable, dtype: int64"
      ]
     },
     "execution_count": 91,
     "metadata": {},
     "output_type": "execute_result"
    }
   ],
   "source": [
    "locations['instant_bookable'].value_counts()"
   ]
  },
  {
   "cell_type": "code",
   "execution_count": 92,
   "id": "de88d733",
   "metadata": {},
   "outputs": [],
   "source": [
    "locations[\"instant_bookable\"] = (locations[\"instant_bookable\"] == 't').astype(int)"
   ]
  },
  {
   "cell_type": "markdown",
   "id": "233a22f1",
   "metadata": {},
   "source": [
    "calculated_host_listings_count"
   ]
  },
  {
   "cell_type": "code",
   "execution_count": 93,
   "id": "ddb56e6d",
   "metadata": {},
   "outputs": [
    {
     "data": {
      "text/plain": [
       "1     2898\n",
       "2      774\n",
       "3      351\n",
       "5      162\n",
       "4      152\n",
       "6       71\n",
       "8       67\n",
       "7       59\n",
       "10      55\n",
       "9       53\n",
       "55      44\n",
       "12      41\n",
       "42      30\n",
       "11      27\n",
       "66      24\n",
       "31      24\n",
       "15      21\n",
       "13      20\n",
       "14      20\n",
       "38      17\n",
       "20      17\n",
       "48      14\n",
       "17      13\n",
       "23      10\n",
       "19       6\n",
       "Name: calculated_host_listings_count, dtype: int64"
      ]
     },
     "execution_count": 93,
     "metadata": {},
     "output_type": "execute_result"
    }
   ],
   "source": [
    "locations['calculated_host_listings_count'].value_counts()"
   ]
  },
  {
   "cell_type": "code",
   "execution_count": 94,
   "id": "cec7cd3b",
   "metadata": {},
   "outputs": [],
   "source": [
    "locations = locations.drop([\"calculated_host_listings_count_entire_homes\", \"calculated_host_listings_count_private_rooms\",\n",
    "                           \"calculated_host_listings_count_shared_rooms\"], axis=1)"
   ]
  },
  {
   "cell_type": "markdown",
   "id": "27a2710d",
   "metadata": {},
   "source": [
    "reviews_per_month"
   ]
  },
  {
   "cell_type": "code",
   "execution_count": 95,
   "id": "8bac0d2e",
   "metadata": {},
   "outputs": [
    {
     "data": {
      "text/plain": [
       "0.02     222\n",
       "0.03     170\n",
       "1.00     133\n",
       "0.06     123\n",
       "0.08     115\n",
       "        ... \n",
       "7.80       1\n",
       "9.39       1\n",
       "36.09      1\n",
       "3.61       1\n",
       "6.79       1\n",
       "Name: reviews_per_month, Length: 626, dtype: int64"
      ]
     },
     "execution_count": 95,
     "metadata": {},
     "output_type": "execute_result"
    }
   ],
   "source": [
    "locations['reviews_per_month'].value_counts()"
   ]
  },
  {
   "cell_type": "markdown",
   "id": "186aa430",
   "metadata": {},
   "source": [
    "## Transformation pipelines for categorical and numerical values"
   ]
  },
  {
   "cell_type": "code",
   "execution_count": 96,
   "id": "e9bad121",
   "metadata": {
    "scrolled": true
   },
   "outputs": [
    {
     "name": "stdout",
     "output_type": "stream",
     "text": [
      "<class 'pandas.core.frame.DataFrame'>\n",
      "Int64Index: 4970 entries, 4539 to 220\n",
      "Data columns (total 36 columns):\n",
      " #   Column                          Non-Null Count  Dtype  \n",
      "---  ------                          --------------  -----  \n",
      " 0   id                              4970 non-null   int64  \n",
      " 1   host_response_time              4970 non-null   object \n",
      " 2   host_response_rate              4970 non-null   float64\n",
      " 3   host_acceptance_rate            4970 non-null   float64\n",
      " 4   host_is_superhost               4970 non-null   int32  \n",
      " 5   host_listings_count             4970 non-null   int64  \n",
      " 6   host_total_listings_count       4970 non-null   int64  \n",
      " 7   host_verifications              4970 non-null   object \n",
      " 8   host_has_profile_pic            4970 non-null   int32  \n",
      " 9   host_identity_verified          4970 non-null   int32  \n",
      " 10  neighbourhood                   4970 non-null   object \n",
      " 11  neighbourhood_cleansed          4970 non-null   object \n",
      " 12  latitude                        4970 non-null   float64\n",
      " 13  longitude                       4970 non-null   float64\n",
      " 14  property_type                   4970 non-null   object \n",
      " 15  room_type                       4970 non-null   object \n",
      " 16  accommodates                    4970 non-null   int64  \n",
      " 17  bedrooms                        4845 non-null   float64\n",
      " 18  beds                            4913 non-null   float64\n",
      " 19  amenities                       4970 non-null   int32  \n",
      " 20  price                           4970 non-null   float64\n",
      " 21  minimum_nights                  4970 non-null   int64  \n",
      " 22  maximum_nights                  4970 non-null   int64  \n",
      " 23  availability_30                 4970 non-null   int64  \n",
      " 24  availability_60                 4970 non-null   int64  \n",
      " 25  availability_90                 4970 non-null   int64  \n",
      " 26  availability_365                4970 non-null   int64  \n",
      " 27  number_of_reviews               4970 non-null   int64  \n",
      " 28  number_of_reviews_ltm           4970 non-null   int64  \n",
      " 29  number_of_reviews_l30d          4970 non-null   int64  \n",
      " 30  last_review                     4970 non-null   object \n",
      " 31  instant_bookable                4970 non-null   int32  \n",
      " 32  calculated_host_listings_count  4970 non-null   int64  \n",
      " 33  reviews_per_month               4970 non-null   float64\n",
      " 34  new_date                        4970 non-null   int64  \n",
      " 35  days_since_last_review          4970 non-null   int64  \n",
      "dtypes: float64(8), int32(5), int64(16), object(7)\n",
      "memory usage: 1.4+ MB\n"
     ]
    }
   ],
   "source": [
    "locations.info()"
   ]
  },
  {
   "cell_type": "code",
   "execution_count": 103,
   "id": "c20fd441",
   "metadata": {
    "scrolled": true
   },
   "outputs": [],
   "source": [
    "locations = locations.drop(['last_review', 'id'], axis=1)"
   ]
  },
  {
   "cell_type": "code",
   "execution_count": 105,
   "id": "8744c1e7",
   "metadata": {
    "scrolled": true
   },
   "outputs": [],
   "source": [
    "locations_cat = [\"host_response_time\", \"host_verifications\", \"neighbourhood\", \"neighbourhood_cleansed\", \"property_type\", \"room_type\"]\n",
    "locations_num = list(locations.drop(locations_cat, axis=1))"
   ]
  },
  {
   "cell_type": "code",
   "execution_count": 106,
   "id": "7d7fbc03",
   "metadata": {},
   "outputs": [],
   "source": [
    "from sklearn.pipeline import Pipeline\n",
    "from sklearn.preprocessing import StandardScaler\n",
    "from sklearn.impute import SimpleImputer"
   ]
  },
  {
   "cell_type": "code",
   "execution_count": 107,
   "id": "1e5882a4",
   "metadata": {},
   "outputs": [],
   "source": [
    "num_pipeline = Pipeline([\n",
    "        ('imputer', SimpleImputer(strategy=\"median\")),\n",
    "        ('std_scaler', StandardScaler()),\n",
    "    ])"
   ]
  },
  {
   "cell_type": "code",
   "execution_count": 108,
   "id": "394a01ce",
   "metadata": {},
   "outputs": [],
   "source": [
    "from sklearn.compose import ColumnTransformer\n",
    "\n",
    "full_pipeline = ColumnTransformer([\n",
    "        (\"num\", num_pipeline, locations_num),\n",
    "        (\"cat\", OneHotEncoder(), locations_cat),\n",
    "    ])"
   ]
  },
  {
   "cell_type": "code",
   "execution_count": 109,
   "id": "1a063855",
   "metadata": {},
   "outputs": [],
   "source": [
    "locations_prepared = full_pipeline.fit_transform(locations)"
   ]
  },
  {
   "cell_type": "code",
   "execution_count": 110,
   "id": "553f1d33",
   "metadata": {},
   "outputs": [
    {
     "data": {
      "text/plain": [
       "(4970, 127)"
      ]
     },
     "execution_count": 110,
     "metadata": {},
     "output_type": "execute_result"
    }
   ],
   "source": [
    "locations_prepared.shape"
   ]
  },
  {
   "cell_type": "markdown",
   "id": "dd59703c",
   "metadata": {},
   "source": [
    "## Select and train a model"
   ]
  },
  {
   "cell_type": "code",
   "execution_count": null,
   "id": "bfab56d9",
   "metadata": {},
   "outputs": [],
   "source": [
    "r_rating_cat.fillna(1)"
   ]
  },
  {
   "cell_type": "code",
   "execution_count": 111,
   "id": "836ef04a",
   "metadata": {},
   "outputs": [],
   "source": [
    "\n",
    "# evaluate multinomial logistic regression model\n",
    "from numpy import mean\n",
    "from numpy import std\n",
    "from sklearn.datasets import make_classification\n",
    "from sklearn.model_selection import cross_val_score\n",
    "from sklearn.model_selection import RepeatedStratifiedKFold\n",
    "from sklearn.linear_model import LogisticRegression"
   ]
  },
  {
   "cell_type": "code",
   "execution_count": 112,
   "id": "f62bc261",
   "metadata": {},
   "outputs": [
    {
     "name": "stdout",
     "output_type": "stream",
     "text": [
      "[2 4 5 ... 4 2 4]\n"
     ]
    }
   ],
   "source": [
    "from sklearn import preprocessing\n",
    "from sklearn import utils\n",
    "\n",
    "#convert y values to categorical values\n",
    "lab = preprocessing.LabelEncoder()\n",
    "ratings_transformed = lab.fit_transform(r_rating_cat)\n",
    "\n",
    "#view transformed values\n",
    "print(ratings_transformed)\n"
   ]
  },
  {
   "cell_type": "code",
   "execution_count": 113,
   "id": "3e2171c8",
   "metadata": {},
   "outputs": [
    {
     "name": "stdout",
     "output_type": "stream",
     "text": [
      "Mean Accuracy: 0.450 (0.013)\n"
     ]
    }
   ],
   "source": [
    "model = LogisticRegression(multi_class='multinomial', solver='lbfgs')\n",
    "#model.fit(locations_prepared, r_rating_cat)\n",
    "# define the model evaluation procedure\n",
    "cv = RepeatedStratifiedKFold(n_splits=10, n_repeats=3, random_state=1)\n",
    "# evaluate the model and collect the scores\n",
    "n_scores = cross_val_score(model, locations_prepared, ratings_transformed, scoring='accuracy', cv=cv, n_jobs=-1)\n",
    "# report the model performance\n",
    "print('Mean Accuracy: %.3f (%.3f)' % (mean(n_scores), std(n_scores)))"
   ]
  },
  {
   "cell_type": "code",
   "execution_count": 114,
   "id": "aacc7b88",
   "metadata": {},
   "outputs": [
    {
     "data": {
      "text/html": [
       "<style>#sk-container-id-1 {color: black;background-color: white;}#sk-container-id-1 pre{padding: 0;}#sk-container-id-1 div.sk-toggleable {background-color: white;}#sk-container-id-1 label.sk-toggleable__label {cursor: pointer;display: block;width: 100%;margin-bottom: 0;padding: 0.3em;box-sizing: border-box;text-align: center;}#sk-container-id-1 label.sk-toggleable__label-arrow:before {content: \"▸\";float: left;margin-right: 0.25em;color: #696969;}#sk-container-id-1 label.sk-toggleable__label-arrow:hover:before {color: black;}#sk-container-id-1 div.sk-estimator:hover label.sk-toggleable__label-arrow:before {color: black;}#sk-container-id-1 div.sk-toggleable__content {max-height: 0;max-width: 0;overflow: hidden;text-align: left;background-color: #f0f8ff;}#sk-container-id-1 div.sk-toggleable__content pre {margin: 0.2em;color: black;border-radius: 0.25em;background-color: #f0f8ff;}#sk-container-id-1 input.sk-toggleable__control:checked~div.sk-toggleable__content {max-height: 200px;max-width: 100%;overflow: auto;}#sk-container-id-1 input.sk-toggleable__control:checked~label.sk-toggleable__label-arrow:before {content: \"▾\";}#sk-container-id-1 div.sk-estimator input.sk-toggleable__control:checked~label.sk-toggleable__label {background-color: #d4ebff;}#sk-container-id-1 div.sk-label input.sk-toggleable__control:checked~label.sk-toggleable__label {background-color: #d4ebff;}#sk-container-id-1 input.sk-hidden--visually {border: 0;clip: rect(1px 1px 1px 1px);clip: rect(1px, 1px, 1px, 1px);height: 1px;margin: -1px;overflow: hidden;padding: 0;position: absolute;width: 1px;}#sk-container-id-1 div.sk-estimator {font-family: monospace;background-color: #f0f8ff;border: 1px dotted black;border-radius: 0.25em;box-sizing: border-box;margin-bottom: 0.5em;}#sk-container-id-1 div.sk-estimator:hover {background-color: #d4ebff;}#sk-container-id-1 div.sk-parallel-item::after {content: \"\";width: 100%;border-bottom: 1px solid gray;flex-grow: 1;}#sk-container-id-1 div.sk-label:hover label.sk-toggleable__label {background-color: #d4ebff;}#sk-container-id-1 div.sk-serial::before {content: \"\";position: absolute;border-left: 1px solid gray;box-sizing: border-box;top: 0;bottom: 0;left: 50%;z-index: 0;}#sk-container-id-1 div.sk-serial {display: flex;flex-direction: column;align-items: center;background-color: white;padding-right: 0.2em;padding-left: 0.2em;position: relative;}#sk-container-id-1 div.sk-item {position: relative;z-index: 1;}#sk-container-id-1 div.sk-parallel {display: flex;align-items: stretch;justify-content: center;background-color: white;position: relative;}#sk-container-id-1 div.sk-item::before, #sk-container-id-1 div.sk-parallel-item::before {content: \"\";position: absolute;border-left: 1px solid gray;box-sizing: border-box;top: 0;bottom: 0;left: 50%;z-index: -1;}#sk-container-id-1 div.sk-parallel-item {display: flex;flex-direction: column;z-index: 1;position: relative;background-color: white;}#sk-container-id-1 div.sk-parallel-item:first-child::after {align-self: flex-end;width: 50%;}#sk-container-id-1 div.sk-parallel-item:last-child::after {align-self: flex-start;width: 50%;}#sk-container-id-1 div.sk-parallel-item:only-child::after {width: 0;}#sk-container-id-1 div.sk-dashed-wrapped {border: 1px dashed gray;margin: 0 0.4em 0.5em 0.4em;box-sizing: border-box;padding-bottom: 0.4em;background-color: white;}#sk-container-id-1 div.sk-label label {font-family: monospace;font-weight: bold;display: inline-block;line-height: 1.2em;}#sk-container-id-1 div.sk-label-container {text-align: center;}#sk-container-id-1 div.sk-container {/* jupyter's `normalize.less` sets `[hidden] { display: none; }` but bootstrap.min.css set `[hidden] { display: none !important; }` so we also need the `!important` here to be able to override the default hidden behavior on the sphinx rendered scikit-learn.org. See: https://github.com/scikit-learn/scikit-learn/issues/21755 */display: inline-block !important;position: relative;}#sk-container-id-1 div.sk-text-repr-fallback {display: none;}</style><div id=\"sk-container-id-1\" class=\"sk-top-container\"><div class=\"sk-text-repr-fallback\"><pre>SGDClassifier(random_state=42)</pre><b>In a Jupyter environment, please rerun this cell to show the HTML representation or trust the notebook. <br />On GitHub, the HTML representation is unable to render, please try loading this page with nbviewer.org.</b></div><div class=\"sk-container\" hidden><div class=\"sk-item\"><div class=\"sk-estimator sk-toggleable\"><input class=\"sk-toggleable__control sk-hidden--visually\" id=\"sk-estimator-id-1\" type=\"checkbox\" checked><label for=\"sk-estimator-id-1\" class=\"sk-toggleable__label sk-toggleable__label-arrow\">SGDClassifier</label><div class=\"sk-toggleable__content\"><pre>SGDClassifier(random_state=42)</pre></div></div></div></div></div>"
      ],
      "text/plain": [
       "SGDClassifier(random_state=42)"
      ]
     },
     "execution_count": 114,
     "metadata": {},
     "output_type": "execute_result"
    }
   ],
   "source": [
    "from sklearn.linear_model import SGDClassifier\n",
    "\n",
    "sgd_clf = SGDClassifier(max_iter=1000, tol=1e-3, random_state=42)\n",
    "sgd_clf.fit(locations_prepared, ratings_transformed)"
   ]
  },
  {
   "cell_type": "code",
   "execution_count": 115,
   "id": "cd65ed9e",
   "metadata": {},
   "outputs": [
    {
     "data": {
      "text/plain": [
       "array([0.4031382 , 0.38382619, 0.37862319])"
      ]
     },
     "execution_count": 115,
     "metadata": {},
     "output_type": "execute_result"
    }
   ],
   "source": [
    "cross_val_score(sgd_clf, locations_prepared, ratings_transformed, cv=3, scoring=\"accuracy\")"
   ]
  },
  {
   "cell_type": "code",
   "execution_count": 116,
   "id": "ce797619",
   "metadata": {},
   "outputs": [
    {
     "name": "stdout",
     "output_type": "stream",
     "text": [
      "Mean Accuracy: 0.455 (0.019)\n"
     ]
    }
   ],
   "source": [
    "from sklearn.ensemble import RandomForestClassifier\n",
    "classifier = RandomForestClassifier(n_estimators = 10, criterion = 'entropy', random_state = 42)\n",
    "n_scores = cross_val_score(classifier, locations_prepared, ratings_transformed, scoring='accuracy', cv=cv, n_jobs=-1)\n",
    "print('Mean Accuracy: %.3f (%.3f)' % (mean(n_scores), std(n_scores)))"
   ]
  },
  {
   "cell_type": "markdown",
   "id": "45cafbf6",
   "metadata": {},
   "source": [
    "## Try to have 4 categories instead of 5"
   ]
  },
  {
   "cell_type": "code",
   "execution_count": 130,
   "id": "88e124e6",
   "metadata": {},
   "outputs": [],
   "source": [
    "r_rating_cat = pd.cut(r_rating,\n",
    "                      bins=[0., 4., 4.5, 4.8, 5],\n",
    "                      labels=[1, 2, 3, 4])"
   ]
  },
  {
   "cell_type": "code",
   "execution_count": 131,
   "id": "aa293696",
   "metadata": {},
   "outputs": [
    {
     "data": {
      "text/plain": [
       "4539    3\n",
       "3517    4\n",
       "817     1\n",
       "4125    3\n",
       "6669    3\n",
       "       ..\n",
       "5791    4\n",
       "5376    4\n",
       "7279    4\n",
       "3905    3\n",
       "220     4\n",
       "Name: review_scores_rating, Length: 4970, dtype: category\n",
       "Categories (4, int64): [1 < 2 < 3 < 4]"
      ]
     },
     "execution_count": 131,
     "metadata": {},
     "output_type": "execute_result"
    }
   ],
   "source": [
    "r_rating_cat.fillna(1)"
   ]
  },
  {
   "cell_type": "code",
   "execution_count": 132,
   "id": "6dc93b25",
   "metadata": {
    "scrolled": true
   },
   "outputs": [
    {
     "data": {
      "text/plain": [
       "<AxesSubplot:>"
      ]
     },
     "execution_count": 132,
     "metadata": {},
     "output_type": "execute_result"
    },
    {
     "data": {
      "image/png": "[encoded data removed]",
      "text/plain": [
       "<Figure size 432x288 with 1 Axes>"
      ]
     },
     "metadata": {
      "needs_background": "light"
     },
     "output_type": "display_data"
    }
   ],
   "source": [
    "r_rating_cat.hist()"
   ]
  },
  {
   "cell_type": "code",
   "execution_count": 123,
   "id": "70b04fb0",
   "metadata": {},
   "outputs": [
    {
     "name": "stdout",
     "output_type": "stream",
     "text": [
      "[2 3 4 ... 3 2 3]\n"
     ]
    }
   ],
   "source": [
    "lab = preprocessing.LabelEncoder()\n",
    "ratings_transformed = lab.fit_transform(r_rating_cat)\n",
    "\n",
    "#view transformed values\n",
    "print(ratings_transformed)"
   ]
  },
  {
   "cell_type": "code",
   "execution_count": 125,
   "id": "e1d37870",
   "metadata": {},
   "outputs": [
    {
     "name": "stdout",
     "output_type": "stream",
     "text": [
      "Mean Accuracy: 0.530 (0.014)\n"
     ]
    }
   ],
   "source": [
    "model = LogisticRegression(multi_class='multinomial', solver='lbfgs')\n",
    "\n",
    "cv = RepeatedStratifiedKFold(n_splits=10, n_repeats=3, random_state=1)\n",
    "\n",
    "n_scores = cross_val_score(model, locations_prepared, ratings_transformed, scoring='accuracy', cv=cv, n_jobs=-1)\n",
    "# report the model performance\n",
    "print('Mean Accuracy: %.3f (%.3f)' % (mean(n_scores), std(n_scores)))"
   ]
  },
  {
   "cell_type": "code",
   "execution_count": 126,
   "id": "76dadc02",
   "metadata": {},
   "outputs": [
    {
     "name": "stdout",
     "output_type": "stream",
     "text": [
      "Mean Accuracy: 0.540 (0.018)\n"
     ]
    }
   ],
   "source": [
    "from sklearn.ensemble import RandomForestClassifier\n",
    "classifier = RandomForestClassifier(n_estimators = 10, criterion = 'entropy', random_state = 42)\n",
    "n_scores = cross_val_score(classifier, locations_prepared, ratings_transformed, scoring='accuracy', cv=cv, n_jobs=-1)\n",
    "print('Mean Accuracy: %.3f (%.3f)' % (mean(n_scores), std(n_scores)))"
   ]
  },
  {
   "cell_type": "markdown",
   "id": "35b1fb4f",
   "metadata": {},
   "source": [
    "## Compare performance with baseline classifier"
   ]
  },
  {
   "cell_type": "code",
   "execution_count": 134,
   "id": "ae365dbc",
   "metadata": {},
   "outputs": [
    {
     "data": {
      "text/html": [
       "<style>#sk-container-id-3 {color: black;background-color: white;}#sk-container-id-3 pre{padding: 0;}#sk-container-id-3 div.sk-toggleable {background-color: white;}#sk-container-id-3 label.sk-toggleable__label {cursor: pointer;display: block;width: 100%;margin-bottom: 0;padding: 0.3em;box-sizing: border-box;text-align: center;}#sk-container-id-3 label.sk-toggleable__label-arrow:before {content: \"▸\";float: left;margin-right: 0.25em;color: #696969;}#sk-container-id-3 label.sk-toggleable__label-arrow:hover:before {color: black;}#sk-container-id-3 div.sk-estimator:hover label.sk-toggleable__label-arrow:before {color: black;}#sk-container-id-3 div.sk-toggleable__content {max-height: 0;max-width: 0;overflow: hidden;text-align: left;background-color: #f0f8ff;}#sk-container-id-3 div.sk-toggleable__content pre {margin: 0.2em;color: black;border-radius: 0.25em;background-color: #f0f8ff;}#sk-container-id-3 input.sk-toggleable__control:checked~div.sk-toggleable__content {max-height: 200px;max-width: 100%;overflow: auto;}#sk-container-id-3 input.sk-toggleable__control:checked~label.sk-toggleable__label-arrow:before {content: \"▾\";}#sk-container-id-3 div.sk-estimator input.sk-toggleable__control:checked~label.sk-toggleable__label {background-color: #d4ebff;}#sk-container-id-3 div.sk-label input.sk-toggleable__control:checked~label.sk-toggleable__label {background-color: #d4ebff;}#sk-container-id-3 input.sk-hidden--visually {border: 0;clip: rect(1px 1px 1px 1px);clip: rect(1px, 1px, 1px, 1px);height: 1px;margin: -1px;overflow: hidden;padding: 0;position: absolute;width: 1px;}#sk-container-id-3 div.sk-estimator {font-family: monospace;background-color: #f0f8ff;border: 1px dotted black;border-radius: 0.25em;box-sizing: border-box;margin-bottom: 0.5em;}#sk-container-id-3 div.sk-estimator:hover {background-color: #d4ebff;}#sk-container-id-3 div.sk-parallel-item::after {content: \"\";width: 100%;border-bottom: 1px solid gray;flex-grow: 1;}#sk-container-id-3 div.sk-label:hover label.sk-toggleable__label {background-color: #d4ebff;}#sk-container-id-3 div.sk-serial::before {content: \"\";position: absolute;border-left: 1px solid gray;box-sizing: border-box;top: 0;bottom: 0;left: 50%;z-index: 0;}#sk-container-id-3 div.sk-serial {display: flex;flex-direction: column;align-items: center;background-color: white;padding-right: 0.2em;padding-left: 0.2em;position: relative;}#sk-container-id-3 div.sk-item {position: relative;z-index: 1;}#sk-container-id-3 div.sk-parallel {display: flex;align-items: stretch;justify-content: center;background-color: white;position: relative;}#sk-container-id-3 div.sk-item::before, #sk-container-id-3 div.sk-parallel-item::before {content: \"\";position: absolute;border-left: 1px solid gray;box-sizing: border-box;top: 0;bottom: 0;left: 50%;z-index: -1;}#sk-container-id-3 div.sk-parallel-item {display: flex;flex-direction: column;z-index: 1;position: relative;background-color: white;}#sk-container-id-3 div.sk-parallel-item:first-child::after {align-self: flex-end;width: 50%;}#sk-container-id-3 div.sk-parallel-item:last-child::after {align-self: flex-start;width: 50%;}#sk-container-id-3 div.sk-parallel-item:only-child::after {width: 0;}#sk-container-id-3 div.sk-dashed-wrapped {border: 1px dashed gray;margin: 0 0.4em 0.5em 0.4em;box-sizing: border-box;padding-bottom: 0.4em;background-color: white;}#sk-container-id-3 div.sk-label label {font-family: monospace;font-weight: bold;display: inline-block;line-height: 1.2em;}#sk-container-id-3 div.sk-label-container {text-align: center;}#sk-container-id-3 div.sk-container {/* jupyter's `normalize.less` sets `[hidden] { display: none; }` but bootstrap.min.css set `[hidden] { display: none !important; }` so we also need the `!important` here to be able to override the default hidden behavior on the sphinx rendered scikit-learn.org. See: https://github.com/scikit-learn/scikit-learn/issues/21755 */display: inline-block !important;position: relative;}#sk-container-id-3 div.sk-text-repr-fallback {display: none;}</style><div id=\"sk-container-id-3\" class=\"sk-top-container\"><div class=\"sk-text-repr-fallback\"><pre>DummyClassifier(strategy=&#x27;stratified&#x27;)</pre><b>In a Jupyter environment, please rerun this cell to show the HTML representation or trust the notebook. <br />On GitHub, the HTML representation is unable to render, please try loading this page with nbviewer.org.</b></div><div class=\"sk-container\" hidden><div class=\"sk-item\"><div class=\"sk-estimator sk-toggleable\"><input class=\"sk-toggleable__control sk-hidden--visually\" id=\"sk-estimator-id-3\" type=\"checkbox\" checked><label for=\"sk-estimator-id-3\" class=\"sk-toggleable__label sk-toggleable__label-arrow\">DummyClassifier</label><div class=\"sk-toggleable__content\"><pre>DummyClassifier(strategy=&#x27;stratified&#x27;)</pre></div></div></div></div></div>"
      ],
      "text/plain": [
       "DummyClassifier(strategy='stratified')"
      ]
     },
     "execution_count": 134,
     "metadata": {},
     "output_type": "execute_result"
    }
   ],
   "source": [
    "from sklearn.datasets import make_classification\n",
    "from sklearn.dummy import DummyClassifier\n",
    "\n",
    "\n",
    "clf = DummyClassifier(strategy='stratified')\n",
    "clf.fit(locations_prepared, ratings_transformed)"
   ]
  },
  {
   "cell_type": "code",
   "execution_count": 136,
   "id": "9371b9cd",
   "metadata": {},
   "outputs": [
    {
     "name": "stdout",
     "output_type": "stream",
     "text": [
      "36.02%\n"
     ]
    }
   ],
   "source": [
    "from sklearn.metrics import accuracy_score\n",
    "\n",
    "y_pred_train = clf.predict(locations_prepared)\n",
    "acc = accuracy_score(y_pred_train, ratings_transformed)\n",
    "print(round(acc*100, 2), \"%\", sep=\"\")"
   ]
  },
  {
   "cell_type": "code",
   "execution_count": 140,
   "id": "fdbae099",
   "metadata": {},
   "outputs": [
    {
     "name": "stdout",
     "output_type": "stream",
     "text": [
      "98.43%\n"
     ]
    }
   ],
   "source": [
    "from sklearn.ensemble import RandomForestClassifier\n",
    "classifier2 = RandomForestClassifier(n_estimators = 10, criterion = 'entropy', random_state = 42)\n",
    "\n",
    "classifier2.fit(locations_prepared, ratings_transformed)\n",
    "y_pred_train = classifier2.predict(locations_prepared)\n",
    "acc = accuracy_score(y_pred_train, ratings_transformed)\n",
    "print(round(acc*100, 2), \"%\", sep=\"\")"
   ]
  },
  {
   "cell_type": "code",
   "execution_count": 141,
   "id": "947e2bae",
   "metadata": {},
   "outputs": [
    {
     "name": "stdout",
     "output_type": "stream",
     "text": [
      "55.47%\n"
     ]
    },
    {
     "name": "stderr",
     "output_type": "stream",
     "text": [
      "C:\\Users\\catat\\anaconda3\\lib\\site-packages\\sklearn\\linear_model\\_logistic.py:444: ConvergenceWarning: lbfgs failed to converge (status=1):\n",
      "STOP: TOTAL NO. of ITERATIONS REACHED LIMIT.\n",
      "\n",
      "Increase the number of iterations (max_iter) or scale the data as shown in:\n",
      "    https://scikit-learn.org/stable/modules/preprocessing.html\n",
      "Please also refer to the documentation for alternative solver options:\n",
      "    https://scikit-learn.org/stable/modules/linear_model.html#logistic-regression\n",
      "  n_iter_i = _check_optimize_result(\n"
     ]
    }
   ],
   "source": [
    "model2 = LogisticRegression(multi_class='multinomial', solver='lbfgs')\n",
    "\n",
    "model2.fit(locations_prepared, ratings_transformed)\n",
    "y_pred_train = model2.predict(locations_prepared)\n",
    "acc = accuracy_score(y_pred_train, ratings_transformed)\n",
    "print(round(acc*100, 2), \"%\", sep=\"\")"
   ]
  },
  {
   "cell_type": "markdown",
   "id": "93bf5db2",
   "metadata": {},
   "source": [
    "# Test the Random Forrest Classifier on the test data"
   ]
  },
  {
   "cell_type": "code",
   "execution_count": 143,
   "id": "5f13f48e",
   "metadata": {},
   "outputs": [],
   "source": [
    "r_rating_cat_2 = pd.cut(r_rating,\n",
    "                      bins=[0., 4., 4.5, 4.8, 4.95, 5],\n",
    "                      labels=[1, 2, 3, 4, 5])"
   ]
  },
  {
   "cell_type": "code",
   "execution_count": 144,
   "id": "57de8d06",
   "metadata": {},
   "outputs": [
    {
     "data": {
      "text/plain": [
       "<AxesSubplot:>"
      ]
     },
     "execution_count": 144,
     "metadata": {},
     "output_type": "execute_result"
    },
    {
     "data": {
      "image/png": "[encoded data removed]",
      "text/plain": [
       "<Figure size 432x288 with 1 Axes>"
      ]
     },
     "metadata": {
      "needs_background": "light"
     },
     "output_type": "display_data"
    }
   ],
   "source": [
    "r_rating_cat_2.hist()"
   ]
  },
  {
   "cell_type": "code",
   "execution_count": 148,
   "id": "b2152424",
   "metadata": {},
   "outputs": [
    {
     "name": "stdout",
     "output_type": "stream",
     "text": [
      "[2 4 5 ... 4 2 4]\n"
     ]
    }
   ],
   "source": [
    "lab = preprocessing.LabelEncoder()\n",
    "ratings_transformed_2 = lab.fit_transform(r_rating_cat_2)\n",
    "\n",
    "#view transformed values\n",
    "print(ratings_transformed_2)"
   ]
  },
  {
   "cell_type": "code",
   "execution_count": 149,
   "id": "9b76512f",
   "metadata": {},
   "outputs": [
    {
     "name": "stdout",
     "output_type": "stream",
     "text": [
      "98.67%\n"
     ]
    }
   ],
   "source": [
    "classifier3 = RandomForestClassifier(n_estimators = 10, criterion = 'entropy', random_state = 42)\n",
    "\n",
    "classifier3.fit(locations_prepared, ratings_transformed_2)\n",
    "y_pred_train = classifier3.predict(locations_prepared)\n",
    "acc = accuracy_score(y_pred_train, ratings_transformed)\n",
    "print(round(acc*100, 2), \"%\", sep=\"\")"
   ]
  },
  {
   "cell_type": "code",
   "execution_count": 151,
   "id": "bf0f91fd",
   "metadata": {},
   "outputs": [
    {
     "data": {
      "text/html": [
       "<style>#sk-container-id-4 {color: black;background-color: white;}#sk-container-id-4 pre{padding: 0;}#sk-container-id-4 div.sk-toggleable {background-color: white;}#sk-container-id-4 label.sk-toggleable__label {cursor: pointer;display: block;width: 100%;margin-bottom: 0;padding: 0.3em;box-sizing: border-box;text-align: center;}#sk-container-id-4 label.sk-toggleable__label-arrow:before {content: \"▸\";float: left;margin-right: 0.25em;color: #696969;}#sk-container-id-4 label.sk-toggleable__label-arrow:hover:before {color: black;}#sk-container-id-4 div.sk-estimator:hover label.sk-toggleable__label-arrow:before {color: black;}#sk-container-id-4 div.sk-toggleable__content {max-height: 0;max-width: 0;overflow: hidden;text-align: left;background-color: #f0f8ff;}#sk-container-id-4 div.sk-toggleable__content pre {margin: 0.2em;color: black;border-radius: 0.25em;background-color: #f0f8ff;}#sk-container-id-4 input.sk-toggleable__control:checked~div.sk-toggleable__content {max-height: 200px;max-width: 100%;overflow: auto;}#sk-container-id-4 input.sk-toggleable__control:checked~label.sk-toggleable__label-arrow:before {content: \"▾\";}#sk-container-id-4 div.sk-estimator input.sk-toggleable__control:checked~label.sk-toggleable__label {background-color: #d4ebff;}#sk-container-id-4 div.sk-label input.sk-toggleable__control:checked~label.sk-toggleable__label {background-color: #d4ebff;}#sk-container-id-4 input.sk-hidden--visually {border: 0;clip: rect(1px 1px 1px 1px);clip: rect(1px, 1px, 1px, 1px);height: 1px;margin: -1px;overflow: hidden;padding: 0;position: absolute;width: 1px;}#sk-container-id-4 div.sk-estimator {font-family: monospace;background-color: #f0f8ff;border: 1px dotted black;border-radius: 0.25em;box-sizing: border-box;margin-bottom: 0.5em;}#sk-container-id-4 div.sk-estimator:hover {background-color: #d4ebff;}#sk-container-id-4 div.sk-parallel-item::after {content: \"\";width: 100%;border-bottom: 1px solid gray;flex-grow: 1;}#sk-container-id-4 div.sk-label:hover label.sk-toggleable__label {background-color: #d4ebff;}#sk-container-id-4 div.sk-serial::before {content: \"\";position: absolute;border-left: 1px solid gray;box-sizing: border-box;top: 0;bottom: 0;left: 50%;z-index: 0;}#sk-container-id-4 div.sk-serial {display: flex;flex-direction: column;align-items: center;background-color: white;padding-right: 0.2em;padding-left: 0.2em;position: relative;}#sk-container-id-4 div.sk-item {position: relative;z-index: 1;}#sk-container-id-4 div.sk-parallel {display: flex;align-items: stretch;justify-content: center;background-color: white;position: relative;}#sk-container-id-4 div.sk-item::before, #sk-container-id-4 div.sk-parallel-item::before {content: \"\";position: absolute;border-left: 1px solid gray;box-sizing: border-box;top: 0;bottom: 0;left: 50%;z-index: -1;}#sk-container-id-4 div.sk-parallel-item {display: flex;flex-direction: column;z-index: 1;position: relative;background-color: white;}#sk-container-id-4 div.sk-parallel-item:first-child::after {align-self: flex-end;width: 50%;}#sk-container-id-4 div.sk-parallel-item:last-child::after {align-self: flex-start;width: 50%;}#sk-container-id-4 div.sk-parallel-item:only-child::after {width: 0;}#sk-container-id-4 div.sk-dashed-wrapped {border: 1px dashed gray;margin: 0 0.4em 0.5em 0.4em;box-sizing: border-box;padding-bottom: 0.4em;background-color: white;}#sk-container-id-4 div.sk-label label {font-family: monospace;font-weight: bold;display: inline-block;line-height: 1.2em;}#sk-container-id-4 div.sk-label-container {text-align: center;}#sk-container-id-4 div.sk-container {/* jupyter's `normalize.less` sets `[hidden] { display: none; }` but bootstrap.min.css set `[hidden] { display: none !important; }` so we also need the `!important` here to be able to override the default hidden behavior on the sphinx rendered scikit-learn.org. See: https://github.com/scikit-learn/scikit-learn/issues/21755 */display: inline-block !important;position: relative;}#sk-container-id-4 div.sk-text-repr-fallback {display: none;}</style><div id=\"sk-container-id-4\" class=\"sk-top-container\"><div class=\"sk-text-repr-fallback\"><pre>DummyClassifier(strategy=&#x27;stratified&#x27;)</pre><b>In a Jupyter environment, please rerun this cell to show the HTML representation or trust the notebook. <br />On GitHub, the HTML representation is unable to render, please try loading this page with nbviewer.org.</b></div><div class=\"sk-container\" hidden><div class=\"sk-item\"><div class=\"sk-estimator sk-toggleable\"><input class=\"sk-toggleable__control sk-hidden--visually\" id=\"sk-estimator-id-4\" type=\"checkbox\" checked><label for=\"sk-estimator-id-4\" class=\"sk-toggleable__label sk-toggleable__label-arrow\">DummyClassifier</label><div class=\"sk-toggleable__content\"><pre>DummyClassifier(strategy=&#x27;stratified&#x27;)</pre></div></div></div></div></div>"
      ],
      "text/plain": [
       "DummyClassifier(strategy='stratified')"
      ]
     },
     "execution_count": 151,
     "metadata": {},
     "output_type": "execute_result"
    }
   ],
   "source": [
    "clf_dummy = DummyClassifier(strategy='stratified')\n",
    "clf_dummy.fit(locations_prepared, ratings_transformed_2)"
   ]
  },
  {
   "cell_type": "code",
   "execution_count": 152,
   "id": "a3814a31",
   "metadata": {},
   "outputs": [
    {
     "name": "stdout",
     "output_type": "stream",
     "text": [
      "22.78%\n"
     ]
    }
   ],
   "source": [
    "y_pred_train = clf_dummy.predict(locations_prepared)\n",
    "acc = accuracy_score(y_pred_train, ratings_transformed)\n",
    "print(round(acc*100, 2), \"%\", sep=\"\")"
   ]
  },
  {
   "cell_type": "markdown",
   "id": "19ea335d",
   "metadata": {},
   "source": [
    "##  Save the forrest model and the test data on the disk"
   ]
  },
  {
   "cell_type": "code",
   "execution_count": 153,
   "id": "faed3f5e",
   "metadata": {},
   "outputs": [],
   "source": [
    "#import pickle\n",
    "#filename = 'finalized_forrest_model.sav'\n",
    "#pickle.dump(classifier3, open(filename, 'wb'))"
   ]
  },
  {
   "cell_type": "code",
   "execution_count": 155,
   "id": "6eac4292",
   "metadata": {},
   "outputs": [],
   "source": [
    "#strat_test_set.to_csv('test_data')"
   ]
  },
  {
   "cell_type": "code",
   "execution_count": 157,
   "id": "3df71be4",
   "metadata": {},
   "outputs": [
    {
     "data": {
      "text/plain": [
       "<4970x127 sparse matrix of type '<class 'numpy.float64'>'\n",
       "\twith 168980 stored elements in Compressed Sparse Row format>"
      ]
     },
     "execution_count": 157,
     "metadata": {},
     "output_type": "execute_result"
    }
   ],
   "source": [
    "#locations_prepared"
   ]
  },
  {
   "cell_type": "code",
   "execution_count": null,
   "id": "1fe769bb",
   "metadata": {},
   "outputs": [],
   "source": []
  }
 ],
 "metadata": {
  "kernelspec": {
   "display_name": "Python 3 (ipykernel)",
   "language": "python",
   "name": "python3"
  },
  "language_info": {
   "codemirror_mode": {
    "name": "ipython",
    "version": 3
   },
   "file_extension": ".py",
   "mimetype": "text/x-python",
   "name": "python",
   "nbconvert_exporter": "python",
   "pygments_lexer": "ipython3",
   "version": "3.9.12"
  }
 },
 "nbformat": 4,
 "nbformat_minor": 5
}
